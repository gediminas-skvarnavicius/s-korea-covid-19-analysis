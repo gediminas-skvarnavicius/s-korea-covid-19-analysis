{
 "cells": [
  {
   "attachments": {},
   "cell_type": "markdown",
   "metadata": {},
   "source": [
    "---\n",
    "title: \"Corona\"\n",
    "bibliography: TC_m1_s4_references.bib\n",
    "format:\n",
    "  html:\n",
    "    code-fold: true\n",
    "    code-summary: \"Show the code\"\n",
    "---"
   ]
  },
  {
   "attachments": {},
   "cell_type": "markdown",
   "metadata": {},
   "source": [
    "## Preparation and overview"
   ]
  },
  {
   "attachments": {},
   "cell_type": "markdown",
   "metadata": {},
   "source": [
    "### Imports and options"
   ]
  },
  {
   "cell_type": "code",
   "execution_count": 1,
   "metadata": {},
   "outputs": [],
   "source": [
    "import os\n",
    "import pandas as pd\n",
    "import numpy as np\n",
    "import textwrap\n",
    "import matplotlib.pyplot as plt\n",
    "from module1_s4_functions import *\n",
    "import numpy.typing as npt\n",
    "import matplotlib.ticker as mtick\n",
    "import matplotlib.patches as mpatches\n",
    "from matplotlib.lines import Line2D\n",
    "from scipy.stats import gmean\n",
    "import matplotlib.dates as mdates\n",
    "import plotly.express as px\n",
    "import plotly.graph_objects as go\n",
    "import plotly as py\n",
    "import plotly.io as pio\n",
    "from plotly.subplots import make_subplots\n",
    "from datetime import datetime\n",
    "import json\n",
    "pio.renderers.default = \"plotly_mimetype+notebook_connected\""
   ]
  },
  {
   "attachments": {},
   "cell_type": "markdown",
   "metadata": {},
   "source": [
    "### Loading and cleaning"
   ]
  },
  {
   "cell_type": "code",
   "execution_count": 2,
   "metadata": {},
   "outputs": [],
   "source": [
    "pd.set_option(\"display.float_format\", \"{:.3g}\".format)\n",
    "base_fig_wid = 9  # base width of a figure\n",
    "base_font_size = 12  # base size of a font\n",
    "dpi = 96\n",
    "plt.rcParams[\"font.size\"] = base_font_size"
   ]
  },
  {
   "attachments": {},
   "cell_type": "markdown",
   "metadata": {},
   "source": [
    "Putting the data from separate in .csv files into a dictionary of pandas dataframes"
   ]
  },
  {
   "cell_type": "code",
   "execution_count": 3,
   "metadata": {},
   "outputs": [],
   "source": [
    "data_files = csv_files = [f for f in os.listdir(\"data\") if f.endswith(\".csv\")]\n",
    "data = {}\n",
    "for file in csv_files:\n",
    "    file_path = os.path.join(\"data/\", file)\n",
    "    df = pd.read_csv(file_path)\n",
    "    data[file[:-4]] = df"
   ]
  },
  {
   "attachments": {},
   "cell_type": "markdown",
   "metadata": {},
   "source": [
    "1. The Lists of Data Table\n",
    "1) Case Data\n",
    "Case: Data of COVID-19 infection cases in South Korea\n",
    "2) Patient Data\n",
    "PatientInfo: Epidemiological data of COVID-19 patients in South Korea\n",
    "PatientRoute: Route data of COVID-19 patients in South Korea (currently unavailable)\n",
    "3) Time Series Data\n",
    "Time: Time series data of COVID-19 status in South Korea\n",
    "TimeAge: Time series data of COVID-19 status in terms of the age in South Korea\n",
    "TimeGender: Time series data of COVID-19 status in terms of gender in South Korea\n",
    "TimeProvince: Time series data of COVID-19 status in terms of the Province in South Korea\n",
    "4) Additional Data\n",
    "Region: Location and statistical data of the regions in South Korea\n",
    "Weather: Data of the weather in the regions of South Korea\n",
    "SearchTrend: Trend data of the keywords searched in NAVER which is one of the largest portals in South Korea\n",
    "SeoulFloating: Data of floating population in Seoul, South Korea (from SK Telecom Big Data Hub)\n",
    "Policy: Data of the government policy for COVID-19 in South Korea"
   ]
  },
  {
   "cell_type": "markdown",
   "metadata": {},
   "source": [
    "Formatting the date data:"
   ]
  },
  {
   "cell_type": "code",
   "execution_count": 4,
   "metadata": {},
   "outputs": [],
   "source": [
    "date_format = '%Y-%m-%d'\n",
    "data['Time']['date'] = pd.to_datetime(data['Time']['date'])\n",
    "data['Time'].set_index('date',inplace=True)\n",
    "data['Weather']['date']=pd.to_datetime(data['Weather']['date'])\n"
   ]
  },
  {
   "cell_type": "markdown",
   "metadata": {},
   "source": [
    "Adding a new cases column:"
   ]
  },
  {
   "cell_type": "code",
   "execution_count": 5,
   "metadata": {},
   "outputs": [],
   "source": [
    "data['Time']['new_cases'] = data['Time']['confirmed'] - data['Time']['confirmed'].shift(1)"
   ]
  },
  {
   "attachments": {},
   "cell_type": "markdown",
   "metadata": {},
   "source": [
    "### Preparation of weekly data"
   ]
  },
  {
   "attachments": {},
   "cell_type": "markdown",
   "metadata": {},
   "source": [
    "Weekly data:"
   ]
  },
  {
   "cell_type": "code",
   "execution_count": 6,
   "metadata": {},
   "outputs": [],
   "source": [
    "weekly_time=data['Time'].resample('W').last()"
   ]
  },
  {
   "attachments": {},
   "cell_type": "markdown",
   "metadata": {},
   "source": [
    "New cases per week:"
   ]
  },
  {
   "cell_type": "code",
   "execution_count": 7,
   "metadata": {},
   "outputs": [],
   "source": [
    "weekly_time[\"new_cases\"] = weekly_time[\"confirmed\"] - weekly_time[\"confirmed\"].shift(\n",
    "    1\n",
    ").fillna(0)"
   ]
  },
  {
   "attachments": {},
   "cell_type": "markdown",
   "metadata": {},
   "source": [
    "Weekly tests done:"
   ]
  },
  {
   "cell_type": "code",
   "execution_count": 8,
   "metadata": {},
   "outputs": [],
   "source": [
    "weekly_time[\"weekly_tested\"] = weekly_time[\"test\"] - weekly_time[\"test\"].shift(\n",
    "    1\n",
    ").fillna(0)"
   ]
  },
  {
   "attachments": {},
   "cell_type": "markdown",
   "metadata": {},
   "source": [
    "Percentage of positive tests:"
   ]
  },
  {
   "cell_type": "code",
   "execution_count": 9,
   "metadata": {},
   "outputs": [],
   "source": [
    "weekly_time['positivity'] = weekly_time['new_cases']/weekly_time['weekly_tested']*100"
   ]
  },
  {
   "attachments": {},
   "cell_type": "markdown",
   "metadata": {},
   "source": [
    "## Timeline overview of total infections"
   ]
  },
  {
   "attachments": {},
   "cell_type": "markdown",
   "metadata": {},
   "source": [
    "### Rate of the spread as a function of total cases"
   ]
  },
  {
   "attachments": {},
   "cell_type": "markdown",
   "metadata": {},
   "source": [
    "Creating a two day doubling line:"
   ]
  },
  {
   "cell_type": "code",
   "execution_count": 10,
   "metadata": {},
   "outputs": [],
   "source": [
    "# Create an array of dates starting from the start date\n",
    "dates = pd.date_range(start='2020-01-20', end='2020-06-30', freq='2D')\n",
    "\n",
    "# Create an array of confirmed cases that doubles every two days\n",
    "confirmed_cases = np.power(2, np.arange(len(dates) // 2 + 1))\n",
    "confirmed_cases = np.tile(confirmed_cases, 2)[:len(dates)]\n",
    "\n",
    "# Create an array of new cases for each date\n",
    "new_cases = np.zeros(len(dates))\n",
    "new_cases[0] = confirmed_cases[0]\n",
    "# Create a DataFrame with the date, confirmed, and new cases columns\n",
    "doubling_line = pd.DataFrame({'date': dates, 'confirmed': confirmed_cases})\n",
    "doubling_line['new_cases'] = doubling_line['confirmed'] - doubling_line['confirmed'].shift(1).fillna(0)"
   ]
  },
  {
   "cell_type": "code",
   "execution_count": 11,
   "metadata": {},
   "outputs": [
    {
     "data": {
      "text/html": [
       "        <script type=\"text/javascript\">\n",
       "        window.PlotlyConfig = {MathJaxConfig: 'local'};\n",
       "        if (window.MathJax && window.MathJax.Hub && window.MathJax.Hub.Config) {window.MathJax.Hub.Config({SVG: {font: \"STIX-Web\"}});}\n",
       "        if (typeof require !== 'undefined') {\n",
       "        require.undef(\"plotly\");\n",
       "        requirejs.config({\n",
       "            paths: {\n",
       "                'plotly': ['https://cdn.plot.ly/plotly-2.12.1.min']\n",
       "            }\n",
       "        });\n",
       "        require(['plotly'], function(Plotly) {\n",
       "            window._Plotly = Plotly;\n",
       "        });\n",
       "        }\n",
       "        </script>\n",
       "        "
      ]
     },
     "metadata": {},
     "output_type": "display_data"
    },
    {
     "data": {
      "application/vnd.plotly.v1+json": {
       "config": {
        "plotlyServerURL": "https://plot.ly"
       },
       "data": [
        {
         "customdata": [
          "2020-01-26"
         ],
         "hovertemplate": "<b>Confirmed:</b> %{x}<br><b>New Cases:</b> %{y}<br><b>Date:</b> %{customdata}<extra></extra>",
         "line": {
          "color": "blue",
          "width": 1.5
         },
         "marker": {
          "color": "red",
          "size": 3
         },
         "mode": "markers+lines",
         "name": "South Korea",
         "type": "scatter",
         "visible": false,
         "x": [
          3
         ],
         "y": [
          3
         ]
        },
        {
         "customdata": [
          "2020-01-26",
          "2020-02-02"
         ],
         "hovertemplate": "<b>Confirmed:</b> %{x}<br><b>New Cases:</b> %{y}<br><b>Date:</b> %{customdata}<extra></extra>",
         "line": {
          "color": "blue",
          "width": 1.5
         },
         "marker": {
          "color": "red",
          "size": 3
         },
         "mode": "markers+lines",
         "name": "South Korea",
         "type": "scatter",
         "visible": false,
         "x": [
          3,
          15
         ],
         "y": [
          3,
          12
         ]
        },
        {
         "customdata": [
          "2020-01-26",
          "2020-02-02",
          "2020-02-09"
         ],
         "hovertemplate": "<b>Confirmed:</b> %{x}<br><b>New Cases:</b> %{y}<br><b>Date:</b> %{customdata}<extra></extra>",
         "line": {
          "color": "blue",
          "width": 1.5
         },
         "marker": {
          "color": "red",
          "size": 3
         },
         "mode": "markers+lines",
         "name": "South Korea",
         "type": "scatter",
         "visible": false,
         "x": [
          3,
          15,
          27
         ],
         "y": [
          3,
          12,
          12
         ]
        },
        {
         "customdata": [
          "2020-01-26",
          "2020-02-02",
          "2020-02-09",
          "2020-02-16"
         ],
         "hovertemplate": "<b>Confirmed:</b> %{x}<br><b>New Cases:</b> %{y}<br><b>Date:</b> %{customdata}<extra></extra>",
         "line": {
          "color": "blue",
          "width": 1.5
         },
         "marker": {
          "color": "red",
          "size": 3
         },
         "mode": "markers+lines",
         "name": "South Korea",
         "type": "scatter",
         "visible": false,
         "x": [
          3,
          15,
          27,
          29
         ],
         "y": [
          3,
          12,
          12,
          2
         ]
        },
        {
         "customdata": [
          "2020-01-26",
          "2020-02-02",
          "2020-02-09",
          "2020-02-16",
          "2020-02-23"
         ],
         "hovertemplate": "<b>Confirmed:</b> %{x}<br><b>New Cases:</b> %{y}<br><b>Date:</b> %{customdata}<extra></extra>",
         "line": {
          "color": "blue",
          "width": 1.5
         },
         "marker": {
          "color": "red",
          "size": 3
         },
         "mode": "markers+lines",
         "name": "South Korea",
         "type": "scatter",
         "visible": false,
         "x": [
          3,
          15,
          27,
          29,
          602
         ],
         "y": [
          3,
          12,
          12,
          2,
          573
         ]
        },
        {
         "customdata": [
          "2020-01-26",
          "2020-02-02",
          "2020-02-09",
          "2020-02-16",
          "2020-02-23",
          "2020-03-01"
         ],
         "hovertemplate": "<b>Confirmed:</b> %{x}<br><b>New Cases:</b> %{y}<br><b>Date:</b> %{customdata}<extra></extra>",
         "line": {
          "color": "blue",
          "width": 1.5
         },
         "marker": {
          "color": "red",
          "size": 3
         },
         "mode": "markers+lines",
         "name": "South Korea",
         "type": "scatter",
         "visible": false,
         "x": [
          3,
          15,
          27,
          29,
          602,
          3736
         ],
         "y": [
          3,
          12,
          12,
          2,
          573,
          3134
         ]
        },
        {
         "customdata": [
          "2020-01-26",
          "2020-02-02",
          "2020-02-09",
          "2020-02-16",
          "2020-02-23",
          "2020-03-01",
          "2020-03-08"
         ],
         "hovertemplate": "<b>Confirmed:</b> %{x}<br><b>New Cases:</b> %{y}<br><b>Date:</b> %{customdata}<extra></extra>",
         "line": {
          "color": "blue",
          "width": 1.5
         },
         "marker": {
          "color": "red",
          "size": 3
         },
         "mode": "markers+lines",
         "name": "South Korea",
         "type": "scatter",
         "visible": false,
         "x": [
          3,
          15,
          27,
          29,
          602,
          3736,
          7134
         ],
         "y": [
          3,
          12,
          12,
          2,
          573,
          3134,
          3398
         ]
        },
        {
         "customdata": [
          "2020-01-26",
          "2020-02-02",
          "2020-02-09",
          "2020-02-16",
          "2020-02-23",
          "2020-03-01",
          "2020-03-08",
          "2020-03-15"
         ],
         "hovertemplate": "<b>Confirmed:</b> %{x}<br><b>New Cases:</b> %{y}<br><b>Date:</b> %{customdata}<extra></extra>",
         "line": {
          "color": "blue",
          "width": 1.5
         },
         "marker": {
          "color": "red",
          "size": 3
         },
         "mode": "markers+lines",
         "name": "South Korea",
         "type": "scatter",
         "visible": false,
         "x": [
          3,
          15,
          27,
          29,
          602,
          3736,
          7134,
          8126
         ],
         "y": [
          3,
          12,
          12,
          2,
          573,
          3134,
          3398,
          992
         ]
        },
        {
         "customdata": [
          "2020-01-26",
          "2020-02-02",
          "2020-02-09",
          "2020-02-16",
          "2020-02-23",
          "2020-03-01",
          "2020-03-08",
          "2020-03-15",
          "2020-03-22"
         ],
         "hovertemplate": "<b>Confirmed:</b> %{x}<br><b>New Cases:</b> %{y}<br><b>Date:</b> %{customdata}<extra></extra>",
         "line": {
          "color": "blue",
          "width": 1.5
         },
         "marker": {
          "color": "red",
          "size": 3
         },
         "mode": "markers+lines",
         "name": "South Korea",
         "type": "scatter",
         "visible": false,
         "x": [
          3,
          15,
          27,
          29,
          602,
          3736,
          7134,
          8126,
          8897
         ],
         "y": [
          3,
          12,
          12,
          2,
          573,
          3134,
          3398,
          992,
          771
         ]
        },
        {
         "customdata": [
          "2020-01-26",
          "2020-02-02",
          "2020-02-09",
          "2020-02-16",
          "2020-02-23",
          "2020-03-01",
          "2020-03-08",
          "2020-03-15",
          "2020-03-22",
          "2020-03-29"
         ],
         "hovertemplate": "<b>Confirmed:</b> %{x}<br><b>New Cases:</b> %{y}<br><b>Date:</b> %{customdata}<extra></extra>",
         "line": {
          "color": "blue",
          "width": 1.5
         },
         "marker": {
          "color": "red",
          "size": 3
         },
         "mode": "markers+lines",
         "name": "South Korea",
         "type": "scatter",
         "visible": false,
         "x": [
          3,
          15,
          27,
          29,
          602,
          3736,
          7134,
          8126,
          8897,
          9583
         ],
         "y": [
          3,
          12,
          12,
          2,
          573,
          3134,
          3398,
          992,
          771,
          686
         ]
        },
        {
         "customdata": [
          "2020-01-26",
          "2020-02-02",
          "2020-02-09",
          "2020-02-16",
          "2020-02-23",
          "2020-03-01",
          "2020-03-08",
          "2020-03-15",
          "2020-03-22",
          "2020-03-29",
          "2020-04-05"
         ],
         "hovertemplate": "<b>Confirmed:</b> %{x}<br><b>New Cases:</b> %{y}<br><b>Date:</b> %{customdata}<extra></extra>",
         "line": {
          "color": "blue",
          "width": 1.5
         },
         "marker": {
          "color": "red",
          "size": 3
         },
         "mode": "markers+lines",
         "name": "South Korea",
         "type": "scatter",
         "visible": false,
         "x": [
          3,
          15,
          27,
          29,
          602,
          3736,
          7134,
          8126,
          8897,
          9583,
          10237
         ],
         "y": [
          3,
          12,
          12,
          2,
          573,
          3134,
          3398,
          992,
          771,
          686,
          654
         ]
        },
        {
         "customdata": [
          "2020-01-26",
          "2020-02-02",
          "2020-02-09",
          "2020-02-16",
          "2020-02-23",
          "2020-03-01",
          "2020-03-08",
          "2020-03-15",
          "2020-03-22",
          "2020-03-29",
          "2020-04-05",
          "2020-04-12"
         ],
         "hovertemplate": "<b>Confirmed:</b> %{x}<br><b>New Cases:</b> %{y}<br><b>Date:</b> %{customdata}<extra></extra>",
         "line": {
          "color": "blue",
          "width": 1.5
         },
         "marker": {
          "color": "red",
          "size": 3
         },
         "mode": "markers+lines",
         "name": "South Korea",
         "type": "scatter",
         "visible": false,
         "x": [
          3,
          15,
          27,
          29,
          602,
          3736,
          7134,
          8126,
          8897,
          9583,
          10237,
          10512
         ],
         "y": [
          3,
          12,
          12,
          2,
          573,
          3134,
          3398,
          992,
          771,
          686,
          654,
          275
         ]
        },
        {
         "customdata": [
          "2020-01-26",
          "2020-02-02",
          "2020-02-09",
          "2020-02-16",
          "2020-02-23",
          "2020-03-01",
          "2020-03-08",
          "2020-03-15",
          "2020-03-22",
          "2020-03-29",
          "2020-04-05",
          "2020-04-12",
          "2020-04-19"
         ],
         "hovertemplate": "<b>Confirmed:</b> %{x}<br><b>New Cases:</b> %{y}<br><b>Date:</b> %{customdata}<extra></extra>",
         "line": {
          "color": "blue",
          "width": 1.5
         },
         "marker": {
          "color": "red",
          "size": 3
         },
         "mode": "markers+lines",
         "name": "South Korea",
         "type": "scatter",
         "visible": false,
         "x": [
          3,
          15,
          27,
          29,
          602,
          3736,
          7134,
          8126,
          8897,
          9583,
          10237,
          10512,
          10661
         ],
         "y": [
          3,
          12,
          12,
          2,
          573,
          3134,
          3398,
          992,
          771,
          686,
          654,
          275,
          149
         ]
        },
        {
         "customdata": [
          "2020-01-26",
          "2020-02-02",
          "2020-02-09",
          "2020-02-16",
          "2020-02-23",
          "2020-03-01",
          "2020-03-08",
          "2020-03-15",
          "2020-03-22",
          "2020-03-29",
          "2020-04-05",
          "2020-04-12",
          "2020-04-19",
          "2020-04-26"
         ],
         "hovertemplate": "<b>Confirmed:</b> %{x}<br><b>New Cases:</b> %{y}<br><b>Date:</b> %{customdata}<extra></extra>",
         "line": {
          "color": "blue",
          "width": 1.5
         },
         "marker": {
          "color": "red",
          "size": 3
         },
         "mode": "markers+lines",
         "name": "South Korea",
         "type": "scatter",
         "visible": false,
         "x": [
          3,
          15,
          27,
          29,
          602,
          3736,
          7134,
          8126,
          8897,
          9583,
          10237,
          10512,
          10661,
          10728
         ],
         "y": [
          3,
          12,
          12,
          2,
          573,
          3134,
          3398,
          992,
          771,
          686,
          654,
          275,
          149,
          67
         ]
        },
        {
         "customdata": [
          "2020-01-26",
          "2020-02-02",
          "2020-02-09",
          "2020-02-16",
          "2020-02-23",
          "2020-03-01",
          "2020-03-08",
          "2020-03-15",
          "2020-03-22",
          "2020-03-29",
          "2020-04-05",
          "2020-04-12",
          "2020-04-19",
          "2020-04-26",
          "2020-05-03"
         ],
         "hovertemplate": "<b>Confirmed:</b> %{x}<br><b>New Cases:</b> %{y}<br><b>Date:</b> %{customdata}<extra></extra>",
         "line": {
          "color": "blue",
          "width": 1.5
         },
         "marker": {
          "color": "red",
          "size": 3
         },
         "mode": "markers+lines",
         "name": "South Korea",
         "type": "scatter",
         "visible": false,
         "x": [
          3,
          15,
          27,
          29,
          602,
          3736,
          7134,
          8126,
          8897,
          9583,
          10237,
          10512,
          10661,
          10728,
          10793
         ],
         "y": [
          3,
          12,
          12,
          2,
          573,
          3134,
          3398,
          992,
          771,
          686,
          654,
          275,
          149,
          67,
          65
         ]
        },
        {
         "customdata": [
          "2020-01-26",
          "2020-02-02",
          "2020-02-09",
          "2020-02-16",
          "2020-02-23",
          "2020-03-01",
          "2020-03-08",
          "2020-03-15",
          "2020-03-22",
          "2020-03-29",
          "2020-04-05",
          "2020-04-12",
          "2020-04-19",
          "2020-04-26",
          "2020-05-03",
          "2020-05-10"
         ],
         "hovertemplate": "<b>Confirmed:</b> %{x}<br><b>New Cases:</b> %{y}<br><b>Date:</b> %{customdata}<extra></extra>",
         "line": {
          "color": "blue",
          "width": 1.5
         },
         "marker": {
          "color": "red",
          "size": 3
         },
         "mode": "markers+lines",
         "name": "South Korea",
         "type": "scatter",
         "visible": false,
         "x": [
          3,
          15,
          27,
          29,
          602,
          3736,
          7134,
          8126,
          8897,
          9583,
          10237,
          10512,
          10661,
          10728,
          10793,
          10874
         ],
         "y": [
          3,
          12,
          12,
          2,
          573,
          3134,
          3398,
          992,
          771,
          686,
          654,
          275,
          149,
          67,
          65,
          81
         ]
        },
        {
         "customdata": [
          "2020-01-26",
          "2020-02-02",
          "2020-02-09",
          "2020-02-16",
          "2020-02-23",
          "2020-03-01",
          "2020-03-08",
          "2020-03-15",
          "2020-03-22",
          "2020-03-29",
          "2020-04-05",
          "2020-04-12",
          "2020-04-19",
          "2020-04-26",
          "2020-05-03",
          "2020-05-10",
          "2020-05-17"
         ],
         "hovertemplate": "<b>Confirmed:</b> %{x}<br><b>New Cases:</b> %{y}<br><b>Date:</b> %{customdata}<extra></extra>",
         "line": {
          "color": "blue",
          "width": 1.5
         },
         "marker": {
          "color": "red",
          "size": 3
         },
         "mode": "markers+lines",
         "name": "South Korea",
         "type": "scatter",
         "visible": false,
         "x": [
          3,
          15,
          27,
          29,
          602,
          3736,
          7134,
          8126,
          8897,
          9583,
          10237,
          10512,
          10661,
          10728,
          10793,
          10874,
          11050
         ],
         "y": [
          3,
          12,
          12,
          2,
          573,
          3134,
          3398,
          992,
          771,
          686,
          654,
          275,
          149,
          67,
          65,
          81,
          176
         ]
        },
        {
         "customdata": [
          "2020-01-26",
          "2020-02-02",
          "2020-02-09",
          "2020-02-16",
          "2020-02-23",
          "2020-03-01",
          "2020-03-08",
          "2020-03-15",
          "2020-03-22",
          "2020-03-29",
          "2020-04-05",
          "2020-04-12",
          "2020-04-19",
          "2020-04-26",
          "2020-05-03",
          "2020-05-10",
          "2020-05-17",
          "2020-05-24"
         ],
         "hovertemplate": "<b>Confirmed:</b> %{x}<br><b>New Cases:</b> %{y}<br><b>Date:</b> %{customdata}<extra></extra>",
         "line": {
          "color": "blue",
          "width": 1.5
         },
         "marker": {
          "color": "red",
          "size": 3
         },
         "mode": "markers+lines",
         "name": "South Korea",
         "type": "scatter",
         "visible": false,
         "x": [
          3,
          15,
          27,
          29,
          602,
          3736,
          7134,
          8126,
          8897,
          9583,
          10237,
          10512,
          10661,
          10728,
          10793,
          10874,
          11050,
          11190
         ],
         "y": [
          3,
          12,
          12,
          2,
          573,
          3134,
          3398,
          992,
          771,
          686,
          654,
          275,
          149,
          67,
          65,
          81,
          176,
          140
         ]
        },
        {
         "customdata": [
          "2020-01-26",
          "2020-02-02",
          "2020-02-09",
          "2020-02-16",
          "2020-02-23",
          "2020-03-01",
          "2020-03-08",
          "2020-03-15",
          "2020-03-22",
          "2020-03-29",
          "2020-04-05",
          "2020-04-12",
          "2020-04-19",
          "2020-04-26",
          "2020-05-03",
          "2020-05-10",
          "2020-05-17",
          "2020-05-24",
          "2020-05-31"
         ],
         "hovertemplate": "<b>Confirmed:</b> %{x}<br><b>New Cases:</b> %{y}<br><b>Date:</b> %{customdata}<extra></extra>",
         "line": {
          "color": "blue",
          "width": 1.5
         },
         "marker": {
          "color": "red",
          "size": 3
         },
         "mode": "markers+lines",
         "name": "South Korea",
         "type": "scatter",
         "visible": false,
         "x": [
          3,
          15,
          27,
          29,
          602,
          3736,
          7134,
          8126,
          8897,
          9583,
          10237,
          10512,
          10661,
          10728,
          10793,
          10874,
          11050,
          11190,
          11468
         ],
         "y": [
          3,
          12,
          12,
          2,
          573,
          3134,
          3398,
          992,
          771,
          686,
          654,
          275,
          149,
          67,
          65,
          81,
          176,
          140,
          278
         ]
        },
        {
         "customdata": [
          "2020-01-26",
          "2020-02-02",
          "2020-02-09",
          "2020-02-16",
          "2020-02-23",
          "2020-03-01",
          "2020-03-08",
          "2020-03-15",
          "2020-03-22",
          "2020-03-29",
          "2020-04-05",
          "2020-04-12",
          "2020-04-19",
          "2020-04-26",
          "2020-05-03",
          "2020-05-10",
          "2020-05-17",
          "2020-05-24",
          "2020-05-31",
          "2020-06-07"
         ],
         "hovertemplate": "<b>Confirmed:</b> %{x}<br><b>New Cases:</b> %{y}<br><b>Date:</b> %{customdata}<extra></extra>",
         "line": {
          "color": "blue",
          "width": 1.5
         },
         "marker": {
          "color": "red",
          "size": 3
         },
         "mode": "markers+lines",
         "name": "South Korea",
         "type": "scatter",
         "visible": false,
         "x": [
          3,
          15,
          27,
          29,
          602,
          3736,
          7134,
          8126,
          8897,
          9583,
          10237,
          10512,
          10661,
          10728,
          10793,
          10874,
          11050,
          11190,
          11468,
          11776
         ],
         "y": [
          3,
          12,
          12,
          2,
          573,
          3134,
          3398,
          992,
          771,
          686,
          654,
          275,
          149,
          67,
          65,
          81,
          176,
          140,
          278,
          308
         ]
        },
        {
         "customdata": [
          "2020-01-26",
          "2020-02-02",
          "2020-02-09",
          "2020-02-16",
          "2020-02-23",
          "2020-03-01",
          "2020-03-08",
          "2020-03-15",
          "2020-03-22",
          "2020-03-29",
          "2020-04-05",
          "2020-04-12",
          "2020-04-19",
          "2020-04-26",
          "2020-05-03",
          "2020-05-10",
          "2020-05-17",
          "2020-05-24",
          "2020-05-31",
          "2020-06-07",
          "2020-06-14"
         ],
         "hovertemplate": "<b>Confirmed:</b> %{x}<br><b>New Cases:</b> %{y}<br><b>Date:</b> %{customdata}<extra></extra>",
         "line": {
          "color": "blue",
          "width": 1.5
         },
         "marker": {
          "color": "red",
          "size": 3
         },
         "mode": "markers+lines",
         "name": "South Korea",
         "type": "scatter",
         "visible": false,
         "x": [
          3,
          15,
          27,
          29,
          602,
          3736,
          7134,
          8126,
          8897,
          9583,
          10237,
          10512,
          10661,
          10728,
          10793,
          10874,
          11050,
          11190,
          11468,
          11776,
          12085
         ],
         "y": [
          3,
          12,
          12,
          2,
          573,
          3134,
          3398,
          992,
          771,
          686,
          654,
          275,
          149,
          67,
          65,
          81,
          176,
          140,
          278,
          308,
          309
         ]
        },
        {
         "customdata": [
          "2020-01-26",
          "2020-02-02",
          "2020-02-09",
          "2020-02-16",
          "2020-02-23",
          "2020-03-01",
          "2020-03-08",
          "2020-03-15",
          "2020-03-22",
          "2020-03-29",
          "2020-04-05",
          "2020-04-12",
          "2020-04-19",
          "2020-04-26",
          "2020-05-03",
          "2020-05-10",
          "2020-05-17",
          "2020-05-24",
          "2020-05-31",
          "2020-06-07",
          "2020-06-14",
          "2020-06-21"
         ],
         "hovertemplate": "<b>Confirmed:</b> %{x}<br><b>New Cases:</b> %{y}<br><b>Date:</b> %{customdata}<extra></extra>",
         "line": {
          "color": "blue",
          "width": 1.5
         },
         "marker": {
          "color": "red",
          "size": 3
         },
         "mode": "markers+lines",
         "name": "South Korea",
         "type": "scatter",
         "visible": false,
         "x": [
          3,
          15,
          27,
          29,
          602,
          3736,
          7134,
          8126,
          8897,
          9583,
          10237,
          10512,
          10661,
          10728,
          10793,
          10874,
          11050,
          11190,
          11468,
          11776,
          12085,
          12421
         ],
         "y": [
          3,
          12,
          12,
          2,
          573,
          3134,
          3398,
          992,
          771,
          686,
          654,
          275,
          149,
          67,
          65,
          81,
          176,
          140,
          278,
          308,
          309,
          336
         ]
        },
        {
         "customdata": [
          "2020-01-26",
          "2020-02-02",
          "2020-02-09",
          "2020-02-16",
          "2020-02-23",
          "2020-03-01",
          "2020-03-08",
          "2020-03-15",
          "2020-03-22",
          "2020-03-29",
          "2020-04-05",
          "2020-04-12",
          "2020-04-19",
          "2020-04-26",
          "2020-05-03",
          "2020-05-10",
          "2020-05-17",
          "2020-05-24",
          "2020-05-31",
          "2020-06-07",
          "2020-06-14",
          "2020-06-21",
          "2020-06-28"
         ],
         "hovertemplate": "<b>Confirmed:</b> %{x}<br><b>New Cases:</b> %{y}<br><b>Date:</b> %{customdata}<extra></extra>",
         "line": {
          "color": "blue",
          "width": 1.5
         },
         "marker": {
          "color": "red",
          "size": 3
         },
         "mode": "markers+lines",
         "name": "South Korea",
         "type": "scatter",
         "visible": false,
         "x": [
          3,
          15,
          27,
          29,
          602,
          3736,
          7134,
          8126,
          8897,
          9583,
          10237,
          10512,
          10661,
          10728,
          10793,
          10874,
          11050,
          11190,
          11468,
          11776,
          12085,
          12421,
          12715
         ],
         "y": [
          3,
          12,
          12,
          2,
          573,
          3134,
          3398,
          992,
          771,
          686,
          654,
          275,
          149,
          67,
          65,
          81,
          176,
          140,
          278,
          308,
          309,
          336,
          294
         ]
        },
        {
         "customdata": [
          "2020-01-26",
          "2020-02-02",
          "2020-02-09",
          "2020-02-16",
          "2020-02-23",
          "2020-03-01",
          "2020-03-08",
          "2020-03-15",
          "2020-03-22",
          "2020-03-29",
          "2020-04-05",
          "2020-04-12",
          "2020-04-19",
          "2020-04-26",
          "2020-05-03",
          "2020-05-10",
          "2020-05-17",
          "2020-05-24",
          "2020-05-31",
          "2020-06-07",
          "2020-06-14",
          "2020-06-21",
          "2020-06-28",
          "2020-07-05"
         ],
         "hovertemplate": "<b>Confirmed:</b> %{x}<br><b>New Cases:</b> %{y}<br><b>Date:</b> %{customdata}<extra></extra>",
         "line": {
          "color": "blue",
          "width": 1.5
         },
         "marker": {
          "color": "red",
          "size": 3
         },
         "mode": "markers+lines",
         "name": "South Korea",
         "type": "scatter",
         "visible": true,
         "x": [
          3,
          15,
          27,
          29,
          602,
          3736,
          7134,
          8126,
          8897,
          9583,
          10237,
          10512,
          10661,
          10728,
          10793,
          10874,
          11050,
          11190,
          11468,
          11776,
          12085,
          12421,
          12715,
          12800
         ],
         "y": [
          3,
          12,
          12,
          2,
          573,
          3134,
          3398,
          992,
          771,
          686,
          654,
          275,
          149,
          67,
          65,
          81,
          176,
          140,
          278,
          308,
          309,
          336,
          294,
          85
         ]
        },
        {
         "hovertemplate": "<b>Confirmed:</b> %{x}<br><b>New Cases:</b>",
         "line": {
          "color": "black",
          "dash": "dash",
          "width": 2
         },
         "mode": "lines",
         "name": "2 Day doubling line",
         "type": "scatter",
         "x": [
          1,
          2,
          4,
          8,
          16,
          32,
          64,
          128,
          256,
          512,
          1024,
          2048,
          4096,
          8192,
          16384,
          32768,
          65536,
          131072,
          262144,
          524288,
          1048576,
          2097152,
          4194304,
          8388608,
          16777216,
          33554432,
          67108864,
          134217728,
          268435456,
          536870912,
          1073741824,
          2147483648,
          4294967296,
          8589934592,
          17179869184,
          34359738368,
          68719476736,
          137438953472,
          274877906944,
          549755813888,
          1099511627776,
          2199023255552,
          1,
          2,
          4,
          8,
          16,
          32,
          64,
          128,
          256,
          512,
          1024,
          2048,
          4096,
          8192,
          16384,
          32768,
          65536,
          131072,
          262144,
          524288,
          1048576,
          2097152,
          4194304,
          8388608,
          16777216,
          33554432,
          67108864,
          134217728,
          268435456,
          536870912,
          1073741824,
          2147483648,
          4294967296,
          8589934592,
          17179869184,
          34359738368,
          68719476736,
          137438953472,
          274877906944,
          549755813888
         ],
         "y": [
          1,
          1,
          2,
          4,
          8,
          16,
          32,
          64,
          128,
          256,
          512,
          1024,
          2048,
          4096,
          8192,
          16384,
          32768,
          65536,
          131072,
          262144,
          524288,
          1048576,
          2097152,
          4194304,
          8388608,
          16777216,
          33554432,
          67108864,
          134217728,
          268435456,
          536870912,
          1073741824,
          2147483648,
          4294967296,
          8589934592,
          17179869184,
          34359738368,
          68719476736,
          137438953472,
          274877906944,
          549755813888,
          1099511627776,
          -2199023255551,
          1,
          2,
          4,
          8,
          16,
          32,
          64,
          128,
          256,
          512,
          1024,
          2048,
          4096,
          8192,
          16384,
          32768,
          65536,
          131072,
          262144,
          524288,
          1048576,
          2097152,
          4194304,
          8388608,
          16777216,
          33554432,
          67108864,
          134217728,
          268435456,
          536870912,
          1073741824,
          2147483648,
          4294967296,
          8589934592,
          17179869184,
          34359738368,
          68719476736,
          137438953472,
          274877906944
         ]
        }
       ],
       "layout": {
        "height": 432,
        "hovermode": "closest",
        "sliders": [
         {
          "active": 25,
          "currentvalue": {
           "prefix": "Date: "
          },
          "pad": {
           "t": 50
          },
          "steps": [
           {
            "args": [
             {
              "visible": [
               true,
               false,
               false,
               false,
               false,
               false,
               false,
               false,
               false,
               false,
               false,
               false,
               false,
               false,
               false,
               false,
               false,
               false,
               false,
               false,
               false,
               false,
               false,
               false,
               true
              ]
             }
            ],
            "label": "2020-01-26",
            "method": "update"
           },
           {
            "args": [
             {
              "visible": [
               false,
               true,
               false,
               false,
               false,
               false,
               false,
               false,
               false,
               false,
               false,
               false,
               false,
               false,
               false,
               false,
               false,
               false,
               false,
               false,
               false,
               false,
               false,
               false,
               true
              ]
             }
            ],
            "label": "2020-02-02",
            "method": "update"
           },
           {
            "args": [
             {
              "visible": [
               false,
               false,
               true,
               false,
               false,
               false,
               false,
               false,
               false,
               false,
               false,
               false,
               false,
               false,
               false,
               false,
               false,
               false,
               false,
               false,
               false,
               false,
               false,
               false,
               true
              ]
             }
            ],
            "label": "2020-02-09",
            "method": "update"
           },
           {
            "args": [
             {
              "visible": [
               false,
               false,
               false,
               true,
               false,
               false,
               false,
               false,
               false,
               false,
               false,
               false,
               false,
               false,
               false,
               false,
               false,
               false,
               false,
               false,
               false,
               false,
               false,
               false,
               true
              ]
             }
            ],
            "label": "2020-02-16",
            "method": "update"
           },
           {
            "args": [
             {
              "visible": [
               false,
               false,
               false,
               false,
               true,
               false,
               false,
               false,
               false,
               false,
               false,
               false,
               false,
               false,
               false,
               false,
               false,
               false,
               false,
               false,
               false,
               false,
               false,
               false,
               true
              ]
             }
            ],
            "label": "2020-02-23",
            "method": "update"
           },
           {
            "args": [
             {
              "visible": [
               false,
               false,
               false,
               false,
               false,
               true,
               false,
               false,
               false,
               false,
               false,
               false,
               false,
               false,
               false,
               false,
               false,
               false,
               false,
               false,
               false,
               false,
               false,
               false,
               true
              ]
             }
            ],
            "label": "2020-03-01",
            "method": "update"
           },
           {
            "args": [
             {
              "visible": [
               false,
               false,
               false,
               false,
               false,
               false,
               true,
               false,
               false,
               false,
               false,
               false,
               false,
               false,
               false,
               false,
               false,
               false,
               false,
               false,
               false,
               false,
               false,
               false,
               true
              ]
             }
            ],
            "label": "2020-03-08",
            "method": "update"
           },
           {
            "args": [
             {
              "visible": [
               false,
               false,
               false,
               false,
               false,
               false,
               false,
               true,
               false,
               false,
               false,
               false,
               false,
               false,
               false,
               false,
               false,
               false,
               false,
               false,
               false,
               false,
               false,
               false,
               true
              ]
             }
            ],
            "label": "2020-03-15",
            "method": "update"
           },
           {
            "args": [
             {
              "visible": [
               false,
               false,
               false,
               false,
               false,
               false,
               false,
               false,
               true,
               false,
               false,
               false,
               false,
               false,
               false,
               false,
               false,
               false,
               false,
               false,
               false,
               false,
               false,
               false,
               true
              ]
             }
            ],
            "label": "2020-03-22",
            "method": "update"
           },
           {
            "args": [
             {
              "visible": [
               false,
               false,
               false,
               false,
               false,
               false,
               false,
               false,
               false,
               true,
               false,
               false,
               false,
               false,
               false,
               false,
               false,
               false,
               false,
               false,
               false,
               false,
               false,
               false,
               true
              ]
             }
            ],
            "label": "2020-03-29",
            "method": "update"
           },
           {
            "args": [
             {
              "visible": [
               false,
               false,
               false,
               false,
               false,
               false,
               false,
               false,
               false,
               false,
               true,
               false,
               false,
               false,
               false,
               false,
               false,
               false,
               false,
               false,
               false,
               false,
               false,
               false,
               true
              ]
             }
            ],
            "label": "2020-04-05",
            "method": "update"
           },
           {
            "args": [
             {
              "visible": [
               false,
               false,
               false,
               false,
               false,
               false,
               false,
               false,
               false,
               false,
               false,
               true,
               false,
               false,
               false,
               false,
               false,
               false,
               false,
               false,
               false,
               false,
               false,
               false,
               true
              ]
             }
            ],
            "label": "2020-04-12",
            "method": "update"
           },
           {
            "args": [
             {
              "visible": [
               false,
               false,
               false,
               false,
               false,
               false,
               false,
               false,
               false,
               false,
               false,
               false,
               true,
               false,
               false,
               false,
               false,
               false,
               false,
               false,
               false,
               false,
               false,
               false,
               true
              ]
             }
            ],
            "label": "2020-04-19",
            "method": "update"
           },
           {
            "args": [
             {
              "visible": [
               false,
               false,
               false,
               false,
               false,
               false,
               false,
               false,
               false,
               false,
               false,
               false,
               false,
               true,
               false,
               false,
               false,
               false,
               false,
               false,
               false,
               false,
               false,
               false,
               true
              ]
             }
            ],
            "label": "2020-04-26",
            "method": "update"
           },
           {
            "args": [
             {
              "visible": [
               false,
               false,
               false,
               false,
               false,
               false,
               false,
               false,
               false,
               false,
               false,
               false,
               false,
               false,
               true,
               false,
               false,
               false,
               false,
               false,
               false,
               false,
               false,
               false,
               true
              ]
             }
            ],
            "label": "2020-05-03",
            "method": "update"
           },
           {
            "args": [
             {
              "visible": [
               false,
               false,
               false,
               false,
               false,
               false,
               false,
               false,
               false,
               false,
               false,
               false,
               false,
               false,
               false,
               true,
               false,
               false,
               false,
               false,
               false,
               false,
               false,
               false,
               true
              ]
             }
            ],
            "label": "2020-05-10",
            "method": "update"
           },
           {
            "args": [
             {
              "visible": [
               false,
               false,
               false,
               false,
               false,
               false,
               false,
               false,
               false,
               false,
               false,
               false,
               false,
               false,
               false,
               false,
               true,
               false,
               false,
               false,
               false,
               false,
               false,
               false,
               true
              ]
             }
            ],
            "label": "2020-05-17",
            "method": "update"
           },
           {
            "args": [
             {
              "visible": [
               false,
               false,
               false,
               false,
               false,
               false,
               false,
               false,
               false,
               false,
               false,
               false,
               false,
               false,
               false,
               false,
               false,
               true,
               false,
               false,
               false,
               false,
               false,
               false,
               true
              ]
             }
            ],
            "label": "2020-05-24",
            "method": "update"
           },
           {
            "args": [
             {
              "visible": [
               false,
               false,
               false,
               false,
               false,
               false,
               false,
               false,
               false,
               false,
               false,
               false,
               false,
               false,
               false,
               false,
               false,
               false,
               true,
               false,
               false,
               false,
               false,
               false,
               true
              ]
             }
            ],
            "label": "2020-05-31",
            "method": "update"
           },
           {
            "args": [
             {
              "visible": [
               false,
               false,
               false,
               false,
               false,
               false,
               false,
               false,
               false,
               false,
               false,
               false,
               false,
               false,
               false,
               false,
               false,
               false,
               false,
               true,
               false,
               false,
               false,
               false,
               true
              ]
             }
            ],
            "label": "2020-06-07",
            "method": "update"
           },
           {
            "args": [
             {
              "visible": [
               false,
               false,
               false,
               false,
               false,
               false,
               false,
               false,
               false,
               false,
               false,
               false,
               false,
               false,
               false,
               false,
               false,
               false,
               false,
               false,
               true,
               false,
               false,
               false,
               true
              ]
             }
            ],
            "label": "2020-06-14",
            "method": "update"
           },
           {
            "args": [
             {
              "visible": [
               false,
               false,
               false,
               false,
               false,
               false,
               false,
               false,
               false,
               false,
               false,
               false,
               false,
               false,
               false,
               false,
               false,
               false,
               false,
               false,
               false,
               true,
               false,
               false,
               true
              ]
             }
            ],
            "label": "2020-06-21",
            "method": "update"
           },
           {
            "args": [
             {
              "visible": [
               false,
               false,
               false,
               false,
               false,
               false,
               false,
               false,
               false,
               false,
               false,
               false,
               false,
               false,
               false,
               false,
               false,
               false,
               false,
               false,
               false,
               false,
               true,
               false,
               true
              ]
             }
            ],
            "label": "2020-06-28",
            "method": "update"
           },
           {
            "args": [
             {
              "visible": [
               false,
               false,
               false,
               false,
               false,
               false,
               false,
               false,
               false,
               false,
               false,
               false,
               false,
               false,
               false,
               false,
               false,
               false,
               false,
               false,
               false,
               false,
               false,
               true,
               true
              ]
             }
            ],
            "label": "2020-07-05",
            "method": "update"
           }
          ]
         }
        ],
        "template": {
         "data": {
          "bar": [
           {
            "error_x": {
             "color": "#2a3f5f"
            },
            "error_y": {
             "color": "#2a3f5f"
            },
            "marker": {
             "line": {
              "color": "#E5ECF6",
              "width": 0.5
             },
             "pattern": {
              "fillmode": "overlay",
              "size": 10,
              "solidity": 0.2
             }
            },
            "type": "bar"
           }
          ],
          "barpolar": [
           {
            "marker": {
             "line": {
              "color": "#E5ECF6",
              "width": 0.5
             },
             "pattern": {
              "fillmode": "overlay",
              "size": 10,
              "solidity": 0.2
             }
            },
            "type": "barpolar"
           }
          ],
          "carpet": [
           {
            "aaxis": {
             "endlinecolor": "#2a3f5f",
             "gridcolor": "white",
             "linecolor": "white",
             "minorgridcolor": "white",
             "startlinecolor": "#2a3f5f"
            },
            "baxis": {
             "endlinecolor": "#2a3f5f",
             "gridcolor": "white",
             "linecolor": "white",
             "minorgridcolor": "white",
             "startlinecolor": "#2a3f5f"
            },
            "type": "carpet"
           }
          ],
          "choropleth": [
           {
            "colorbar": {
             "outlinewidth": 0,
             "ticks": ""
            },
            "type": "choropleth"
           }
          ],
          "contour": [
           {
            "colorbar": {
             "outlinewidth": 0,
             "ticks": ""
            },
            "colorscale": [
             [
              0,
              "#0d0887"
             ],
             [
              0.1111111111111111,
              "#46039f"
             ],
             [
              0.2222222222222222,
              "#7201a8"
             ],
             [
              0.3333333333333333,
              "#9c179e"
             ],
             [
              0.4444444444444444,
              "#bd3786"
             ],
             [
              0.5555555555555556,
              "#d8576b"
             ],
             [
              0.6666666666666666,
              "#ed7953"
             ],
             [
              0.7777777777777778,
              "#fb9f3a"
             ],
             [
              0.8888888888888888,
              "#fdca26"
             ],
             [
              1,
              "#f0f921"
             ]
            ],
            "type": "contour"
           }
          ],
          "contourcarpet": [
           {
            "colorbar": {
             "outlinewidth": 0,
             "ticks": ""
            },
            "type": "contourcarpet"
           }
          ],
          "heatmap": [
           {
            "colorbar": {
             "outlinewidth": 0,
             "ticks": ""
            },
            "colorscale": [
             [
              0,
              "#0d0887"
             ],
             [
              0.1111111111111111,
              "#46039f"
             ],
             [
              0.2222222222222222,
              "#7201a8"
             ],
             [
              0.3333333333333333,
              "#9c179e"
             ],
             [
              0.4444444444444444,
              "#bd3786"
             ],
             [
              0.5555555555555556,
              "#d8576b"
             ],
             [
              0.6666666666666666,
              "#ed7953"
             ],
             [
              0.7777777777777778,
              "#fb9f3a"
             ],
             [
              0.8888888888888888,
              "#fdca26"
             ],
             [
              1,
              "#f0f921"
             ]
            ],
            "type": "heatmap"
           }
          ],
          "heatmapgl": [
           {
            "colorbar": {
             "outlinewidth": 0,
             "ticks": ""
            },
            "colorscale": [
             [
              0,
              "#0d0887"
             ],
             [
              0.1111111111111111,
              "#46039f"
             ],
             [
              0.2222222222222222,
              "#7201a8"
             ],
             [
              0.3333333333333333,
              "#9c179e"
             ],
             [
              0.4444444444444444,
              "#bd3786"
             ],
             [
              0.5555555555555556,
              "#d8576b"
             ],
             [
              0.6666666666666666,
              "#ed7953"
             ],
             [
              0.7777777777777778,
              "#fb9f3a"
             ],
             [
              0.8888888888888888,
              "#fdca26"
             ],
             [
              1,
              "#f0f921"
             ]
            ],
            "type": "heatmapgl"
           }
          ],
          "histogram": [
           {
            "marker": {
             "pattern": {
              "fillmode": "overlay",
              "size": 10,
              "solidity": 0.2
             }
            },
            "type": "histogram"
           }
          ],
          "histogram2d": [
           {
            "colorbar": {
             "outlinewidth": 0,
             "ticks": ""
            },
            "colorscale": [
             [
              0,
              "#0d0887"
             ],
             [
              0.1111111111111111,
              "#46039f"
             ],
             [
              0.2222222222222222,
              "#7201a8"
             ],
             [
              0.3333333333333333,
              "#9c179e"
             ],
             [
              0.4444444444444444,
              "#bd3786"
             ],
             [
              0.5555555555555556,
              "#d8576b"
             ],
             [
              0.6666666666666666,
              "#ed7953"
             ],
             [
              0.7777777777777778,
              "#fb9f3a"
             ],
             [
              0.8888888888888888,
              "#fdca26"
             ],
             [
              1,
              "#f0f921"
             ]
            ],
            "type": "histogram2d"
           }
          ],
          "histogram2dcontour": [
           {
            "colorbar": {
             "outlinewidth": 0,
             "ticks": ""
            },
            "colorscale": [
             [
              0,
              "#0d0887"
             ],
             [
              0.1111111111111111,
              "#46039f"
             ],
             [
              0.2222222222222222,
              "#7201a8"
             ],
             [
              0.3333333333333333,
              "#9c179e"
             ],
             [
              0.4444444444444444,
              "#bd3786"
             ],
             [
              0.5555555555555556,
              "#d8576b"
             ],
             [
              0.6666666666666666,
              "#ed7953"
             ],
             [
              0.7777777777777778,
              "#fb9f3a"
             ],
             [
              0.8888888888888888,
              "#fdca26"
             ],
             [
              1,
              "#f0f921"
             ]
            ],
            "type": "histogram2dcontour"
           }
          ],
          "mesh3d": [
           {
            "colorbar": {
             "outlinewidth": 0,
             "ticks": ""
            },
            "type": "mesh3d"
           }
          ],
          "parcoords": [
           {
            "line": {
             "colorbar": {
              "outlinewidth": 0,
              "ticks": ""
             }
            },
            "type": "parcoords"
           }
          ],
          "pie": [
           {
            "automargin": true,
            "type": "pie"
           }
          ],
          "scatter": [
           {
            "fillpattern": {
             "fillmode": "overlay",
             "size": 10,
             "solidity": 0.2
            },
            "type": "scatter"
           }
          ],
          "scatter3d": [
           {
            "line": {
             "colorbar": {
              "outlinewidth": 0,
              "ticks": ""
             }
            },
            "marker": {
             "colorbar": {
              "outlinewidth": 0,
              "ticks": ""
             }
            },
            "type": "scatter3d"
           }
          ],
          "scattercarpet": [
           {
            "marker": {
             "colorbar": {
              "outlinewidth": 0,
              "ticks": ""
             }
            },
            "type": "scattercarpet"
           }
          ],
          "scattergeo": [
           {
            "marker": {
             "colorbar": {
              "outlinewidth": 0,
              "ticks": ""
             }
            },
            "type": "scattergeo"
           }
          ],
          "scattergl": [
           {
            "marker": {
             "colorbar": {
              "outlinewidth": 0,
              "ticks": ""
             }
            },
            "type": "scattergl"
           }
          ],
          "scattermapbox": [
           {
            "marker": {
             "colorbar": {
              "outlinewidth": 0,
              "ticks": ""
             }
            },
            "type": "scattermapbox"
           }
          ],
          "scatterpolar": [
           {
            "marker": {
             "colorbar": {
              "outlinewidth": 0,
              "ticks": ""
             }
            },
            "type": "scatterpolar"
           }
          ],
          "scatterpolargl": [
           {
            "marker": {
             "colorbar": {
              "outlinewidth": 0,
              "ticks": ""
             }
            },
            "type": "scatterpolargl"
           }
          ],
          "scatterternary": [
           {
            "marker": {
             "colorbar": {
              "outlinewidth": 0,
              "ticks": ""
             }
            },
            "type": "scatterternary"
           }
          ],
          "surface": [
           {
            "colorbar": {
             "outlinewidth": 0,
             "ticks": ""
            },
            "colorscale": [
             [
              0,
              "#0d0887"
             ],
             [
              0.1111111111111111,
              "#46039f"
             ],
             [
              0.2222222222222222,
              "#7201a8"
             ],
             [
              0.3333333333333333,
              "#9c179e"
             ],
             [
              0.4444444444444444,
              "#bd3786"
             ],
             [
              0.5555555555555556,
              "#d8576b"
             ],
             [
              0.6666666666666666,
              "#ed7953"
             ],
             [
              0.7777777777777778,
              "#fb9f3a"
             ],
             [
              0.8888888888888888,
              "#fdca26"
             ],
             [
              1,
              "#f0f921"
             ]
            ],
            "type": "surface"
           }
          ],
          "table": [
           {
            "cells": {
             "fill": {
              "color": "#EBF0F8"
             },
             "line": {
              "color": "white"
             }
            },
            "header": {
             "fill": {
              "color": "#C8D4E3"
             },
             "line": {
              "color": "white"
             }
            },
            "type": "table"
           }
          ]
         },
         "layout": {
          "annotationdefaults": {
           "arrowcolor": "#2a3f5f",
           "arrowhead": 0,
           "arrowwidth": 1
          },
          "autotypenumbers": "strict",
          "coloraxis": {
           "colorbar": {
            "outlinewidth": 0,
            "ticks": ""
           }
          },
          "colorscale": {
           "diverging": [
            [
             0,
             "#8e0152"
            ],
            [
             0.1,
             "#c51b7d"
            ],
            [
             0.2,
             "#de77ae"
            ],
            [
             0.3,
             "#f1b6da"
            ],
            [
             0.4,
             "#fde0ef"
            ],
            [
             0.5,
             "#f7f7f7"
            ],
            [
             0.6,
             "#e6f5d0"
            ],
            [
             0.7,
             "#b8e186"
            ],
            [
             0.8,
             "#7fbc41"
            ],
            [
             0.9,
             "#4d9221"
            ],
            [
             1,
             "#276419"
            ]
           ],
           "sequential": [
            [
             0,
             "#0d0887"
            ],
            [
             0.1111111111111111,
             "#46039f"
            ],
            [
             0.2222222222222222,
             "#7201a8"
            ],
            [
             0.3333333333333333,
             "#9c179e"
            ],
            [
             0.4444444444444444,
             "#bd3786"
            ],
            [
             0.5555555555555556,
             "#d8576b"
            ],
            [
             0.6666666666666666,
             "#ed7953"
            ],
            [
             0.7777777777777778,
             "#fb9f3a"
            ],
            [
             0.8888888888888888,
             "#fdca26"
            ],
            [
             1,
             "#f0f921"
            ]
           ],
           "sequentialminus": [
            [
             0,
             "#0d0887"
            ],
            [
             0.1111111111111111,
             "#46039f"
            ],
            [
             0.2222222222222222,
             "#7201a8"
            ],
            [
             0.3333333333333333,
             "#9c179e"
            ],
            [
             0.4444444444444444,
             "#bd3786"
            ],
            [
             0.5555555555555556,
             "#d8576b"
            ],
            [
             0.6666666666666666,
             "#ed7953"
            ],
            [
             0.7777777777777778,
             "#fb9f3a"
            ],
            [
             0.8888888888888888,
             "#fdca26"
            ],
            [
             1,
             "#f0f921"
            ]
           ]
          },
          "colorway": [
           "#636efa",
           "#EF553B",
           "#00cc96",
           "#ab63fa",
           "#FFA15A",
           "#19d3f3",
           "#FF6692",
           "#B6E880",
           "#FF97FF",
           "#FECB52"
          ],
          "font": {
           "color": "#2a3f5f"
          },
          "geo": {
           "bgcolor": "white",
           "lakecolor": "white",
           "landcolor": "#E5ECF6",
           "showlakes": true,
           "showland": true,
           "subunitcolor": "white"
          },
          "hoverlabel": {
           "align": "left"
          },
          "hovermode": "closest",
          "mapbox": {
           "style": "light"
          },
          "paper_bgcolor": "white",
          "plot_bgcolor": "#E5ECF6",
          "polar": {
           "angularaxis": {
            "gridcolor": "white",
            "linecolor": "white",
            "ticks": ""
           },
           "bgcolor": "#E5ECF6",
           "radialaxis": {
            "gridcolor": "white",
            "linecolor": "white",
            "ticks": ""
           }
          },
          "scene": {
           "xaxis": {
            "backgroundcolor": "#E5ECF6",
            "gridcolor": "white",
            "gridwidth": 2,
            "linecolor": "white",
            "showbackground": true,
            "ticks": "",
            "zerolinecolor": "white"
           },
           "yaxis": {
            "backgroundcolor": "#E5ECF6",
            "gridcolor": "white",
            "gridwidth": 2,
            "linecolor": "white",
            "showbackground": true,
            "ticks": "",
            "zerolinecolor": "white"
           },
           "zaxis": {
            "backgroundcolor": "#E5ECF6",
            "gridcolor": "white",
            "gridwidth": 2,
            "linecolor": "white",
            "showbackground": true,
            "ticks": "",
            "zerolinecolor": "white"
           }
          },
          "shapedefaults": {
           "line": {
            "color": "#2a3f5f"
           }
          },
          "ternary": {
           "aaxis": {
            "gridcolor": "white",
            "linecolor": "white",
            "ticks": ""
           },
           "baxis": {
            "gridcolor": "white",
            "linecolor": "white",
            "ticks": ""
           },
           "bgcolor": "#E5ECF6",
           "caxis": {
            "gridcolor": "white",
            "linecolor": "white",
            "ticks": ""
           }
          },
          "title": {
           "x": 0.05
          },
          "xaxis": {
           "automargin": true,
           "gridcolor": "white",
           "linecolor": "white",
           "ticks": "",
           "title": {
            "standoff": 15
           },
           "zerolinecolor": "white",
           "zerolinewidth": 2
          },
          "yaxis": {
           "automargin": true,
           "gridcolor": "white",
           "linecolor": "white",
           "ticks": "",
           "title": {
            "standoff": 15
           },
           "zerolinecolor": "white",
           "zerolinewidth": 2
          }
         }
        },
        "width": 864,
        "xaxis": {
         "autorange": false,
         "range": [
          0.3,
          5
         ],
         "title": {
          "text": "Total cases"
         },
         "type": "log",
         "zeroline": false
        },
        "yaxis": {
         "autorange": false,
         "range": [
          0,
          4
         ],
         "title": {
          "text": "Weekly New Cases"
         },
         "type": "log",
         "zeroline": false
        }
       }
      },
      "text/html": [
       "<div>                            <div id=\"0de86962-d108-4029-a283-77d376745c41\" class=\"plotly-graph-div\" style=\"height:432.0px; width:864px;\"></div>            <script type=\"text/javascript\">                require([\"plotly\"], function(Plotly) {                    window.PLOTLYENV=window.PLOTLYENV || {};                                    if (document.getElementById(\"0de86962-d108-4029-a283-77d376745c41\")) {                    Plotly.newPlot(                        \"0de86962-d108-4029-a283-77d376745c41\",                        [{\"customdata\":[\"2020-01-26\"],\"hovertemplate\":\"<b>Confirmed:</b> %{x}<br><b>New Cases:</b> %{y}<br><b>Date:</b> %{customdata}<extra></extra>\",\"line\":{\"color\":\"blue\",\"width\":1.5},\"marker\":{\"color\":\"red\",\"size\":3},\"mode\":\"markers+lines\",\"name\":\"South Korea\",\"visible\":false,\"x\":[3],\"y\":[3.0],\"type\":\"scatter\"},{\"customdata\":[\"2020-01-26\",\"2020-02-02\"],\"hovertemplate\":\"<b>Confirmed:</b> %{x}<br><b>New Cases:</b> %{y}<br><b>Date:</b> %{customdata}<extra></extra>\",\"line\":{\"color\":\"blue\",\"width\":1.5},\"marker\":{\"color\":\"red\",\"size\":3},\"mode\":\"markers+lines\",\"name\":\"South Korea\",\"visible\":false,\"x\":[3,15],\"y\":[3.0,12.0],\"type\":\"scatter\"},{\"customdata\":[\"2020-01-26\",\"2020-02-02\",\"2020-02-09\"],\"hovertemplate\":\"<b>Confirmed:</b> %{x}<br><b>New Cases:</b> %{y}<br><b>Date:</b> %{customdata}<extra></extra>\",\"line\":{\"color\":\"blue\",\"width\":1.5},\"marker\":{\"color\":\"red\",\"size\":3},\"mode\":\"markers+lines\",\"name\":\"South Korea\",\"visible\":false,\"x\":[3,15,27],\"y\":[3.0,12.0,12.0],\"type\":\"scatter\"},{\"customdata\":[\"2020-01-26\",\"2020-02-02\",\"2020-02-09\",\"2020-02-16\"],\"hovertemplate\":\"<b>Confirmed:</b> %{x}<br><b>New Cases:</b> %{y}<br><b>Date:</b> %{customdata}<extra></extra>\",\"line\":{\"color\":\"blue\",\"width\":1.5},\"marker\":{\"color\":\"red\",\"size\":3},\"mode\":\"markers+lines\",\"name\":\"South Korea\",\"visible\":false,\"x\":[3,15,27,29],\"y\":[3.0,12.0,12.0,2.0],\"type\":\"scatter\"},{\"customdata\":[\"2020-01-26\",\"2020-02-02\",\"2020-02-09\",\"2020-02-16\",\"2020-02-23\"],\"hovertemplate\":\"<b>Confirmed:</b> %{x}<br><b>New Cases:</b> %{y}<br><b>Date:</b> %{customdata}<extra></extra>\",\"line\":{\"color\":\"blue\",\"width\":1.5},\"marker\":{\"color\":\"red\",\"size\":3},\"mode\":\"markers+lines\",\"name\":\"South Korea\",\"visible\":false,\"x\":[3,15,27,29,602],\"y\":[3.0,12.0,12.0,2.0,573.0],\"type\":\"scatter\"},{\"customdata\":[\"2020-01-26\",\"2020-02-02\",\"2020-02-09\",\"2020-02-16\",\"2020-02-23\",\"2020-03-01\"],\"hovertemplate\":\"<b>Confirmed:</b> %{x}<br><b>New Cases:</b> %{y}<br><b>Date:</b> %{customdata}<extra></extra>\",\"line\":{\"color\":\"blue\",\"width\":1.5},\"marker\":{\"color\":\"red\",\"size\":3},\"mode\":\"markers+lines\",\"name\":\"South Korea\",\"visible\":false,\"x\":[3,15,27,29,602,3736],\"y\":[3.0,12.0,12.0,2.0,573.0,3134.0],\"type\":\"scatter\"},{\"customdata\":[\"2020-01-26\",\"2020-02-02\",\"2020-02-09\",\"2020-02-16\",\"2020-02-23\",\"2020-03-01\",\"2020-03-08\"],\"hovertemplate\":\"<b>Confirmed:</b> %{x}<br><b>New Cases:</b> %{y}<br><b>Date:</b> %{customdata}<extra></extra>\",\"line\":{\"color\":\"blue\",\"width\":1.5},\"marker\":{\"color\":\"red\",\"size\":3},\"mode\":\"markers+lines\",\"name\":\"South Korea\",\"visible\":false,\"x\":[3,15,27,29,602,3736,7134],\"y\":[3.0,12.0,12.0,2.0,573.0,3134.0,3398.0],\"type\":\"scatter\"},{\"customdata\":[\"2020-01-26\",\"2020-02-02\",\"2020-02-09\",\"2020-02-16\",\"2020-02-23\",\"2020-03-01\",\"2020-03-08\",\"2020-03-15\"],\"hovertemplate\":\"<b>Confirmed:</b> %{x}<br><b>New Cases:</b> %{y}<br><b>Date:</b> %{customdata}<extra></extra>\",\"line\":{\"color\":\"blue\",\"width\":1.5},\"marker\":{\"color\":\"red\",\"size\":3},\"mode\":\"markers+lines\",\"name\":\"South Korea\",\"visible\":false,\"x\":[3,15,27,29,602,3736,7134,8126],\"y\":[3.0,12.0,12.0,2.0,573.0,3134.0,3398.0,992.0],\"type\":\"scatter\"},{\"customdata\":[\"2020-01-26\",\"2020-02-02\",\"2020-02-09\",\"2020-02-16\",\"2020-02-23\",\"2020-03-01\",\"2020-03-08\",\"2020-03-15\",\"2020-03-22\"],\"hovertemplate\":\"<b>Confirmed:</b> %{x}<br><b>New Cases:</b> %{y}<br><b>Date:</b> %{customdata}<extra></extra>\",\"line\":{\"color\":\"blue\",\"width\":1.5},\"marker\":{\"color\":\"red\",\"size\":3},\"mode\":\"markers+lines\",\"name\":\"South Korea\",\"visible\":false,\"x\":[3,15,27,29,602,3736,7134,8126,8897],\"y\":[3.0,12.0,12.0,2.0,573.0,3134.0,3398.0,992.0,771.0],\"type\":\"scatter\"},{\"customdata\":[\"2020-01-26\",\"2020-02-02\",\"2020-02-09\",\"2020-02-16\",\"2020-02-23\",\"2020-03-01\",\"2020-03-08\",\"2020-03-15\",\"2020-03-22\",\"2020-03-29\"],\"hovertemplate\":\"<b>Confirmed:</b> %{x}<br><b>New Cases:</b> %{y}<br><b>Date:</b> %{customdata}<extra></extra>\",\"line\":{\"color\":\"blue\",\"width\":1.5},\"marker\":{\"color\":\"red\",\"size\":3},\"mode\":\"markers+lines\",\"name\":\"South Korea\",\"visible\":false,\"x\":[3,15,27,29,602,3736,7134,8126,8897,9583],\"y\":[3.0,12.0,12.0,2.0,573.0,3134.0,3398.0,992.0,771.0,686.0],\"type\":\"scatter\"},{\"customdata\":[\"2020-01-26\",\"2020-02-02\",\"2020-02-09\",\"2020-02-16\",\"2020-02-23\",\"2020-03-01\",\"2020-03-08\",\"2020-03-15\",\"2020-03-22\",\"2020-03-29\",\"2020-04-05\"],\"hovertemplate\":\"<b>Confirmed:</b> %{x}<br><b>New Cases:</b> %{y}<br><b>Date:</b> %{customdata}<extra></extra>\",\"line\":{\"color\":\"blue\",\"width\":1.5},\"marker\":{\"color\":\"red\",\"size\":3},\"mode\":\"markers+lines\",\"name\":\"South Korea\",\"visible\":false,\"x\":[3,15,27,29,602,3736,7134,8126,8897,9583,10237],\"y\":[3.0,12.0,12.0,2.0,573.0,3134.0,3398.0,992.0,771.0,686.0,654.0],\"type\":\"scatter\"},{\"customdata\":[\"2020-01-26\",\"2020-02-02\",\"2020-02-09\",\"2020-02-16\",\"2020-02-23\",\"2020-03-01\",\"2020-03-08\",\"2020-03-15\",\"2020-03-22\",\"2020-03-29\",\"2020-04-05\",\"2020-04-12\"],\"hovertemplate\":\"<b>Confirmed:</b> %{x}<br><b>New Cases:</b> %{y}<br><b>Date:</b> %{customdata}<extra></extra>\",\"line\":{\"color\":\"blue\",\"width\":1.5},\"marker\":{\"color\":\"red\",\"size\":3},\"mode\":\"markers+lines\",\"name\":\"South Korea\",\"visible\":false,\"x\":[3,15,27,29,602,3736,7134,8126,8897,9583,10237,10512],\"y\":[3.0,12.0,12.0,2.0,573.0,3134.0,3398.0,992.0,771.0,686.0,654.0,275.0],\"type\":\"scatter\"},{\"customdata\":[\"2020-01-26\",\"2020-02-02\",\"2020-02-09\",\"2020-02-16\",\"2020-02-23\",\"2020-03-01\",\"2020-03-08\",\"2020-03-15\",\"2020-03-22\",\"2020-03-29\",\"2020-04-05\",\"2020-04-12\",\"2020-04-19\"],\"hovertemplate\":\"<b>Confirmed:</b> %{x}<br><b>New Cases:</b> %{y}<br><b>Date:</b> %{customdata}<extra></extra>\",\"line\":{\"color\":\"blue\",\"width\":1.5},\"marker\":{\"color\":\"red\",\"size\":3},\"mode\":\"markers+lines\",\"name\":\"South Korea\",\"visible\":false,\"x\":[3,15,27,29,602,3736,7134,8126,8897,9583,10237,10512,10661],\"y\":[3.0,12.0,12.0,2.0,573.0,3134.0,3398.0,992.0,771.0,686.0,654.0,275.0,149.0],\"type\":\"scatter\"},{\"customdata\":[\"2020-01-26\",\"2020-02-02\",\"2020-02-09\",\"2020-02-16\",\"2020-02-23\",\"2020-03-01\",\"2020-03-08\",\"2020-03-15\",\"2020-03-22\",\"2020-03-29\",\"2020-04-05\",\"2020-04-12\",\"2020-04-19\",\"2020-04-26\"],\"hovertemplate\":\"<b>Confirmed:</b> %{x}<br><b>New Cases:</b> %{y}<br><b>Date:</b> %{customdata}<extra></extra>\",\"line\":{\"color\":\"blue\",\"width\":1.5},\"marker\":{\"color\":\"red\",\"size\":3},\"mode\":\"markers+lines\",\"name\":\"South Korea\",\"visible\":false,\"x\":[3,15,27,29,602,3736,7134,8126,8897,9583,10237,10512,10661,10728],\"y\":[3.0,12.0,12.0,2.0,573.0,3134.0,3398.0,992.0,771.0,686.0,654.0,275.0,149.0,67.0],\"type\":\"scatter\"},{\"customdata\":[\"2020-01-26\",\"2020-02-02\",\"2020-02-09\",\"2020-02-16\",\"2020-02-23\",\"2020-03-01\",\"2020-03-08\",\"2020-03-15\",\"2020-03-22\",\"2020-03-29\",\"2020-04-05\",\"2020-04-12\",\"2020-04-19\",\"2020-04-26\",\"2020-05-03\"],\"hovertemplate\":\"<b>Confirmed:</b> %{x}<br><b>New Cases:</b> %{y}<br><b>Date:</b> %{customdata}<extra></extra>\",\"line\":{\"color\":\"blue\",\"width\":1.5},\"marker\":{\"color\":\"red\",\"size\":3},\"mode\":\"markers+lines\",\"name\":\"South Korea\",\"visible\":false,\"x\":[3,15,27,29,602,3736,7134,8126,8897,9583,10237,10512,10661,10728,10793],\"y\":[3.0,12.0,12.0,2.0,573.0,3134.0,3398.0,992.0,771.0,686.0,654.0,275.0,149.0,67.0,65.0],\"type\":\"scatter\"},{\"customdata\":[\"2020-01-26\",\"2020-02-02\",\"2020-02-09\",\"2020-02-16\",\"2020-02-23\",\"2020-03-01\",\"2020-03-08\",\"2020-03-15\",\"2020-03-22\",\"2020-03-29\",\"2020-04-05\",\"2020-04-12\",\"2020-04-19\",\"2020-04-26\",\"2020-05-03\",\"2020-05-10\"],\"hovertemplate\":\"<b>Confirmed:</b> %{x}<br><b>New Cases:</b> %{y}<br><b>Date:</b> %{customdata}<extra></extra>\",\"line\":{\"color\":\"blue\",\"width\":1.5},\"marker\":{\"color\":\"red\",\"size\":3},\"mode\":\"markers+lines\",\"name\":\"South Korea\",\"visible\":false,\"x\":[3,15,27,29,602,3736,7134,8126,8897,9583,10237,10512,10661,10728,10793,10874],\"y\":[3.0,12.0,12.0,2.0,573.0,3134.0,3398.0,992.0,771.0,686.0,654.0,275.0,149.0,67.0,65.0,81.0],\"type\":\"scatter\"},{\"customdata\":[\"2020-01-26\",\"2020-02-02\",\"2020-02-09\",\"2020-02-16\",\"2020-02-23\",\"2020-03-01\",\"2020-03-08\",\"2020-03-15\",\"2020-03-22\",\"2020-03-29\",\"2020-04-05\",\"2020-04-12\",\"2020-04-19\",\"2020-04-26\",\"2020-05-03\",\"2020-05-10\",\"2020-05-17\"],\"hovertemplate\":\"<b>Confirmed:</b> %{x}<br><b>New Cases:</b> %{y}<br><b>Date:</b> %{customdata}<extra></extra>\",\"line\":{\"color\":\"blue\",\"width\":1.5},\"marker\":{\"color\":\"red\",\"size\":3},\"mode\":\"markers+lines\",\"name\":\"South Korea\",\"visible\":false,\"x\":[3,15,27,29,602,3736,7134,8126,8897,9583,10237,10512,10661,10728,10793,10874,11050],\"y\":[3.0,12.0,12.0,2.0,573.0,3134.0,3398.0,992.0,771.0,686.0,654.0,275.0,149.0,67.0,65.0,81.0,176.0],\"type\":\"scatter\"},{\"customdata\":[\"2020-01-26\",\"2020-02-02\",\"2020-02-09\",\"2020-02-16\",\"2020-02-23\",\"2020-03-01\",\"2020-03-08\",\"2020-03-15\",\"2020-03-22\",\"2020-03-29\",\"2020-04-05\",\"2020-04-12\",\"2020-04-19\",\"2020-04-26\",\"2020-05-03\",\"2020-05-10\",\"2020-05-17\",\"2020-05-24\"],\"hovertemplate\":\"<b>Confirmed:</b> %{x}<br><b>New Cases:</b> %{y}<br><b>Date:</b> %{customdata}<extra></extra>\",\"line\":{\"color\":\"blue\",\"width\":1.5},\"marker\":{\"color\":\"red\",\"size\":3},\"mode\":\"markers+lines\",\"name\":\"South Korea\",\"visible\":false,\"x\":[3,15,27,29,602,3736,7134,8126,8897,9583,10237,10512,10661,10728,10793,10874,11050,11190],\"y\":[3.0,12.0,12.0,2.0,573.0,3134.0,3398.0,992.0,771.0,686.0,654.0,275.0,149.0,67.0,65.0,81.0,176.0,140.0],\"type\":\"scatter\"},{\"customdata\":[\"2020-01-26\",\"2020-02-02\",\"2020-02-09\",\"2020-02-16\",\"2020-02-23\",\"2020-03-01\",\"2020-03-08\",\"2020-03-15\",\"2020-03-22\",\"2020-03-29\",\"2020-04-05\",\"2020-04-12\",\"2020-04-19\",\"2020-04-26\",\"2020-05-03\",\"2020-05-10\",\"2020-05-17\",\"2020-05-24\",\"2020-05-31\"],\"hovertemplate\":\"<b>Confirmed:</b> %{x}<br><b>New Cases:</b> %{y}<br><b>Date:</b> %{customdata}<extra></extra>\",\"line\":{\"color\":\"blue\",\"width\":1.5},\"marker\":{\"color\":\"red\",\"size\":3},\"mode\":\"markers+lines\",\"name\":\"South Korea\",\"visible\":false,\"x\":[3,15,27,29,602,3736,7134,8126,8897,9583,10237,10512,10661,10728,10793,10874,11050,11190,11468],\"y\":[3.0,12.0,12.0,2.0,573.0,3134.0,3398.0,992.0,771.0,686.0,654.0,275.0,149.0,67.0,65.0,81.0,176.0,140.0,278.0],\"type\":\"scatter\"},{\"customdata\":[\"2020-01-26\",\"2020-02-02\",\"2020-02-09\",\"2020-02-16\",\"2020-02-23\",\"2020-03-01\",\"2020-03-08\",\"2020-03-15\",\"2020-03-22\",\"2020-03-29\",\"2020-04-05\",\"2020-04-12\",\"2020-04-19\",\"2020-04-26\",\"2020-05-03\",\"2020-05-10\",\"2020-05-17\",\"2020-05-24\",\"2020-05-31\",\"2020-06-07\"],\"hovertemplate\":\"<b>Confirmed:</b> %{x}<br><b>New Cases:</b> %{y}<br><b>Date:</b> %{customdata}<extra></extra>\",\"line\":{\"color\":\"blue\",\"width\":1.5},\"marker\":{\"color\":\"red\",\"size\":3},\"mode\":\"markers+lines\",\"name\":\"South Korea\",\"visible\":false,\"x\":[3,15,27,29,602,3736,7134,8126,8897,9583,10237,10512,10661,10728,10793,10874,11050,11190,11468,11776],\"y\":[3.0,12.0,12.0,2.0,573.0,3134.0,3398.0,992.0,771.0,686.0,654.0,275.0,149.0,67.0,65.0,81.0,176.0,140.0,278.0,308.0],\"type\":\"scatter\"},{\"customdata\":[\"2020-01-26\",\"2020-02-02\",\"2020-02-09\",\"2020-02-16\",\"2020-02-23\",\"2020-03-01\",\"2020-03-08\",\"2020-03-15\",\"2020-03-22\",\"2020-03-29\",\"2020-04-05\",\"2020-04-12\",\"2020-04-19\",\"2020-04-26\",\"2020-05-03\",\"2020-05-10\",\"2020-05-17\",\"2020-05-24\",\"2020-05-31\",\"2020-06-07\",\"2020-06-14\"],\"hovertemplate\":\"<b>Confirmed:</b> %{x}<br><b>New Cases:</b> %{y}<br><b>Date:</b> %{customdata}<extra></extra>\",\"line\":{\"color\":\"blue\",\"width\":1.5},\"marker\":{\"color\":\"red\",\"size\":3},\"mode\":\"markers+lines\",\"name\":\"South Korea\",\"visible\":false,\"x\":[3,15,27,29,602,3736,7134,8126,8897,9583,10237,10512,10661,10728,10793,10874,11050,11190,11468,11776,12085],\"y\":[3.0,12.0,12.0,2.0,573.0,3134.0,3398.0,992.0,771.0,686.0,654.0,275.0,149.0,67.0,65.0,81.0,176.0,140.0,278.0,308.0,309.0],\"type\":\"scatter\"},{\"customdata\":[\"2020-01-26\",\"2020-02-02\",\"2020-02-09\",\"2020-02-16\",\"2020-02-23\",\"2020-03-01\",\"2020-03-08\",\"2020-03-15\",\"2020-03-22\",\"2020-03-29\",\"2020-04-05\",\"2020-04-12\",\"2020-04-19\",\"2020-04-26\",\"2020-05-03\",\"2020-05-10\",\"2020-05-17\",\"2020-05-24\",\"2020-05-31\",\"2020-06-07\",\"2020-06-14\",\"2020-06-21\"],\"hovertemplate\":\"<b>Confirmed:</b> %{x}<br><b>New Cases:</b> %{y}<br><b>Date:</b> %{customdata}<extra></extra>\",\"line\":{\"color\":\"blue\",\"width\":1.5},\"marker\":{\"color\":\"red\",\"size\":3},\"mode\":\"markers+lines\",\"name\":\"South Korea\",\"visible\":false,\"x\":[3,15,27,29,602,3736,7134,8126,8897,9583,10237,10512,10661,10728,10793,10874,11050,11190,11468,11776,12085,12421],\"y\":[3.0,12.0,12.0,2.0,573.0,3134.0,3398.0,992.0,771.0,686.0,654.0,275.0,149.0,67.0,65.0,81.0,176.0,140.0,278.0,308.0,309.0,336.0],\"type\":\"scatter\"},{\"customdata\":[\"2020-01-26\",\"2020-02-02\",\"2020-02-09\",\"2020-02-16\",\"2020-02-23\",\"2020-03-01\",\"2020-03-08\",\"2020-03-15\",\"2020-03-22\",\"2020-03-29\",\"2020-04-05\",\"2020-04-12\",\"2020-04-19\",\"2020-04-26\",\"2020-05-03\",\"2020-05-10\",\"2020-05-17\",\"2020-05-24\",\"2020-05-31\",\"2020-06-07\",\"2020-06-14\",\"2020-06-21\",\"2020-06-28\"],\"hovertemplate\":\"<b>Confirmed:</b> %{x}<br><b>New Cases:</b> %{y}<br><b>Date:</b> %{customdata}<extra></extra>\",\"line\":{\"color\":\"blue\",\"width\":1.5},\"marker\":{\"color\":\"red\",\"size\":3},\"mode\":\"markers+lines\",\"name\":\"South Korea\",\"visible\":false,\"x\":[3,15,27,29,602,3736,7134,8126,8897,9583,10237,10512,10661,10728,10793,10874,11050,11190,11468,11776,12085,12421,12715],\"y\":[3.0,12.0,12.0,2.0,573.0,3134.0,3398.0,992.0,771.0,686.0,654.0,275.0,149.0,67.0,65.0,81.0,176.0,140.0,278.0,308.0,309.0,336.0,294.0],\"type\":\"scatter\"},{\"customdata\":[\"2020-01-26\",\"2020-02-02\",\"2020-02-09\",\"2020-02-16\",\"2020-02-23\",\"2020-03-01\",\"2020-03-08\",\"2020-03-15\",\"2020-03-22\",\"2020-03-29\",\"2020-04-05\",\"2020-04-12\",\"2020-04-19\",\"2020-04-26\",\"2020-05-03\",\"2020-05-10\",\"2020-05-17\",\"2020-05-24\",\"2020-05-31\",\"2020-06-07\",\"2020-06-14\",\"2020-06-21\",\"2020-06-28\",\"2020-07-05\"],\"hovertemplate\":\"<b>Confirmed:</b> %{x}<br><b>New Cases:</b> %{y}<br><b>Date:</b> %{customdata}<extra></extra>\",\"line\":{\"color\":\"blue\",\"width\":1.5},\"marker\":{\"color\":\"red\",\"size\":3},\"mode\":\"markers+lines\",\"name\":\"South Korea\",\"visible\":true,\"x\":[3,15,27,29,602,3736,7134,8126,8897,9583,10237,10512,10661,10728,10793,10874,11050,11190,11468,11776,12085,12421,12715,12800],\"y\":[3.0,12.0,12.0,2.0,573.0,3134.0,3398.0,992.0,771.0,686.0,654.0,275.0,149.0,67.0,65.0,81.0,176.0,140.0,278.0,308.0,309.0,336.0,294.0,85.0],\"type\":\"scatter\"},{\"hovertemplate\":\"<b>Confirmed:</b> %{x}<br><b>New Cases:</b>\",\"line\":{\"color\":\"black\",\"dash\":\"dash\",\"width\":2},\"mode\":\"lines\",\"name\":\"2 Day doubling line\",\"x\":[1,2,4,8,16,32,64,128,256,512,1024,2048,4096,8192,16384,32768,65536,131072,262144,524288,1048576,2097152,4194304,8388608,16777216,33554432,67108864,134217728,268435456,536870912,1073741824,2147483648,4294967296,8589934592,17179869184,34359738368,68719476736,137438953472,274877906944,549755813888,1099511627776,2199023255552,1,2,4,8,16,32,64,128,256,512,1024,2048,4096,8192,16384,32768,65536,131072,262144,524288,1048576,2097152,4194304,8388608,16777216,33554432,67108864,134217728,268435456,536870912,1073741824,2147483648,4294967296,8589934592,17179869184,34359738368,68719476736,137438953472,274877906944,549755813888],\"y\":[1.0,1.0,2.0,4.0,8.0,16.0,32.0,64.0,128.0,256.0,512.0,1024.0,2048.0,4096.0,8192.0,16384.0,32768.0,65536.0,131072.0,262144.0,524288.0,1048576.0,2097152.0,4194304.0,8388608.0,16777216.0,33554432.0,67108864.0,134217728.0,268435456.0,536870912.0,1073741824.0,2147483648.0,4294967296.0,8589934592.0,17179869184.0,34359738368.0,68719476736.0,137438953472.0,274877906944.0,549755813888.0,1099511627776.0,-2199023255551.0,1.0,2.0,4.0,8.0,16.0,32.0,64.0,128.0,256.0,512.0,1024.0,2048.0,4096.0,8192.0,16384.0,32768.0,65536.0,131072.0,262144.0,524288.0,1048576.0,2097152.0,4194304.0,8388608.0,16777216.0,33554432.0,67108864.0,134217728.0,268435456.0,536870912.0,1073741824.0,2147483648.0,4294967296.0,8589934592.0,17179869184.0,34359738368.0,68719476736.0,137438953472.0,274877906944.0],\"type\":\"scatter\"}],                        {\"template\":{\"data\":{\"histogram2dcontour\":[{\"type\":\"histogram2dcontour\",\"colorbar\":{\"outlinewidth\":0,\"ticks\":\"\"},\"colorscale\":[[0.0,\"#0d0887\"],[0.1111111111111111,\"#46039f\"],[0.2222222222222222,\"#7201a8\"],[0.3333333333333333,\"#9c179e\"],[0.4444444444444444,\"#bd3786\"],[0.5555555555555556,\"#d8576b\"],[0.6666666666666666,\"#ed7953\"],[0.7777777777777778,\"#fb9f3a\"],[0.8888888888888888,\"#fdca26\"],[1.0,\"#f0f921\"]]}],\"choropleth\":[{\"type\":\"choropleth\",\"colorbar\":{\"outlinewidth\":0,\"ticks\":\"\"}}],\"histogram2d\":[{\"type\":\"histogram2d\",\"colorbar\":{\"outlinewidth\":0,\"ticks\":\"\"},\"colorscale\":[[0.0,\"#0d0887\"],[0.1111111111111111,\"#46039f\"],[0.2222222222222222,\"#7201a8\"],[0.3333333333333333,\"#9c179e\"],[0.4444444444444444,\"#bd3786\"],[0.5555555555555556,\"#d8576b\"],[0.6666666666666666,\"#ed7953\"],[0.7777777777777778,\"#fb9f3a\"],[0.8888888888888888,\"#fdca26\"],[1.0,\"#f0f921\"]]}],\"heatmap\":[{\"type\":\"heatmap\",\"colorbar\":{\"outlinewidth\":0,\"ticks\":\"\"},\"colorscale\":[[0.0,\"#0d0887\"],[0.1111111111111111,\"#46039f\"],[0.2222222222222222,\"#7201a8\"],[0.3333333333333333,\"#9c179e\"],[0.4444444444444444,\"#bd3786\"],[0.5555555555555556,\"#d8576b\"],[0.6666666666666666,\"#ed7953\"],[0.7777777777777778,\"#fb9f3a\"],[0.8888888888888888,\"#fdca26\"],[1.0,\"#f0f921\"]]}],\"heatmapgl\":[{\"type\":\"heatmapgl\",\"colorbar\":{\"outlinewidth\":0,\"ticks\":\"\"},\"colorscale\":[[0.0,\"#0d0887\"],[0.1111111111111111,\"#46039f\"],[0.2222222222222222,\"#7201a8\"],[0.3333333333333333,\"#9c179e\"],[0.4444444444444444,\"#bd3786\"],[0.5555555555555556,\"#d8576b\"],[0.6666666666666666,\"#ed7953\"],[0.7777777777777778,\"#fb9f3a\"],[0.8888888888888888,\"#fdca26\"],[1.0,\"#f0f921\"]]}],\"contourcarpet\":[{\"type\":\"contourcarpet\",\"colorbar\":{\"outlinewidth\":0,\"ticks\":\"\"}}],\"contour\":[{\"type\":\"contour\",\"colorbar\":{\"outlinewidth\":0,\"ticks\":\"\"},\"colorscale\":[[0.0,\"#0d0887\"],[0.1111111111111111,\"#46039f\"],[0.2222222222222222,\"#7201a8\"],[0.3333333333333333,\"#9c179e\"],[0.4444444444444444,\"#bd3786\"],[0.5555555555555556,\"#d8576b\"],[0.6666666666666666,\"#ed7953\"],[0.7777777777777778,\"#fb9f3a\"],[0.8888888888888888,\"#fdca26\"],[1.0,\"#f0f921\"]]}],\"surface\":[{\"type\":\"surface\",\"colorbar\":{\"outlinewidth\":0,\"ticks\":\"\"},\"colorscale\":[[0.0,\"#0d0887\"],[0.1111111111111111,\"#46039f\"],[0.2222222222222222,\"#7201a8\"],[0.3333333333333333,\"#9c179e\"],[0.4444444444444444,\"#bd3786\"],[0.5555555555555556,\"#d8576b\"],[0.6666666666666666,\"#ed7953\"],[0.7777777777777778,\"#fb9f3a\"],[0.8888888888888888,\"#fdca26\"],[1.0,\"#f0f921\"]]}],\"mesh3d\":[{\"type\":\"mesh3d\",\"colorbar\":{\"outlinewidth\":0,\"ticks\":\"\"}}],\"scatter\":[{\"fillpattern\":{\"fillmode\":\"overlay\",\"size\":10,\"solidity\":0.2},\"type\":\"scatter\"}],\"parcoords\":[{\"type\":\"parcoords\",\"line\":{\"colorbar\":{\"outlinewidth\":0,\"ticks\":\"\"}}}],\"scatterpolargl\":[{\"type\":\"scatterpolargl\",\"marker\":{\"colorbar\":{\"outlinewidth\":0,\"ticks\":\"\"}}}],\"bar\":[{\"error_x\":{\"color\":\"#2a3f5f\"},\"error_y\":{\"color\":\"#2a3f5f\"},\"marker\":{\"line\":{\"color\":\"#E5ECF6\",\"width\":0.5},\"pattern\":{\"fillmode\":\"overlay\",\"size\":10,\"solidity\":0.2}},\"type\":\"bar\"}],\"scattergeo\":[{\"type\":\"scattergeo\",\"marker\":{\"colorbar\":{\"outlinewidth\":0,\"ticks\":\"\"}}}],\"scatterpolar\":[{\"type\":\"scatterpolar\",\"marker\":{\"colorbar\":{\"outlinewidth\":0,\"ticks\":\"\"}}}],\"histogram\":[{\"marker\":{\"pattern\":{\"fillmode\":\"overlay\",\"size\":10,\"solidity\":0.2}},\"type\":\"histogram\"}],\"scattergl\":[{\"type\":\"scattergl\",\"marker\":{\"colorbar\":{\"outlinewidth\":0,\"ticks\":\"\"}}}],\"scatter3d\":[{\"type\":\"scatter3d\",\"line\":{\"colorbar\":{\"outlinewidth\":0,\"ticks\":\"\"}},\"marker\":{\"colorbar\":{\"outlinewidth\":0,\"ticks\":\"\"}}}],\"scattermapbox\":[{\"type\":\"scattermapbox\",\"marker\":{\"colorbar\":{\"outlinewidth\":0,\"ticks\":\"\"}}}],\"scatterternary\":[{\"type\":\"scatterternary\",\"marker\":{\"colorbar\":{\"outlinewidth\":0,\"ticks\":\"\"}}}],\"scattercarpet\":[{\"type\":\"scattercarpet\",\"marker\":{\"colorbar\":{\"outlinewidth\":0,\"ticks\":\"\"}}}],\"carpet\":[{\"aaxis\":{\"endlinecolor\":\"#2a3f5f\",\"gridcolor\":\"white\",\"linecolor\":\"white\",\"minorgridcolor\":\"white\",\"startlinecolor\":\"#2a3f5f\"},\"baxis\":{\"endlinecolor\":\"#2a3f5f\",\"gridcolor\":\"white\",\"linecolor\":\"white\",\"minorgridcolor\":\"white\",\"startlinecolor\":\"#2a3f5f\"},\"type\":\"carpet\"}],\"table\":[{\"cells\":{\"fill\":{\"color\":\"#EBF0F8\"},\"line\":{\"color\":\"white\"}},\"header\":{\"fill\":{\"color\":\"#C8D4E3\"},\"line\":{\"color\":\"white\"}},\"type\":\"table\"}],\"barpolar\":[{\"marker\":{\"line\":{\"color\":\"#E5ECF6\",\"width\":0.5},\"pattern\":{\"fillmode\":\"overlay\",\"size\":10,\"solidity\":0.2}},\"type\":\"barpolar\"}],\"pie\":[{\"automargin\":true,\"type\":\"pie\"}]},\"layout\":{\"autotypenumbers\":\"strict\",\"colorway\":[\"#636efa\",\"#EF553B\",\"#00cc96\",\"#ab63fa\",\"#FFA15A\",\"#19d3f3\",\"#FF6692\",\"#B6E880\",\"#FF97FF\",\"#FECB52\"],\"font\":{\"color\":\"#2a3f5f\"},\"hovermode\":\"closest\",\"hoverlabel\":{\"align\":\"left\"},\"paper_bgcolor\":\"white\",\"plot_bgcolor\":\"#E5ECF6\",\"polar\":{\"bgcolor\":\"#E5ECF6\",\"angularaxis\":{\"gridcolor\":\"white\",\"linecolor\":\"white\",\"ticks\":\"\"},\"radialaxis\":{\"gridcolor\":\"white\",\"linecolor\":\"white\",\"ticks\":\"\"}},\"ternary\":{\"bgcolor\":\"#E5ECF6\",\"aaxis\":{\"gridcolor\":\"white\",\"linecolor\":\"white\",\"ticks\":\"\"},\"baxis\":{\"gridcolor\":\"white\",\"linecolor\":\"white\",\"ticks\":\"\"},\"caxis\":{\"gridcolor\":\"white\",\"linecolor\":\"white\",\"ticks\":\"\"}},\"coloraxis\":{\"colorbar\":{\"outlinewidth\":0,\"ticks\":\"\"}},\"colorscale\":{\"sequential\":[[0.0,\"#0d0887\"],[0.1111111111111111,\"#46039f\"],[0.2222222222222222,\"#7201a8\"],[0.3333333333333333,\"#9c179e\"],[0.4444444444444444,\"#bd3786\"],[0.5555555555555556,\"#d8576b\"],[0.6666666666666666,\"#ed7953\"],[0.7777777777777778,\"#fb9f3a\"],[0.8888888888888888,\"#fdca26\"],[1.0,\"#f0f921\"]],\"sequentialminus\":[[0.0,\"#0d0887\"],[0.1111111111111111,\"#46039f\"],[0.2222222222222222,\"#7201a8\"],[0.3333333333333333,\"#9c179e\"],[0.4444444444444444,\"#bd3786\"],[0.5555555555555556,\"#d8576b\"],[0.6666666666666666,\"#ed7953\"],[0.7777777777777778,\"#fb9f3a\"],[0.8888888888888888,\"#fdca26\"],[1.0,\"#f0f921\"]],\"diverging\":[[0,\"#8e0152\"],[0.1,\"#c51b7d\"],[0.2,\"#de77ae\"],[0.3,\"#f1b6da\"],[0.4,\"#fde0ef\"],[0.5,\"#f7f7f7\"],[0.6,\"#e6f5d0\"],[0.7,\"#b8e186\"],[0.8,\"#7fbc41\"],[0.9,\"#4d9221\"],[1,\"#276419\"]]},\"xaxis\":{\"gridcolor\":\"white\",\"linecolor\":\"white\",\"ticks\":\"\",\"title\":{\"standoff\":15},\"zerolinecolor\":\"white\",\"automargin\":true,\"zerolinewidth\":2},\"yaxis\":{\"gridcolor\":\"white\",\"linecolor\":\"white\",\"ticks\":\"\",\"title\":{\"standoff\":15},\"zerolinecolor\":\"white\",\"automargin\":true,\"zerolinewidth\":2},\"scene\":{\"xaxis\":{\"backgroundcolor\":\"#E5ECF6\",\"gridcolor\":\"white\",\"linecolor\":\"white\",\"showbackground\":true,\"ticks\":\"\",\"zerolinecolor\":\"white\",\"gridwidth\":2},\"yaxis\":{\"backgroundcolor\":\"#E5ECF6\",\"gridcolor\":\"white\",\"linecolor\":\"white\",\"showbackground\":true,\"ticks\":\"\",\"zerolinecolor\":\"white\",\"gridwidth\":2},\"zaxis\":{\"backgroundcolor\":\"#E5ECF6\",\"gridcolor\":\"white\",\"linecolor\":\"white\",\"showbackground\":true,\"ticks\":\"\",\"zerolinecolor\":\"white\",\"gridwidth\":2}},\"shapedefaults\":{\"line\":{\"color\":\"#2a3f5f\"}},\"annotationdefaults\":{\"arrowcolor\":\"#2a3f5f\",\"arrowhead\":0,\"arrowwidth\":1},\"geo\":{\"bgcolor\":\"white\",\"landcolor\":\"#E5ECF6\",\"subunitcolor\":\"white\",\"showland\":true,\"showlakes\":true,\"lakecolor\":\"white\"},\"title\":{\"x\":0.05},\"mapbox\":{\"style\":\"light\"}}},\"sliders\":[{\"active\":25,\"currentvalue\":{\"prefix\":\"Date: \"},\"pad\":{\"t\":50},\"steps\":[{\"args\":[{\"visible\":[true,false,false,false,false,false,false,false,false,false,false,false,false,false,false,false,false,false,false,false,false,false,false,false,true]}],\"label\":\"2020-01-26\",\"method\":\"update\"},{\"args\":[{\"visible\":[false,true,false,false,false,false,false,false,false,false,false,false,false,false,false,false,false,false,false,false,false,false,false,false,true]}],\"label\":\"2020-02-02\",\"method\":\"update\"},{\"args\":[{\"visible\":[false,false,true,false,false,false,false,false,false,false,false,false,false,false,false,false,false,false,false,false,false,false,false,false,true]}],\"label\":\"2020-02-09\",\"method\":\"update\"},{\"args\":[{\"visible\":[false,false,false,true,false,false,false,false,false,false,false,false,false,false,false,false,false,false,false,false,false,false,false,false,true]}],\"label\":\"2020-02-16\",\"method\":\"update\"},{\"args\":[{\"visible\":[false,false,false,false,true,false,false,false,false,false,false,false,false,false,false,false,false,false,false,false,false,false,false,false,true]}],\"label\":\"2020-02-23\",\"method\":\"update\"},{\"args\":[{\"visible\":[false,false,false,false,false,true,false,false,false,false,false,false,false,false,false,false,false,false,false,false,false,false,false,false,true]}],\"label\":\"2020-03-01\",\"method\":\"update\"},{\"args\":[{\"visible\":[false,false,false,false,false,false,true,false,false,false,false,false,false,false,false,false,false,false,false,false,false,false,false,false,true]}],\"label\":\"2020-03-08\",\"method\":\"update\"},{\"args\":[{\"visible\":[false,false,false,false,false,false,false,true,false,false,false,false,false,false,false,false,false,false,false,false,false,false,false,false,true]}],\"label\":\"2020-03-15\",\"method\":\"update\"},{\"args\":[{\"visible\":[false,false,false,false,false,false,false,false,true,false,false,false,false,false,false,false,false,false,false,false,false,false,false,false,true]}],\"label\":\"2020-03-22\",\"method\":\"update\"},{\"args\":[{\"visible\":[false,false,false,false,false,false,false,false,false,true,false,false,false,false,false,false,false,false,false,false,false,false,false,false,true]}],\"label\":\"2020-03-29\",\"method\":\"update\"},{\"args\":[{\"visible\":[false,false,false,false,false,false,false,false,false,false,true,false,false,false,false,false,false,false,false,false,false,false,false,false,true]}],\"label\":\"2020-04-05\",\"method\":\"update\"},{\"args\":[{\"visible\":[false,false,false,false,false,false,false,false,false,false,false,true,false,false,false,false,false,false,false,false,false,false,false,false,true]}],\"label\":\"2020-04-12\",\"method\":\"update\"},{\"args\":[{\"visible\":[false,false,false,false,false,false,false,false,false,false,false,false,true,false,false,false,false,false,false,false,false,false,false,false,true]}],\"label\":\"2020-04-19\",\"method\":\"update\"},{\"args\":[{\"visible\":[false,false,false,false,false,false,false,false,false,false,false,false,false,true,false,false,false,false,false,false,false,false,false,false,true]}],\"label\":\"2020-04-26\",\"method\":\"update\"},{\"args\":[{\"visible\":[false,false,false,false,false,false,false,false,false,false,false,false,false,false,true,false,false,false,false,false,false,false,false,false,true]}],\"label\":\"2020-05-03\",\"method\":\"update\"},{\"args\":[{\"visible\":[false,false,false,false,false,false,false,false,false,false,false,false,false,false,false,true,false,false,false,false,false,false,false,false,true]}],\"label\":\"2020-05-10\",\"method\":\"update\"},{\"args\":[{\"visible\":[false,false,false,false,false,false,false,false,false,false,false,false,false,false,false,false,true,false,false,false,false,false,false,false,true]}],\"label\":\"2020-05-17\",\"method\":\"update\"},{\"args\":[{\"visible\":[false,false,false,false,false,false,false,false,false,false,false,false,false,false,false,false,false,true,false,false,false,false,false,false,true]}],\"label\":\"2020-05-24\",\"method\":\"update\"},{\"args\":[{\"visible\":[false,false,false,false,false,false,false,false,false,false,false,false,false,false,false,false,false,false,true,false,false,false,false,false,true]}],\"label\":\"2020-05-31\",\"method\":\"update\"},{\"args\":[{\"visible\":[false,false,false,false,false,false,false,false,false,false,false,false,false,false,false,false,false,false,false,true,false,false,false,false,true]}],\"label\":\"2020-06-07\",\"method\":\"update\"},{\"args\":[{\"visible\":[false,false,false,false,false,false,false,false,false,false,false,false,false,false,false,false,false,false,false,false,true,false,false,false,true]}],\"label\":\"2020-06-14\",\"method\":\"update\"},{\"args\":[{\"visible\":[false,false,false,false,false,false,false,false,false,false,false,false,false,false,false,false,false,false,false,false,false,true,false,false,true]}],\"label\":\"2020-06-21\",\"method\":\"update\"},{\"args\":[{\"visible\":[false,false,false,false,false,false,false,false,false,false,false,false,false,false,false,false,false,false,false,false,false,false,true,false,true]}],\"label\":\"2020-06-28\",\"method\":\"update\"},{\"args\":[{\"visible\":[false,false,false,false,false,false,false,false,false,false,false,false,false,false,false,false,false,false,false,false,false,false,false,true,true]}],\"label\":\"2020-07-05\",\"method\":\"update\"}]}],\"xaxis\":{\"range\":[0.3,5],\"autorange\":false,\"zeroline\":false,\"type\":\"log\",\"title\":{\"text\":\"Total cases\"}},\"yaxis\":{\"range\":[0,4],\"autorange\":false,\"zeroline\":false,\"type\":\"log\",\"title\":{\"text\":\"Weekly New Cases\"}},\"hovermode\":\"closest\",\"width\":864,\"height\":432.0},                        {\"responsive\": true}                    ).then(function(){\n",
       "                            \n",
       "var gd = document.getElementById('0de86962-d108-4029-a283-77d376745c41');\n",
       "var x = new MutationObserver(function (mutations, observer) {{\n",
       "        var display = window.getComputedStyle(gd).display;\n",
       "        if (!display || display === 'none') {{\n",
       "            console.log([gd, 'removed!']);\n",
       "            Plotly.purge(gd);\n",
       "            observer.disconnect();\n",
       "        }}\n",
       "}});\n",
       "\n",
       "// Listen for the removal of the full notebook cells\n",
       "var notebookContainer = gd.closest('#notebook-container');\n",
       "if (notebookContainer) {{\n",
       "    x.observe(notebookContainer, {childList: true});\n",
       "}}\n",
       "\n",
       "// Listen for the clearing of the current output cell\n",
       "var outputEl = gd.closest('.output');\n",
       "if (outputEl) {{\n",
       "    x.observe(outputEl, {childList: true});\n",
       "}}\n",
       "\n",
       "                        })                };                });            </script>        </div>"
      ]
     },
     "metadata": {},
     "output_type": "display_data"
    }
   ],
   "source": [
    "# | label: fig-time-trends\n",
    "# | fig-cap: \"Total confirmed cases and weekly new cases\"\n",
    "fig_trends = go.Figure()\n",
    "# traces\n",
    "for index, row in weekly_time.iterrows():\n",
    "    fig_trends.add_trace(\n",
    "        go.Scatter(\n",
    "            name = 'South Korea',\n",
    "            visible=False,\n",
    "            mode=\"markers+lines\",\n",
    "            line=dict(color=\"blue\", width=1.5),\n",
    "            marker=dict(color=\"red\", size=3),\n",
    "            x=weekly_time[\"confirmed\"][:index],\n",
    "            y=weekly_time[\"new_cases\"][:index],\n",
    "            hovertemplate=\"<b>Confirmed:</b> %{x}<br>\"\n",
    "            + \"<b>New Cases:</b> %{y}<br>\"\n",
    "            + \"<b>Date:</b> %{customdata}<extra></extra>\",\n",
    "            customdata=weekly_time[:index].index.astype(str),\n",
    "        )\n",
    "    )\n",
    "#doubling line\n",
    "fig_trends.add_trace(\n",
    "    go.Scatter(\n",
    "        mode=\"lines\",\n",
    "        line=dict(color=\"black\", width=2, dash=\"dash\"),\n",
    "        x=doubling_line[\"confirmed\"],\n",
    "        y=doubling_line[\"new_cases\"],\n",
    "        hovertemplate=\"<b>Confirmed:</b> %{x}<br>\" + \"<b>New Cases:</b>\",\n",
    "        name=\"2 Day doubling line\",\n",
    "    )\n",
    ")\n",
    "\n",
    "fig_trends.data[-2].visible = True\n",
    "\n",
    "steps = []\n",
    "for i in range(len(fig_trends.data) - 1):\n",
    "    visible = [False] * len(\n",
    "        fig_trends.data\n",
    "    )  # initialize visible list as a list of booleans\n",
    "    visible[i] = True  # set the i-th element to True\n",
    "    visible[-1] = True  # doubling line always visible\n",
    "    step = dict(\n",
    "        method=\"update\",\n",
    "        args=[{\"visible\": visible}],\n",
    "        label=weekly_time.index[i].strftime(\"%Y-%m-%d\"),\n",
    "    )\n",
    "    steps.append(step)\n",
    "\n",
    "sliders = [\n",
    "    dict(\n",
    "        active=len(fig_trends.data),\n",
    "        currentvalue={\"prefix\": \"Date: \"},\n",
    "        pad={\"t\": 50},\n",
    "        steps=steps,\n",
    "    )\n",
    "]\n",
    "\n",
    "fig_trends.update_layout(sliders=sliders)\n",
    "fig_trends.update_layout(\n",
    "    xaxis=dict(\n",
    "        range=[0.3, 5],\n",
    "        autorange=False,\n",
    "        zeroline=False,\n",
    "        type=\"log\",\n",
    "        title=\"Total cases\",\n",
    "    ),\n",
    "    yaxis=dict(\n",
    "        range=[0, 4],\n",
    "        autorange=False,\n",
    "        zeroline=False,\n",
    "        type=\"log\",\n",
    "        title=\"Weekly New Cases\",\n",
    "    ),\n",
    "    hovermode=\"closest\",\n",
    "    width=base_fig_wid * dpi,\n",
    "    height=base_fig_wid * dpi / 2,\n",
    ")\n",
    "\n",
    "fig_trends.show()"
   ]
  },
  {
   "attachments": {},
   "cell_type": "markdown",
   "metadata": {},
   "source": [
    "### Policy overview"
   ]
  },
  {
   "attachments": {},
   "cell_type": "markdown",
   "metadata": {},
   "source": [
    "#### February policies"
   ]
  },
  {
   "attachments": {},
   "cell_type": "markdown",
   "metadata": {},
   "source": [
    "Using this chart we can pin point the dates of major inflection points of covid-19 spread. The rate of the spread decreased for two weeks starting with 2020-02-02, with a significant drop in the week of 20-02-09 to 20-02-23. We can check what policies were implemented during this period:"
   ]
  },
  {
   "cell_type": "code",
   "execution_count": 12,
   "metadata": {},
   "outputs": [
    {
     "data": {
      "text/html": [
       "<div>\n",
       "<style scoped>\n",
       "    .dataframe tbody tr th:only-of-type {\n",
       "        vertical-align: middle;\n",
       "    }\n",
       "\n",
       "    .dataframe tbody tr th {\n",
       "        vertical-align: top;\n",
       "    }\n",
       "\n",
       "    .dataframe thead th {\n",
       "        text-align: right;\n",
       "    }\n",
       "</style>\n",
       "<table border=\"1\" class=\"dataframe\">\n",
       "  <thead>\n",
       "    <tr style=\"text-align: right;\">\n",
       "      <th></th>\n",
       "      <th>policy_id</th>\n",
       "      <th>country</th>\n",
       "      <th>type</th>\n",
       "      <th>gov_policy</th>\n",
       "      <th>detail</th>\n",
       "      <th>start_date</th>\n",
       "      <th>end_date</th>\n",
       "    </tr>\n",
       "  </thead>\n",
       "  <tbody>\n",
       "    <tr>\n",
       "      <th>2</th>\n",
       "      <td>3</td>\n",
       "      <td>Korea</td>\n",
       "      <td>Alert</td>\n",
       "      <td>Infectious Disease Alert Level</td>\n",
       "      <td>Level 3 (Orange)</td>\n",
       "      <td>2020-01-28</td>\n",
       "      <td>2020-02-22</td>\n",
       "    </tr>\n",
       "    <tr>\n",
       "      <th>4</th>\n",
       "      <td>5</td>\n",
       "      <td>Korea</td>\n",
       "      <td>Immigration</td>\n",
       "      <td>Special Immigration Procedure</td>\n",
       "      <td>from China</td>\n",
       "      <td>2020-02-04</td>\n",
       "      <td>NaN</td>\n",
       "    </tr>\n",
       "    <tr>\n",
       "      <th>19</th>\n",
       "      <td>20</td>\n",
       "      <td>Korea</td>\n",
       "      <td>Health</td>\n",
       "      <td>Emergency Use Authorization of Diagnostic Kit</td>\n",
       "      <td>1st EUA</td>\n",
       "      <td>2020-02-04</td>\n",
       "      <td>NaN</td>\n",
       "    </tr>\n",
       "    <tr>\n",
       "      <th>5</th>\n",
       "      <td>6</td>\n",
       "      <td>Korea</td>\n",
       "      <td>Immigration</td>\n",
       "      <td>Special Immigration Procedure</td>\n",
       "      <td>from Hong Kong</td>\n",
       "      <td>2020-02-12</td>\n",
       "      <td>NaN</td>\n",
       "    </tr>\n",
       "    <tr>\n",
       "      <th>6</th>\n",
       "      <td>7</td>\n",
       "      <td>Korea</td>\n",
       "      <td>Immigration</td>\n",
       "      <td>Special Immigration Procedure</td>\n",
       "      <td>from Macau</td>\n",
       "      <td>2020-02-12</td>\n",
       "      <td>NaN</td>\n",
       "    </tr>\n",
       "    <tr>\n",
       "      <th>20</th>\n",
       "      <td>21</td>\n",
       "      <td>Korea</td>\n",
       "      <td>Health</td>\n",
       "      <td>Emergency Use Authorization of Diagnostic Kit</td>\n",
       "      <td>2nd EUA</td>\n",
       "      <td>2020-02-12</td>\n",
       "      <td>NaN</td>\n",
       "    </tr>\n",
       "    <tr>\n",
       "      <th>50</th>\n",
       "      <td>51</td>\n",
       "      <td>Korea</td>\n",
       "      <td>Technology</td>\n",
       "      <td>Self-Diagnosis App</td>\n",
       "      <td>NaN</td>\n",
       "      <td>2020-02-12</td>\n",
       "      <td>NaN</td>\n",
       "    </tr>\n",
       "    <tr>\n",
       "      <th>3</th>\n",
       "      <td>4</td>\n",
       "      <td>Korea</td>\n",
       "      <td>Alert</td>\n",
       "      <td>Infectious Disease Alert Level</td>\n",
       "      <td>Level 4 (Red)</td>\n",
       "      <td>2020-02-23</td>\n",
       "      <td>NaN</td>\n",
       "    </tr>\n",
       "  </tbody>\n",
       "</table>\n",
       "</div>"
      ],
      "text/plain": [
       "    policy_id country         type  \\\n",
       "2           3   Korea        Alert   \n",
       "4           5   Korea  Immigration   \n",
       "19         20   Korea       Health   \n",
       "5           6   Korea  Immigration   \n",
       "6           7   Korea  Immigration   \n",
       "20         21   Korea       Health   \n",
       "50         51   Korea   Technology   \n",
       "3           4   Korea        Alert   \n",
       "\n",
       "                                       gov_policy            detail  \\\n",
       "2                  Infectious Disease Alert Level  Level 3 (Orange)   \n",
       "4                   Special Immigration Procedure        from China   \n",
       "19  Emergency Use Authorization of Diagnostic Kit           1st EUA   \n",
       "5                   Special Immigration Procedure    from Hong Kong   \n",
       "6                   Special Immigration Procedure        from Macau   \n",
       "20  Emergency Use Authorization of Diagnostic Kit           2nd EUA   \n",
       "50                             Self-Diagnosis App               NaN   \n",
       "3                  Infectious Disease Alert Level     Level 4 (Red)   \n",
       "\n",
       "    start_date    end_date  \n",
       "2   2020-01-28  2020-02-22  \n",
       "4   2020-02-04         NaN  \n",
       "19  2020-02-04         NaN  \n",
       "5   2020-02-12         NaN  \n",
       "6   2020-02-12         NaN  \n",
       "20  2020-02-12         NaN  \n",
       "50  2020-02-12         NaN  \n",
       "3   2020-02-23         NaN  "
      ]
     },
     "execution_count": 12,
     "metadata": {},
     "output_type": "execute_result"
    }
   ],
   "source": [
    "data[\"Policy\"].loc[\n",
    "    data[\"Policy\"][\"start_date\"].between(\"2020-01-28\", \"2020-02-23\")\n",
    "].sort_values(\"start_date\")"
   ]
  },
  {
   "attachments": {},
   "cell_type": "markdown",
   "metadata": {},
   "source": [
    "During this period several important policies took were implemented:\n",
    "\n",
    " * Special immigration procedures for visitors from China, Macau and Hong Kong were implemented, these included visa free entry suspension, quarantine and testing procedures.\n",
    " * Authorization of diagnostic kits from two manufacturers alongside a release of a self-diagnosis app.\n",
    " * The infectious Disease Alert was raised by two levels orange (2020-01-28) and red (2020-02-23). These levels allowed the government to take special measures. At the orange level more rigorous testing was begun alongside issuing of masks and recommendations for schools. At level red the size of social gathering was limited. Contacts were traced and exposed individuals were isolated.\n",
    "\n",
    " Most of these measures increased the rates of testing and social awareness. As a result the number of new cases decreased the following week and then started to sharply increase. The decrease was more likely to be noise in the data as the number of cases was very low at the time. What the policies did achieve was increase the rate of testing weekly done tests in @fig-tests-time. The search trend data in @fig-search-trends-time shows that the public was already aware of the coronavirus after the blue and yellow alertness levels were raised, therefore, the increase in testing is mostly do to the availability of tests.\n",
    "The surge in tests also coincided with the surge in confirmed cases, this is means that before the package of policies was implemented it is possible that a large number of cases was not diagnosed prior."
   ]
  },
  {
   "cell_type": "code",
   "execution_count": 13,
   "metadata": {},
   "outputs": [
    {
     "data": {
      "application/vnd.plotly.v1+json": {
       "config": {
        "plotlyServerURL": "https://plot.ly"
       },
       "data": [
        {
         "line": {
          "color": "blue"
         },
         "name": "New Weekly Cases",
         "type": "scatter",
         "x": [
          "2020-01-26T00:00:00",
          "2020-02-02T00:00:00",
          "2020-02-09T00:00:00",
          "2020-02-16T00:00:00",
          "2020-02-23T00:00:00",
          "2020-03-01T00:00:00",
          "2020-03-08T00:00:00",
          "2020-03-15T00:00:00",
          "2020-03-22T00:00:00",
          "2020-03-29T00:00:00",
          "2020-04-05T00:00:00",
          "2020-04-12T00:00:00",
          "2020-04-19T00:00:00",
          "2020-04-26T00:00:00",
          "2020-05-03T00:00:00",
          "2020-05-10T00:00:00",
          "2020-05-17T00:00:00",
          "2020-05-24T00:00:00",
          "2020-05-31T00:00:00",
          "2020-06-07T00:00:00",
          "2020-06-14T00:00:00",
          "2020-06-21T00:00:00",
          "2020-06-28T00:00:00",
          "2020-07-05T00:00:00"
         ],
         "xaxis": "x",
         "y": [
          3,
          12,
          12,
          2,
          573,
          3134,
          3398,
          992,
          771,
          686,
          654,
          275,
          149,
          67,
          65,
          81,
          176,
          140,
          278,
          308,
          309,
          336,
          294,
          85
         ],
         "yaxis": "y"
        },
        {
         "line": {
          "color": "red"
         },
         "name": "Tested Weekly",
         "type": "scatter",
         "x": [
          "2020-01-26T00:00:00",
          "2020-02-02T00:00:00",
          "2020-02-09T00:00:00",
          "2020-02-16T00:00:00",
          "2020-02-23T00:00:00",
          "2020-03-01T00:00:00",
          "2020-03-08T00:00:00",
          "2020-03-15T00:00:00",
          "2020-03-22T00:00:00",
          "2020-03-29T00:00:00",
          "2020-04-05T00:00:00",
          "2020-04-12T00:00:00",
          "2020-04-19T00:00:00",
          "2020-04-26T00:00:00",
          "2020-05-03T00:00:00",
          "2020-05-10T00:00:00",
          "2020-05-17T00:00:00",
          "2020-05-24T00:00:00",
          "2020-05-31T00:00:00",
          "2020-06-07T00:00:00",
          "2020-06-14T00:00:00",
          "2020-06-21T00:00:00",
          "2020-06-28T00:00:00",
          "2020-07-05T00:00:00"
         ],
         "xaxis": "x",
         "y": [
          51,
          378,
          2169,
          5563,
          18018,
          72742,
          89597,
          79694,
          63568,
          62361,
          67092,
          53388,
          44488,
          39176,
          32688,
          32913,
          83767,
          72636,
          90533,
          101947,
          87559,
          76135,
          75232,
          22071
         ],
         "yaxis": "y2"
        }
       ],
       "layout": {
        "annotations": [
         {
          "ax": -25,
          "ay": -50,
          "text": "Diagnostics <br>Immigration",
          "x": "2020-02-12T00:00:00",
          "xref": "x",
          "y": 12,
          "yref": "y"
         },
         {
          "ax": -50,
          "ay": 10,
          "text": "Day Care<br>Closure",
          "x": "2020-03-01T00:00:00",
          "xref": "x",
          "y": 3134,
          "yref": "y"
         },
         {
          "ax": -50,
          "ay": 10,
          "text": "Visitor<br>Quarantine",
          "x": "2020-04-01T00:00:00",
          "xref": "x",
          "y": 686,
          "yref": "y"
         },
         {
          "ax": -50,
          "ay": 60,
          "text": "Strict Social<br>Distancing",
          "x": "2020-03-01T00:00:00",
          "xref": "x",
          "y": 3134,
          "yref": "y"
         }
        ],
        "height": 345.6,
        "legend": {
         "orientation": "h",
         "y": 1.15
        },
        "margin": {
         "b": 5,
         "t": 0
        },
        "shapes": [
         {
          "fillcolor": "rgba(255, 0, 0, 0.2)",
          "line": {
           "width": 0
          },
          "type": "rect",
          "x0": "2020-02-23",
          "x1": "2020-07-05",
          "y0": 0,
          "y1": 3500
         },
         {
          "fillcolor": "rgba(255, 155, 0, 0.2)",
          "line": {
           "width": 0
          },
          "type": "rect",
          "x0": "2020-01-28",
          "x1": "2020-02-23",
          "y0": 0,
          "y1": 3500
         }
        ],
        "template": {
         "data": {
          "bar": [
           {
            "error_x": {
             "color": "#2a3f5f"
            },
            "error_y": {
             "color": "#2a3f5f"
            },
            "marker": {
             "line": {
              "color": "#E5ECF6",
              "width": 0.5
             },
             "pattern": {
              "fillmode": "overlay",
              "size": 10,
              "solidity": 0.2
             }
            },
            "type": "bar"
           }
          ],
          "barpolar": [
           {
            "marker": {
             "line": {
              "color": "#E5ECF6",
              "width": 0.5
             },
             "pattern": {
              "fillmode": "overlay",
              "size": 10,
              "solidity": 0.2
             }
            },
            "type": "barpolar"
           }
          ],
          "carpet": [
           {
            "aaxis": {
             "endlinecolor": "#2a3f5f",
             "gridcolor": "white",
             "linecolor": "white",
             "minorgridcolor": "white",
             "startlinecolor": "#2a3f5f"
            },
            "baxis": {
             "endlinecolor": "#2a3f5f",
             "gridcolor": "white",
             "linecolor": "white",
             "minorgridcolor": "white",
             "startlinecolor": "#2a3f5f"
            },
            "type": "carpet"
           }
          ],
          "choropleth": [
           {
            "colorbar": {
             "outlinewidth": 0,
             "ticks": ""
            },
            "type": "choropleth"
           }
          ],
          "contour": [
           {
            "colorbar": {
             "outlinewidth": 0,
             "ticks": ""
            },
            "colorscale": [
             [
              0,
              "#0d0887"
             ],
             [
              0.1111111111111111,
              "#46039f"
             ],
             [
              0.2222222222222222,
              "#7201a8"
             ],
             [
              0.3333333333333333,
              "#9c179e"
             ],
             [
              0.4444444444444444,
              "#bd3786"
             ],
             [
              0.5555555555555556,
              "#d8576b"
             ],
             [
              0.6666666666666666,
              "#ed7953"
             ],
             [
              0.7777777777777778,
              "#fb9f3a"
             ],
             [
              0.8888888888888888,
              "#fdca26"
             ],
             [
              1,
              "#f0f921"
             ]
            ],
            "type": "contour"
           }
          ],
          "contourcarpet": [
           {
            "colorbar": {
             "outlinewidth": 0,
             "ticks": ""
            },
            "type": "contourcarpet"
           }
          ],
          "heatmap": [
           {
            "colorbar": {
             "outlinewidth": 0,
             "ticks": ""
            },
            "colorscale": [
             [
              0,
              "#0d0887"
             ],
             [
              0.1111111111111111,
              "#46039f"
             ],
             [
              0.2222222222222222,
              "#7201a8"
             ],
             [
              0.3333333333333333,
              "#9c179e"
             ],
             [
              0.4444444444444444,
              "#bd3786"
             ],
             [
              0.5555555555555556,
              "#d8576b"
             ],
             [
              0.6666666666666666,
              "#ed7953"
             ],
             [
              0.7777777777777778,
              "#fb9f3a"
             ],
             [
              0.8888888888888888,
              "#fdca26"
             ],
             [
              1,
              "#f0f921"
             ]
            ],
            "type": "heatmap"
           }
          ],
          "heatmapgl": [
           {
            "colorbar": {
             "outlinewidth": 0,
             "ticks": ""
            },
            "colorscale": [
             [
              0,
              "#0d0887"
             ],
             [
              0.1111111111111111,
              "#46039f"
             ],
             [
              0.2222222222222222,
              "#7201a8"
             ],
             [
              0.3333333333333333,
              "#9c179e"
             ],
             [
              0.4444444444444444,
              "#bd3786"
             ],
             [
              0.5555555555555556,
              "#d8576b"
             ],
             [
              0.6666666666666666,
              "#ed7953"
             ],
             [
              0.7777777777777778,
              "#fb9f3a"
             ],
             [
              0.8888888888888888,
              "#fdca26"
             ],
             [
              1,
              "#f0f921"
             ]
            ],
            "type": "heatmapgl"
           }
          ],
          "histogram": [
           {
            "marker": {
             "pattern": {
              "fillmode": "overlay",
              "size": 10,
              "solidity": 0.2
             }
            },
            "type": "histogram"
           }
          ],
          "histogram2d": [
           {
            "colorbar": {
             "outlinewidth": 0,
             "ticks": ""
            },
            "colorscale": [
             [
              0,
              "#0d0887"
             ],
             [
              0.1111111111111111,
              "#46039f"
             ],
             [
              0.2222222222222222,
              "#7201a8"
             ],
             [
              0.3333333333333333,
              "#9c179e"
             ],
             [
              0.4444444444444444,
              "#bd3786"
             ],
             [
              0.5555555555555556,
              "#d8576b"
             ],
             [
              0.6666666666666666,
              "#ed7953"
             ],
             [
              0.7777777777777778,
              "#fb9f3a"
             ],
             [
              0.8888888888888888,
              "#fdca26"
             ],
             [
              1,
              "#f0f921"
             ]
            ],
            "type": "histogram2d"
           }
          ],
          "histogram2dcontour": [
           {
            "colorbar": {
             "outlinewidth": 0,
             "ticks": ""
            },
            "colorscale": [
             [
              0,
              "#0d0887"
             ],
             [
              0.1111111111111111,
              "#46039f"
             ],
             [
              0.2222222222222222,
              "#7201a8"
             ],
             [
              0.3333333333333333,
              "#9c179e"
             ],
             [
              0.4444444444444444,
              "#bd3786"
             ],
             [
              0.5555555555555556,
              "#d8576b"
             ],
             [
              0.6666666666666666,
              "#ed7953"
             ],
             [
              0.7777777777777778,
              "#fb9f3a"
             ],
             [
              0.8888888888888888,
              "#fdca26"
             ],
             [
              1,
              "#f0f921"
             ]
            ],
            "type": "histogram2dcontour"
           }
          ],
          "mesh3d": [
           {
            "colorbar": {
             "outlinewidth": 0,
             "ticks": ""
            },
            "type": "mesh3d"
           }
          ],
          "parcoords": [
           {
            "line": {
             "colorbar": {
              "outlinewidth": 0,
              "ticks": ""
             }
            },
            "type": "parcoords"
           }
          ],
          "pie": [
           {
            "automargin": true,
            "type": "pie"
           }
          ],
          "scatter": [
           {
            "fillpattern": {
             "fillmode": "overlay",
             "size": 10,
             "solidity": 0.2
            },
            "type": "scatter"
           }
          ],
          "scatter3d": [
           {
            "line": {
             "colorbar": {
              "outlinewidth": 0,
              "ticks": ""
             }
            },
            "marker": {
             "colorbar": {
              "outlinewidth": 0,
              "ticks": ""
             }
            },
            "type": "scatter3d"
           }
          ],
          "scattercarpet": [
           {
            "marker": {
             "colorbar": {
              "outlinewidth": 0,
              "ticks": ""
             }
            },
            "type": "scattercarpet"
           }
          ],
          "scattergeo": [
           {
            "marker": {
             "colorbar": {
              "outlinewidth": 0,
              "ticks": ""
             }
            },
            "type": "scattergeo"
           }
          ],
          "scattergl": [
           {
            "marker": {
             "colorbar": {
              "outlinewidth": 0,
              "ticks": ""
             }
            },
            "type": "scattergl"
           }
          ],
          "scattermapbox": [
           {
            "marker": {
             "colorbar": {
              "outlinewidth": 0,
              "ticks": ""
             }
            },
            "type": "scattermapbox"
           }
          ],
          "scatterpolar": [
           {
            "marker": {
             "colorbar": {
              "outlinewidth": 0,
              "ticks": ""
             }
            },
            "type": "scatterpolar"
           }
          ],
          "scatterpolargl": [
           {
            "marker": {
             "colorbar": {
              "outlinewidth": 0,
              "ticks": ""
             }
            },
            "type": "scatterpolargl"
           }
          ],
          "scatterternary": [
           {
            "marker": {
             "colorbar": {
              "outlinewidth": 0,
              "ticks": ""
             }
            },
            "type": "scatterternary"
           }
          ],
          "surface": [
           {
            "colorbar": {
             "outlinewidth": 0,
             "ticks": ""
            },
            "colorscale": [
             [
              0,
              "#0d0887"
             ],
             [
              0.1111111111111111,
              "#46039f"
             ],
             [
              0.2222222222222222,
              "#7201a8"
             ],
             [
              0.3333333333333333,
              "#9c179e"
             ],
             [
              0.4444444444444444,
              "#bd3786"
             ],
             [
              0.5555555555555556,
              "#d8576b"
             ],
             [
              0.6666666666666666,
              "#ed7953"
             ],
             [
              0.7777777777777778,
              "#fb9f3a"
             ],
             [
              0.8888888888888888,
              "#fdca26"
             ],
             [
              1,
              "#f0f921"
             ]
            ],
            "type": "surface"
           }
          ],
          "table": [
           {
            "cells": {
             "fill": {
              "color": "#EBF0F8"
             },
             "line": {
              "color": "white"
             }
            },
            "header": {
             "fill": {
              "color": "#C8D4E3"
             },
             "line": {
              "color": "white"
             }
            },
            "type": "table"
           }
          ]
         },
         "layout": {
          "annotationdefaults": {
           "arrowcolor": "#2a3f5f",
           "arrowhead": 0,
           "arrowwidth": 1
          },
          "autotypenumbers": "strict",
          "coloraxis": {
           "colorbar": {
            "outlinewidth": 0,
            "ticks": ""
           }
          },
          "colorscale": {
           "diverging": [
            [
             0,
             "#8e0152"
            ],
            [
             0.1,
             "#c51b7d"
            ],
            [
             0.2,
             "#de77ae"
            ],
            [
             0.3,
             "#f1b6da"
            ],
            [
             0.4,
             "#fde0ef"
            ],
            [
             0.5,
             "#f7f7f7"
            ],
            [
             0.6,
             "#e6f5d0"
            ],
            [
             0.7,
             "#b8e186"
            ],
            [
             0.8,
             "#7fbc41"
            ],
            [
             0.9,
             "#4d9221"
            ],
            [
             1,
             "#276419"
            ]
           ],
           "sequential": [
            [
             0,
             "#0d0887"
            ],
            [
             0.1111111111111111,
             "#46039f"
            ],
            [
             0.2222222222222222,
             "#7201a8"
            ],
            [
             0.3333333333333333,
             "#9c179e"
            ],
            [
             0.4444444444444444,
             "#bd3786"
            ],
            [
             0.5555555555555556,
             "#d8576b"
            ],
            [
             0.6666666666666666,
             "#ed7953"
            ],
            [
             0.7777777777777778,
             "#fb9f3a"
            ],
            [
             0.8888888888888888,
             "#fdca26"
            ],
            [
             1,
             "#f0f921"
            ]
           ],
           "sequentialminus": [
            [
             0,
             "#0d0887"
            ],
            [
             0.1111111111111111,
             "#46039f"
            ],
            [
             0.2222222222222222,
             "#7201a8"
            ],
            [
             0.3333333333333333,
             "#9c179e"
            ],
            [
             0.4444444444444444,
             "#bd3786"
            ],
            [
             0.5555555555555556,
             "#d8576b"
            ],
            [
             0.6666666666666666,
             "#ed7953"
            ],
            [
             0.7777777777777778,
             "#fb9f3a"
            ],
            [
             0.8888888888888888,
             "#fdca26"
            ],
            [
             1,
             "#f0f921"
            ]
           ]
          },
          "colorway": [
           "#636efa",
           "#EF553B",
           "#00cc96",
           "#ab63fa",
           "#FFA15A",
           "#19d3f3",
           "#FF6692",
           "#B6E880",
           "#FF97FF",
           "#FECB52"
          ],
          "font": {
           "color": "#2a3f5f"
          },
          "geo": {
           "bgcolor": "white",
           "lakecolor": "white",
           "landcolor": "#E5ECF6",
           "showlakes": true,
           "showland": true,
           "subunitcolor": "white"
          },
          "hoverlabel": {
           "align": "left"
          },
          "hovermode": "closest",
          "mapbox": {
           "style": "light"
          },
          "paper_bgcolor": "white",
          "plot_bgcolor": "#E5ECF6",
          "polar": {
           "angularaxis": {
            "gridcolor": "white",
            "linecolor": "white",
            "ticks": ""
           },
           "bgcolor": "#E5ECF6",
           "radialaxis": {
            "gridcolor": "white",
            "linecolor": "white",
            "ticks": ""
           }
          },
          "scene": {
           "xaxis": {
            "backgroundcolor": "#E5ECF6",
            "gridcolor": "white",
            "gridwidth": 2,
            "linecolor": "white",
            "showbackground": true,
            "ticks": "",
            "zerolinecolor": "white"
           },
           "yaxis": {
            "backgroundcolor": "#E5ECF6",
            "gridcolor": "white",
            "gridwidth": 2,
            "linecolor": "white",
            "showbackground": true,
            "ticks": "",
            "zerolinecolor": "white"
           },
           "zaxis": {
            "backgroundcolor": "#E5ECF6",
            "gridcolor": "white",
            "gridwidth": 2,
            "linecolor": "white",
            "showbackground": true,
            "ticks": "",
            "zerolinecolor": "white"
           }
          },
          "shapedefaults": {
           "line": {
            "color": "#2a3f5f"
           }
          },
          "ternary": {
           "aaxis": {
            "gridcolor": "white",
            "linecolor": "white",
            "ticks": ""
           },
           "baxis": {
            "gridcolor": "white",
            "linecolor": "white",
            "ticks": ""
           },
           "bgcolor": "#E5ECF6",
           "caxis": {
            "gridcolor": "white",
            "linecolor": "white",
            "ticks": ""
           }
          },
          "title": {
           "x": 0.05
          },
          "xaxis": {
           "automargin": true,
           "gridcolor": "white",
           "linecolor": "white",
           "ticks": "",
           "title": {
            "standoff": 15
           },
           "zerolinecolor": "white",
           "zerolinewidth": 2
          },
          "yaxis": {
           "automargin": true,
           "gridcolor": "white",
           "linecolor": "white",
           "ticks": "",
           "title": {
            "standoff": 15
           },
           "zerolinecolor": "white",
           "zerolinewidth": 2
          }
         }
        },
        "width": 864,
        "xaxis": {
         "anchor": "y",
         "domain": [
          0,
          0.94
         ],
         "title": {
          "text": "Date"
         }
        },
        "yaxis": {
         "anchor": "x",
         "color": "blue",
         "domain": [
          0,
          1
         ],
         "range": [
          0,
          3500
         ],
         "title": {
          "text": "<b>New Weekly Cases</b>"
         }
        },
        "yaxis2": {
         "anchor": "x",
         "color": "red",
         "overlaying": "y",
         "side": "right",
         "title": {
          "text": "<b>Tested Weekly</b>"
         }
        }
       }
      },
      "text/html": [
       "<div>                            <div id=\"9c34346d-fb16-4620-ba19-10de3925d238\" class=\"plotly-graph-div\" style=\"height:345.6px; width:864px;\"></div>            <script type=\"text/javascript\">                require([\"plotly\"], function(Plotly) {                    window.PLOTLYENV=window.PLOTLYENV || {};                                    if (document.getElementById(\"9c34346d-fb16-4620-ba19-10de3925d238\")) {                    Plotly.newPlot(                        \"9c34346d-fb16-4620-ba19-10de3925d238\",                        [{\"line\":{\"color\":\"blue\"},\"name\":\"New Weekly Cases\",\"x\":[\"2020-01-26T00:00:00\",\"2020-02-02T00:00:00\",\"2020-02-09T00:00:00\",\"2020-02-16T00:00:00\",\"2020-02-23T00:00:00\",\"2020-03-01T00:00:00\",\"2020-03-08T00:00:00\",\"2020-03-15T00:00:00\",\"2020-03-22T00:00:00\",\"2020-03-29T00:00:00\",\"2020-04-05T00:00:00\",\"2020-04-12T00:00:00\",\"2020-04-19T00:00:00\",\"2020-04-26T00:00:00\",\"2020-05-03T00:00:00\",\"2020-05-10T00:00:00\",\"2020-05-17T00:00:00\",\"2020-05-24T00:00:00\",\"2020-05-31T00:00:00\",\"2020-06-07T00:00:00\",\"2020-06-14T00:00:00\",\"2020-06-21T00:00:00\",\"2020-06-28T00:00:00\",\"2020-07-05T00:00:00\"],\"y\":[3.0,12.0,12.0,2.0,573.0,3134.0,3398.0,992.0,771.0,686.0,654.0,275.0,149.0,67.0,65.0,81.0,176.0,140.0,278.0,308.0,309.0,336.0,294.0,85.0],\"type\":\"scatter\",\"xaxis\":\"x\",\"yaxis\":\"y\"},{\"line\":{\"color\":\"red\"},\"name\":\"Tested Weekly\",\"x\":[\"2020-01-26T00:00:00\",\"2020-02-02T00:00:00\",\"2020-02-09T00:00:00\",\"2020-02-16T00:00:00\",\"2020-02-23T00:00:00\",\"2020-03-01T00:00:00\",\"2020-03-08T00:00:00\",\"2020-03-15T00:00:00\",\"2020-03-22T00:00:00\",\"2020-03-29T00:00:00\",\"2020-04-05T00:00:00\",\"2020-04-12T00:00:00\",\"2020-04-19T00:00:00\",\"2020-04-26T00:00:00\",\"2020-05-03T00:00:00\",\"2020-05-10T00:00:00\",\"2020-05-17T00:00:00\",\"2020-05-24T00:00:00\",\"2020-05-31T00:00:00\",\"2020-06-07T00:00:00\",\"2020-06-14T00:00:00\",\"2020-06-21T00:00:00\",\"2020-06-28T00:00:00\",\"2020-07-05T00:00:00\"],\"y\":[51.0,378.0,2169.0,5563.0,18018.0,72742.0,89597.0,79694.0,63568.0,62361.0,67092.0,53388.0,44488.0,39176.0,32688.0,32913.0,83767.0,72636.0,90533.0,101947.0,87559.0,76135.0,75232.0,22071.0],\"type\":\"scatter\",\"xaxis\":\"x\",\"yaxis\":\"y2\"}],                        {\"template\":{\"data\":{\"histogram2dcontour\":[{\"type\":\"histogram2dcontour\",\"colorbar\":{\"outlinewidth\":0,\"ticks\":\"\"},\"colorscale\":[[0.0,\"#0d0887\"],[0.1111111111111111,\"#46039f\"],[0.2222222222222222,\"#7201a8\"],[0.3333333333333333,\"#9c179e\"],[0.4444444444444444,\"#bd3786\"],[0.5555555555555556,\"#d8576b\"],[0.6666666666666666,\"#ed7953\"],[0.7777777777777778,\"#fb9f3a\"],[0.8888888888888888,\"#fdca26\"],[1.0,\"#f0f921\"]]}],\"choropleth\":[{\"type\":\"choropleth\",\"colorbar\":{\"outlinewidth\":0,\"ticks\":\"\"}}],\"histogram2d\":[{\"type\":\"histogram2d\",\"colorbar\":{\"outlinewidth\":0,\"ticks\":\"\"},\"colorscale\":[[0.0,\"#0d0887\"],[0.1111111111111111,\"#46039f\"],[0.2222222222222222,\"#7201a8\"],[0.3333333333333333,\"#9c179e\"],[0.4444444444444444,\"#bd3786\"],[0.5555555555555556,\"#d8576b\"],[0.6666666666666666,\"#ed7953\"],[0.7777777777777778,\"#fb9f3a\"],[0.8888888888888888,\"#fdca26\"],[1.0,\"#f0f921\"]]}],\"heatmap\":[{\"type\":\"heatmap\",\"colorbar\":{\"outlinewidth\":0,\"ticks\":\"\"},\"colorscale\":[[0.0,\"#0d0887\"],[0.1111111111111111,\"#46039f\"],[0.2222222222222222,\"#7201a8\"],[0.3333333333333333,\"#9c179e\"],[0.4444444444444444,\"#bd3786\"],[0.5555555555555556,\"#d8576b\"],[0.6666666666666666,\"#ed7953\"],[0.7777777777777778,\"#fb9f3a\"],[0.8888888888888888,\"#fdca26\"],[1.0,\"#f0f921\"]]}],\"heatmapgl\":[{\"type\":\"heatmapgl\",\"colorbar\":{\"outlinewidth\":0,\"ticks\":\"\"},\"colorscale\":[[0.0,\"#0d0887\"],[0.1111111111111111,\"#46039f\"],[0.2222222222222222,\"#7201a8\"],[0.3333333333333333,\"#9c179e\"],[0.4444444444444444,\"#bd3786\"],[0.5555555555555556,\"#d8576b\"],[0.6666666666666666,\"#ed7953\"],[0.7777777777777778,\"#fb9f3a\"],[0.8888888888888888,\"#fdca26\"],[1.0,\"#f0f921\"]]}],\"contourcarpet\":[{\"type\":\"contourcarpet\",\"colorbar\":{\"outlinewidth\":0,\"ticks\":\"\"}}],\"contour\":[{\"type\":\"contour\",\"colorbar\":{\"outlinewidth\":0,\"ticks\":\"\"},\"colorscale\":[[0.0,\"#0d0887\"],[0.1111111111111111,\"#46039f\"],[0.2222222222222222,\"#7201a8\"],[0.3333333333333333,\"#9c179e\"],[0.4444444444444444,\"#bd3786\"],[0.5555555555555556,\"#d8576b\"],[0.6666666666666666,\"#ed7953\"],[0.7777777777777778,\"#fb9f3a\"],[0.8888888888888888,\"#fdca26\"],[1.0,\"#f0f921\"]]}],\"surface\":[{\"type\":\"surface\",\"colorbar\":{\"outlinewidth\":0,\"ticks\":\"\"},\"colorscale\":[[0.0,\"#0d0887\"],[0.1111111111111111,\"#46039f\"],[0.2222222222222222,\"#7201a8\"],[0.3333333333333333,\"#9c179e\"],[0.4444444444444444,\"#bd3786\"],[0.5555555555555556,\"#d8576b\"],[0.6666666666666666,\"#ed7953\"],[0.7777777777777778,\"#fb9f3a\"],[0.8888888888888888,\"#fdca26\"],[1.0,\"#f0f921\"]]}],\"mesh3d\":[{\"type\":\"mesh3d\",\"colorbar\":{\"outlinewidth\":0,\"ticks\":\"\"}}],\"scatter\":[{\"fillpattern\":{\"fillmode\":\"overlay\",\"size\":10,\"solidity\":0.2},\"type\":\"scatter\"}],\"parcoords\":[{\"type\":\"parcoords\",\"line\":{\"colorbar\":{\"outlinewidth\":0,\"ticks\":\"\"}}}],\"scatterpolargl\":[{\"type\":\"scatterpolargl\",\"marker\":{\"colorbar\":{\"outlinewidth\":0,\"ticks\":\"\"}}}],\"bar\":[{\"error_x\":{\"color\":\"#2a3f5f\"},\"error_y\":{\"color\":\"#2a3f5f\"},\"marker\":{\"line\":{\"color\":\"#E5ECF6\",\"width\":0.5},\"pattern\":{\"fillmode\":\"overlay\",\"size\":10,\"solidity\":0.2}},\"type\":\"bar\"}],\"scattergeo\":[{\"type\":\"scattergeo\",\"marker\":{\"colorbar\":{\"outlinewidth\":0,\"ticks\":\"\"}}}],\"scatterpolar\":[{\"type\":\"scatterpolar\",\"marker\":{\"colorbar\":{\"outlinewidth\":0,\"ticks\":\"\"}}}],\"histogram\":[{\"marker\":{\"pattern\":{\"fillmode\":\"overlay\",\"size\":10,\"solidity\":0.2}},\"type\":\"histogram\"}],\"scattergl\":[{\"type\":\"scattergl\",\"marker\":{\"colorbar\":{\"outlinewidth\":0,\"ticks\":\"\"}}}],\"scatter3d\":[{\"type\":\"scatter3d\",\"line\":{\"colorbar\":{\"outlinewidth\":0,\"ticks\":\"\"}},\"marker\":{\"colorbar\":{\"outlinewidth\":0,\"ticks\":\"\"}}}],\"scattermapbox\":[{\"type\":\"scattermapbox\",\"marker\":{\"colorbar\":{\"outlinewidth\":0,\"ticks\":\"\"}}}],\"scatterternary\":[{\"type\":\"scatterternary\",\"marker\":{\"colorbar\":{\"outlinewidth\":0,\"ticks\":\"\"}}}],\"scattercarpet\":[{\"type\":\"scattercarpet\",\"marker\":{\"colorbar\":{\"outlinewidth\":0,\"ticks\":\"\"}}}],\"carpet\":[{\"aaxis\":{\"endlinecolor\":\"#2a3f5f\",\"gridcolor\":\"white\",\"linecolor\":\"white\",\"minorgridcolor\":\"white\",\"startlinecolor\":\"#2a3f5f\"},\"baxis\":{\"endlinecolor\":\"#2a3f5f\",\"gridcolor\":\"white\",\"linecolor\":\"white\",\"minorgridcolor\":\"white\",\"startlinecolor\":\"#2a3f5f\"},\"type\":\"carpet\"}],\"table\":[{\"cells\":{\"fill\":{\"color\":\"#EBF0F8\"},\"line\":{\"color\":\"white\"}},\"header\":{\"fill\":{\"color\":\"#C8D4E3\"},\"line\":{\"color\":\"white\"}},\"type\":\"table\"}],\"barpolar\":[{\"marker\":{\"line\":{\"color\":\"#E5ECF6\",\"width\":0.5},\"pattern\":{\"fillmode\":\"overlay\",\"size\":10,\"solidity\":0.2}},\"type\":\"barpolar\"}],\"pie\":[{\"automargin\":true,\"type\":\"pie\"}]},\"layout\":{\"autotypenumbers\":\"strict\",\"colorway\":[\"#636efa\",\"#EF553B\",\"#00cc96\",\"#ab63fa\",\"#FFA15A\",\"#19d3f3\",\"#FF6692\",\"#B6E880\",\"#FF97FF\",\"#FECB52\"],\"font\":{\"color\":\"#2a3f5f\"},\"hovermode\":\"closest\",\"hoverlabel\":{\"align\":\"left\"},\"paper_bgcolor\":\"white\",\"plot_bgcolor\":\"#E5ECF6\",\"polar\":{\"bgcolor\":\"#E5ECF6\",\"angularaxis\":{\"gridcolor\":\"white\",\"linecolor\":\"white\",\"ticks\":\"\"},\"radialaxis\":{\"gridcolor\":\"white\",\"linecolor\":\"white\",\"ticks\":\"\"}},\"ternary\":{\"bgcolor\":\"#E5ECF6\",\"aaxis\":{\"gridcolor\":\"white\",\"linecolor\":\"white\",\"ticks\":\"\"},\"baxis\":{\"gridcolor\":\"white\",\"linecolor\":\"white\",\"ticks\":\"\"},\"caxis\":{\"gridcolor\":\"white\",\"linecolor\":\"white\",\"ticks\":\"\"}},\"coloraxis\":{\"colorbar\":{\"outlinewidth\":0,\"ticks\":\"\"}},\"colorscale\":{\"sequential\":[[0.0,\"#0d0887\"],[0.1111111111111111,\"#46039f\"],[0.2222222222222222,\"#7201a8\"],[0.3333333333333333,\"#9c179e\"],[0.4444444444444444,\"#bd3786\"],[0.5555555555555556,\"#d8576b\"],[0.6666666666666666,\"#ed7953\"],[0.7777777777777778,\"#fb9f3a\"],[0.8888888888888888,\"#fdca26\"],[1.0,\"#f0f921\"]],\"sequentialminus\":[[0.0,\"#0d0887\"],[0.1111111111111111,\"#46039f\"],[0.2222222222222222,\"#7201a8\"],[0.3333333333333333,\"#9c179e\"],[0.4444444444444444,\"#bd3786\"],[0.5555555555555556,\"#d8576b\"],[0.6666666666666666,\"#ed7953\"],[0.7777777777777778,\"#fb9f3a\"],[0.8888888888888888,\"#fdca26\"],[1.0,\"#f0f921\"]],\"diverging\":[[0,\"#8e0152\"],[0.1,\"#c51b7d\"],[0.2,\"#de77ae\"],[0.3,\"#f1b6da\"],[0.4,\"#fde0ef\"],[0.5,\"#f7f7f7\"],[0.6,\"#e6f5d0\"],[0.7,\"#b8e186\"],[0.8,\"#7fbc41\"],[0.9,\"#4d9221\"],[1,\"#276419\"]]},\"xaxis\":{\"gridcolor\":\"white\",\"linecolor\":\"white\",\"ticks\":\"\",\"title\":{\"standoff\":15},\"zerolinecolor\":\"white\",\"automargin\":true,\"zerolinewidth\":2},\"yaxis\":{\"gridcolor\":\"white\",\"linecolor\":\"white\",\"ticks\":\"\",\"title\":{\"standoff\":15},\"zerolinecolor\":\"white\",\"automargin\":true,\"zerolinewidth\":2},\"scene\":{\"xaxis\":{\"backgroundcolor\":\"#E5ECF6\",\"gridcolor\":\"white\",\"linecolor\":\"white\",\"showbackground\":true,\"ticks\":\"\",\"zerolinecolor\":\"white\",\"gridwidth\":2},\"yaxis\":{\"backgroundcolor\":\"#E5ECF6\",\"gridcolor\":\"white\",\"linecolor\":\"white\",\"showbackground\":true,\"ticks\":\"\",\"zerolinecolor\":\"white\",\"gridwidth\":2},\"zaxis\":{\"backgroundcolor\":\"#E5ECF6\",\"gridcolor\":\"white\",\"linecolor\":\"white\",\"showbackground\":true,\"ticks\":\"\",\"zerolinecolor\":\"white\",\"gridwidth\":2}},\"shapedefaults\":{\"line\":{\"color\":\"#2a3f5f\"}},\"annotationdefaults\":{\"arrowcolor\":\"#2a3f5f\",\"arrowhead\":0,\"arrowwidth\":1},\"geo\":{\"bgcolor\":\"white\",\"landcolor\":\"#E5ECF6\",\"subunitcolor\":\"white\",\"showland\":true,\"showlakes\":true,\"lakecolor\":\"white\"},\"title\":{\"x\":0.05},\"mapbox\":{\"style\":\"light\"}}},\"xaxis\":{\"anchor\":\"y\",\"domain\":[0.0,0.94],\"title\":{\"text\":\"Date\"}},\"yaxis\":{\"anchor\":\"x\",\"domain\":[0.0,1.0],\"title\":{\"text\":\"<b>New Weekly Cases</b>\"},\"color\":\"blue\",\"range\":[0,3500]},\"yaxis2\":{\"anchor\":\"x\",\"overlaying\":\"y\",\"side\":\"right\",\"title\":{\"text\":\"<b>Tested Weekly</b>\"},\"color\":\"red\"},\"legend\":{\"orientation\":\"h\",\"y\":1.15},\"margin\":{\"t\":0,\"b\":5},\"width\":864,\"height\":345.6,\"annotations\":[{\"ax\":-25,\"ay\":-50,\"text\":\"Diagnostics <br>Immigration\",\"x\":\"2020-02-12T00:00:00\",\"xref\":\"x\",\"y\":12.0,\"yref\":\"y\"},{\"ax\":-50,\"ay\":10,\"text\":\"Day Care<br>Closure\",\"x\":\"2020-03-01T00:00:00\",\"xref\":\"x\",\"y\":3134.0,\"yref\":\"y\"},{\"ax\":-50,\"ay\":10,\"text\":\"Visitor<br>Quarantine\",\"x\":\"2020-04-01T00:00:00\",\"xref\":\"x\",\"y\":686.0,\"yref\":\"y\"},{\"ax\":-50,\"ay\":60,\"text\":\"Strict Social<br>Distancing\",\"x\":\"2020-03-01T00:00:00\",\"xref\":\"x\",\"y\":3134.0,\"yref\":\"y\"}],\"shapes\":[{\"fillcolor\":\"rgba(255, 0, 0, 0.2)\",\"line\":{\"width\":0},\"type\":\"rect\",\"x0\":\"2020-02-23\",\"x1\":\"2020-07-05\",\"y0\":0,\"y1\":3500},{\"fillcolor\":\"rgba(255, 155, 0, 0.2)\",\"line\":{\"width\":0},\"type\":\"rect\",\"x0\":\"2020-01-28\",\"x1\":\"2020-02-23\",\"y0\":0,\"y1\":3500}]},                        {\"responsive\": true}                    ).then(function(){\n",
       "                            \n",
       "var gd = document.getElementById('9c34346d-fb16-4620-ba19-10de3925d238');\n",
       "var x = new MutationObserver(function (mutations, observer) {{\n",
       "        var display = window.getComputedStyle(gd).display;\n",
       "        if (!display || display === 'none') {{\n",
       "            console.log([gd, 'removed!']);\n",
       "            Plotly.purge(gd);\n",
       "            observer.disconnect();\n",
       "        }}\n",
       "}});\n",
       "\n",
       "// Listen for the removal of the full notebook cells\n",
       "var notebookContainer = gd.closest('#notebook-container');\n",
       "if (notebookContainer) {{\n",
       "    x.observe(notebookContainer, {childList: true});\n",
       "}}\n",
       "\n",
       "// Listen for the clearing of the current output cell\n",
       "var outputEl = gd.closest('.output');\n",
       "if (outputEl) {{\n",
       "    x.observe(outputEl, {childList: true});\n",
       "}}\n",
       "\n",
       "                        })                };                });            </script>        </div>"
      ]
     },
     "metadata": {},
     "output_type": "display_data"
    }
   ],
   "source": [
    "# | label: fig-tests-time\n",
    "# | fig-cap: \"Tests done weekly in blue as a time series, for comparison the number of new cases each week is presented in red. The chart background colors corresponds to Infectious Disease Alert levels\"\n",
    "line_colors = [\"blue\", \"red\"]\n",
    "fig_tests_time_yrange = [0, 3500]\n",
    "fig_tests_time = two_yaxis_plotly(\n",
    "    x_values=weekly_time.index,\n",
    "    y1_values=weekly_time[\"new_cases\"],\n",
    "    y2_values=weekly_time[\"weekly_tested\"],\n",
    "    y1_title=\"New Weekly Cases\",\n",
    "    y2_title=\"Tested Weekly\",\n",
    "    x_title=\"Date\",\n",
    "    colors=line_colors,\n",
    "    size=[base_fig_wid * dpi, base_fig_wid / 2.5 * dpi],\n",
    "    yrange=fig_tests_time_yrange,\n",
    "    margin=dict(t=0,b=5)\n",
    ")\n",
    "\n",
    "annotate_plotly_by_val(\n",
    "    fig_tests_time,\n",
    "    datetime.strptime(\"2020-02-12\", date_format),\n",
    "    text=\"Diagnostics <br>Immigration\",\n",
    "    ax=-25,\n",
    "    ay=-50,\n",
    ")\n",
    "annotate_plotly_by_val(\n",
    "    fig_tests_time,\n",
    "    datetime.strptime(\"2020-03-01\", \"%Y-%m-%d\"),\n",
    "    \"Day Care<br>Closure\",\n",
    "    ax=-50,\n",
    "    ay=10,\n",
    ")\n",
    "\n",
    "annotate_plotly_by_val(\n",
    "    fig_tests_time,\n",
    "    datetime.strptime(\"2020-04-01\", \"%Y-%m-%d\"),\n",
    "    \"Visitor<br>Quarantine\",\n",
    "    ax=-50,\n",
    "    ay=10,\n",
    ")\n",
    "\n",
    "annotate_plotly_by_val(\n",
    "    fig_tests_time,\n",
    "    datetime.strptime(\"2020-03-01\", \"%Y-%m-%d\"),\n",
    "    \"Strict Social<br>Distancing\",\n",
    "    ax=-50,\n",
    "    ay=60,\n",
    ")\n",
    "\n",
    "add_alert_background(fig_tests_time)\n",
    "\n",
    "fig_tests_time.show()\n"
   ]
  },
  {
   "cell_type": "code",
   "execution_count": 14,
   "metadata": {},
   "outputs": [
    {
     "data": {
      "application/vnd.plotly.v1+json": {
       "config": {
        "plotlyServerURL": "https://plot.ly"
       },
       "data": [
        {
         "hovertemplate": "Date=%{x}<br>Coronavirus Search Trend=%{y}<extra></extra>",
         "legendgroup": "",
         "line": {
          "color": "#636efa",
          "dash": "solid"
         },
         "marker": {
          "symbol": "circle"
         },
         "mode": "lines",
         "name": "",
         "showlegend": false,
         "type": "scattergl",
         "x": [
          "2016-01-01",
          "2016-01-02",
          "2016-01-03",
          "2016-01-04",
          "2016-01-05",
          "2016-01-06",
          "2016-01-07",
          "2016-01-08",
          "2016-01-09",
          "2016-01-10",
          "2016-01-11",
          "2016-01-12",
          "2016-01-13",
          "2016-01-14",
          "2016-01-15",
          "2016-01-16",
          "2016-01-17",
          "2016-01-18",
          "2016-01-19",
          "2016-01-20",
          "2016-01-21",
          "2016-01-22",
          "2016-01-23",
          "2016-01-24",
          "2016-01-25",
          "2016-01-26",
          "2016-01-27",
          "2016-01-28",
          "2016-01-29",
          "2016-01-30",
          "2016-01-31",
          "2016-02-01",
          "2016-02-02",
          "2016-02-03",
          "2016-02-04",
          "2016-02-05",
          "2016-02-06",
          "2016-02-07",
          "2016-02-08",
          "2016-02-09",
          "2016-02-10",
          "2016-02-11",
          "2016-02-12",
          "2016-02-13",
          "2016-02-14",
          "2016-02-15",
          "2016-02-16",
          "2016-02-17",
          "2016-02-18",
          "2016-02-19",
          "2016-02-20",
          "2016-02-21",
          "2016-02-22",
          "2016-02-23",
          "2016-02-24",
          "2016-02-25",
          "2016-02-26",
          "2016-02-27",
          "2016-02-28",
          "2016-02-29",
          "2016-03-01",
          "2016-03-02",
          "2016-03-03",
          "2016-03-04",
          "2016-03-05",
          "2016-03-06",
          "2016-03-07",
          "2016-03-08",
          "2016-03-09",
          "2016-03-10",
          "2016-03-11",
          "2016-03-12",
          "2016-03-13",
          "2016-03-14",
          "2016-03-15",
          "2016-03-16",
          "2016-03-17",
          "2016-03-18",
          "2016-03-19",
          "2016-03-20",
          "2016-03-21",
          "2016-03-22",
          "2016-03-23",
          "2016-03-24",
          "2016-03-25",
          "2016-03-26",
          "2016-03-27",
          "2016-03-28",
          "2016-03-29",
          "2016-03-30",
          "2016-03-31",
          "2016-04-01",
          "2016-04-02",
          "2016-04-03",
          "2016-04-04",
          "2016-04-05",
          "2016-04-06",
          "2016-04-07",
          "2016-04-08",
          "2016-04-09",
          "2016-04-10",
          "2016-04-11",
          "2016-04-12",
          "2016-04-13",
          "2016-04-14",
          "2016-04-15",
          "2016-04-16",
          "2016-04-17",
          "2016-04-18",
          "2016-04-19",
          "2016-04-20",
          "2016-04-21",
          "2016-04-22",
          "2016-04-23",
          "2016-04-24",
          "2016-04-25",
          "2016-04-26",
          "2016-04-27",
          "2016-04-28",
          "2016-04-29",
          "2016-04-30",
          "2016-05-01",
          "2016-05-02",
          "2016-05-03",
          "2016-05-04",
          "2016-05-05",
          "2016-05-06",
          "2016-05-07",
          "2016-05-08",
          "2016-05-09",
          "2016-05-10",
          "2016-05-11",
          "2016-05-12",
          "2016-05-13",
          "2016-05-14",
          "2016-05-15",
          "2016-05-16",
          "2016-05-17",
          "2016-05-18",
          "2016-05-19",
          "2016-05-20",
          "2016-05-21",
          "2016-05-22",
          "2016-05-23",
          "2016-05-24",
          "2016-05-25",
          "2016-05-26",
          "2016-05-27",
          "2016-05-28",
          "2016-05-29",
          "2016-05-30",
          "2016-05-31",
          "2016-06-01",
          "2016-06-02",
          "2016-06-03",
          "2016-06-04",
          "2016-06-05",
          "2016-06-06",
          "2016-06-07",
          "2016-06-08",
          "2016-06-09",
          "2016-06-10",
          "2016-06-11",
          "2016-06-12",
          "2016-06-13",
          "2016-06-14",
          "2016-06-15",
          "2016-06-16",
          "2016-06-17",
          "2016-06-18",
          "2016-06-19",
          "2016-06-20",
          "2016-06-21",
          "2016-06-22",
          "2016-06-23",
          "2016-06-24",
          "2016-06-25",
          "2016-06-26",
          "2016-06-27",
          "2016-06-28",
          "2016-06-29",
          "2016-06-30",
          "2016-07-01",
          "2016-07-02",
          "2016-07-03",
          "2016-07-04",
          "2016-07-05",
          "2016-07-06",
          "2016-07-07",
          "2016-07-08",
          "2016-07-09",
          "2016-07-10",
          "2016-07-11",
          "2016-07-12",
          "2016-07-13",
          "2016-07-14",
          "2016-07-15",
          "2016-07-16",
          "2016-07-17",
          "2016-07-18",
          "2016-07-19",
          "2016-07-20",
          "2016-07-21",
          "2016-07-22",
          "2016-07-23",
          "2016-07-24",
          "2016-07-25",
          "2016-07-26",
          "2016-07-27",
          "2016-07-28",
          "2016-07-29",
          "2016-07-30",
          "2016-07-31",
          "2016-08-01",
          "2016-08-02",
          "2016-08-03",
          "2016-08-04",
          "2016-08-05",
          "2016-08-06",
          "2016-08-07",
          "2016-08-08",
          "2016-08-09",
          "2016-08-10",
          "2016-08-11",
          "2016-08-12",
          "2016-08-13",
          "2016-08-14",
          "2016-08-15",
          "2016-08-16",
          "2016-08-17",
          "2016-08-18",
          "2016-08-19",
          "2016-08-20",
          "2016-08-21",
          "2016-08-22",
          "2016-08-23",
          "2016-08-24",
          "2016-08-25",
          "2016-08-26",
          "2016-08-27",
          "2016-08-28",
          "2016-08-29",
          "2016-08-30",
          "2016-08-31",
          "2016-09-01",
          "2016-09-02",
          "2016-09-03",
          "2016-09-04",
          "2016-09-05",
          "2016-09-06",
          "2016-09-07",
          "2016-09-08",
          "2016-09-09",
          "2016-09-10",
          "2016-09-11",
          "2016-09-12",
          "2016-09-13",
          "2016-09-14",
          "2016-09-15",
          "2016-09-16",
          "2016-09-17",
          "2016-09-18",
          "2016-09-19",
          "2016-09-20",
          "2016-09-21",
          "2016-09-22",
          "2016-09-23",
          "2016-09-24",
          "2016-09-25",
          "2016-09-26",
          "2016-09-27",
          "2016-09-28",
          "2016-09-29",
          "2016-09-30",
          "2016-10-01",
          "2016-10-02",
          "2016-10-03",
          "2016-10-04",
          "2016-10-05",
          "2016-10-06",
          "2016-10-07",
          "2016-10-08",
          "2016-10-09",
          "2016-10-10",
          "2016-10-11",
          "2016-10-12",
          "2016-10-13",
          "2016-10-14",
          "2016-10-15",
          "2016-10-16",
          "2016-10-17",
          "2016-10-18",
          "2016-10-19",
          "2016-10-20",
          "2016-10-21",
          "2016-10-22",
          "2016-10-23",
          "2016-10-24",
          "2016-10-25",
          "2016-10-26",
          "2016-10-27",
          "2016-10-28",
          "2016-10-29",
          "2016-10-30",
          "2016-10-31",
          "2016-11-01",
          "2016-11-02",
          "2016-11-03",
          "2016-11-04",
          "2016-11-05",
          "2016-11-06",
          "2016-11-07",
          "2016-11-08",
          "2016-11-09",
          "2016-11-10",
          "2016-11-11",
          "2016-11-12",
          "2016-11-13",
          "2016-11-14",
          "2016-11-15",
          "2016-11-16",
          "2016-11-17",
          "2016-11-18",
          "2016-11-19",
          "2016-11-20",
          "2016-11-21",
          "2016-11-22",
          "2016-11-23",
          "2016-11-24",
          "2016-11-25",
          "2016-11-26",
          "2016-11-27",
          "2016-11-28",
          "2016-11-29",
          "2016-11-30",
          "2016-12-01",
          "2016-12-02",
          "2016-12-03",
          "2016-12-04",
          "2016-12-05",
          "2016-12-06",
          "2016-12-07",
          "2016-12-08",
          "2016-12-09",
          "2016-12-10",
          "2016-12-11",
          "2016-12-12",
          "2016-12-13",
          "2016-12-14",
          "2016-12-15",
          "2016-12-16",
          "2016-12-17",
          "2016-12-18",
          "2016-12-19",
          "2016-12-20",
          "2016-12-21",
          "2016-12-22",
          "2016-12-23",
          "2016-12-24",
          "2016-12-25",
          "2016-12-26",
          "2016-12-27",
          "2016-12-28",
          "2016-12-29",
          "2016-12-30",
          "2016-12-31",
          "2017-01-01",
          "2017-01-02",
          "2017-01-03",
          "2017-01-04",
          "2017-01-05",
          "2017-01-06",
          "2017-01-07",
          "2017-01-08",
          "2017-01-09",
          "2017-01-10",
          "2017-01-11",
          "2017-01-12",
          "2017-01-13",
          "2017-01-14",
          "2017-01-15",
          "2017-01-16",
          "2017-01-17",
          "2017-01-18",
          "2017-01-19",
          "2017-01-20",
          "2017-01-21",
          "2017-01-22",
          "2017-01-23",
          "2017-01-24",
          "2017-01-25",
          "2017-01-26",
          "2017-01-27",
          "2017-01-28",
          "2017-01-29",
          "2017-01-30",
          "2017-01-31",
          "2017-02-01",
          "2017-02-02",
          "2017-02-03",
          "2017-02-04",
          "2017-02-05",
          "2017-02-06",
          "2017-02-07",
          "2017-02-08",
          "2017-02-09",
          "2017-02-10",
          "2017-02-11",
          "2017-02-12",
          "2017-02-13",
          "2017-02-14",
          "2017-02-15",
          "2017-02-16",
          "2017-02-17",
          "2017-02-18",
          "2017-02-19",
          "2017-02-20",
          "2017-02-21",
          "2017-02-22",
          "2017-02-23",
          "2017-02-24",
          "2017-02-25",
          "2017-02-26",
          "2017-02-27",
          "2017-02-28",
          "2017-03-01",
          "2017-03-02",
          "2017-03-03",
          "2017-03-04",
          "2017-03-05",
          "2017-03-06",
          "2017-03-07",
          "2017-03-08",
          "2017-03-09",
          "2017-03-10",
          "2017-03-11",
          "2017-03-12",
          "2017-03-13",
          "2017-03-14",
          "2017-03-15",
          "2017-03-16",
          "2017-03-17",
          "2017-03-18",
          "2017-03-19",
          "2017-03-20",
          "2017-03-21",
          "2017-03-22",
          "2017-03-23",
          "2017-03-24",
          "2017-03-25",
          "2017-03-26",
          "2017-03-27",
          "2017-03-28",
          "2017-03-29",
          "2017-03-30",
          "2017-03-31",
          "2017-04-01",
          "2017-04-02",
          "2017-04-03",
          "2017-04-04",
          "2017-04-05",
          "2017-04-06",
          "2017-04-07",
          "2017-04-08",
          "2017-04-09",
          "2017-04-10",
          "2017-04-11",
          "2017-04-12",
          "2017-04-13",
          "2017-04-14",
          "2017-04-15",
          "2017-04-16",
          "2017-04-17",
          "2017-04-18",
          "2017-04-19",
          "2017-04-20",
          "2017-04-21",
          "2017-04-22",
          "2017-04-23",
          "2017-04-24",
          "2017-04-25",
          "2017-04-26",
          "2017-04-27",
          "2017-04-28",
          "2017-04-29",
          "2017-04-30",
          "2017-05-01",
          "2017-05-02",
          "2017-05-03",
          "2017-05-04",
          "2017-05-05",
          "2017-05-06",
          "2017-05-07",
          "2017-05-08",
          "2017-05-09",
          "2017-05-10",
          "2017-05-11",
          "2017-05-12",
          "2017-05-13",
          "2017-05-14",
          "2017-05-15",
          "2017-05-16",
          "2017-05-17",
          "2017-05-18",
          "2017-05-19",
          "2017-05-20",
          "2017-05-21",
          "2017-05-22",
          "2017-05-23",
          "2017-05-24",
          "2017-05-25",
          "2017-05-26",
          "2017-05-27",
          "2017-05-28",
          "2017-05-29",
          "2017-05-30",
          "2017-05-31",
          "2017-06-01",
          "2017-06-02",
          "2017-06-03",
          "2017-06-04",
          "2017-06-05",
          "2017-06-06",
          "2017-06-07",
          "2017-06-08",
          "2017-06-09",
          "2017-06-10",
          "2017-06-11",
          "2017-06-12",
          "2017-06-13",
          "2017-06-14",
          "2017-06-15",
          "2017-06-16",
          "2017-06-17",
          "2017-06-18",
          "2017-06-19",
          "2017-06-20",
          "2017-06-21",
          "2017-06-22",
          "2017-06-23",
          "2017-06-24",
          "2017-06-25",
          "2017-06-26",
          "2017-06-27",
          "2017-06-28",
          "2017-06-29",
          "2017-06-30",
          "2017-07-01",
          "2017-07-02",
          "2017-07-03",
          "2017-07-04",
          "2017-07-05",
          "2017-07-06",
          "2017-07-07",
          "2017-07-08",
          "2017-07-09",
          "2017-07-10",
          "2017-07-11",
          "2017-07-12",
          "2017-07-13",
          "2017-07-14",
          "2017-07-15",
          "2017-07-16",
          "2017-07-17",
          "2017-07-18",
          "2017-07-19",
          "2017-07-20",
          "2017-07-21",
          "2017-07-22",
          "2017-07-23",
          "2017-07-24",
          "2017-07-25",
          "2017-07-26",
          "2017-07-27",
          "2017-07-28",
          "2017-07-29",
          "2017-07-30",
          "2017-07-31",
          "2017-08-01",
          "2017-08-02",
          "2017-08-03",
          "2017-08-04",
          "2017-08-05",
          "2017-08-06",
          "2017-08-07",
          "2017-08-08",
          "2017-08-09",
          "2017-08-10",
          "2017-08-11",
          "2017-08-12",
          "2017-08-13",
          "2017-08-14",
          "2017-08-15",
          "2017-08-16",
          "2017-08-17",
          "2017-08-18",
          "2017-08-19",
          "2017-08-20",
          "2017-08-21",
          "2017-08-22",
          "2017-08-23",
          "2017-08-24",
          "2017-08-25",
          "2017-08-26",
          "2017-08-27",
          "2017-08-28",
          "2017-08-29",
          "2017-08-30",
          "2017-08-31",
          "2017-09-01",
          "2017-09-02",
          "2017-09-03",
          "2017-09-04",
          "2017-09-05",
          "2017-09-06",
          "2017-09-07",
          "2017-09-08",
          "2017-09-09",
          "2017-09-10",
          "2017-09-11",
          "2017-09-12",
          "2017-09-13",
          "2017-09-14",
          "2017-09-15",
          "2017-09-16",
          "2017-09-17",
          "2017-09-18",
          "2017-09-19",
          "2017-09-20",
          "2017-09-21",
          "2017-09-22",
          "2017-09-23",
          "2017-09-24",
          "2017-09-25",
          "2017-09-26",
          "2017-09-27",
          "2017-09-28",
          "2017-09-29",
          "2017-09-30",
          "2017-10-01",
          "2017-10-02",
          "2017-10-03",
          "2017-10-04",
          "2017-10-05",
          "2017-10-06",
          "2017-10-07",
          "2017-10-08",
          "2017-10-09",
          "2017-10-10",
          "2017-10-11",
          "2017-10-12",
          "2017-10-13",
          "2017-10-14",
          "2017-10-15",
          "2017-10-16",
          "2017-10-17",
          "2017-10-18",
          "2017-10-19",
          "2017-10-20",
          "2017-10-21",
          "2017-10-22",
          "2017-10-23",
          "2017-10-24",
          "2017-10-25",
          "2017-10-26",
          "2017-10-27",
          "2017-10-28",
          "2017-10-29",
          "2017-10-30",
          "2017-10-31",
          "2017-11-01",
          "2017-11-02",
          "2017-11-03",
          "2017-11-04",
          "2017-11-05",
          "2017-11-06",
          "2017-11-07",
          "2017-11-08",
          "2017-11-09",
          "2017-11-10",
          "2017-11-11",
          "2017-11-12",
          "2017-11-13",
          "2017-11-14",
          "2017-11-15",
          "2017-11-16",
          "2017-11-17",
          "2017-11-18",
          "2017-11-19",
          "2017-11-20",
          "2017-11-21",
          "2017-11-22",
          "2017-11-23",
          "2017-11-24",
          "2017-11-25",
          "2017-11-26",
          "2017-11-27",
          "2017-11-28",
          "2017-11-29",
          "2017-11-30",
          "2017-12-01",
          "2017-12-02",
          "2017-12-03",
          "2017-12-04",
          "2017-12-05",
          "2017-12-06",
          "2017-12-07",
          "2017-12-08",
          "2017-12-09",
          "2017-12-10",
          "2017-12-11",
          "2017-12-12",
          "2017-12-13",
          "2017-12-14",
          "2017-12-15",
          "2017-12-16",
          "2017-12-17",
          "2017-12-18",
          "2017-12-19",
          "2017-12-20",
          "2017-12-21",
          "2017-12-22",
          "2017-12-23",
          "2017-12-24",
          "2017-12-25",
          "2017-12-26",
          "2017-12-27",
          "2017-12-28",
          "2017-12-29",
          "2017-12-30",
          "2017-12-31",
          "2018-01-01",
          "2018-01-02",
          "2018-01-03",
          "2018-01-04",
          "2018-01-05",
          "2018-01-06",
          "2018-01-07",
          "2018-01-08",
          "2018-01-09",
          "2018-01-10",
          "2018-01-11",
          "2018-01-12",
          "2018-01-13",
          "2018-01-14",
          "2018-01-15",
          "2018-01-16",
          "2018-01-17",
          "2018-01-18",
          "2018-01-19",
          "2018-01-20",
          "2018-01-21",
          "2018-01-22",
          "2018-01-23",
          "2018-01-24",
          "2018-01-25",
          "2018-01-26",
          "2018-01-27",
          "2018-01-28",
          "2018-01-29",
          "2018-01-30",
          "2018-01-31",
          "2018-02-01",
          "2018-02-02",
          "2018-02-03",
          "2018-02-04",
          "2018-02-05",
          "2018-02-06",
          "2018-02-07",
          "2018-02-08",
          "2018-02-09",
          "2018-02-10",
          "2018-02-11",
          "2018-02-12",
          "2018-02-13",
          "2018-02-14",
          "2018-02-15",
          "2018-02-16",
          "2018-02-17",
          "2018-02-18",
          "2018-02-19",
          "2018-02-20",
          "2018-02-21",
          "2018-02-22",
          "2018-02-23",
          "2018-02-24",
          "2018-02-25",
          "2018-02-26",
          "2018-02-27",
          "2018-02-28",
          "2018-03-01",
          "2018-03-02",
          "2018-03-03",
          "2018-03-04",
          "2018-03-05",
          "2018-03-06",
          "2018-03-07",
          "2018-03-08",
          "2018-03-09",
          "2018-03-10",
          "2018-03-11",
          "2018-03-12",
          "2018-03-13",
          "2018-03-14",
          "2018-03-15",
          "2018-03-16",
          "2018-03-17",
          "2018-03-18",
          "2018-03-19",
          "2018-03-20",
          "2018-03-21",
          "2018-03-22",
          "2018-03-23",
          "2018-03-24",
          "2018-03-25",
          "2018-03-26",
          "2018-03-27",
          "2018-03-28",
          "2018-03-29",
          "2018-03-30",
          "2018-03-31",
          "2018-04-01",
          "2018-04-02",
          "2018-04-03",
          "2018-04-04",
          "2018-04-05",
          "2018-04-06",
          "2018-04-07",
          "2018-04-08",
          "2018-04-09",
          "2018-04-10",
          "2018-04-11",
          "2018-04-12",
          "2018-04-13",
          "2018-04-14",
          "2018-04-15",
          "2018-04-16",
          "2018-04-17",
          "2018-04-18",
          "2018-04-19",
          "2018-04-20",
          "2018-04-21",
          "2018-04-22",
          "2018-04-23",
          "2018-04-24",
          "2018-04-25",
          "2018-04-26",
          "2018-04-27",
          "2018-04-28",
          "2018-04-29",
          "2018-04-30",
          "2018-05-01",
          "2018-05-02",
          "2018-05-03",
          "2018-05-04",
          "2018-05-05",
          "2018-05-06",
          "2018-05-07",
          "2018-05-08",
          "2018-05-09",
          "2018-05-10",
          "2018-05-11",
          "2018-05-12",
          "2018-05-13",
          "2018-05-14",
          "2018-05-15",
          "2018-05-16",
          "2018-05-17",
          "2018-05-18",
          "2018-05-19",
          "2018-05-20",
          "2018-05-21",
          "2018-05-22",
          "2018-05-23",
          "2018-05-24",
          "2018-05-25",
          "2018-05-26",
          "2018-05-27",
          "2018-05-28",
          "2018-05-29",
          "2018-05-30",
          "2018-05-31",
          "2018-06-01",
          "2018-06-02",
          "2018-06-03",
          "2018-06-04",
          "2018-06-05",
          "2018-06-06",
          "2018-06-07",
          "2018-06-08",
          "2018-06-09",
          "2018-06-10",
          "2018-06-11",
          "2018-06-12",
          "2018-06-13",
          "2018-06-14",
          "2018-06-15",
          "2018-06-16",
          "2018-06-17",
          "2018-06-18",
          "2018-06-19",
          "2018-06-20",
          "2018-06-21",
          "2018-06-22",
          "2018-06-23",
          "2018-06-24",
          "2018-06-25",
          "2018-06-26",
          "2018-06-27",
          "2018-06-28",
          "2018-06-29",
          "2018-06-30",
          "2018-07-01",
          "2018-07-02",
          "2018-07-03",
          "2018-07-04",
          "2018-07-05",
          "2018-07-06",
          "2018-07-07",
          "2018-07-08",
          "2018-07-09",
          "2018-07-10",
          "2018-07-11",
          "2018-07-12",
          "2018-07-13",
          "2018-07-14",
          "2018-07-15",
          "2018-07-16",
          "2018-07-17",
          "2018-07-18",
          "2018-07-19",
          "2018-07-20",
          "2018-07-21",
          "2018-07-22",
          "2018-07-23",
          "2018-07-24",
          "2018-07-25",
          "2018-07-26",
          "2018-07-27",
          "2018-07-28",
          "2018-07-29",
          "2018-07-30",
          "2018-07-31",
          "2018-08-01",
          "2018-08-02",
          "2018-08-03",
          "2018-08-04",
          "2018-08-05",
          "2018-08-06",
          "2018-08-07",
          "2018-08-08",
          "2018-08-09",
          "2018-08-10",
          "2018-08-11",
          "2018-08-12",
          "2018-08-13",
          "2018-08-14",
          "2018-08-15",
          "2018-08-16",
          "2018-08-17",
          "2018-08-18",
          "2018-08-19",
          "2018-08-20",
          "2018-08-21",
          "2018-08-22",
          "2018-08-23",
          "2018-08-24",
          "2018-08-25",
          "2018-08-26",
          "2018-08-27",
          "2018-08-28",
          "2018-08-29",
          "2018-08-30",
          "2018-08-31",
          "2018-09-01",
          "2018-09-02",
          "2018-09-03",
          "2018-09-04",
          "2018-09-05",
          "2018-09-06",
          "2018-09-07",
          "2018-09-08",
          "2018-09-09",
          "2018-09-10",
          "2018-09-11",
          "2018-09-12",
          "2018-09-13",
          "2018-09-14",
          "2018-09-15",
          "2018-09-16",
          "2018-09-17",
          "2018-09-18",
          "2018-09-19",
          "2018-09-20",
          "2018-09-21",
          "2018-09-22",
          "2018-09-23",
          "2018-09-24",
          "2018-09-25",
          "2018-09-26",
          "2018-09-27",
          "2018-09-28",
          "2018-09-29",
          "2018-09-30",
          "2018-10-01",
          "2018-10-02",
          "2018-10-03",
          "2018-10-04",
          "2018-10-05",
          "2018-10-06",
          "2018-10-07",
          "2018-10-08",
          "2018-10-09",
          "2018-10-10",
          "2018-10-11",
          "2018-10-12",
          "2018-10-13",
          "2018-10-14",
          "2018-10-15",
          "2018-10-16",
          "2018-10-17",
          "2018-10-18",
          "2018-10-19",
          "2018-10-20",
          "2018-10-21",
          "2018-10-22",
          "2018-10-23",
          "2018-10-24",
          "2018-10-25",
          "2018-10-26",
          "2018-10-27",
          "2018-10-28",
          "2018-10-29",
          "2018-10-30",
          "2018-10-31",
          "2018-11-01",
          "2018-11-02",
          "2018-11-03",
          "2018-11-04",
          "2018-11-05",
          "2018-11-06",
          "2018-11-07",
          "2018-11-08",
          "2018-11-09",
          "2018-11-10",
          "2018-11-11",
          "2018-11-12",
          "2018-11-13",
          "2018-11-14",
          "2018-11-15",
          "2018-11-16",
          "2018-11-17",
          "2018-11-18",
          "2018-11-19",
          "2018-11-20",
          "2018-11-21",
          "2018-11-22",
          "2018-11-23",
          "2018-11-24",
          "2018-11-25",
          "2018-11-26",
          "2018-11-27",
          "2018-11-28",
          "2018-11-29",
          "2018-11-30",
          "2018-12-01",
          "2018-12-02",
          "2018-12-03",
          "2018-12-04",
          "2018-12-05",
          "2018-12-06",
          "2018-12-07",
          "2018-12-08",
          "2018-12-09",
          "2018-12-10",
          "2018-12-11",
          "2018-12-12",
          "2018-12-13",
          "2018-12-14",
          "2018-12-15",
          "2018-12-16",
          "2018-12-17",
          "2018-12-18",
          "2018-12-19",
          "2018-12-20",
          "2018-12-21",
          "2018-12-22",
          "2018-12-23",
          "2018-12-24",
          "2018-12-25",
          "2018-12-26",
          "2018-12-27",
          "2018-12-28",
          "2018-12-29",
          "2018-12-30",
          "2018-12-31",
          "2019-01-01",
          "2019-01-02",
          "2019-01-03",
          "2019-01-04",
          "2019-01-05",
          "2019-01-06",
          "2019-01-07",
          "2019-01-08",
          "2019-01-09",
          "2019-01-10",
          "2019-01-11",
          "2019-01-12",
          "2019-01-13",
          "2019-01-14",
          "2019-01-15",
          "2019-01-16",
          "2019-01-17",
          "2019-01-18",
          "2019-01-19",
          "2019-01-20",
          "2019-01-21",
          "2019-01-22",
          "2019-01-23",
          "2019-01-24",
          "2019-01-25",
          "2019-01-26",
          "2019-01-27",
          "2019-01-28",
          "2019-01-29",
          "2019-01-30",
          "2019-01-31",
          "2019-02-01",
          "2019-02-02",
          "2019-02-03",
          "2019-02-04",
          "2019-02-05",
          "2019-02-06",
          "2019-02-07",
          "2019-02-08",
          "2019-02-09",
          "2019-02-10",
          "2019-02-11",
          "2019-02-12",
          "2019-02-13",
          "2019-02-14",
          "2019-02-15",
          "2019-02-16",
          "2019-02-17",
          "2019-02-18",
          "2019-02-19",
          "2019-02-20",
          "2019-02-21",
          "2019-02-22",
          "2019-02-23",
          "2019-02-24",
          "2019-02-25",
          "2019-02-26",
          "2019-02-27",
          "2019-02-28",
          "2019-03-01",
          "2019-03-02",
          "2019-03-03",
          "2019-03-04",
          "2019-03-05",
          "2019-03-06",
          "2019-03-07",
          "2019-03-08",
          "2019-03-09",
          "2019-03-10",
          "2019-03-11",
          "2019-03-12",
          "2019-03-13",
          "2019-03-14",
          "2019-03-15",
          "2019-03-16",
          "2019-03-17",
          "2019-03-18",
          "2019-03-19",
          "2019-03-20",
          "2019-03-21",
          "2019-03-22",
          "2019-03-23",
          "2019-03-24",
          "2019-03-25",
          "2019-03-26",
          "2019-03-27",
          "2019-03-28",
          "2019-03-29",
          "2019-03-30",
          "2019-03-31",
          "2019-04-01",
          "2019-04-02",
          "2019-04-03",
          "2019-04-04",
          "2019-04-05",
          "2019-04-06",
          "2019-04-07",
          "2019-04-08",
          "2019-04-09",
          "2019-04-10",
          "2019-04-11",
          "2019-04-12",
          "2019-04-13",
          "2019-04-14",
          "2019-04-15",
          "2019-04-16",
          "2019-04-17",
          "2019-04-18",
          "2019-04-19",
          "2019-04-20",
          "2019-04-21",
          "2019-04-22",
          "2019-04-23",
          "2019-04-24",
          "2019-04-25",
          "2019-04-26",
          "2019-04-27",
          "2019-04-28",
          "2019-04-29",
          "2019-04-30",
          "2019-05-01",
          "2019-05-02",
          "2019-05-03",
          "2019-05-04",
          "2019-05-05",
          "2019-05-06",
          "2019-05-07",
          "2019-05-08",
          "2019-05-09",
          "2019-05-10",
          "2019-05-11",
          "2019-05-12",
          "2019-05-13",
          "2019-05-14",
          "2019-05-15",
          "2019-05-16",
          "2019-05-17",
          "2019-05-18",
          "2019-05-19",
          "2019-05-20",
          "2019-05-21",
          "2019-05-22",
          "2019-05-23",
          "2019-05-24",
          "2019-05-25",
          "2019-05-26",
          "2019-05-27",
          "2019-05-28",
          "2019-05-29",
          "2019-05-30",
          "2019-05-31",
          "2019-06-01",
          "2019-06-02",
          "2019-06-03",
          "2019-06-04",
          "2019-06-05",
          "2019-06-06",
          "2019-06-07",
          "2019-06-08",
          "2019-06-09",
          "2019-06-10",
          "2019-06-11",
          "2019-06-12",
          "2019-06-13",
          "2019-06-14",
          "2019-06-15",
          "2019-06-16",
          "2019-06-17",
          "2019-06-18",
          "2019-06-19",
          "2019-06-20",
          "2019-06-21",
          "2019-06-22",
          "2019-06-23",
          "2019-06-24",
          "2019-06-25",
          "2019-06-26",
          "2019-06-27",
          "2019-06-28",
          "2019-06-29",
          "2019-06-30",
          "2019-07-01",
          "2019-07-02",
          "2019-07-03",
          "2019-07-04",
          "2019-07-05",
          "2019-07-06",
          "2019-07-07",
          "2019-07-08",
          "2019-07-09",
          "2019-07-10",
          "2019-07-11",
          "2019-07-12",
          "2019-07-13",
          "2019-07-14",
          "2019-07-15",
          "2019-07-16",
          "2019-07-17",
          "2019-07-18",
          "2019-07-19",
          "2019-07-20",
          "2019-07-21",
          "2019-07-22",
          "2019-07-23",
          "2019-07-24",
          "2019-07-25",
          "2019-07-26",
          "2019-07-27",
          "2019-07-28",
          "2019-07-29",
          "2019-07-30",
          "2019-07-31",
          "2019-08-01",
          "2019-08-02",
          "2019-08-03",
          "2019-08-04",
          "2019-08-05",
          "2019-08-06",
          "2019-08-07",
          "2019-08-08",
          "2019-08-09",
          "2019-08-10",
          "2019-08-11",
          "2019-08-12",
          "2019-08-13",
          "2019-08-14",
          "2019-08-15",
          "2019-08-16",
          "2019-08-17",
          "2019-08-18",
          "2019-08-19",
          "2019-08-20",
          "2019-08-21",
          "2019-08-22",
          "2019-08-23",
          "2019-08-24",
          "2019-08-25",
          "2019-08-26",
          "2019-08-27",
          "2019-08-28",
          "2019-08-29",
          "2019-08-30",
          "2019-08-31",
          "2019-09-01",
          "2019-09-02",
          "2019-09-03",
          "2019-09-04",
          "2019-09-05",
          "2019-09-06",
          "2019-09-07",
          "2019-09-08",
          "2019-09-09",
          "2019-09-10",
          "2019-09-11",
          "2019-09-12",
          "2019-09-13",
          "2019-09-14",
          "2019-09-15",
          "2019-09-16",
          "2019-09-17",
          "2019-09-18",
          "2019-09-19",
          "2019-09-20",
          "2019-09-21",
          "2019-09-22",
          "2019-09-23",
          "2019-09-24",
          "2019-09-25",
          "2019-09-26",
          "2019-09-27",
          "2019-09-28",
          "2019-09-29",
          "2019-09-30",
          "2019-10-01",
          "2019-10-02",
          "2019-10-03",
          "2019-10-04",
          "2019-10-05",
          "2019-10-06",
          "2019-10-07",
          "2019-10-08",
          "2019-10-09",
          "2019-10-10",
          "2019-10-11",
          "2019-10-12",
          "2019-10-13",
          "2019-10-14",
          "2019-10-15",
          "2019-10-16",
          "2019-10-17",
          "2019-10-18",
          "2019-10-19",
          "2019-10-20",
          "2019-10-21",
          "2019-10-22",
          "2019-10-23",
          "2019-10-24",
          "2019-10-25",
          "2019-10-26",
          "2019-10-27",
          "2019-10-28",
          "2019-10-29",
          "2019-10-30",
          "2019-10-31",
          "2019-11-01",
          "2019-11-02",
          "2019-11-03",
          "2019-11-04",
          "2019-11-05",
          "2019-11-06",
          "2019-11-07",
          "2019-11-08",
          "2019-11-09",
          "2019-11-10",
          "2019-11-11",
          "2019-11-12",
          "2019-11-13",
          "2019-11-14",
          "2019-11-15",
          "2019-11-16",
          "2019-11-17",
          "2019-11-18",
          "2019-11-19",
          "2019-11-20",
          "2019-11-21",
          "2019-11-22",
          "2019-11-23",
          "2019-11-24",
          "2019-11-25",
          "2019-11-26",
          "2019-11-27",
          "2019-11-28",
          "2019-11-29",
          "2019-11-30",
          "2019-12-01",
          "2019-12-02",
          "2019-12-03",
          "2019-12-04",
          "2019-12-05",
          "2019-12-06",
          "2019-12-07",
          "2019-12-08",
          "2019-12-09",
          "2019-12-10",
          "2019-12-11",
          "2019-12-12",
          "2019-12-13",
          "2019-12-14",
          "2019-12-15",
          "2019-12-16",
          "2019-12-17",
          "2019-12-18",
          "2019-12-19",
          "2019-12-20",
          "2019-12-21",
          "2019-12-22",
          "2019-12-23",
          "2019-12-24",
          "2019-12-25",
          "2019-12-26",
          "2019-12-27",
          "2019-12-28",
          "2019-12-29",
          "2019-12-30",
          "2019-12-31",
          "2020-01-01",
          "2020-01-02",
          "2020-01-03",
          "2020-01-04",
          "2020-01-05",
          "2020-01-06",
          "2020-01-07",
          "2020-01-08",
          "2020-01-09",
          "2020-01-10",
          "2020-01-11",
          "2020-01-12",
          "2020-01-13",
          "2020-01-14",
          "2020-01-15",
          "2020-01-16",
          "2020-01-17",
          "2020-01-18",
          "2020-01-19",
          "2020-01-20",
          "2020-01-21",
          "2020-01-22",
          "2020-01-23",
          "2020-01-24",
          "2020-01-25",
          "2020-01-26",
          "2020-01-27",
          "2020-01-28",
          "2020-01-29",
          "2020-01-30",
          "2020-01-31",
          "2020-02-01",
          "2020-02-02",
          "2020-02-03",
          "2020-02-04",
          "2020-02-05",
          "2020-02-06",
          "2020-02-07",
          "2020-02-08",
          "2020-02-09",
          "2020-02-10",
          "2020-02-11",
          "2020-02-12",
          "2020-02-13",
          "2020-02-14",
          "2020-02-15",
          "2020-02-16",
          "2020-02-17",
          "2020-02-18",
          "2020-02-19",
          "2020-02-20",
          "2020-02-21",
          "2020-02-22",
          "2020-02-23",
          "2020-02-24",
          "2020-02-25",
          "2020-02-26",
          "2020-02-27",
          "2020-02-28",
          "2020-02-29",
          "2020-03-01",
          "2020-03-02",
          "2020-03-03",
          "2020-03-04",
          "2020-03-05",
          "2020-03-06",
          "2020-03-07",
          "2020-03-08",
          "2020-03-09",
          "2020-03-10",
          "2020-03-11",
          "2020-03-12",
          "2020-03-13",
          "2020-03-14",
          "2020-03-15",
          "2020-03-16",
          "2020-03-17",
          "2020-03-18",
          "2020-03-19",
          "2020-03-20",
          "2020-03-21",
          "2020-03-22",
          "2020-03-23",
          "2020-03-24",
          "2020-03-25",
          "2020-03-26",
          "2020-03-27",
          "2020-03-28",
          "2020-03-29",
          "2020-03-30",
          "2020-03-31",
          "2020-04-01",
          "2020-04-02",
          "2020-04-03",
          "2020-04-04",
          "2020-04-05",
          "2020-04-06",
          "2020-04-07",
          "2020-04-08",
          "2020-04-09",
          "2020-04-10",
          "2020-04-11",
          "2020-04-12",
          "2020-04-13",
          "2020-04-14",
          "2020-04-15",
          "2020-04-16",
          "2020-04-17",
          "2020-04-18",
          "2020-04-19",
          "2020-04-20",
          "2020-04-21",
          "2020-04-22",
          "2020-04-23",
          "2020-04-24",
          "2020-04-25",
          "2020-04-26",
          "2020-04-27",
          "2020-04-28",
          "2020-04-29",
          "2020-04-30",
          "2020-05-01",
          "2020-05-02",
          "2020-05-03",
          "2020-05-04",
          "2020-05-05",
          "2020-05-06",
          "2020-05-07",
          "2020-05-08",
          "2020-05-09",
          "2020-05-10",
          "2020-05-11",
          "2020-05-12",
          "2020-05-13",
          "2020-05-14",
          "2020-05-15",
          "2020-05-16",
          "2020-05-17",
          "2020-05-18",
          "2020-05-19",
          "2020-05-20",
          "2020-05-21",
          "2020-05-22",
          "2020-05-23",
          "2020-05-24",
          "2020-05-25",
          "2020-05-26",
          "2020-05-27",
          "2020-05-28",
          "2020-05-29",
          "2020-05-30",
          "2020-05-31",
          "2020-06-01",
          "2020-06-02",
          "2020-06-03",
          "2020-06-04",
          "2020-06-05",
          "2020-06-06",
          "2020-06-07",
          "2020-06-08",
          "2020-06-09",
          "2020-06-10",
          "2020-06-11",
          "2020-06-12",
          "2020-06-13",
          "2020-06-14",
          "2020-06-15",
          "2020-06-16",
          "2020-06-17",
          "2020-06-18",
          "2020-06-19",
          "2020-06-20",
          "2020-06-21",
          "2020-06-22",
          "2020-06-23",
          "2020-06-24",
          "2020-06-25",
          "2020-06-26",
          "2020-06-27",
          "2020-06-28",
          "2020-06-29"
         ],
         "xaxis": "x",
         "y": [
          0.00736,
          0.0089,
          0.00845,
          0.01145,
          0.01381,
          0.01381,
          0.0119,
          0.01572,
          0.01036,
          0.00699,
          0.01299,
          0.01572,
          0.01163,
          0.01227,
          0.01081,
          0.00727,
          0.00599,
          0.01118,
          0.0129,
          0.01145,
          0.01245,
          0.01345,
          0.00963,
          0.00609,
          0.00927,
          0.01136,
          0.01054,
          0.01454,
          0.01499,
          0.00881,
          0.0099,
          0.01409,
          0.0129,
          0.01172,
          0.0109,
          0.01427,
          0.00881,
          0.00636,
          0.00581,
          0.00681,
          0.00799,
          0.00999,
          0.01399,
          0.00927,
          0.00672,
          0.00981,
          0.01009,
          0.01136,
          0.01181,
          0.0109,
          0.00799,
          0.00627,
          0.00809,
          0.00863,
          0.00999,
          0.01072,
          0.01099,
          0.00718,
          0.00654,
          0.00618,
          0.00754,
          0.00854,
          0.01099,
          0.01672,
          0.00945,
          0.00472,
          0.01072,
          0.00981,
          0.0109,
          0.01172,
          0.00972,
          0.0089,
          0.00836,
          0.01118,
          0.01163,
          0.00963,
          0.01236,
          0.01027,
          0.01154,
          0.00945,
          0.00963,
          0.01309,
          0.01236,
          0.01372,
          0.01463,
          0.00981,
          0.00827,
          0.01254,
          0.01418,
          0.01972,
          0.01181,
          0.00963,
          0.01472,
          0.02063,
          0.01572,
          0.03454,
          0.01763,
          0.01081,
          0.00981,
          0.00636,
          0.00672,
          0.01136,
          0.00972,
          0.01209,
          0.00799,
          0.00872,
          0.01045,
          0.00809,
          0.01036,
          0.0099,
          0.00909,
          0.01009,
          0.00836,
          0.00518,
          0.01063,
          0.01363,
          0.00972,
          0.01127,
          0.01045,
          0.00972,
          0.00836,
          0.00672,
          0.00945,
          0.00854,
          0.00963,
          0.00536,
          0.00563,
          0.01127,
          0.00772,
          0.00827,
          0.01045,
          0.01118,
          0.00745,
          0.00836,
          0.00936,
          0.01127,
          0.01136,
          0.00981,
          0.01172,
          0.01054,
          0.01072,
          0.00918,
          0.00745,
          0.01181,
          0.01036,
          0.01218,
          0.0099,
          0.00918,
          0.00863,
          0.00872,
          0.00927,
          0.01372,
          0.01254,
          0.01036,
          0.00981,
          0.00827,
          0.00963,
          0.01054,
          0.01272,
          0.01099,
          0.01454,
          0.00799,
          0.0069,
          0.00727,
          0.00681,
          0.0109,
          0.01154,
          0.00845,
          0.00772,
          0.0069,
          0.00863,
          0.01181,
          0.00836,
          0.00899,
          0.00854,
          0.0059,
          0.00627,
          0.00745,
          0.00699,
          0.00627,
          0.00636,
          0.00599,
          0.00599,
          0.00399,
          0.00418,
          0.00599,
          0.00454,
          0.00563,
          0.00636,
          0.00609,
          0.00527,
          0.00527,
          0.00681,
          0.00681,
          0.00518,
          0.00663,
          0.0069,
          0.0049,
          0.00618,
          0.00718,
          0.00727,
          0.00654,
          0.00627,
          0.00518,
          0.00445,
          0.00445,
          0.00572,
          0.00518,
          0.00436,
          0.00509,
          0.00454,
          0.0049,
          0.0029,
          0.00481,
          0.00554,
          0.00436,
          0.00681,
          0.00536,
          0.00345,
          0.00427,
          0.00545,
          0.00472,
          0.00645,
          0.00636,
          0.00445,
          0.00336,
          0.00309,
          0.00436,
          0.00381,
          0.00536,
          0.00563,
          0.00645,
          0.00527,
          0.00627,
          0.00463,
          0.00609,
          0.00372,
          0.00545,
          0.00454,
          0.00418,
          0.00927,
          0.00481,
          0.00527,
          0.00572,
          0.00509,
          0.00609,
          0.00609,
          0.00472,
          0.00545,
          0.00645,
          0.00727,
          0.00718,
          0.00618,
          0.04608,
          0.01045,
          0.01081,
          0.00663,
          0.00627,
          0.00554,
          0.00481,
          0.00672,
          0.00663,
          0.0109,
          0.01145,
          0.00836,
          0.00936,
          0.00881,
          0.0049,
          0.00654,
          0.00836,
          0.00799,
          0.00654,
          0.00618,
          0.00518,
          0.00472,
          0.00399,
          0.00618,
          0.00627,
          0.00718,
          0.00654,
          0.00545,
          0.0079,
          0.00399,
          0.00799,
          0.00654,
          0.00818,
          0.00527,
          0.00618,
          0.00581,
          0.00699,
          0.01018,
          0.0079,
          0.00981,
          0.01099,
          0.00827,
          0.00854,
          0.00718,
          0.0109,
          0.01209,
          0.01054,
          0.00963,
          0.01018,
          0.00745,
          0.00745,
          0.01027,
          0.01109,
          0.01063,
          0.00999,
          0.01045,
          0.00872,
          0.01218,
          0.01227,
          0.01336,
          0.0149,
          0.0159,
          0.01172,
          0.00854,
          0.00836,
          0.01099,
          0.01199,
          0.01081,
          0.01263,
          0.01072,
          0.01272,
          0.01054,
          0.01309,
          0.01318,
          0.01509,
          0.01454,
          0.01554,
          0.01245,
          0.01399,
          0.0139,
          0.01463,
          0.01518,
          0.01472,
          0.01354,
          0.01363,
          0.01118,
          0.01299,
          0.01881,
          0.01627,
          0.01445,
          0.01727,
          0.01509,
          0.01363,
          0.02081,
          0.02045,
          0.01799,
          0.03736,
          0.03345,
          0.01445,
          0.0159,
          0.02699,
          0.02436,
          0.02336,
          0.02045,
          0.02154,
          0.01527,
          0.01127,
          0.01481,
          0.01927,
          0.01799,
          0.01909,
          0.01899,
          0.01581,
          0.01163,
          0.01463,
          0.01509,
          0.01545,
          0.01899,
          0.01854,
          0.01145,
          0.00745,
          0.01245,
          0.01518,
          0.01227,
          0.01409,
          0.01154,
          0.0109,
          0.00854,
          0.00963,
          0.01054,
          0.01618,
          0.01381,
          0.01418,
          0.00727,
          0.00845,
          0.00872,
          0.01254,
          0.00872,
          0.01172,
          0.00654,
          0.00754,
          0.00463,
          0.00672,
          0.01054,
          0.01145,
          0.01299,
          0.01254,
          0.00645,
          0.00581,
          0.00909,
          0.01263,
          0.0079,
          0.00863,
          0.00899,
          0.01072,
          0.00799,
          0.00972,
          0.01054,
          0.00881,
          0.00754,
          0.00963,
          0.0079,
          0.00572,
          0.01145,
          0.01154,
          0.00972,
          0.00963,
          0.01309,
          0.00845,
          0.00772,
          0.01127,
          0.01209,
          0.00727,
          0.01299,
          0.01272,
          0.01018,
          0.00909,
          0.01081,
          0.01172,
          0.01254,
          0.01545,
          0.01272,
          0.00799,
          0.00781,
          0.01063,
          0.00809,
          0.02172,
          0.01009,
          0.01036,
          0.01045,
          0.00754,
          0.01399,
          0.01454,
          0.01399,
          0.00999,
          0.00945,
          0.01227,
          0.01009,
          0.01563,
          0.01154,
          0.01172,
          0.01218,
          0.01036,
          0.00718,
          0.00699,
          0.00699,
          0.00809,
          0.00863,
          0.00781,
          0.00718,
          0.0059,
          0.00727,
          0.01399,
          0.00927,
          0.0099,
          0.00809,
          0.00872,
          0.00663,
          0.0079,
          0.01018,
          0.01018,
          0.00836,
          0.0069,
          0.00681,
          0.00645,
          0.00627,
          0.00736,
          0.00927,
          0.00736,
          0.00681,
          0.00627,
          0.00472,
          0.00399,
          0.00509,
          0.00681,
          0.07027,
          0.00799,
          0.00499,
          0.00472,
          0.00581,
          0.00636,
          0.00754,
          0.00718,
          0.00763,
          0.00636,
          0.00436,
          0.00527,
          0.00927,
          0.00818,
          0.01009,
          0.01054,
          0.00699,
          0.00681,
          0.00799,
          0.0089,
          0.0069,
          0.01018,
          0.00963,
          0.0089,
          0.01254,
          0.0139,
          0.00918,
          0.00945,
          0.00945,
          0.00809,
          0.0079,
          0.00663,
          0.00672,
          0.00709,
          0.0059,
          0.00863,
          0.00845,
          0.00799,
          0.00736,
          0.00627,
          0.00836,
          0.00727,
          0.00836,
          0.00818,
          0.00718,
          0.00672,
          0.00636,
          0.00754,
          0.00936,
          0.00663,
          0.00463,
          0.00618,
          0.0039,
          0.00327,
          0.00427,
          0.00436,
          0.00645,
          0.00627,
          0.00463,
          0.0029,
          0.00336,
          0.00399,
          0.00399,
          0.00427,
          0.00618,
          0.00399,
          0.00418,
          0.00518,
          0.00527,
          0.00445,
          0.00736,
          0.00418,
          0.00327,
          0.00518,
          0.00445,
          0.00545,
          0.00636,
          0.00509,
          0.00618,
          0.00336,
          0.00172,
          0.00327,
          0.00445,
          0.00563,
          0.00536,
          0.00399,
          0.00372,
          0.00327,
          0.00463,
          0.0039,
          0.00409,
          0.00345,
          0.00463,
          0.00327,
          0.0029,
          0.00281,
          0.00345,
          0.00427,
          0.0039,
          0.00509,
          0.00381,
          0.00245,
          0.00299,
          0.00545,
          0.00527,
          0.0059,
          0.00399,
          0.00518,
          0.00527,
          0.0029,
          0.00572,
          0.0069,
          0.00563,
          0.0079,
          0.00809,
          0.00518,
          0.00472,
          0.00972,
          0.00863,
          0.00927,
          0.01018,
          0.01172,
          0.00536,
          0.00399,
          0.00599,
          0.00609,
          0.00454,
          0.00563,
          0.00618,
          0.00372,
          0.0049,
          0.00709,
          0.00609,
          0.00599,
          0.00609,
          0.00599,
          0.00354,
          0.0049,
          0.00599,
          0.00581,
          0.00736,
          0.00545,
          0.00381,
          0.0119,
          0.00445,
          0.00509,
          0.00654,
          0.00645,
          0.00381,
          0.00654,
          0.00409,
          0.00409,
          0.00472,
          0.00154,
          0.00154,
          0.00199,
          0.0029,
          0.0039,
          0.00281,
          0.00545,
          0.00654,
          0.00745,
          0.00618,
          0.00463,
          0.00672,
          0.0039,
          0.00636,
          0.00609,
          0.00563,
          0.0089,
          0.00654,
          0.00527,
          0.00599,
          0.00745,
          0.00999,
          0.00636,
          0.00672,
          0.00681,
          0.0069,
          0.00663,
          0.00918,
          0.00936,
          0.00718,
          0.00854,
          0.00718,
          0.00654,
          0.01009,
          0.00954,
          0.00972,
          0.00745,
          0.0069,
          0.00645,
          0.00545,
          0.00954,
          0.00736,
          0.00918,
          0.00872,
          0.01027,
          0.00663,
          0.0069,
          0.00645,
          0.00845,
          0.01045,
          0.01163,
          0.01127,
          0.00872,
          0.00863,
          0.00845,
          0.00972,
          0.01163,
          0.01427,
          0.01272,
          0.01209,
          0.0109,
          0.00681,
          0.00872,
          0.01236,
          0.01327,
          0.01418,
          0.01227,
          0.01236,
          0.00981,
          0.01272,
          0.01399,
          0.01563,
          0.0169,
          0.01436,
          0.0109,
          0.00963,
          0.01309,
          0.01518,
          0.01536,
          0.01763,
          0.01309,
          0.00981,
          0.00809,
          0.00863,
          0.01145,
          0.01818,
          0.01172,
          0.01727,
          0.01345,
          0.01063,
          0.00563,
          0.01181,
          0.01536,
          0.01681,
          0.01309,
          0.00718,
          0.00709,
          0.01118,
          0.01381,
          0.0169,
          0.01418,
          0.01109,
          0.01609,
          0.01109,
          0.01409,
          0.01599,
          0.01299,
          0.01199,
          0.01045,
          0.00999,
          0.00581,
          0.01154,
          0.01654,
          0.01372,
          0.01199,
          0.01199,
          0.01009,
          0.00763,
          0.01254,
          0.01018,
          0.01381,
          0.01281,
          0.01154,
          0.0089,
          0.0069,
          0.0129,
          0.01727,
          0.01154,
          0.01318,
          0.01199,
          0.00899,
          0.00672,
          0.01263,
          0.01799,
          0.01936,
          0.00963,
          0.00727,
          0.00627,
          0.00609,
          0.01054,
          0.01799,
          0.01472,
          0.01381,
          0.0139,
          0.01281,
          0.00954,
          0.01518,
          0.01645,
          0.01572,
          0.01163,
          0.01045,
          0.00827,
          0.00827,
          0.00981,
          0.01181,
          0.0159,
          0.01345,
          0.01518,
          0.01099,
          0.00981,
          0.00963,
          0.01018,
          0.01018,
          0.01009,
          0.00863,
          0.00981,
          0.00699,
          0.00836,
          0.01009,
          0.00981,
          0.00909,
          0.00863,
          0.00681,
          0.00663,
          0.01109,
          0.00972,
          0.00609,
          0.00663,
          0.00963,
          0.00854,
          0.00863,
          0.00954,
          0.00899,
          0.00945,
          0.00945,
          0.00745,
          0.00654,
          0.00772,
          0.00981,
          0.00836,
          0.00936,
          0.00727,
          0.00727,
          0.00645,
          0.00481,
          0.01072,
          0.0089,
          0.00945,
          0.00881,
          0.00799,
          0.00736,
          0.00463,
          0.00663,
          0.01036,
          0.00827,
          0.00818,
          0.00536,
          0.00281,
          0.00454,
          0.00636,
          0.00463,
          0.00754,
          0.00936,
          0.00727,
          0.00554,
          0.00445,
          0.00527,
          0.0079,
          0.01018,
          0.00799,
          0.00518,
          0.00418,
          0.0039,
          0.00681,
          0.00745,
          0.0079,
          0.00609,
          0.00554,
          0.00599,
          0.00645,
          0.00799,
          0.00818,
          0.00699,
          0.0069,
          0.00763,
          0.00809,
          0.00563,
          0.01054,
          0.00918,
          0.00799,
          0.00863,
          0.00554,
          0.00718,
          0.00499,
          0.00727,
          0.0059,
          0.00509,
          0.00563,
          0.00463,
          0.00599,
          0.00645,
          0.00781,
          0.00599,
          0.00481,
          0.00727,
          0.00463,
          0.00536,
          0.00654,
          0.01018,
          0.00554,
          0.00745,
          0.00463,
          0.00463,
          0.00436,
          0.00509,
          0.00281,
          0.00436,
          0.00318,
          0.00299,
          0.00454,
          0.00399,
          0.0049,
          0.00472,
          0.00372,
          0.00472,
          0.00363,
          0.00399,
          0.00354,
          0.00499,
          0.00454,
          0.00418,
          0.00727,
          0.00581,
          0.00536,
          0.00309,
          0.00509,
          0.00409,
          0.00481,
          0.00599,
          0.00418,
          0.0029,
          0.00227,
          0.00381,
          0.00418,
          0.00463,
          0.00454,
          0.0059,
          0.00645,
          0.00372,
          0.00218,
          0.00645,
          0.03127,
          0.00454,
          0.00518,
          0.00836,
          0.00354,
          0.00309,
          0.00363,
          0.00527,
          0.00409,
          0.00518,
          0.0039,
          0.00254,
          0.00336,
          0.00563,
          0.00627,
          0.00427,
          0.00681,
          0.00572,
          0.00699,
          0.00436,
          0.0059,
          0.00663,
          0.00581,
          0.00363,
          0.00381,
          0.0039,
          0.00554,
          0.00745,
          0.00818,
          0.00763,
          0.01009,
          0.00809,
          0.00481,
          0.00454,
          0.0059,
          0.00609,
          0.00609,
          0.00545,
          0.00754,
          0.03927,
          0.05627,
          0.0829,
          0.04436,
          0.02763,
          0.01999,
          0.02245,
          0.01272,
          0.01381,
          0.01545,
          0.01436,
          0.01318,
          0.01109,
          0.01036,
          0.00672,
          0.00363,
          0.00472,
          0.00499,
          0.00772,
          0.00936,
          0.00981,
          0.00681,
          0.00799,
          0.00845,
          0.00599,
          0.00736,
          0.00963,
          0.0089,
          0.00681,
          0.00436,
          0.00772,
          0.00845,
          0.00936,
          0.00699,
          0.00718,
          0.0069,
          0.00781,
          0.00799,
          0.01163,
          0.00963,
          0.00799,
          0.00899,
          0.00799,
          0.0079,
          0.01154,
          0.01663,
          0.00981,
          0.02727,
          0.01672,
          0.01309,
          0.01681,
          0.01545,
          0.01554,
          0.01627,
          0.01572,
          0.01599,
          0.01309,
          0.0089,
          0.01127,
          0.01872,
          0.01436,
          0.01499,
          0.01363,
          0.01318,
          0.00909,
          0.01436,
          0.01899,
          0.01963,
          0.0209,
          0.02081,
          0.01636,
          3.16772,
          0.05099,
          0.02799,
          0.02509,
          0.02599,
          0.02581,
          0.05118,
          0.01754,
          0.02127,
          0.03527,
          0.02863,
          0.02799,
          0.0309,
          0.01927,
          0.01536,
          0.02381,
          0.02799,
          0.02499,
          0.02872,
          0.02645,
          0.02245,
          0.0199,
          0.02254,
          0.02281,
          0.0229,
          0.02445,
          0.02318,
          0.02027,
          0.01572,
          0.0239,
          0.02963,
          0.02163,
          0.02181,
          0.02709,
          0.01563,
          0.01418,
          0.01809,
          0.01318,
          0.01618,
          0.02127,
          0.02081,
          0.01527,
          0.01018,
          0.01036,
          0.01336,
          0.01418,
          0.01763,
          0.01063,
          0.01181,
          0.00827,
          0.00909,
          0.01327,
          0.01172,
          0.01272,
          0.01118,
          0.00909,
          0.00709,
          0.00763,
          0.01081,
          0.00954,
          0.00909,
          0.00963,
          0.00681,
          0.00845,
          0.00999,
          0.00981,
          0.01209,
          0.0119,
          0.01254,
          0.00818,
          0.00718,
          0.00836,
          0.01172,
          0.01145,
          0.01145,
          0.01018,
          0.00818,
          0.00599,
          0.00336,
          0.00318,
          0.00536,
          0.0079,
          0.0099,
          0.00781,
          0.00554,
          0.00909,
          0.01045,
          0.00818,
          0.00727,
          0.0089,
          0.00818,
          0.00609,
          0.00809,
          0.0089,
          0.00854,
          0.01145,
          0.00954,
          0.0119,
          0.00718,
          0.01045,
          0.01018,
          0.01145,
          0.01199,
          0.00772,
          0.00981,
          0.00636,
          0.00963,
          0.00863,
          0.01127,
          0.00909,
          0.0079,
          0.00718,
          0.00627,
          0.00836,
          0.01227,
          0.00936,
          0.0079,
          0.00599,
          0.00654,
          0.00663,
          0.00718,
          0.01054,
          0.00999,
          0.00981,
          0.00809,
          0.00754,
          0.00499,
          0.00863,
          0.0079,
          0.0069,
          0.00918,
          0.00945,
          0.00881,
          0.00881,
          0.00799,
          0.00972,
          0.01081,
          0.01081,
          0.00781,
          0.00672,
          0.00781,
          0.0099,
          0.01018,
          0.00799,
          0.00799,
          0.00772,
          0.00718,
          0.00563,
          0.00854,
          0.00963,
          0.00954,
          0.01009,
          0.00863,
          0.00854,
          0.00872,
          0.01254,
          0.01072,
          0.00781,
          0.00963,
          0.00854,
          0.00499,
          0.00409,
          0.00918,
          0.00763,
          0.00627,
          0.00663,
          0.00718,
          0.00436,
          0.00436,
          0.00672,
          0.00736,
          0.00899,
          0.00727,
          0.00827,
          0.0069,
          0.00636,
          0.00836,
          0.0089,
          0.00581,
          0.00563,
          0.00599,
          0.00554,
          0.00781,
          0.00918,
          0.01163,
          0.0099,
          0.00599,
          0.0089,
          0.00718,
          0.00836,
          0.00954,
          0.01054,
          0.00827,
          0.00936,
          0.0079,
          0.00699,
          0.0059,
          0.00999,
          0.00909,
          0.00918,
          0.00581,
          0.00654,
          0.00709,
          0.00581,
          0.00736,
          0.01263,
          0.01063,
          0.01072,
          0.00881,
          0.01354,
          0.0059,
          0.00981,
          0.00663,
          0.00809,
          0.00818,
          0.00645,
          0.00518,
          0.00463,
          0.00681,
          0.0059,
          0.00645,
          0.00427,
          0.00454,
          0.00418,
          0.00272,
          0.00572,
          0.00563,
          0.00663,
          0.00872,
          0.00481,
          0.00281,
          0.00481,
          0.00754,
          0.00527,
          0.00581,
          0.00654,
          0.00609,
          0.00472,
          0.0059,
          0.00672,
          0.0059,
          0.00509,
          0.00436,
          0.00572,
          0.00381,
          0.00354,
          0.00463,
          0.00609,
          0.0049,
          0.00436,
          0.00381,
          0.00281,
          0.00236,
          0.00445,
          0.00409,
          0.00299,
          0.00354,
          0.00299,
          0.00363,
          0.00327,
          0.0039,
          0.00381,
          0.00572,
          0.00536,
          0.00627,
          0.00445,
          0.0039,
          0.0039,
          0.00581,
          0.00627,
          0.00363,
          0.00399,
          0.00309,
          0.0039,
          0.0059,
          0.00827,
          0.00727,
          0.01299,
          0.00809,
          0.00427,
          0.00672,
          0.00699,
          0.00745,
          0.00781,
          0.00599,
          0.00663,
          0.00618,
          0.00445,
          0.00736,
          0.00754,
          0.00618,
          0.00727,
          0.00618,
          0.00409,
          0.00627,
          0.00572,
          0.00536,
          0.00599,
          0.00545,
          0.00345,
          0.0039,
          0.00481,
          0.00681,
          0.01045,
          0.01172,
          0.00854,
          0.0059,
          0.00563,
          0.00627,
          0.00672,
          0.00818,
          0.0099,
          0.00863,
          0.0089,
          0.00536,
          0.00336,
          0.00881,
          0.0079,
          0.00518,
          0.00581,
          0.00581,
          0.00472,
          0.00472,
          0.00627,
          0.00645,
          0.00499,
          0.00645,
          0.00772,
          0.00509,
          0.00427,
          0.00581,
          0.00645,
          0.00799,
          0.00927,
          0.00836,
          0.00536,
          0.00527,
          0.00881,
          0.00972,
          0.0099,
          0.00963,
          0.00781,
          0.00836,
          0.00699,
          0.00863,
          0.00936,
          0.00954,
          0.01054,
          0.00772,
          0.00872,
          0.0059,
          0.00754,
          0.01272,
          0.01009,
          0.00999,
          0.01036,
          0.00809,
          0.00809,
          0.00936,
          0.01081,
          0.01163,
          0.01227,
          0.01236,
          0.0079,
          0.00799,
          0.01136,
          0.01309,
          0.01345,
          0.01345,
          0.02309,
          0.01099,
          0.01118,
          0.01209,
          0.01481,
          0.0139,
          0.01736,
          0.01518,
          0.00927,
          0.00836,
          0.01372,
          0.0139,
          0.01518,
          0.01672,
          0.01336,
          0.01309,
          0.00836,
          0.01272,
          0.01881,
          0.01854,
          0.0199,
          0.01881,
          0.01499,
          0.01163,
          0.01536,
          0.02245,
          0.01999,
          0.0189,
          0.01854,
          0.01599,
          0.01427,
          0.01772,
          0.02418,
          0.01163,
          0.01518,
          0.02363,
          0.01609,
          0.01181,
          0.02054,
          0.02236,
          0.01699,
          0.01827,
          0.02845,
          0.02136,
          0.01927,
          0.03154,
          0.03927,
          0.02636,
          39.62181,
          11.13921,
          0.50434,
          0.21144,
          0.19244,
          0.25108,
          0.15535,
          0.38498,
          0.55043,
          0.26262,
          0.32662,
          20.6961,
          35.33284,
          29.74474,
          100,
          86.11541,
          62.84847,
          39.62772,
          57.07446,
          72.63073,
          52.06261,
          45.93889,
          58.4187,
          41.5073,
          41.73647,
          50.1994,
          37.28806,
          35.23094,
          39.3959,
          31.71404,
          40.46614,
          36.07691,
          52.11234,
          18.13918,
          15.90997,
          15.08472,
          16.94803,
          10.34468,
          9.79906,
          10.98521,
          14.97945,
          40.75986,
          59.21885,
          72.15665,
          85.23907,
          82.90014,
          79.89478,
          79.95441,
          71.26268,
          71.07204,
          66.20619,
          61.04053,
          56.20422,
          60.86853,
          47.17367,
          39.84053,
          33.24218,
          29.61647,
          26.90492,
          26.4902,
          29.79228,
          28.49514,
          24.02346,
          20.56511,
          19.29851,
          16.62577,
          14.92164,
          16.8914,
          14.70828,
          13.9044,
          18.50553,
          13.56359,
          11.28111,
          11.1433,
          11.56656,
          10.87394,
          10.51795,
          10.38105,
          10.15869,
          10.25105,
          8.86464,
          8.6911,
          8.30075,
          7.70922,
          7.50622,
          7.44741,
          6.04172,
          5.55301,
          10.90885,
          6.23063,
          5.6701,
          5.61237,
          6.2549,
          5.82991,
          5.00848,
          5.32111,
          5.00666,
          4.97503,
          5.45701,
          4.7484,
          4.22987,
          4.90394,
          5.54437,
          4.68531,
          4.73403,
          4.52131,
          4.51768,
          4.13405,
          3.95342,
          4.11033,
          3.73088,
          3.78952,
          3.32444,
          3.54552,
          3.73843,
          3.33962,
          3.63143,
          2.92654,
          3.33689,
          3.50653,
          5.35438,
          6.63807,
          8.82791,
          10.40696,
          6.70252,
          6.00609,
          5.2862,
          4.38068,
          3.35817,
          3.16008,
          3.64707,
          3.29662,
          3.9526,
          3.6327,
          3.55516,
          2.91663,
          2.849,
          3.24426,
          3.21344,
          3.93397,
          5.55656,
          4.95803,
          3.41698,
          3.25944,
          3.48534,
          3.20117,
          3.11254,
          2.92891,
          2.82864,
          2.53792,
          2.59355,
          2.86927,
          2.92045,
          2.6541,
          2.5901,
          2.52701,
          2.21866,
          2.16084,
          2.48365,
          2.36192,
          8.08248,
          2.28038,
          2.29765,
          2.20002,
          2.21329,
          2.4661,
          2.50456,
          2.20747,
          2.16993,
          2.15139,
          1.96848,
          2.1972,
          2.41501
         ],
         "yaxis": "y"
        }
       ],
       "layout": {
        "height": 216,
        "legend": {
         "tracegroupgap": 0
        },
        "margin": {
         "b": 0,
         "l": 90,
         "r": 110,
         "t": 10
        },
        "shapes": [
         {
          "fillcolor": "rgba(255, 0, 0, 0.2)",
          "line": {
           "width": 0
          },
          "type": "rect",
          "x0": "2020-02-23",
          "x1": "2020-07-05",
          "y0": 0,
          "y1": 100
         },
         {
          "fillcolor": "rgba(255, 155, 0, 0.2)",
          "line": {
           "width": 0
          },
          "type": "rect",
          "x0": "2020-01-28",
          "x1": "2020-02-23",
          "y0": 0,
          "y1": 100
         },
         {
          "fillcolor": "rgba(0, 0, 255, 0.2)",
          "line": {
           "width": 0
          },
          "type": "rect",
          "x0": "2020-01-03",
          "x1": "2020-01-20",
          "y0": 0,
          "y1": 100
         },
         {
          "fillcolor": "rgba(255, 255, 0, 0.2)",
          "line": {
           "width": 0
          },
          "type": "rect",
          "x0": "2020-01-20",
          "x1": "2020-01-28",
          "y0": 0,
          "y1": 100
         }
        ],
        "template": {
         "data": {
          "bar": [
           {
            "error_x": {
             "color": "#2a3f5f"
            },
            "error_y": {
             "color": "#2a3f5f"
            },
            "marker": {
             "line": {
              "color": "#E5ECF6",
              "width": 0.5
             },
             "pattern": {
              "fillmode": "overlay",
              "size": 10,
              "solidity": 0.2
             }
            },
            "type": "bar"
           }
          ],
          "barpolar": [
           {
            "marker": {
             "line": {
              "color": "#E5ECF6",
              "width": 0.5
             },
             "pattern": {
              "fillmode": "overlay",
              "size": 10,
              "solidity": 0.2
             }
            },
            "type": "barpolar"
           }
          ],
          "carpet": [
           {
            "aaxis": {
             "endlinecolor": "#2a3f5f",
             "gridcolor": "white",
             "linecolor": "white",
             "minorgridcolor": "white",
             "startlinecolor": "#2a3f5f"
            },
            "baxis": {
             "endlinecolor": "#2a3f5f",
             "gridcolor": "white",
             "linecolor": "white",
             "minorgridcolor": "white",
             "startlinecolor": "#2a3f5f"
            },
            "type": "carpet"
           }
          ],
          "choropleth": [
           {
            "colorbar": {
             "outlinewidth": 0,
             "ticks": ""
            },
            "type": "choropleth"
           }
          ],
          "contour": [
           {
            "colorbar": {
             "outlinewidth": 0,
             "ticks": ""
            },
            "colorscale": [
             [
              0,
              "#0d0887"
             ],
             [
              0.1111111111111111,
              "#46039f"
             ],
             [
              0.2222222222222222,
              "#7201a8"
             ],
             [
              0.3333333333333333,
              "#9c179e"
             ],
             [
              0.4444444444444444,
              "#bd3786"
             ],
             [
              0.5555555555555556,
              "#d8576b"
             ],
             [
              0.6666666666666666,
              "#ed7953"
             ],
             [
              0.7777777777777778,
              "#fb9f3a"
             ],
             [
              0.8888888888888888,
              "#fdca26"
             ],
             [
              1,
              "#f0f921"
             ]
            ],
            "type": "contour"
           }
          ],
          "contourcarpet": [
           {
            "colorbar": {
             "outlinewidth": 0,
             "ticks": ""
            },
            "type": "contourcarpet"
           }
          ],
          "heatmap": [
           {
            "colorbar": {
             "outlinewidth": 0,
             "ticks": ""
            },
            "colorscale": [
             [
              0,
              "#0d0887"
             ],
             [
              0.1111111111111111,
              "#46039f"
             ],
             [
              0.2222222222222222,
              "#7201a8"
             ],
             [
              0.3333333333333333,
              "#9c179e"
             ],
             [
              0.4444444444444444,
              "#bd3786"
             ],
             [
              0.5555555555555556,
              "#d8576b"
             ],
             [
              0.6666666666666666,
              "#ed7953"
             ],
             [
              0.7777777777777778,
              "#fb9f3a"
             ],
             [
              0.8888888888888888,
              "#fdca26"
             ],
             [
              1,
              "#f0f921"
             ]
            ],
            "type": "heatmap"
           }
          ],
          "heatmapgl": [
           {
            "colorbar": {
             "outlinewidth": 0,
             "ticks": ""
            },
            "colorscale": [
             [
              0,
              "#0d0887"
             ],
             [
              0.1111111111111111,
              "#46039f"
             ],
             [
              0.2222222222222222,
              "#7201a8"
             ],
             [
              0.3333333333333333,
              "#9c179e"
             ],
             [
              0.4444444444444444,
              "#bd3786"
             ],
             [
              0.5555555555555556,
              "#d8576b"
             ],
             [
              0.6666666666666666,
              "#ed7953"
             ],
             [
              0.7777777777777778,
              "#fb9f3a"
             ],
             [
              0.8888888888888888,
              "#fdca26"
             ],
             [
              1,
              "#f0f921"
             ]
            ],
            "type": "heatmapgl"
           }
          ],
          "histogram": [
           {
            "marker": {
             "pattern": {
              "fillmode": "overlay",
              "size": 10,
              "solidity": 0.2
             }
            },
            "type": "histogram"
           }
          ],
          "histogram2d": [
           {
            "colorbar": {
             "outlinewidth": 0,
             "ticks": ""
            },
            "colorscale": [
             [
              0,
              "#0d0887"
             ],
             [
              0.1111111111111111,
              "#46039f"
             ],
             [
              0.2222222222222222,
              "#7201a8"
             ],
             [
              0.3333333333333333,
              "#9c179e"
             ],
             [
              0.4444444444444444,
              "#bd3786"
             ],
             [
              0.5555555555555556,
              "#d8576b"
             ],
             [
              0.6666666666666666,
              "#ed7953"
             ],
             [
              0.7777777777777778,
              "#fb9f3a"
             ],
             [
              0.8888888888888888,
              "#fdca26"
             ],
             [
              1,
              "#f0f921"
             ]
            ],
            "type": "histogram2d"
           }
          ],
          "histogram2dcontour": [
           {
            "colorbar": {
             "outlinewidth": 0,
             "ticks": ""
            },
            "colorscale": [
             [
              0,
              "#0d0887"
             ],
             [
              0.1111111111111111,
              "#46039f"
             ],
             [
              0.2222222222222222,
              "#7201a8"
             ],
             [
              0.3333333333333333,
              "#9c179e"
             ],
             [
              0.4444444444444444,
              "#bd3786"
             ],
             [
              0.5555555555555556,
              "#d8576b"
             ],
             [
              0.6666666666666666,
              "#ed7953"
             ],
             [
              0.7777777777777778,
              "#fb9f3a"
             ],
             [
              0.8888888888888888,
              "#fdca26"
             ],
             [
              1,
              "#f0f921"
             ]
            ],
            "type": "histogram2dcontour"
           }
          ],
          "mesh3d": [
           {
            "colorbar": {
             "outlinewidth": 0,
             "ticks": ""
            },
            "type": "mesh3d"
           }
          ],
          "parcoords": [
           {
            "line": {
             "colorbar": {
              "outlinewidth": 0,
              "ticks": ""
             }
            },
            "type": "parcoords"
           }
          ],
          "pie": [
           {
            "automargin": true,
            "type": "pie"
           }
          ],
          "scatter": [
           {
            "fillpattern": {
             "fillmode": "overlay",
             "size": 10,
             "solidity": 0.2
            },
            "type": "scatter"
           }
          ],
          "scatter3d": [
           {
            "line": {
             "colorbar": {
              "outlinewidth": 0,
              "ticks": ""
             }
            },
            "marker": {
             "colorbar": {
              "outlinewidth": 0,
              "ticks": ""
             }
            },
            "type": "scatter3d"
           }
          ],
          "scattercarpet": [
           {
            "marker": {
             "colorbar": {
              "outlinewidth": 0,
              "ticks": ""
             }
            },
            "type": "scattercarpet"
           }
          ],
          "scattergeo": [
           {
            "marker": {
             "colorbar": {
              "outlinewidth": 0,
              "ticks": ""
             }
            },
            "type": "scattergeo"
           }
          ],
          "scattergl": [
           {
            "marker": {
             "colorbar": {
              "outlinewidth": 0,
              "ticks": ""
             }
            },
            "type": "scattergl"
           }
          ],
          "scattermapbox": [
           {
            "marker": {
             "colorbar": {
              "outlinewidth": 0,
              "ticks": ""
             }
            },
            "type": "scattermapbox"
           }
          ],
          "scatterpolar": [
           {
            "marker": {
             "colorbar": {
              "outlinewidth": 0,
              "ticks": ""
             }
            },
            "type": "scatterpolar"
           }
          ],
          "scatterpolargl": [
           {
            "marker": {
             "colorbar": {
              "outlinewidth": 0,
              "ticks": ""
             }
            },
            "type": "scatterpolargl"
           }
          ],
          "scatterternary": [
           {
            "marker": {
             "colorbar": {
              "outlinewidth": 0,
              "ticks": ""
             }
            },
            "type": "scatterternary"
           }
          ],
          "surface": [
           {
            "colorbar": {
             "outlinewidth": 0,
             "ticks": ""
            },
            "colorscale": [
             [
              0,
              "#0d0887"
             ],
             [
              0.1111111111111111,
              "#46039f"
             ],
             [
              0.2222222222222222,
              "#7201a8"
             ],
             [
              0.3333333333333333,
              "#9c179e"
             ],
             [
              0.4444444444444444,
              "#bd3786"
             ],
             [
              0.5555555555555556,
              "#d8576b"
             ],
             [
              0.6666666666666666,
              "#ed7953"
             ],
             [
              0.7777777777777778,
              "#fb9f3a"
             ],
             [
              0.8888888888888888,
              "#fdca26"
             ],
             [
              1,
              "#f0f921"
             ]
            ],
            "type": "surface"
           }
          ],
          "table": [
           {
            "cells": {
             "fill": {
              "color": "#EBF0F8"
             },
             "line": {
              "color": "white"
             }
            },
            "header": {
             "fill": {
              "color": "#C8D4E3"
             },
             "line": {
              "color": "white"
             }
            },
            "type": "table"
           }
          ]
         },
         "layout": {
          "annotationdefaults": {
           "arrowcolor": "#2a3f5f",
           "arrowhead": 0,
           "arrowwidth": 1
          },
          "autotypenumbers": "strict",
          "coloraxis": {
           "colorbar": {
            "outlinewidth": 0,
            "ticks": ""
           }
          },
          "colorscale": {
           "diverging": [
            [
             0,
             "#8e0152"
            ],
            [
             0.1,
             "#c51b7d"
            ],
            [
             0.2,
             "#de77ae"
            ],
            [
             0.3,
             "#f1b6da"
            ],
            [
             0.4,
             "#fde0ef"
            ],
            [
             0.5,
             "#f7f7f7"
            ],
            [
             0.6,
             "#e6f5d0"
            ],
            [
             0.7,
             "#b8e186"
            ],
            [
             0.8,
             "#7fbc41"
            ],
            [
             0.9,
             "#4d9221"
            ],
            [
             1,
             "#276419"
            ]
           ],
           "sequential": [
            [
             0,
             "#0d0887"
            ],
            [
             0.1111111111111111,
             "#46039f"
            ],
            [
             0.2222222222222222,
             "#7201a8"
            ],
            [
             0.3333333333333333,
             "#9c179e"
            ],
            [
             0.4444444444444444,
             "#bd3786"
            ],
            [
             0.5555555555555556,
             "#d8576b"
            ],
            [
             0.6666666666666666,
             "#ed7953"
            ],
            [
             0.7777777777777778,
             "#fb9f3a"
            ],
            [
             0.8888888888888888,
             "#fdca26"
            ],
            [
             1,
             "#f0f921"
            ]
           ],
           "sequentialminus": [
            [
             0,
             "#0d0887"
            ],
            [
             0.1111111111111111,
             "#46039f"
            ],
            [
             0.2222222222222222,
             "#7201a8"
            ],
            [
             0.3333333333333333,
             "#9c179e"
            ],
            [
             0.4444444444444444,
             "#bd3786"
            ],
            [
             0.5555555555555556,
             "#d8576b"
            ],
            [
             0.6666666666666666,
             "#ed7953"
            ],
            [
             0.7777777777777778,
             "#fb9f3a"
            ],
            [
             0.8888888888888888,
             "#fdca26"
            ],
            [
             1,
             "#f0f921"
            ]
           ]
          },
          "colorway": [
           "#636efa",
           "#EF553B",
           "#00cc96",
           "#ab63fa",
           "#FFA15A",
           "#19d3f3",
           "#FF6692",
           "#B6E880",
           "#FF97FF",
           "#FECB52"
          ],
          "font": {
           "color": "#2a3f5f"
          },
          "geo": {
           "bgcolor": "white",
           "lakecolor": "white",
           "landcolor": "#E5ECF6",
           "showlakes": true,
           "showland": true,
           "subunitcolor": "white"
          },
          "hoverlabel": {
           "align": "left"
          },
          "hovermode": "closest",
          "mapbox": {
           "style": "light"
          },
          "paper_bgcolor": "white",
          "plot_bgcolor": "#E5ECF6",
          "polar": {
           "angularaxis": {
            "gridcolor": "white",
            "linecolor": "white",
            "ticks": ""
           },
           "bgcolor": "#E5ECF6",
           "radialaxis": {
            "gridcolor": "white",
            "linecolor": "white",
            "ticks": ""
           }
          },
          "scene": {
           "xaxis": {
            "backgroundcolor": "#E5ECF6",
            "gridcolor": "white",
            "gridwidth": 2,
            "linecolor": "white",
            "showbackground": true,
            "ticks": "",
            "zerolinecolor": "white"
           },
           "yaxis": {
            "backgroundcolor": "#E5ECF6",
            "gridcolor": "white",
            "gridwidth": 2,
            "linecolor": "white",
            "showbackground": true,
            "ticks": "",
            "zerolinecolor": "white"
           },
           "zaxis": {
            "backgroundcolor": "#E5ECF6",
            "gridcolor": "white",
            "gridwidth": 2,
            "linecolor": "white",
            "showbackground": true,
            "ticks": "",
            "zerolinecolor": "white"
           }
          },
          "shapedefaults": {
           "line": {
            "color": "#2a3f5f"
           }
          },
          "ternary": {
           "aaxis": {
            "gridcolor": "white",
            "linecolor": "white",
            "ticks": ""
           },
           "baxis": {
            "gridcolor": "white",
            "linecolor": "white",
            "ticks": ""
           },
           "bgcolor": "#E5ECF6",
           "caxis": {
            "gridcolor": "white",
            "linecolor": "white",
            "ticks": ""
           }
          },
          "title": {
           "x": 0.05
          },
          "xaxis": {
           "automargin": true,
           "gridcolor": "white",
           "linecolor": "white",
           "ticks": "",
           "title": {
            "standoff": 15
           },
           "zerolinecolor": "white",
           "zerolinewidth": 2
          },
          "yaxis": {
           "automargin": true,
           "gridcolor": "white",
           "linecolor": "white",
           "ticks": "",
           "title": {
            "standoff": 15
           },
           "zerolinecolor": "white",
           "zerolinewidth": 2
          }
         }
        },
        "width": 864,
        "xaxis": {
         "anchor": "y",
         "domain": [
          0,
          1
         ],
         "range": [
          "2020-01-01T00:00:00",
          "2020-07-05T00:00:00"
         ],
         "title": {
          "text": "Date"
         }
        },
        "yaxis": {
         "anchor": "x",
         "domain": [
          0,
          1
         ],
         "range": [
          0,
          100
         ],
         "title": {
          "text": "Coronavirus Search Trend"
         }
        }
       }
      },
      "text/html": [
       "<div>                            <div id=\"c95cdbe0-8815-40c3-aab7-f76af6ee6258\" class=\"plotly-graph-div\" style=\"height:216.0px; width:864px;\"></div>            <script type=\"text/javascript\">                require([\"plotly\"], function(Plotly) {                    window.PLOTLYENV=window.PLOTLYENV || {};                                    if (document.getElementById(\"c95cdbe0-8815-40c3-aab7-f76af6ee6258\")) {                    Plotly.newPlot(                        \"c95cdbe0-8815-40c3-aab7-f76af6ee6258\",                        [{\"hovertemplate\":\"Date=%{x}<br>Coronavirus Search Trend=%{y}<extra></extra>\",\"legendgroup\":\"\",\"line\":{\"color\":\"#636efa\",\"dash\":\"solid\"},\"marker\":{\"symbol\":\"circle\"},\"mode\":\"lines\",\"name\":\"\",\"showlegend\":false,\"x\":[\"2016-01-01\",\"2016-01-02\",\"2016-01-03\",\"2016-01-04\",\"2016-01-05\",\"2016-01-06\",\"2016-01-07\",\"2016-01-08\",\"2016-01-09\",\"2016-01-10\",\"2016-01-11\",\"2016-01-12\",\"2016-01-13\",\"2016-01-14\",\"2016-01-15\",\"2016-01-16\",\"2016-01-17\",\"2016-01-18\",\"2016-01-19\",\"2016-01-20\",\"2016-01-21\",\"2016-01-22\",\"2016-01-23\",\"2016-01-24\",\"2016-01-25\",\"2016-01-26\",\"2016-01-27\",\"2016-01-28\",\"2016-01-29\",\"2016-01-30\",\"2016-01-31\",\"2016-02-01\",\"2016-02-02\",\"2016-02-03\",\"2016-02-04\",\"2016-02-05\",\"2016-02-06\",\"2016-02-07\",\"2016-02-08\",\"2016-02-09\",\"2016-02-10\",\"2016-02-11\",\"2016-02-12\",\"2016-02-13\",\"2016-02-14\",\"2016-02-15\",\"2016-02-16\",\"2016-02-17\",\"2016-02-18\",\"2016-02-19\",\"2016-02-20\",\"2016-02-21\",\"2016-02-22\",\"2016-02-23\",\"2016-02-24\",\"2016-02-25\",\"2016-02-26\",\"2016-02-27\",\"2016-02-28\",\"2016-02-29\",\"2016-03-01\",\"2016-03-02\",\"2016-03-03\",\"2016-03-04\",\"2016-03-05\",\"2016-03-06\",\"2016-03-07\",\"2016-03-08\",\"2016-03-09\",\"2016-03-10\",\"2016-03-11\",\"2016-03-12\",\"2016-03-13\",\"2016-03-14\",\"2016-03-15\",\"2016-03-16\",\"2016-03-17\",\"2016-03-18\",\"2016-03-19\",\"2016-03-20\",\"2016-03-21\",\"2016-03-22\",\"2016-03-23\",\"2016-03-24\",\"2016-03-25\",\"2016-03-26\",\"2016-03-27\",\"2016-03-28\",\"2016-03-29\",\"2016-03-30\",\"2016-03-31\",\"2016-04-01\",\"2016-04-02\",\"2016-04-03\",\"2016-04-04\",\"2016-04-05\",\"2016-04-06\",\"2016-04-07\",\"2016-04-08\",\"2016-04-09\",\"2016-04-10\",\"2016-04-11\",\"2016-04-12\",\"2016-04-13\",\"2016-04-14\",\"2016-04-15\",\"2016-04-16\",\"2016-04-17\",\"2016-04-18\",\"2016-04-19\",\"2016-04-20\",\"2016-04-21\",\"2016-04-22\",\"2016-04-23\",\"2016-04-24\",\"2016-04-25\",\"2016-04-26\",\"2016-04-27\",\"2016-04-28\",\"2016-04-29\",\"2016-04-30\",\"2016-05-01\",\"2016-05-02\",\"2016-05-03\",\"2016-05-04\",\"2016-05-05\",\"2016-05-06\",\"2016-05-07\",\"2016-05-08\",\"2016-05-09\",\"2016-05-10\",\"2016-05-11\",\"2016-05-12\",\"2016-05-13\",\"2016-05-14\",\"2016-05-15\",\"2016-05-16\",\"2016-05-17\",\"2016-05-18\",\"2016-05-19\",\"2016-05-20\",\"2016-05-21\",\"2016-05-22\",\"2016-05-23\",\"2016-05-24\",\"2016-05-25\",\"2016-05-26\",\"2016-05-27\",\"2016-05-28\",\"2016-05-29\",\"2016-05-30\",\"2016-05-31\",\"2016-06-01\",\"2016-06-02\",\"2016-06-03\",\"2016-06-04\",\"2016-06-05\",\"2016-06-06\",\"2016-06-07\",\"2016-06-08\",\"2016-06-09\",\"2016-06-10\",\"2016-06-11\",\"2016-06-12\",\"2016-06-13\",\"2016-06-14\",\"2016-06-15\",\"2016-06-16\",\"2016-06-17\",\"2016-06-18\",\"2016-06-19\",\"2016-06-20\",\"2016-06-21\",\"2016-06-22\",\"2016-06-23\",\"2016-06-24\",\"2016-06-25\",\"2016-06-26\",\"2016-06-27\",\"2016-06-28\",\"2016-06-29\",\"2016-06-30\",\"2016-07-01\",\"2016-07-02\",\"2016-07-03\",\"2016-07-04\",\"2016-07-05\",\"2016-07-06\",\"2016-07-07\",\"2016-07-08\",\"2016-07-09\",\"2016-07-10\",\"2016-07-11\",\"2016-07-12\",\"2016-07-13\",\"2016-07-14\",\"2016-07-15\",\"2016-07-16\",\"2016-07-17\",\"2016-07-18\",\"2016-07-19\",\"2016-07-20\",\"2016-07-21\",\"2016-07-22\",\"2016-07-23\",\"2016-07-24\",\"2016-07-25\",\"2016-07-26\",\"2016-07-27\",\"2016-07-28\",\"2016-07-29\",\"2016-07-30\",\"2016-07-31\",\"2016-08-01\",\"2016-08-02\",\"2016-08-03\",\"2016-08-04\",\"2016-08-05\",\"2016-08-06\",\"2016-08-07\",\"2016-08-08\",\"2016-08-09\",\"2016-08-10\",\"2016-08-11\",\"2016-08-12\",\"2016-08-13\",\"2016-08-14\",\"2016-08-15\",\"2016-08-16\",\"2016-08-17\",\"2016-08-18\",\"2016-08-19\",\"2016-08-20\",\"2016-08-21\",\"2016-08-22\",\"2016-08-23\",\"2016-08-24\",\"2016-08-25\",\"2016-08-26\",\"2016-08-27\",\"2016-08-28\",\"2016-08-29\",\"2016-08-30\",\"2016-08-31\",\"2016-09-01\",\"2016-09-02\",\"2016-09-03\",\"2016-09-04\",\"2016-09-05\",\"2016-09-06\",\"2016-09-07\",\"2016-09-08\",\"2016-09-09\",\"2016-09-10\",\"2016-09-11\",\"2016-09-12\",\"2016-09-13\",\"2016-09-14\",\"2016-09-15\",\"2016-09-16\",\"2016-09-17\",\"2016-09-18\",\"2016-09-19\",\"2016-09-20\",\"2016-09-21\",\"2016-09-22\",\"2016-09-23\",\"2016-09-24\",\"2016-09-25\",\"2016-09-26\",\"2016-09-27\",\"2016-09-28\",\"2016-09-29\",\"2016-09-30\",\"2016-10-01\",\"2016-10-02\",\"2016-10-03\",\"2016-10-04\",\"2016-10-05\",\"2016-10-06\",\"2016-10-07\",\"2016-10-08\",\"2016-10-09\",\"2016-10-10\",\"2016-10-11\",\"2016-10-12\",\"2016-10-13\",\"2016-10-14\",\"2016-10-15\",\"2016-10-16\",\"2016-10-17\",\"2016-10-18\",\"2016-10-19\",\"2016-10-20\",\"2016-10-21\",\"2016-10-22\",\"2016-10-23\",\"2016-10-24\",\"2016-10-25\",\"2016-10-26\",\"2016-10-27\",\"2016-10-28\",\"2016-10-29\",\"2016-10-30\",\"2016-10-31\",\"2016-11-01\",\"2016-11-02\",\"2016-11-03\",\"2016-11-04\",\"2016-11-05\",\"2016-11-06\",\"2016-11-07\",\"2016-11-08\",\"2016-11-09\",\"2016-11-10\",\"2016-11-11\",\"2016-11-12\",\"2016-11-13\",\"2016-11-14\",\"2016-11-15\",\"2016-11-16\",\"2016-11-17\",\"2016-11-18\",\"2016-11-19\",\"2016-11-20\",\"2016-11-21\",\"2016-11-22\",\"2016-11-23\",\"2016-11-24\",\"2016-11-25\",\"2016-11-26\",\"2016-11-27\",\"2016-11-28\",\"2016-11-29\",\"2016-11-30\",\"2016-12-01\",\"2016-12-02\",\"2016-12-03\",\"2016-12-04\",\"2016-12-05\",\"2016-12-06\",\"2016-12-07\",\"2016-12-08\",\"2016-12-09\",\"2016-12-10\",\"2016-12-11\",\"2016-12-12\",\"2016-12-13\",\"2016-12-14\",\"2016-12-15\",\"2016-12-16\",\"2016-12-17\",\"2016-12-18\",\"2016-12-19\",\"2016-12-20\",\"2016-12-21\",\"2016-12-22\",\"2016-12-23\",\"2016-12-24\",\"2016-12-25\",\"2016-12-26\",\"2016-12-27\",\"2016-12-28\",\"2016-12-29\",\"2016-12-30\",\"2016-12-31\",\"2017-01-01\",\"2017-01-02\",\"2017-01-03\",\"2017-01-04\",\"2017-01-05\",\"2017-01-06\",\"2017-01-07\",\"2017-01-08\",\"2017-01-09\",\"2017-01-10\",\"2017-01-11\",\"2017-01-12\",\"2017-01-13\",\"2017-01-14\",\"2017-01-15\",\"2017-01-16\",\"2017-01-17\",\"2017-01-18\",\"2017-01-19\",\"2017-01-20\",\"2017-01-21\",\"2017-01-22\",\"2017-01-23\",\"2017-01-24\",\"2017-01-25\",\"2017-01-26\",\"2017-01-27\",\"2017-01-28\",\"2017-01-29\",\"2017-01-30\",\"2017-01-31\",\"2017-02-01\",\"2017-02-02\",\"2017-02-03\",\"2017-02-04\",\"2017-02-05\",\"2017-02-06\",\"2017-02-07\",\"2017-02-08\",\"2017-02-09\",\"2017-02-10\",\"2017-02-11\",\"2017-02-12\",\"2017-02-13\",\"2017-02-14\",\"2017-02-15\",\"2017-02-16\",\"2017-02-17\",\"2017-02-18\",\"2017-02-19\",\"2017-02-20\",\"2017-02-21\",\"2017-02-22\",\"2017-02-23\",\"2017-02-24\",\"2017-02-25\",\"2017-02-26\",\"2017-02-27\",\"2017-02-28\",\"2017-03-01\",\"2017-03-02\",\"2017-03-03\",\"2017-03-04\",\"2017-03-05\",\"2017-03-06\",\"2017-03-07\",\"2017-03-08\",\"2017-03-09\",\"2017-03-10\",\"2017-03-11\",\"2017-03-12\",\"2017-03-13\",\"2017-03-14\",\"2017-03-15\",\"2017-03-16\",\"2017-03-17\",\"2017-03-18\",\"2017-03-19\",\"2017-03-20\",\"2017-03-21\",\"2017-03-22\",\"2017-03-23\",\"2017-03-24\",\"2017-03-25\",\"2017-03-26\",\"2017-03-27\",\"2017-03-28\",\"2017-03-29\",\"2017-03-30\",\"2017-03-31\",\"2017-04-01\",\"2017-04-02\",\"2017-04-03\",\"2017-04-04\",\"2017-04-05\",\"2017-04-06\",\"2017-04-07\",\"2017-04-08\",\"2017-04-09\",\"2017-04-10\",\"2017-04-11\",\"2017-04-12\",\"2017-04-13\",\"2017-04-14\",\"2017-04-15\",\"2017-04-16\",\"2017-04-17\",\"2017-04-18\",\"2017-04-19\",\"2017-04-20\",\"2017-04-21\",\"2017-04-22\",\"2017-04-23\",\"2017-04-24\",\"2017-04-25\",\"2017-04-26\",\"2017-04-27\",\"2017-04-28\",\"2017-04-29\",\"2017-04-30\",\"2017-05-01\",\"2017-05-02\",\"2017-05-03\",\"2017-05-04\",\"2017-05-05\",\"2017-05-06\",\"2017-05-07\",\"2017-05-08\",\"2017-05-09\",\"2017-05-10\",\"2017-05-11\",\"2017-05-12\",\"2017-05-13\",\"2017-05-14\",\"2017-05-15\",\"2017-05-16\",\"2017-05-17\",\"2017-05-18\",\"2017-05-19\",\"2017-05-20\",\"2017-05-21\",\"2017-05-22\",\"2017-05-23\",\"2017-05-24\",\"2017-05-25\",\"2017-05-26\",\"2017-05-27\",\"2017-05-28\",\"2017-05-29\",\"2017-05-30\",\"2017-05-31\",\"2017-06-01\",\"2017-06-02\",\"2017-06-03\",\"2017-06-04\",\"2017-06-05\",\"2017-06-06\",\"2017-06-07\",\"2017-06-08\",\"2017-06-09\",\"2017-06-10\",\"2017-06-11\",\"2017-06-12\",\"2017-06-13\",\"2017-06-14\",\"2017-06-15\",\"2017-06-16\",\"2017-06-17\",\"2017-06-18\",\"2017-06-19\",\"2017-06-20\",\"2017-06-21\",\"2017-06-22\",\"2017-06-23\",\"2017-06-24\",\"2017-06-25\",\"2017-06-26\",\"2017-06-27\",\"2017-06-28\",\"2017-06-29\",\"2017-06-30\",\"2017-07-01\",\"2017-07-02\",\"2017-07-03\",\"2017-07-04\",\"2017-07-05\",\"2017-07-06\",\"2017-07-07\",\"2017-07-08\",\"2017-07-09\",\"2017-07-10\",\"2017-07-11\",\"2017-07-12\",\"2017-07-13\",\"2017-07-14\",\"2017-07-15\",\"2017-07-16\",\"2017-07-17\",\"2017-07-18\",\"2017-07-19\",\"2017-07-20\",\"2017-07-21\",\"2017-07-22\",\"2017-07-23\",\"2017-07-24\",\"2017-07-25\",\"2017-07-26\",\"2017-07-27\",\"2017-07-28\",\"2017-07-29\",\"2017-07-30\",\"2017-07-31\",\"2017-08-01\",\"2017-08-02\",\"2017-08-03\",\"2017-08-04\",\"2017-08-05\",\"2017-08-06\",\"2017-08-07\",\"2017-08-08\",\"2017-08-09\",\"2017-08-10\",\"2017-08-11\",\"2017-08-12\",\"2017-08-13\",\"2017-08-14\",\"2017-08-15\",\"2017-08-16\",\"2017-08-17\",\"2017-08-18\",\"2017-08-19\",\"2017-08-20\",\"2017-08-21\",\"2017-08-22\",\"2017-08-23\",\"2017-08-24\",\"2017-08-25\",\"2017-08-26\",\"2017-08-27\",\"2017-08-28\",\"2017-08-29\",\"2017-08-30\",\"2017-08-31\",\"2017-09-01\",\"2017-09-02\",\"2017-09-03\",\"2017-09-04\",\"2017-09-05\",\"2017-09-06\",\"2017-09-07\",\"2017-09-08\",\"2017-09-09\",\"2017-09-10\",\"2017-09-11\",\"2017-09-12\",\"2017-09-13\",\"2017-09-14\",\"2017-09-15\",\"2017-09-16\",\"2017-09-17\",\"2017-09-18\",\"2017-09-19\",\"2017-09-20\",\"2017-09-21\",\"2017-09-22\",\"2017-09-23\",\"2017-09-24\",\"2017-09-25\",\"2017-09-26\",\"2017-09-27\",\"2017-09-28\",\"2017-09-29\",\"2017-09-30\",\"2017-10-01\",\"2017-10-02\",\"2017-10-03\",\"2017-10-04\",\"2017-10-05\",\"2017-10-06\",\"2017-10-07\",\"2017-10-08\",\"2017-10-09\",\"2017-10-10\",\"2017-10-11\",\"2017-10-12\",\"2017-10-13\",\"2017-10-14\",\"2017-10-15\",\"2017-10-16\",\"2017-10-17\",\"2017-10-18\",\"2017-10-19\",\"2017-10-20\",\"2017-10-21\",\"2017-10-22\",\"2017-10-23\",\"2017-10-24\",\"2017-10-25\",\"2017-10-26\",\"2017-10-27\",\"2017-10-28\",\"2017-10-29\",\"2017-10-30\",\"2017-10-31\",\"2017-11-01\",\"2017-11-02\",\"2017-11-03\",\"2017-11-04\",\"2017-11-05\",\"2017-11-06\",\"2017-11-07\",\"2017-11-08\",\"2017-11-09\",\"2017-11-10\",\"2017-11-11\",\"2017-11-12\",\"2017-11-13\",\"2017-11-14\",\"2017-11-15\",\"2017-11-16\",\"2017-11-17\",\"2017-11-18\",\"2017-11-19\",\"2017-11-20\",\"2017-11-21\",\"2017-11-22\",\"2017-11-23\",\"2017-11-24\",\"2017-11-25\",\"2017-11-26\",\"2017-11-27\",\"2017-11-28\",\"2017-11-29\",\"2017-11-30\",\"2017-12-01\",\"2017-12-02\",\"2017-12-03\",\"2017-12-04\",\"2017-12-05\",\"2017-12-06\",\"2017-12-07\",\"2017-12-08\",\"2017-12-09\",\"2017-12-10\",\"2017-12-11\",\"2017-12-12\",\"2017-12-13\",\"2017-12-14\",\"2017-12-15\",\"2017-12-16\",\"2017-12-17\",\"2017-12-18\",\"2017-12-19\",\"2017-12-20\",\"2017-12-21\",\"2017-12-22\",\"2017-12-23\",\"2017-12-24\",\"2017-12-25\",\"2017-12-26\",\"2017-12-27\",\"2017-12-28\",\"2017-12-29\",\"2017-12-30\",\"2017-12-31\",\"2018-01-01\",\"2018-01-02\",\"2018-01-03\",\"2018-01-04\",\"2018-01-05\",\"2018-01-06\",\"2018-01-07\",\"2018-01-08\",\"2018-01-09\",\"2018-01-10\",\"2018-01-11\",\"2018-01-12\",\"2018-01-13\",\"2018-01-14\",\"2018-01-15\",\"2018-01-16\",\"2018-01-17\",\"2018-01-18\",\"2018-01-19\",\"2018-01-20\",\"2018-01-21\",\"2018-01-22\",\"2018-01-23\",\"2018-01-24\",\"2018-01-25\",\"2018-01-26\",\"2018-01-27\",\"2018-01-28\",\"2018-01-29\",\"2018-01-30\",\"2018-01-31\",\"2018-02-01\",\"2018-02-02\",\"2018-02-03\",\"2018-02-04\",\"2018-02-05\",\"2018-02-06\",\"2018-02-07\",\"2018-02-08\",\"2018-02-09\",\"2018-02-10\",\"2018-02-11\",\"2018-02-12\",\"2018-02-13\",\"2018-02-14\",\"2018-02-15\",\"2018-02-16\",\"2018-02-17\",\"2018-02-18\",\"2018-02-19\",\"2018-02-20\",\"2018-02-21\",\"2018-02-22\",\"2018-02-23\",\"2018-02-24\",\"2018-02-25\",\"2018-02-26\",\"2018-02-27\",\"2018-02-28\",\"2018-03-01\",\"2018-03-02\",\"2018-03-03\",\"2018-03-04\",\"2018-03-05\",\"2018-03-06\",\"2018-03-07\",\"2018-03-08\",\"2018-03-09\",\"2018-03-10\",\"2018-03-11\",\"2018-03-12\",\"2018-03-13\",\"2018-03-14\",\"2018-03-15\",\"2018-03-16\",\"2018-03-17\",\"2018-03-18\",\"2018-03-19\",\"2018-03-20\",\"2018-03-21\",\"2018-03-22\",\"2018-03-23\",\"2018-03-24\",\"2018-03-25\",\"2018-03-26\",\"2018-03-27\",\"2018-03-28\",\"2018-03-29\",\"2018-03-30\",\"2018-03-31\",\"2018-04-01\",\"2018-04-02\",\"2018-04-03\",\"2018-04-04\",\"2018-04-05\",\"2018-04-06\",\"2018-04-07\",\"2018-04-08\",\"2018-04-09\",\"2018-04-10\",\"2018-04-11\",\"2018-04-12\",\"2018-04-13\",\"2018-04-14\",\"2018-04-15\",\"2018-04-16\",\"2018-04-17\",\"2018-04-18\",\"2018-04-19\",\"2018-04-20\",\"2018-04-21\",\"2018-04-22\",\"2018-04-23\",\"2018-04-24\",\"2018-04-25\",\"2018-04-26\",\"2018-04-27\",\"2018-04-28\",\"2018-04-29\",\"2018-04-30\",\"2018-05-01\",\"2018-05-02\",\"2018-05-03\",\"2018-05-04\",\"2018-05-05\",\"2018-05-06\",\"2018-05-07\",\"2018-05-08\",\"2018-05-09\",\"2018-05-10\",\"2018-05-11\",\"2018-05-12\",\"2018-05-13\",\"2018-05-14\",\"2018-05-15\",\"2018-05-16\",\"2018-05-17\",\"2018-05-18\",\"2018-05-19\",\"2018-05-20\",\"2018-05-21\",\"2018-05-22\",\"2018-05-23\",\"2018-05-24\",\"2018-05-25\",\"2018-05-26\",\"2018-05-27\",\"2018-05-28\",\"2018-05-29\",\"2018-05-30\",\"2018-05-31\",\"2018-06-01\",\"2018-06-02\",\"2018-06-03\",\"2018-06-04\",\"2018-06-05\",\"2018-06-06\",\"2018-06-07\",\"2018-06-08\",\"2018-06-09\",\"2018-06-10\",\"2018-06-11\",\"2018-06-12\",\"2018-06-13\",\"2018-06-14\",\"2018-06-15\",\"2018-06-16\",\"2018-06-17\",\"2018-06-18\",\"2018-06-19\",\"2018-06-20\",\"2018-06-21\",\"2018-06-22\",\"2018-06-23\",\"2018-06-24\",\"2018-06-25\",\"2018-06-26\",\"2018-06-27\",\"2018-06-28\",\"2018-06-29\",\"2018-06-30\",\"2018-07-01\",\"2018-07-02\",\"2018-07-03\",\"2018-07-04\",\"2018-07-05\",\"2018-07-06\",\"2018-07-07\",\"2018-07-08\",\"2018-07-09\",\"2018-07-10\",\"2018-07-11\",\"2018-07-12\",\"2018-07-13\",\"2018-07-14\",\"2018-07-15\",\"2018-07-16\",\"2018-07-17\",\"2018-07-18\",\"2018-07-19\",\"2018-07-20\",\"2018-07-21\",\"2018-07-22\",\"2018-07-23\",\"2018-07-24\",\"2018-07-25\",\"2018-07-26\",\"2018-07-27\",\"2018-07-28\",\"2018-07-29\",\"2018-07-30\",\"2018-07-31\",\"2018-08-01\",\"2018-08-02\",\"2018-08-03\",\"2018-08-04\",\"2018-08-05\",\"2018-08-06\",\"2018-08-07\",\"2018-08-08\",\"2018-08-09\",\"2018-08-10\",\"2018-08-11\",\"2018-08-12\",\"2018-08-13\",\"2018-08-14\",\"2018-08-15\",\"2018-08-16\",\"2018-08-17\",\"2018-08-18\",\"2018-08-19\",\"2018-08-20\",\"2018-08-21\",\"2018-08-22\",\"2018-08-23\",\"2018-08-24\",\"2018-08-25\",\"2018-08-26\",\"2018-08-27\",\"2018-08-28\",\"2018-08-29\",\"2018-08-30\",\"2018-08-31\",\"2018-09-01\",\"2018-09-02\",\"2018-09-03\",\"2018-09-04\",\"2018-09-05\",\"2018-09-06\",\"2018-09-07\",\"2018-09-08\",\"2018-09-09\",\"2018-09-10\",\"2018-09-11\",\"2018-09-12\",\"2018-09-13\",\"2018-09-14\",\"2018-09-15\",\"2018-09-16\",\"2018-09-17\",\"2018-09-18\",\"2018-09-19\",\"2018-09-20\",\"2018-09-21\",\"2018-09-22\",\"2018-09-23\",\"2018-09-24\",\"2018-09-25\",\"2018-09-26\",\"2018-09-27\",\"2018-09-28\",\"2018-09-29\",\"2018-09-30\",\"2018-10-01\",\"2018-10-02\",\"2018-10-03\",\"2018-10-04\",\"2018-10-05\",\"2018-10-06\",\"2018-10-07\",\"2018-10-08\",\"2018-10-09\",\"2018-10-10\",\"2018-10-11\",\"2018-10-12\",\"2018-10-13\",\"2018-10-14\",\"2018-10-15\",\"2018-10-16\",\"2018-10-17\",\"2018-10-18\",\"2018-10-19\",\"2018-10-20\",\"2018-10-21\",\"2018-10-22\",\"2018-10-23\",\"2018-10-24\",\"2018-10-25\",\"2018-10-26\",\"2018-10-27\",\"2018-10-28\",\"2018-10-29\",\"2018-10-30\",\"2018-10-31\",\"2018-11-01\",\"2018-11-02\",\"2018-11-03\",\"2018-11-04\",\"2018-11-05\",\"2018-11-06\",\"2018-11-07\",\"2018-11-08\",\"2018-11-09\",\"2018-11-10\",\"2018-11-11\",\"2018-11-12\",\"2018-11-13\",\"2018-11-14\",\"2018-11-15\",\"2018-11-16\",\"2018-11-17\",\"2018-11-18\",\"2018-11-19\",\"2018-11-20\",\"2018-11-21\",\"2018-11-22\",\"2018-11-23\",\"2018-11-24\",\"2018-11-25\",\"2018-11-26\",\"2018-11-27\",\"2018-11-28\",\"2018-11-29\",\"2018-11-30\",\"2018-12-01\",\"2018-12-02\",\"2018-12-03\",\"2018-12-04\",\"2018-12-05\",\"2018-12-06\",\"2018-12-07\",\"2018-12-08\",\"2018-12-09\",\"2018-12-10\",\"2018-12-11\",\"2018-12-12\",\"2018-12-13\",\"2018-12-14\",\"2018-12-15\",\"2018-12-16\",\"2018-12-17\",\"2018-12-18\",\"2018-12-19\",\"2018-12-20\",\"2018-12-21\",\"2018-12-22\",\"2018-12-23\",\"2018-12-24\",\"2018-12-25\",\"2018-12-26\",\"2018-12-27\",\"2018-12-28\",\"2018-12-29\",\"2018-12-30\",\"2018-12-31\",\"2019-01-01\",\"2019-01-02\",\"2019-01-03\",\"2019-01-04\",\"2019-01-05\",\"2019-01-06\",\"2019-01-07\",\"2019-01-08\",\"2019-01-09\",\"2019-01-10\",\"2019-01-11\",\"2019-01-12\",\"2019-01-13\",\"2019-01-14\",\"2019-01-15\",\"2019-01-16\",\"2019-01-17\",\"2019-01-18\",\"2019-01-19\",\"2019-01-20\",\"2019-01-21\",\"2019-01-22\",\"2019-01-23\",\"2019-01-24\",\"2019-01-25\",\"2019-01-26\",\"2019-01-27\",\"2019-01-28\",\"2019-01-29\",\"2019-01-30\",\"2019-01-31\",\"2019-02-01\",\"2019-02-02\",\"2019-02-03\",\"2019-02-04\",\"2019-02-05\",\"2019-02-06\",\"2019-02-07\",\"2019-02-08\",\"2019-02-09\",\"2019-02-10\",\"2019-02-11\",\"2019-02-12\",\"2019-02-13\",\"2019-02-14\",\"2019-02-15\",\"2019-02-16\",\"2019-02-17\",\"2019-02-18\",\"2019-02-19\",\"2019-02-20\",\"2019-02-21\",\"2019-02-22\",\"2019-02-23\",\"2019-02-24\",\"2019-02-25\",\"2019-02-26\",\"2019-02-27\",\"2019-02-28\",\"2019-03-01\",\"2019-03-02\",\"2019-03-03\",\"2019-03-04\",\"2019-03-05\",\"2019-03-06\",\"2019-03-07\",\"2019-03-08\",\"2019-03-09\",\"2019-03-10\",\"2019-03-11\",\"2019-03-12\",\"2019-03-13\",\"2019-03-14\",\"2019-03-15\",\"2019-03-16\",\"2019-03-17\",\"2019-03-18\",\"2019-03-19\",\"2019-03-20\",\"2019-03-21\",\"2019-03-22\",\"2019-03-23\",\"2019-03-24\",\"2019-03-25\",\"2019-03-26\",\"2019-03-27\",\"2019-03-28\",\"2019-03-29\",\"2019-03-30\",\"2019-03-31\",\"2019-04-01\",\"2019-04-02\",\"2019-04-03\",\"2019-04-04\",\"2019-04-05\",\"2019-04-06\",\"2019-04-07\",\"2019-04-08\",\"2019-04-09\",\"2019-04-10\",\"2019-04-11\",\"2019-04-12\",\"2019-04-13\",\"2019-04-14\",\"2019-04-15\",\"2019-04-16\",\"2019-04-17\",\"2019-04-18\",\"2019-04-19\",\"2019-04-20\",\"2019-04-21\",\"2019-04-22\",\"2019-04-23\",\"2019-04-24\",\"2019-04-25\",\"2019-04-26\",\"2019-04-27\",\"2019-04-28\",\"2019-04-29\",\"2019-04-30\",\"2019-05-01\",\"2019-05-02\",\"2019-05-03\",\"2019-05-04\",\"2019-05-05\",\"2019-05-06\",\"2019-05-07\",\"2019-05-08\",\"2019-05-09\",\"2019-05-10\",\"2019-05-11\",\"2019-05-12\",\"2019-05-13\",\"2019-05-14\",\"2019-05-15\",\"2019-05-16\",\"2019-05-17\",\"2019-05-18\",\"2019-05-19\",\"2019-05-20\",\"2019-05-21\",\"2019-05-22\",\"2019-05-23\",\"2019-05-24\",\"2019-05-25\",\"2019-05-26\",\"2019-05-27\",\"2019-05-28\",\"2019-05-29\",\"2019-05-30\",\"2019-05-31\",\"2019-06-01\",\"2019-06-02\",\"2019-06-03\",\"2019-06-04\",\"2019-06-05\",\"2019-06-06\",\"2019-06-07\",\"2019-06-08\",\"2019-06-09\",\"2019-06-10\",\"2019-06-11\",\"2019-06-12\",\"2019-06-13\",\"2019-06-14\",\"2019-06-15\",\"2019-06-16\",\"2019-06-17\",\"2019-06-18\",\"2019-06-19\",\"2019-06-20\",\"2019-06-21\",\"2019-06-22\",\"2019-06-23\",\"2019-06-24\",\"2019-06-25\",\"2019-06-26\",\"2019-06-27\",\"2019-06-28\",\"2019-06-29\",\"2019-06-30\",\"2019-07-01\",\"2019-07-02\",\"2019-07-03\",\"2019-07-04\",\"2019-07-05\",\"2019-07-06\",\"2019-07-07\",\"2019-07-08\",\"2019-07-09\",\"2019-07-10\",\"2019-07-11\",\"2019-07-12\",\"2019-07-13\",\"2019-07-14\",\"2019-07-15\",\"2019-07-16\",\"2019-07-17\",\"2019-07-18\",\"2019-07-19\",\"2019-07-20\",\"2019-07-21\",\"2019-07-22\",\"2019-07-23\",\"2019-07-24\",\"2019-07-25\",\"2019-07-26\",\"2019-07-27\",\"2019-07-28\",\"2019-07-29\",\"2019-07-30\",\"2019-07-31\",\"2019-08-01\",\"2019-08-02\",\"2019-08-03\",\"2019-08-04\",\"2019-08-05\",\"2019-08-06\",\"2019-08-07\",\"2019-08-08\",\"2019-08-09\",\"2019-08-10\",\"2019-08-11\",\"2019-08-12\",\"2019-08-13\",\"2019-08-14\",\"2019-08-15\",\"2019-08-16\",\"2019-08-17\",\"2019-08-18\",\"2019-08-19\",\"2019-08-20\",\"2019-08-21\",\"2019-08-22\",\"2019-08-23\",\"2019-08-24\",\"2019-08-25\",\"2019-08-26\",\"2019-08-27\",\"2019-08-28\",\"2019-08-29\",\"2019-08-30\",\"2019-08-31\",\"2019-09-01\",\"2019-09-02\",\"2019-09-03\",\"2019-09-04\",\"2019-09-05\",\"2019-09-06\",\"2019-09-07\",\"2019-09-08\",\"2019-09-09\",\"2019-09-10\",\"2019-09-11\",\"2019-09-12\",\"2019-09-13\",\"2019-09-14\",\"2019-09-15\",\"2019-09-16\",\"2019-09-17\",\"2019-09-18\",\"2019-09-19\",\"2019-09-20\",\"2019-09-21\",\"2019-09-22\",\"2019-09-23\",\"2019-09-24\",\"2019-09-25\",\"2019-09-26\",\"2019-09-27\",\"2019-09-28\",\"2019-09-29\",\"2019-09-30\",\"2019-10-01\",\"2019-10-02\",\"2019-10-03\",\"2019-10-04\",\"2019-10-05\",\"2019-10-06\",\"2019-10-07\",\"2019-10-08\",\"2019-10-09\",\"2019-10-10\",\"2019-10-11\",\"2019-10-12\",\"2019-10-13\",\"2019-10-14\",\"2019-10-15\",\"2019-10-16\",\"2019-10-17\",\"2019-10-18\",\"2019-10-19\",\"2019-10-20\",\"2019-10-21\",\"2019-10-22\",\"2019-10-23\",\"2019-10-24\",\"2019-10-25\",\"2019-10-26\",\"2019-10-27\",\"2019-10-28\",\"2019-10-29\",\"2019-10-30\",\"2019-10-31\",\"2019-11-01\",\"2019-11-02\",\"2019-11-03\",\"2019-11-04\",\"2019-11-05\",\"2019-11-06\",\"2019-11-07\",\"2019-11-08\",\"2019-11-09\",\"2019-11-10\",\"2019-11-11\",\"2019-11-12\",\"2019-11-13\",\"2019-11-14\",\"2019-11-15\",\"2019-11-16\",\"2019-11-17\",\"2019-11-18\",\"2019-11-19\",\"2019-11-20\",\"2019-11-21\",\"2019-11-22\",\"2019-11-23\",\"2019-11-24\",\"2019-11-25\",\"2019-11-26\",\"2019-11-27\",\"2019-11-28\",\"2019-11-29\",\"2019-11-30\",\"2019-12-01\",\"2019-12-02\",\"2019-12-03\",\"2019-12-04\",\"2019-12-05\",\"2019-12-06\",\"2019-12-07\",\"2019-12-08\",\"2019-12-09\",\"2019-12-10\",\"2019-12-11\",\"2019-12-12\",\"2019-12-13\",\"2019-12-14\",\"2019-12-15\",\"2019-12-16\",\"2019-12-17\",\"2019-12-18\",\"2019-12-19\",\"2019-12-20\",\"2019-12-21\",\"2019-12-22\",\"2019-12-23\",\"2019-12-24\",\"2019-12-25\",\"2019-12-26\",\"2019-12-27\",\"2019-12-28\",\"2019-12-29\",\"2019-12-30\",\"2019-12-31\",\"2020-01-01\",\"2020-01-02\",\"2020-01-03\",\"2020-01-04\",\"2020-01-05\",\"2020-01-06\",\"2020-01-07\",\"2020-01-08\",\"2020-01-09\",\"2020-01-10\",\"2020-01-11\",\"2020-01-12\",\"2020-01-13\",\"2020-01-14\",\"2020-01-15\",\"2020-01-16\",\"2020-01-17\",\"2020-01-18\",\"2020-01-19\",\"2020-01-20\",\"2020-01-21\",\"2020-01-22\",\"2020-01-23\",\"2020-01-24\",\"2020-01-25\",\"2020-01-26\",\"2020-01-27\",\"2020-01-28\",\"2020-01-29\",\"2020-01-30\",\"2020-01-31\",\"2020-02-01\",\"2020-02-02\",\"2020-02-03\",\"2020-02-04\",\"2020-02-05\",\"2020-02-06\",\"2020-02-07\",\"2020-02-08\",\"2020-02-09\",\"2020-02-10\",\"2020-02-11\",\"2020-02-12\",\"2020-02-13\",\"2020-02-14\",\"2020-02-15\",\"2020-02-16\",\"2020-02-17\",\"2020-02-18\",\"2020-02-19\",\"2020-02-20\",\"2020-02-21\",\"2020-02-22\",\"2020-02-23\",\"2020-02-24\",\"2020-02-25\",\"2020-02-26\",\"2020-02-27\",\"2020-02-28\",\"2020-02-29\",\"2020-03-01\",\"2020-03-02\",\"2020-03-03\",\"2020-03-04\",\"2020-03-05\",\"2020-03-06\",\"2020-03-07\",\"2020-03-08\",\"2020-03-09\",\"2020-03-10\",\"2020-03-11\",\"2020-03-12\",\"2020-03-13\",\"2020-03-14\",\"2020-03-15\",\"2020-03-16\",\"2020-03-17\",\"2020-03-18\",\"2020-03-19\",\"2020-03-20\",\"2020-03-21\",\"2020-03-22\",\"2020-03-23\",\"2020-03-24\",\"2020-03-25\",\"2020-03-26\",\"2020-03-27\",\"2020-03-28\",\"2020-03-29\",\"2020-03-30\",\"2020-03-31\",\"2020-04-01\",\"2020-04-02\",\"2020-04-03\",\"2020-04-04\",\"2020-04-05\",\"2020-04-06\",\"2020-04-07\",\"2020-04-08\",\"2020-04-09\",\"2020-04-10\",\"2020-04-11\",\"2020-04-12\",\"2020-04-13\",\"2020-04-14\",\"2020-04-15\",\"2020-04-16\",\"2020-04-17\",\"2020-04-18\",\"2020-04-19\",\"2020-04-20\",\"2020-04-21\",\"2020-04-22\",\"2020-04-23\",\"2020-04-24\",\"2020-04-25\",\"2020-04-26\",\"2020-04-27\",\"2020-04-28\",\"2020-04-29\",\"2020-04-30\",\"2020-05-01\",\"2020-05-02\",\"2020-05-03\",\"2020-05-04\",\"2020-05-05\",\"2020-05-06\",\"2020-05-07\",\"2020-05-08\",\"2020-05-09\",\"2020-05-10\",\"2020-05-11\",\"2020-05-12\",\"2020-05-13\",\"2020-05-14\",\"2020-05-15\",\"2020-05-16\",\"2020-05-17\",\"2020-05-18\",\"2020-05-19\",\"2020-05-20\",\"2020-05-21\",\"2020-05-22\",\"2020-05-23\",\"2020-05-24\",\"2020-05-25\",\"2020-05-26\",\"2020-05-27\",\"2020-05-28\",\"2020-05-29\",\"2020-05-30\",\"2020-05-31\",\"2020-06-01\",\"2020-06-02\",\"2020-06-03\",\"2020-06-04\",\"2020-06-05\",\"2020-06-06\",\"2020-06-07\",\"2020-06-08\",\"2020-06-09\",\"2020-06-10\",\"2020-06-11\",\"2020-06-12\",\"2020-06-13\",\"2020-06-14\",\"2020-06-15\",\"2020-06-16\",\"2020-06-17\",\"2020-06-18\",\"2020-06-19\",\"2020-06-20\",\"2020-06-21\",\"2020-06-22\",\"2020-06-23\",\"2020-06-24\",\"2020-06-25\",\"2020-06-26\",\"2020-06-27\",\"2020-06-28\",\"2020-06-29\"],\"xaxis\":\"x\",\"y\":[0.00736,0.0089,0.00845,0.01145,0.01381,0.01381,0.0119,0.01572,0.01036,0.00699,0.01299,0.01572,0.01163,0.01227,0.01081,0.00727,0.00599,0.01118,0.0129,0.01145,0.01245,0.01345,0.00963,0.00609,0.00927,0.01136,0.01054,0.01454,0.01499,0.00881,0.0099,0.01409,0.0129,0.01172,0.0109,0.01427,0.00881,0.00636,0.00581,0.00681,0.00799,0.00999,0.01399,0.00927,0.00672,0.00981,0.01009,0.01136,0.01181,0.0109,0.00799,0.00627,0.00809,0.00863,0.00999,0.01072,0.01099,0.00718,0.00654,0.00618,0.00754,0.00854,0.01099,0.01672,0.00945,0.00472,0.01072,0.00981,0.0109,0.01172,0.00972,0.0089,0.00836,0.01118,0.01163,0.00963,0.01236,0.01027,0.01154,0.00945,0.00963,0.01309,0.01236,0.01372,0.01463,0.00981,0.00827,0.01254,0.01418,0.01972,0.01181,0.00963,0.01472,0.02063,0.01572,0.03454,0.01763,0.01081,0.00981,0.00636,0.00672,0.01136,0.00972,0.01209,0.00799,0.00872,0.01045,0.00809,0.01036,0.0099,0.00909,0.01009,0.00836,0.00518,0.01063,0.01363,0.00972,0.01127,0.01045,0.00972,0.00836,0.00672,0.00945,0.00854,0.00963,0.00536,0.00563,0.01127,0.00772,0.00827,0.01045,0.01118,0.00745,0.00836,0.00936,0.01127,0.01136,0.00981,0.01172,0.01054,0.01072,0.00918,0.00745,0.01181,0.01036,0.01218,0.0099,0.00918,0.00863,0.00872,0.00927,0.01372,0.01254,0.01036,0.00981,0.00827,0.00963,0.01054,0.01272,0.01099,0.01454,0.00799,0.0069,0.00727,0.00681,0.0109,0.01154,0.00845,0.00772,0.0069,0.00863,0.01181,0.00836,0.00899,0.00854,0.0059,0.00627,0.00745,0.00699,0.00627,0.00636,0.00599,0.00599,0.00399,0.00418,0.00599,0.00454,0.00563,0.00636,0.00609,0.00527,0.00527,0.00681,0.00681,0.00518,0.00663,0.0069,0.0049,0.00618,0.00718,0.00727,0.00654,0.00627,0.00518,0.00445,0.00445,0.00572,0.00518,0.00436,0.00509,0.00454,0.0049,0.0029,0.00481,0.00554,0.00436,0.00681,0.00536,0.00345,0.00427,0.00545,0.00472,0.00645,0.00636,0.00445,0.00336,0.00309,0.00436,0.00381,0.00536,0.00563,0.00645,0.00527,0.00627,0.00463,0.00609,0.00372,0.00545,0.00454,0.00418,0.00927,0.00481,0.00527,0.00572,0.00509,0.00609,0.00609,0.00472,0.00545,0.00645,0.00727,0.00718,0.00618,0.04608,0.01045,0.01081,0.00663,0.00627,0.00554,0.00481,0.00672,0.00663,0.0109,0.01145,0.00836,0.00936,0.00881,0.0049,0.00654,0.00836,0.00799,0.00654,0.00618,0.00518,0.00472,0.00399,0.00618,0.00627,0.00718,0.00654,0.00545,0.0079,0.00399,0.00799,0.00654,0.00818,0.00527,0.00618,0.00581,0.00699,0.01018,0.0079,0.00981,0.01099,0.00827,0.00854,0.00718,0.0109,0.01209,0.01054,0.00963,0.01018,0.00745,0.00745,0.01027,0.01109,0.01063,0.00999,0.01045,0.00872,0.01218,0.01227,0.01336,0.0149,0.0159,0.01172,0.00854,0.00836,0.01099,0.01199,0.01081,0.01263,0.01072,0.01272,0.01054,0.01309,0.01318,0.01509,0.01454,0.01554,0.01245,0.01399,0.0139,0.01463,0.01518,0.01472,0.01354,0.01363,0.01118,0.01299,0.01881,0.01627,0.01445,0.01727,0.01509,0.01363,0.02081,0.02045,0.01799,0.03736,0.03345,0.01445,0.0159,0.02699,0.02436,0.02336,0.02045,0.02154,0.01527,0.01127,0.01481,0.01927,0.01799,0.01909,0.01899,0.01581,0.01163,0.01463,0.01509,0.01545,0.01899,0.01854,0.01145,0.00745,0.01245,0.01518,0.01227,0.01409,0.01154,0.0109,0.00854,0.00963,0.01054,0.01618,0.01381,0.01418,0.00727,0.00845,0.00872,0.01254,0.00872,0.01172,0.00654,0.00754,0.00463,0.00672,0.01054,0.01145,0.01299,0.01254,0.00645,0.00581,0.00909,0.01263,0.0079,0.00863,0.00899,0.01072,0.00799,0.00972,0.01054,0.00881,0.00754,0.00963,0.0079,0.00572,0.01145,0.01154,0.00972,0.00963,0.01309,0.00845,0.00772,0.01127,0.01209,0.00727,0.01299,0.01272,0.01018,0.00909,0.01081,0.01172,0.01254,0.01545,0.01272,0.00799,0.00781,0.01063,0.00809,0.02172,0.01009,0.01036,0.01045,0.00754,0.01399,0.01454,0.01399,0.00999,0.00945,0.01227,0.01009,0.01563,0.01154,0.01172,0.01218,0.01036,0.00718,0.00699,0.00699,0.00809,0.00863,0.00781,0.00718,0.0059,0.00727,0.01399,0.00927,0.0099,0.00809,0.00872,0.00663,0.0079,0.01018,0.01018,0.00836,0.0069,0.00681,0.00645,0.00627,0.00736,0.00927,0.00736,0.00681,0.00627,0.00472,0.00399,0.00509,0.00681,0.07027,0.00799,0.00499,0.00472,0.00581,0.00636,0.00754,0.00718,0.00763,0.00636,0.00436,0.00527,0.00927,0.00818,0.01009,0.01054,0.00699,0.00681,0.00799,0.0089,0.0069,0.01018,0.00963,0.0089,0.01254,0.0139,0.00918,0.00945,0.00945,0.00809,0.0079,0.00663,0.00672,0.00709,0.0059,0.00863,0.00845,0.00799,0.00736,0.00627,0.00836,0.00727,0.00836,0.00818,0.00718,0.00672,0.00636,0.00754,0.00936,0.00663,0.00463,0.00618,0.0039,0.00327,0.00427,0.00436,0.00645,0.00627,0.00463,0.0029,0.00336,0.00399,0.00399,0.00427,0.00618,0.00399,0.00418,0.00518,0.00527,0.00445,0.00736,0.00418,0.00327,0.00518,0.00445,0.00545,0.00636,0.00509,0.00618,0.00336,0.00172,0.00327,0.00445,0.00563,0.00536,0.00399,0.00372,0.00327,0.00463,0.0039,0.00409,0.00345,0.00463,0.00327,0.0029,0.00281,0.00345,0.00427,0.0039,0.00509,0.00381,0.00245,0.00299,0.00545,0.00527,0.0059,0.00399,0.00518,0.00527,0.0029,0.00572,0.0069,0.00563,0.0079,0.00809,0.00518,0.00472,0.00972,0.00863,0.00927,0.01018,0.01172,0.00536,0.00399,0.00599,0.00609,0.00454,0.00563,0.00618,0.00372,0.0049,0.00709,0.00609,0.00599,0.00609,0.00599,0.00354,0.0049,0.00599,0.00581,0.00736,0.00545,0.00381,0.0119,0.00445,0.00509,0.00654,0.00645,0.00381,0.00654,0.00409,0.00409,0.00472,0.00154,0.00154,0.00199,0.0029,0.0039,0.00281,0.00545,0.00654,0.00745,0.00618,0.00463,0.00672,0.0039,0.00636,0.00609,0.00563,0.0089,0.00654,0.00527,0.00599,0.00745,0.00999,0.00636,0.00672,0.00681,0.0069,0.00663,0.00918,0.00936,0.00718,0.00854,0.00718,0.00654,0.01009,0.00954,0.00972,0.00745,0.0069,0.00645,0.00545,0.00954,0.00736,0.00918,0.00872,0.01027,0.00663,0.0069,0.00645,0.00845,0.01045,0.01163,0.01127,0.00872,0.00863,0.00845,0.00972,0.01163,0.01427,0.01272,0.01209,0.0109,0.00681,0.00872,0.01236,0.01327,0.01418,0.01227,0.01236,0.00981,0.01272,0.01399,0.01563,0.0169,0.01436,0.0109,0.00963,0.01309,0.01518,0.01536,0.01763,0.01309,0.00981,0.00809,0.00863,0.01145,0.01818,0.01172,0.01727,0.01345,0.01063,0.00563,0.01181,0.01536,0.01681,0.01309,0.00718,0.00709,0.01118,0.01381,0.0169,0.01418,0.01109,0.01609,0.01109,0.01409,0.01599,0.01299,0.01199,0.01045,0.00999,0.00581,0.01154,0.01654,0.01372,0.01199,0.01199,0.01009,0.00763,0.01254,0.01018,0.01381,0.01281,0.01154,0.0089,0.0069,0.0129,0.01727,0.01154,0.01318,0.01199,0.00899,0.00672,0.01263,0.01799,0.01936,0.00963,0.00727,0.00627,0.00609,0.01054,0.01799,0.01472,0.01381,0.0139,0.01281,0.00954,0.01518,0.01645,0.01572,0.01163,0.01045,0.00827,0.00827,0.00981,0.01181,0.0159,0.01345,0.01518,0.01099,0.00981,0.00963,0.01018,0.01018,0.01009,0.00863,0.00981,0.00699,0.00836,0.01009,0.00981,0.00909,0.00863,0.00681,0.00663,0.01109,0.00972,0.00609,0.00663,0.00963,0.00854,0.00863,0.00954,0.00899,0.00945,0.00945,0.00745,0.00654,0.00772,0.00981,0.00836,0.00936,0.00727,0.00727,0.00645,0.00481,0.01072,0.0089,0.00945,0.00881,0.00799,0.00736,0.00463,0.00663,0.01036,0.00827,0.00818,0.00536,0.00281,0.00454,0.00636,0.00463,0.00754,0.00936,0.00727,0.00554,0.00445,0.00527,0.0079,0.01018,0.00799,0.00518,0.00418,0.0039,0.00681,0.00745,0.0079,0.00609,0.00554,0.00599,0.00645,0.00799,0.00818,0.00699,0.0069,0.00763,0.00809,0.00563,0.01054,0.00918,0.00799,0.00863,0.00554,0.00718,0.00499,0.00727,0.0059,0.00509,0.00563,0.00463,0.00599,0.00645,0.00781,0.00599,0.00481,0.00727,0.00463,0.00536,0.00654,0.01018,0.00554,0.00745,0.00463,0.00463,0.00436,0.00509,0.00281,0.00436,0.00318,0.00299,0.00454,0.00399,0.0049,0.00472,0.00372,0.00472,0.00363,0.00399,0.00354,0.00499,0.00454,0.00418,0.00727,0.00581,0.00536,0.00309,0.00509,0.00409,0.00481,0.00599,0.00418,0.0029,0.00227,0.00381,0.00418,0.00463,0.00454,0.0059,0.00645,0.00372,0.00218,0.00645,0.03127,0.00454,0.00518,0.00836,0.00354,0.00309,0.00363,0.00527,0.00409,0.00518,0.0039,0.00254,0.00336,0.00563,0.00627,0.00427,0.00681,0.00572,0.00699,0.00436,0.0059,0.00663,0.00581,0.00363,0.00381,0.0039,0.00554,0.00745,0.00818,0.00763,0.01009,0.00809,0.00481,0.00454,0.0059,0.00609,0.00609,0.00545,0.00754,0.03927,0.05627,0.0829,0.04436,0.02763,0.01999,0.02245,0.01272,0.01381,0.01545,0.01436,0.01318,0.01109,0.01036,0.00672,0.00363,0.00472,0.00499,0.00772,0.00936,0.00981,0.00681,0.00799,0.00845,0.00599,0.00736,0.00963,0.0089,0.00681,0.00436,0.00772,0.00845,0.00936,0.00699,0.00718,0.0069,0.00781,0.00799,0.01163,0.00963,0.00799,0.00899,0.00799,0.0079,0.01154,0.01663,0.00981,0.02727,0.01672,0.01309,0.01681,0.01545,0.01554,0.01627,0.01572,0.01599,0.01309,0.0089,0.01127,0.01872,0.01436,0.01499,0.01363,0.01318,0.00909,0.01436,0.01899,0.01963,0.0209,0.02081,0.01636,3.16772,0.05099,0.02799,0.02509,0.02599,0.02581,0.05118,0.01754,0.02127,0.03527,0.02863,0.02799,0.0309,0.01927,0.01536,0.02381,0.02799,0.02499,0.02872,0.02645,0.02245,0.0199,0.02254,0.02281,0.0229,0.02445,0.02318,0.02027,0.01572,0.0239,0.02963,0.02163,0.02181,0.02709,0.01563,0.01418,0.01809,0.01318,0.01618,0.02127,0.02081,0.01527,0.01018,0.01036,0.01336,0.01418,0.01763,0.01063,0.01181,0.00827,0.00909,0.01327,0.01172,0.01272,0.01118,0.00909,0.00709,0.00763,0.01081,0.00954,0.00909,0.00963,0.00681,0.00845,0.00999,0.00981,0.01209,0.0119,0.01254,0.00818,0.00718,0.00836,0.01172,0.01145,0.01145,0.01018,0.00818,0.00599,0.00336,0.00318,0.00536,0.0079,0.0099,0.00781,0.00554,0.00909,0.01045,0.00818,0.00727,0.0089,0.00818,0.00609,0.00809,0.0089,0.00854,0.01145,0.00954,0.0119,0.00718,0.01045,0.01018,0.01145,0.01199,0.00772,0.00981,0.00636,0.00963,0.00863,0.01127,0.00909,0.0079,0.00718,0.00627,0.00836,0.01227,0.00936,0.0079,0.00599,0.00654,0.00663,0.00718,0.01054,0.00999,0.00981,0.00809,0.00754,0.00499,0.00863,0.0079,0.0069,0.00918,0.00945,0.00881,0.00881,0.00799,0.00972,0.01081,0.01081,0.00781,0.00672,0.00781,0.0099,0.01018,0.00799,0.00799,0.00772,0.00718,0.00563,0.00854,0.00963,0.00954,0.01009,0.00863,0.00854,0.00872,0.01254,0.01072,0.00781,0.00963,0.00854,0.00499,0.00409,0.00918,0.00763,0.00627,0.00663,0.00718,0.00436,0.00436,0.00672,0.00736,0.00899,0.00727,0.00827,0.0069,0.00636,0.00836,0.0089,0.00581,0.00563,0.00599,0.00554,0.00781,0.00918,0.01163,0.0099,0.00599,0.0089,0.00718,0.00836,0.00954,0.01054,0.00827,0.00936,0.0079,0.00699,0.0059,0.00999,0.00909,0.00918,0.00581,0.00654,0.00709,0.00581,0.00736,0.01263,0.01063,0.01072,0.00881,0.01354,0.0059,0.00981,0.00663,0.00809,0.00818,0.00645,0.00518,0.00463,0.00681,0.0059,0.00645,0.00427,0.00454,0.00418,0.00272,0.00572,0.00563,0.00663,0.00872,0.00481,0.00281,0.00481,0.00754,0.00527,0.00581,0.00654,0.00609,0.00472,0.0059,0.00672,0.0059,0.00509,0.00436,0.00572,0.00381,0.00354,0.00463,0.00609,0.0049,0.00436,0.00381,0.00281,0.00236,0.00445,0.00409,0.00299,0.00354,0.00299,0.00363,0.00327,0.0039,0.00381,0.00572,0.00536,0.00627,0.00445,0.0039,0.0039,0.00581,0.00627,0.00363,0.00399,0.00309,0.0039,0.0059,0.00827,0.00727,0.01299,0.00809,0.00427,0.00672,0.00699,0.00745,0.00781,0.00599,0.00663,0.00618,0.00445,0.00736,0.00754,0.00618,0.00727,0.00618,0.00409,0.00627,0.00572,0.00536,0.00599,0.00545,0.00345,0.0039,0.00481,0.00681,0.01045,0.01172,0.00854,0.0059,0.00563,0.00627,0.00672,0.00818,0.0099,0.00863,0.0089,0.00536,0.00336,0.00881,0.0079,0.00518,0.00581,0.00581,0.00472,0.00472,0.00627,0.00645,0.00499,0.00645,0.00772,0.00509,0.00427,0.00581,0.00645,0.00799,0.00927,0.00836,0.00536,0.00527,0.00881,0.00972,0.0099,0.00963,0.00781,0.00836,0.00699,0.00863,0.00936,0.00954,0.01054,0.00772,0.00872,0.0059,0.00754,0.01272,0.01009,0.00999,0.01036,0.00809,0.00809,0.00936,0.01081,0.01163,0.01227,0.01236,0.0079,0.00799,0.01136,0.01309,0.01345,0.01345,0.02309,0.01099,0.01118,0.01209,0.01481,0.0139,0.01736,0.01518,0.00927,0.00836,0.01372,0.0139,0.01518,0.01672,0.01336,0.01309,0.00836,0.01272,0.01881,0.01854,0.0199,0.01881,0.01499,0.01163,0.01536,0.02245,0.01999,0.0189,0.01854,0.01599,0.01427,0.01772,0.02418,0.01163,0.01518,0.02363,0.01609,0.01181,0.02054,0.02236,0.01699,0.01827,0.02845,0.02136,0.01927,0.03154,0.03927,0.02636,39.62181,11.13921,0.50434,0.21144,0.19244,0.25108,0.15535,0.38498,0.55043,0.26262,0.32662,20.6961,35.33284,29.74474,100.0,86.11541,62.84847,39.62772,57.07446,72.63073,52.06261,45.93889,58.4187,41.5073,41.73647,50.1994,37.28806,35.23094,39.3959,31.71404,40.46614,36.07691,52.11234,18.13918,15.90997,15.08472,16.94803,10.34468,9.79906,10.98521,14.97945,40.75986,59.21885,72.15665,85.23907,82.90014,79.89478,79.95441,71.26268,71.07204,66.20619,61.04053,56.20422,60.86853,47.17367,39.84053,33.24218,29.61647,26.90492,26.4902,29.79228,28.49514,24.02346,20.56511,19.29851,16.62577,14.92164,16.8914,14.70828,13.9044,18.50553,13.56359,11.28111,11.1433,11.56656,10.87394,10.51795,10.38105,10.15869,10.25105,8.86464,8.6911,8.30075,7.70922,7.50622,7.44741,6.04172,5.55301,10.90885,6.23063,5.6701,5.61237,6.2549,5.82991,5.00848,5.32111,5.00666,4.97503,5.45701,4.7484,4.22987,4.90394,5.54437,4.68531,4.73403,4.52131,4.51768,4.13405,3.95342,4.11033,3.73088,3.78952,3.32444,3.54552,3.73843,3.33962,3.63143,2.92654,3.33689,3.50653,5.35438,6.63807,8.82791,10.40696,6.70252,6.00609,5.2862,4.38068,3.35817,3.16008,3.64707,3.29662,3.9526,3.6327,3.55516,2.91663,2.849,3.24426,3.21344,3.93397,5.55656,4.95803,3.41698,3.25944,3.48534,3.20117,3.11254,2.92891,2.82864,2.53792,2.59355,2.86927,2.92045,2.6541,2.5901,2.52701,2.21866,2.16084,2.48365,2.36192,8.08248,2.28038,2.29765,2.20002,2.21329,2.4661,2.50456,2.20747,2.16993,2.15139,1.96848,2.1972,2.41501],\"yaxis\":\"y\",\"type\":\"scattergl\"}],                        {\"template\":{\"data\":{\"histogram2dcontour\":[{\"type\":\"histogram2dcontour\",\"colorbar\":{\"outlinewidth\":0,\"ticks\":\"\"},\"colorscale\":[[0.0,\"#0d0887\"],[0.1111111111111111,\"#46039f\"],[0.2222222222222222,\"#7201a8\"],[0.3333333333333333,\"#9c179e\"],[0.4444444444444444,\"#bd3786\"],[0.5555555555555556,\"#d8576b\"],[0.6666666666666666,\"#ed7953\"],[0.7777777777777778,\"#fb9f3a\"],[0.8888888888888888,\"#fdca26\"],[1.0,\"#f0f921\"]]}],\"choropleth\":[{\"type\":\"choropleth\",\"colorbar\":{\"outlinewidth\":0,\"ticks\":\"\"}}],\"histogram2d\":[{\"type\":\"histogram2d\",\"colorbar\":{\"outlinewidth\":0,\"ticks\":\"\"},\"colorscale\":[[0.0,\"#0d0887\"],[0.1111111111111111,\"#46039f\"],[0.2222222222222222,\"#7201a8\"],[0.3333333333333333,\"#9c179e\"],[0.4444444444444444,\"#bd3786\"],[0.5555555555555556,\"#d8576b\"],[0.6666666666666666,\"#ed7953\"],[0.7777777777777778,\"#fb9f3a\"],[0.8888888888888888,\"#fdca26\"],[1.0,\"#f0f921\"]]}],\"heatmap\":[{\"type\":\"heatmap\",\"colorbar\":{\"outlinewidth\":0,\"ticks\":\"\"},\"colorscale\":[[0.0,\"#0d0887\"],[0.1111111111111111,\"#46039f\"],[0.2222222222222222,\"#7201a8\"],[0.3333333333333333,\"#9c179e\"],[0.4444444444444444,\"#bd3786\"],[0.5555555555555556,\"#d8576b\"],[0.6666666666666666,\"#ed7953\"],[0.7777777777777778,\"#fb9f3a\"],[0.8888888888888888,\"#fdca26\"],[1.0,\"#f0f921\"]]}],\"heatmapgl\":[{\"type\":\"heatmapgl\",\"colorbar\":{\"outlinewidth\":0,\"ticks\":\"\"},\"colorscale\":[[0.0,\"#0d0887\"],[0.1111111111111111,\"#46039f\"],[0.2222222222222222,\"#7201a8\"],[0.3333333333333333,\"#9c179e\"],[0.4444444444444444,\"#bd3786\"],[0.5555555555555556,\"#d8576b\"],[0.6666666666666666,\"#ed7953\"],[0.7777777777777778,\"#fb9f3a\"],[0.8888888888888888,\"#fdca26\"],[1.0,\"#f0f921\"]]}],\"contourcarpet\":[{\"type\":\"contourcarpet\",\"colorbar\":{\"outlinewidth\":0,\"ticks\":\"\"}}],\"contour\":[{\"type\":\"contour\",\"colorbar\":{\"outlinewidth\":0,\"ticks\":\"\"},\"colorscale\":[[0.0,\"#0d0887\"],[0.1111111111111111,\"#46039f\"],[0.2222222222222222,\"#7201a8\"],[0.3333333333333333,\"#9c179e\"],[0.4444444444444444,\"#bd3786\"],[0.5555555555555556,\"#d8576b\"],[0.6666666666666666,\"#ed7953\"],[0.7777777777777778,\"#fb9f3a\"],[0.8888888888888888,\"#fdca26\"],[1.0,\"#f0f921\"]]}],\"surface\":[{\"type\":\"surface\",\"colorbar\":{\"outlinewidth\":0,\"ticks\":\"\"},\"colorscale\":[[0.0,\"#0d0887\"],[0.1111111111111111,\"#46039f\"],[0.2222222222222222,\"#7201a8\"],[0.3333333333333333,\"#9c179e\"],[0.4444444444444444,\"#bd3786\"],[0.5555555555555556,\"#d8576b\"],[0.6666666666666666,\"#ed7953\"],[0.7777777777777778,\"#fb9f3a\"],[0.8888888888888888,\"#fdca26\"],[1.0,\"#f0f921\"]]}],\"mesh3d\":[{\"type\":\"mesh3d\",\"colorbar\":{\"outlinewidth\":0,\"ticks\":\"\"}}],\"scatter\":[{\"fillpattern\":{\"fillmode\":\"overlay\",\"size\":10,\"solidity\":0.2},\"type\":\"scatter\"}],\"parcoords\":[{\"type\":\"parcoords\",\"line\":{\"colorbar\":{\"outlinewidth\":0,\"ticks\":\"\"}}}],\"scatterpolargl\":[{\"type\":\"scatterpolargl\",\"marker\":{\"colorbar\":{\"outlinewidth\":0,\"ticks\":\"\"}}}],\"bar\":[{\"error_x\":{\"color\":\"#2a3f5f\"},\"error_y\":{\"color\":\"#2a3f5f\"},\"marker\":{\"line\":{\"color\":\"#E5ECF6\",\"width\":0.5},\"pattern\":{\"fillmode\":\"overlay\",\"size\":10,\"solidity\":0.2}},\"type\":\"bar\"}],\"scattergeo\":[{\"type\":\"scattergeo\",\"marker\":{\"colorbar\":{\"outlinewidth\":0,\"ticks\":\"\"}}}],\"scatterpolar\":[{\"type\":\"scatterpolar\",\"marker\":{\"colorbar\":{\"outlinewidth\":0,\"ticks\":\"\"}}}],\"histogram\":[{\"marker\":{\"pattern\":{\"fillmode\":\"overlay\",\"size\":10,\"solidity\":0.2}},\"type\":\"histogram\"}],\"scattergl\":[{\"type\":\"scattergl\",\"marker\":{\"colorbar\":{\"outlinewidth\":0,\"ticks\":\"\"}}}],\"scatter3d\":[{\"type\":\"scatter3d\",\"line\":{\"colorbar\":{\"outlinewidth\":0,\"ticks\":\"\"}},\"marker\":{\"colorbar\":{\"outlinewidth\":0,\"ticks\":\"\"}}}],\"scattermapbox\":[{\"type\":\"scattermapbox\",\"marker\":{\"colorbar\":{\"outlinewidth\":0,\"ticks\":\"\"}}}],\"scatterternary\":[{\"type\":\"scatterternary\",\"marker\":{\"colorbar\":{\"outlinewidth\":0,\"ticks\":\"\"}}}],\"scattercarpet\":[{\"type\":\"scattercarpet\",\"marker\":{\"colorbar\":{\"outlinewidth\":0,\"ticks\":\"\"}}}],\"carpet\":[{\"aaxis\":{\"endlinecolor\":\"#2a3f5f\",\"gridcolor\":\"white\",\"linecolor\":\"white\",\"minorgridcolor\":\"white\",\"startlinecolor\":\"#2a3f5f\"},\"baxis\":{\"endlinecolor\":\"#2a3f5f\",\"gridcolor\":\"white\",\"linecolor\":\"white\",\"minorgridcolor\":\"white\",\"startlinecolor\":\"#2a3f5f\"},\"type\":\"carpet\"}],\"table\":[{\"cells\":{\"fill\":{\"color\":\"#EBF0F8\"},\"line\":{\"color\":\"white\"}},\"header\":{\"fill\":{\"color\":\"#C8D4E3\"},\"line\":{\"color\":\"white\"}},\"type\":\"table\"}],\"barpolar\":[{\"marker\":{\"line\":{\"color\":\"#E5ECF6\",\"width\":0.5},\"pattern\":{\"fillmode\":\"overlay\",\"size\":10,\"solidity\":0.2}},\"type\":\"barpolar\"}],\"pie\":[{\"automargin\":true,\"type\":\"pie\"}]},\"layout\":{\"autotypenumbers\":\"strict\",\"colorway\":[\"#636efa\",\"#EF553B\",\"#00cc96\",\"#ab63fa\",\"#FFA15A\",\"#19d3f3\",\"#FF6692\",\"#B6E880\",\"#FF97FF\",\"#FECB52\"],\"font\":{\"color\":\"#2a3f5f\"},\"hovermode\":\"closest\",\"hoverlabel\":{\"align\":\"left\"},\"paper_bgcolor\":\"white\",\"plot_bgcolor\":\"#E5ECF6\",\"polar\":{\"bgcolor\":\"#E5ECF6\",\"angularaxis\":{\"gridcolor\":\"white\",\"linecolor\":\"white\",\"ticks\":\"\"},\"radialaxis\":{\"gridcolor\":\"white\",\"linecolor\":\"white\",\"ticks\":\"\"}},\"ternary\":{\"bgcolor\":\"#E5ECF6\",\"aaxis\":{\"gridcolor\":\"white\",\"linecolor\":\"white\",\"ticks\":\"\"},\"baxis\":{\"gridcolor\":\"white\",\"linecolor\":\"white\",\"ticks\":\"\"},\"caxis\":{\"gridcolor\":\"white\",\"linecolor\":\"white\",\"ticks\":\"\"}},\"coloraxis\":{\"colorbar\":{\"outlinewidth\":0,\"ticks\":\"\"}},\"colorscale\":{\"sequential\":[[0.0,\"#0d0887\"],[0.1111111111111111,\"#46039f\"],[0.2222222222222222,\"#7201a8\"],[0.3333333333333333,\"#9c179e\"],[0.4444444444444444,\"#bd3786\"],[0.5555555555555556,\"#d8576b\"],[0.6666666666666666,\"#ed7953\"],[0.7777777777777778,\"#fb9f3a\"],[0.8888888888888888,\"#fdca26\"],[1.0,\"#f0f921\"]],\"sequentialminus\":[[0.0,\"#0d0887\"],[0.1111111111111111,\"#46039f\"],[0.2222222222222222,\"#7201a8\"],[0.3333333333333333,\"#9c179e\"],[0.4444444444444444,\"#bd3786\"],[0.5555555555555556,\"#d8576b\"],[0.6666666666666666,\"#ed7953\"],[0.7777777777777778,\"#fb9f3a\"],[0.8888888888888888,\"#fdca26\"],[1.0,\"#f0f921\"]],\"diverging\":[[0,\"#8e0152\"],[0.1,\"#c51b7d\"],[0.2,\"#de77ae\"],[0.3,\"#f1b6da\"],[0.4,\"#fde0ef\"],[0.5,\"#f7f7f7\"],[0.6,\"#e6f5d0\"],[0.7,\"#b8e186\"],[0.8,\"#7fbc41\"],[0.9,\"#4d9221\"],[1,\"#276419\"]]},\"xaxis\":{\"gridcolor\":\"white\",\"linecolor\":\"white\",\"ticks\":\"\",\"title\":{\"standoff\":15},\"zerolinecolor\":\"white\",\"automargin\":true,\"zerolinewidth\":2},\"yaxis\":{\"gridcolor\":\"white\",\"linecolor\":\"white\",\"ticks\":\"\",\"title\":{\"standoff\":15},\"zerolinecolor\":\"white\",\"automargin\":true,\"zerolinewidth\":2},\"scene\":{\"xaxis\":{\"backgroundcolor\":\"#E5ECF6\",\"gridcolor\":\"white\",\"linecolor\":\"white\",\"showbackground\":true,\"ticks\":\"\",\"zerolinecolor\":\"white\",\"gridwidth\":2},\"yaxis\":{\"backgroundcolor\":\"#E5ECF6\",\"gridcolor\":\"white\",\"linecolor\":\"white\",\"showbackground\":true,\"ticks\":\"\",\"zerolinecolor\":\"white\",\"gridwidth\":2},\"zaxis\":{\"backgroundcolor\":\"#E5ECF6\",\"gridcolor\":\"white\",\"linecolor\":\"white\",\"showbackground\":true,\"ticks\":\"\",\"zerolinecolor\":\"white\",\"gridwidth\":2}},\"shapedefaults\":{\"line\":{\"color\":\"#2a3f5f\"}},\"annotationdefaults\":{\"arrowcolor\":\"#2a3f5f\",\"arrowhead\":0,\"arrowwidth\":1},\"geo\":{\"bgcolor\":\"white\",\"landcolor\":\"#E5ECF6\",\"subunitcolor\":\"white\",\"showland\":true,\"showlakes\":true,\"lakecolor\":\"white\"},\"title\":{\"x\":0.05},\"mapbox\":{\"style\":\"light\"}}},\"xaxis\":{\"anchor\":\"y\",\"domain\":[0.0,1.0],\"title\":{\"text\":\"Date\"},\"range\":[\"2020-01-01T00:00:00\",\"2020-07-05T00:00:00\"]},\"yaxis\":{\"anchor\":\"x\",\"domain\":[0.0,1.0],\"title\":{\"text\":\"Coronavirus Search Trend\"},\"range\":[0,100]},\"legend\":{\"tracegroupgap\":0},\"margin\":{\"t\":10,\"l\":90,\"r\":110,\"b\":0},\"height\":216.0,\"width\":864,\"shapes\":[{\"fillcolor\":\"rgba(255, 0, 0, 0.2)\",\"line\":{\"width\":0},\"type\":\"rect\",\"x0\":\"2020-02-23\",\"x1\":\"2020-07-05\",\"y0\":0,\"y1\":100},{\"fillcolor\":\"rgba(255, 155, 0, 0.2)\",\"line\":{\"width\":0},\"type\":\"rect\",\"x0\":\"2020-01-28\",\"x1\":\"2020-02-23\",\"y0\":0,\"y1\":100},{\"fillcolor\":\"rgba(0, 0, 255, 0.2)\",\"line\":{\"width\":0},\"type\":\"rect\",\"x0\":\"2020-01-03\",\"x1\":\"2020-01-20\",\"y0\":0,\"y1\":100},{\"fillcolor\":\"rgba(255, 255, 0, 0.2)\",\"line\":{\"width\":0},\"type\":\"rect\",\"x0\":\"2020-01-20\",\"x1\":\"2020-01-28\",\"y0\":0,\"y1\":100}]},                        {\"responsive\": true}                    ).then(function(){\n",
       "                            \n",
       "var gd = document.getElementById('c95cdbe0-8815-40c3-aab7-f76af6ee6258');\n",
       "var x = new MutationObserver(function (mutations, observer) {{\n",
       "        var display = window.getComputedStyle(gd).display;\n",
       "        if (!display || display === 'none') {{\n",
       "            console.log([gd, 'removed!']);\n",
       "            Plotly.purge(gd);\n",
       "            observer.disconnect();\n",
       "        }}\n",
       "}});\n",
       "\n",
       "// Listen for the removal of the full notebook cells\n",
       "var notebookContainer = gd.closest('#notebook-container');\n",
       "if (notebookContainer) {{\n",
       "    x.observe(notebookContainer, {childList: true});\n",
       "}}\n",
       "\n",
       "// Listen for the clearing of the current output cell\n",
       "var outputEl = gd.closest('.output');\n",
       "if (outputEl) {{\n",
       "    x.observe(outputEl, {childList: true});\n",
       "}}\n",
       "\n",
       "                        })                };                });            </script>        </div>"
      ]
     },
     "metadata": {},
     "output_type": "display_data"
    }
   ],
   "source": [
    "# | label: fig-search-trends-time\n",
    "# | fig-cap: The change of search trends over time. The background colors on the chart correspond to infectious disease alert levels (blue, yellow, orange, red).\n",
    "fig_search_trends_time = px.line(\n",
    "    data[\"SearchTrend\"],\n",
    "    x=data[\"SearchTrend\"][\"date\"],\n",
    "    y=data[\"SearchTrend\"][\"coronavirus\"],\n",
    "    labels={\"coronavirus\": \"Coronavirus Search Trend\", \"date\": \"Date\"},\n",
    "    range_x=[datetime.strptime(\"2020-01-01\", date_format), weekly_time.index[-1]],\n",
    "    range_y=[0, 100],\n",
    "    width=base_fig_wid * dpi,\n",
    "    height=base_fig_wid / 4 * dpi,\n",
    ")\n",
    "\n",
    "fig_search_trends_time.update_layout(margin=dict(l=90, r=110, t=10, b=0))\n",
    "add_alert_background(fig_search_trends_time, blue=True, yellow=True)\n",
    "\n",
    "fig_search_trends_time.show()"
   ]
  },
  {
   "attachments": {},
   "cell_type": "markdown",
   "metadata": {},
   "source": [
    "#### March policies"
   ]
  },
  {
   "attachments": {},
   "cell_type": "markdown",
   "metadata": {},
   "source": [
    "The more important inflection point begun in 2020-03-01 that resulted in a steep decline of the spread and commenced the end of the first wave of covid 19 in South Korea.\n",
    "Here is the list of policies during those weeks:"
   ]
  },
  {
   "cell_type": "code",
   "execution_count": 15,
   "metadata": {},
   "outputs": [
    {
     "data": {
      "text/html": [
       "<div>\n",
       "<style scoped>\n",
       "    .dataframe tbody tr th:only-of-type {\n",
       "        vertical-align: middle;\n",
       "    }\n",
       "\n",
       "    .dataframe tbody tr th {\n",
       "        vertical-align: top;\n",
       "    }\n",
       "\n",
       "    .dataframe thead th {\n",
       "        text-align: right;\n",
       "    }\n",
       "</style>\n",
       "<table border=\"1\" class=\"dataframe\">\n",
       "  <thead>\n",
       "    <tr style=\"text-align: right;\">\n",
       "      <th></th>\n",
       "      <th>policy_id</th>\n",
       "      <th>country</th>\n",
       "      <th>type</th>\n",
       "      <th>gov_policy</th>\n",
       "      <th>detail</th>\n",
       "      <th>start_date</th>\n",
       "      <th>end_date</th>\n",
       "    </tr>\n",
       "  </thead>\n",
       "  <tbody>\n",
       "    <tr>\n",
       "      <th>28</th>\n",
       "      <td>29</td>\n",
       "      <td>Korea</td>\n",
       "      <td>Social</td>\n",
       "      <td>Social Distancing Campaign</td>\n",
       "      <td>Strong</td>\n",
       "      <td>2020-02-29</td>\n",
       "      <td>2020-03-21</td>\n",
       "    </tr>\n",
       "    <tr>\n",
       "      <th>33</th>\n",
       "      <td>34</td>\n",
       "      <td>Korea</td>\n",
       "      <td>Education</td>\n",
       "      <td>School Closure</td>\n",
       "      <td>Daycare Center for Children</td>\n",
       "      <td>2020-03-02</td>\n",
       "      <td>NaN</td>\n",
       "    </tr>\n",
       "    <tr>\n",
       "      <th>34</th>\n",
       "      <td>35</td>\n",
       "      <td>Korea</td>\n",
       "      <td>Education</td>\n",
       "      <td>School Opening Delay</td>\n",
       "      <td>Kindergarten</td>\n",
       "      <td>2020-03-02</td>\n",
       "      <td>2020-04-06</td>\n",
       "    </tr>\n",
       "    <tr>\n",
       "      <th>35</th>\n",
       "      <td>36</td>\n",
       "      <td>Korea</td>\n",
       "      <td>Education</td>\n",
       "      <td>School Opening Delay</td>\n",
       "      <td>High School</td>\n",
       "      <td>2020-03-02</td>\n",
       "      <td>2020-04-06</td>\n",
       "    </tr>\n",
       "    <tr>\n",
       "      <th>36</th>\n",
       "      <td>37</td>\n",
       "      <td>Korea</td>\n",
       "      <td>Education</td>\n",
       "      <td>School Opening Delay</td>\n",
       "      <td>Middle School</td>\n",
       "      <td>2020-03-02</td>\n",
       "      <td>2020-04-06</td>\n",
       "    </tr>\n",
       "    <tr>\n",
       "      <th>37</th>\n",
       "      <td>38</td>\n",
       "      <td>Korea</td>\n",
       "      <td>Education</td>\n",
       "      <td>School Opening Delay</td>\n",
       "      <td>Elementary School</td>\n",
       "      <td>2020-03-02</td>\n",
       "      <td>2020-04-06</td>\n",
       "    </tr>\n",
       "    <tr>\n",
       "      <th>25</th>\n",
       "      <td>26</td>\n",
       "      <td>Korea</td>\n",
       "      <td>Health</td>\n",
       "      <td>Drive-Through Screening Center</td>\n",
       "      <td>Standard Operating Procedures</td>\n",
       "      <td>2020-03-04</td>\n",
       "      <td>NaN</td>\n",
       "    </tr>\n",
       "    <tr>\n",
       "      <th>51</th>\n",
       "      <td>52</td>\n",
       "      <td>Korea</td>\n",
       "      <td>Technology</td>\n",
       "      <td>Self-Quarantine Safety Protection App</td>\n",
       "      <td>NaN</td>\n",
       "      <td>2020-03-07</td>\n",
       "      <td>NaN</td>\n",
       "    </tr>\n",
       "    <tr>\n",
       "      <th>49</th>\n",
       "      <td>50</td>\n",
       "      <td>Korea</td>\n",
       "      <td>Technology</td>\n",
       "      <td>Open API</td>\n",
       "      <td>Public Mask Sales Information</td>\n",
       "      <td>2020-03-08</td>\n",
       "      <td>NaN</td>\n",
       "    </tr>\n",
       "    <tr>\n",
       "      <th>7</th>\n",
       "      <td>8</td>\n",
       "      <td>Korea</td>\n",
       "      <td>Immigration</td>\n",
       "      <td>Special Immigration Procedure</td>\n",
       "      <td>from Japan</td>\n",
       "      <td>2020-03-09</td>\n",
       "      <td>NaN</td>\n",
       "    </tr>\n",
       "    <tr>\n",
       "      <th>27</th>\n",
       "      <td>28</td>\n",
       "      <td>Korea</td>\n",
       "      <td>Health</td>\n",
       "      <td>Mask Distribution</td>\n",
       "      <td>5-day Rotation System</td>\n",
       "      <td>2020-03-09</td>\n",
       "      <td>NaN</td>\n",
       "    </tr>\n",
       "    <tr>\n",
       "      <th>8</th>\n",
       "      <td>9</td>\n",
       "      <td>Korea</td>\n",
       "      <td>Immigration</td>\n",
       "      <td>Special Immigration Procedure</td>\n",
       "      <td>from Italy</td>\n",
       "      <td>2020-03-12</td>\n",
       "      <td>NaN</td>\n",
       "    </tr>\n",
       "    <tr>\n",
       "      <th>9</th>\n",
       "      <td>10</td>\n",
       "      <td>Korea</td>\n",
       "      <td>Immigration</td>\n",
       "      <td>Special Immigration Procedure</td>\n",
       "      <td>from Iran</td>\n",
       "      <td>2020-03-12</td>\n",
       "      <td>NaN</td>\n",
       "    </tr>\n",
       "  </tbody>\n",
       "</table>\n",
       "</div>"
      ],
      "text/plain": [
       "    policy_id country         type                             gov_policy  \\\n",
       "28         29   Korea       Social             Social Distancing Campaign   \n",
       "33         34   Korea    Education                         School Closure   \n",
       "34         35   Korea    Education                   School Opening Delay   \n",
       "35         36   Korea    Education                   School Opening Delay   \n",
       "36         37   Korea    Education                   School Opening Delay   \n",
       "37         38   Korea    Education                   School Opening Delay   \n",
       "25         26   Korea       Health         Drive-Through Screening Center   \n",
       "51         52   Korea   Technology  Self-Quarantine Safety Protection App   \n",
       "49         50   Korea   Technology                               Open API   \n",
       "7           8   Korea  Immigration          Special Immigration Procedure   \n",
       "27         28   Korea       Health                      Mask Distribution   \n",
       "8           9   Korea  Immigration          Special Immigration Procedure   \n",
       "9          10   Korea  Immigration          Special Immigration Procedure   \n",
       "\n",
       "                           detail  start_date    end_date  \n",
       "28                         Strong  2020-02-29  2020-03-21  \n",
       "33    Daycare Center for Children  2020-03-02         NaN  \n",
       "34                   Kindergarten  2020-03-02  2020-04-06  \n",
       "35                    High School  2020-03-02  2020-04-06  \n",
       "36                  Middle School  2020-03-02  2020-04-06  \n",
       "37              Elementary School  2020-03-02  2020-04-06  \n",
       "25  Standard Operating Procedures  2020-03-04         NaN  \n",
       "51                            NaN  2020-03-07         NaN  \n",
       "49  Public Mask Sales Information  2020-03-08         NaN  \n",
       "7                      from Japan  2020-03-09         NaN  \n",
       "27          5-day Rotation System  2020-03-09         NaN  \n",
       "8                      from Italy  2020-03-12         NaN  \n",
       "9                       from Iran  2020-03-12         NaN  "
      ]
     },
     "execution_count": 15,
     "metadata": {},
     "output_type": "execute_result"
    }
   ],
   "source": [
    "data[\"Policy\"].loc[\n",
    "    data[\"Policy\"][\"start_date\"].between(\"2020-02-29\", \"2020-03-12\")\n",
    "].sort_values(\"start_date\")"
   ]
  },
  {
   "attachments": {},
   "cell_type": "markdown",
   "metadata": {},
   "source": [
    "During this period several important policies were implemented:\n",
    "\n",
    "* A national social distancing campaign was launched that issued guidelines on social distancing on 2020-02-29 that included working from home, wearing masks, staying at home as much as possible.\n",
    "* Daycare centers were closed.\n",
    "* Schools were not opened on March (in South Korea March is the beginning of a semester after a winter break Dec-Feb).\n",
    "* Special immigrations procedures were implemented for visitors from largest outbreak countries.\n",
    "* Drive-trough screening centers were opened.\n",
    "\n",
    "These measures, especially the school closure severely restricted social contacts.\n",
    "After the implementation of these measures a sharp decrease in new cases was observed as seen in @fig-tests-time . "
   ]
  },
  {
   "attachments": {},
   "cell_type": "markdown",
   "metadata": {},
   "source": [
    "### April policies"
   ]
  },
  {
   "attachments": {},
   "cell_type": "markdown",
   "metadata": {},
   "source": [
    "Another sharp decline in cases can be seen starting with 2020-04-05. Here is the list of policies implemented during this period"
   ]
  },
  {
   "cell_type": "code",
   "execution_count": 16,
   "metadata": {},
   "outputs": [
    {
     "data": {
      "text/html": [
       "<div>\n",
       "<style scoped>\n",
       "    .dataframe tbody tr th:only-of-type {\n",
       "        vertical-align: middle;\n",
       "    }\n",
       "\n",
       "    .dataframe tbody tr th {\n",
       "        vertical-align: top;\n",
       "    }\n",
       "\n",
       "    .dataframe thead th {\n",
       "        text-align: right;\n",
       "    }\n",
       "</style>\n",
       "<table border=\"1\" class=\"dataframe\">\n",
       "  <thead>\n",
       "    <tr style=\"text-align: right;\">\n",
       "      <th></th>\n",
       "      <th>policy_id</th>\n",
       "      <th>country</th>\n",
       "      <th>type</th>\n",
       "      <th>gov_policy</th>\n",
       "      <th>detail</th>\n",
       "      <th>start_date</th>\n",
       "      <th>end_date</th>\n",
       "    </tr>\n",
       "  </thead>\n",
       "  <tbody>\n",
       "    <tr>\n",
       "      <th>17</th>\n",
       "      <td>18</td>\n",
       "      <td>Korea</td>\n",
       "      <td>Immigration</td>\n",
       "      <td>Mandatory 14-day Self-Quarantine</td>\n",
       "      <td>from all the countries</td>\n",
       "      <td>2020-04-01</td>\n",
       "      <td>NaN</td>\n",
       "    </tr>\n",
       "    <tr>\n",
       "      <th>38</th>\n",
       "      <td>39</td>\n",
       "      <td>Korea</td>\n",
       "      <td>Education</td>\n",
       "      <td>School Opening with Online Class</td>\n",
       "      <td>High School (3rd grade)</td>\n",
       "      <td>2020-04-09</td>\n",
       "      <td>2020-05-20</td>\n",
       "    </tr>\n",
       "    <tr>\n",
       "      <th>41</th>\n",
       "      <td>42</td>\n",
       "      <td>Korea</td>\n",
       "      <td>Education</td>\n",
       "      <td>School Opening with Online Class</td>\n",
       "      <td>Middle School (3rd grade)</td>\n",
       "      <td>2020-04-09</td>\n",
       "      <td>2020-05-27</td>\n",
       "    </tr>\n",
       "    <tr>\n",
       "      <th>18</th>\n",
       "      <td>19</td>\n",
       "      <td>Korea</td>\n",
       "      <td>Immigration</td>\n",
       "      <td>Mandatory Self-Quarantine &amp; Diagonostic Tests</td>\n",
       "      <td>from U.S.</td>\n",
       "      <td>2020-04-13</td>\n",
       "      <td>NaN</td>\n",
       "    </tr>\n",
       "  </tbody>\n",
       "</table>\n",
       "</div>"
      ],
      "text/plain": [
       "    policy_id country         type  \\\n",
       "17         18   Korea  Immigration   \n",
       "38         39   Korea    Education   \n",
       "41         42   Korea    Education   \n",
       "18         19   Korea  Immigration   \n",
       "\n",
       "                                       gov_policy                     detail  \\\n",
       "17               Mandatory 14-day Self-Quarantine     from all the countries   \n",
       "38               School Opening with Online Class    High School (3rd grade)   \n",
       "41               School Opening with Online Class  Middle School (3rd grade)   \n",
       "18  Mandatory Self-Quarantine & Diagonostic Tests                  from U.S.   \n",
       "\n",
       "    start_date    end_date  \n",
       "17  2020-04-01         NaN  \n",
       "38  2020-04-09  2020-05-20  \n",
       "41  2020-04-09  2020-05-27  \n",
       "18  2020-04-13         NaN  "
      ]
     },
     "execution_count": 16,
     "metadata": {},
     "output_type": "execute_result"
    }
   ],
   "source": [
    "data[\"Policy\"].loc[\n",
    "    data[\"Policy\"][\"start_date\"].between(\"2020-03-25\", \"2020-04-15\")\n",
    "].sort_values(\"start_date\")"
   ]
  },
  {
   "attachments": {},
   "cell_type": "markdown",
   "metadata": {},
   "source": [
    "The only major new policies implemented during this period was the mandatory two week quarantine for foreign visitors."
   ]
  },
  {
   "attachments": {},
   "cell_type": "markdown",
   "metadata": {},
   "source": [
    "### May policies"
   ]
  },
  {
   "attachments": {},
   "cell_type": "markdown",
   "metadata": {},
   "source": [
    "The number of new cases bottomed in the week ending in 2020-05-03 and then started to increase raising nearly five times over the following month. Here are the policies after which the increase followed:"
   ]
  },
  {
   "cell_type": "code",
   "execution_count": 17,
   "metadata": {},
   "outputs": [
    {
     "data": {
      "text/html": [
       "<div>\n",
       "<style scoped>\n",
       "    .dataframe tbody tr th:only-of-type {\n",
       "        vertical-align: middle;\n",
       "    }\n",
       "\n",
       "    .dataframe tbody tr th {\n",
       "        vertical-align: top;\n",
       "    }\n",
       "\n",
       "    .dataframe thead th {\n",
       "        text-align: right;\n",
       "    }\n",
       "</style>\n",
       "<table border=\"1\" class=\"dataframe\">\n",
       "  <thead>\n",
       "    <tr style=\"text-align: right;\">\n",
       "      <th></th>\n",
       "      <th>policy_id</th>\n",
       "      <th>country</th>\n",
       "      <th>type</th>\n",
       "      <th>gov_policy</th>\n",
       "      <th>detail</th>\n",
       "      <th>start_date</th>\n",
       "      <th>end_date</th>\n",
       "    </tr>\n",
       "  </thead>\n",
       "  <tbody>\n",
       "    <tr>\n",
       "      <th>52</th>\n",
       "      <td>53</td>\n",
       "      <td>Korea</td>\n",
       "      <td>Technology</td>\n",
       "      <td>Electronic Wristbands</td>\n",
       "      <td>on people who violate self-quarantine measures</td>\n",
       "      <td>2020-04-27</td>\n",
       "      <td>NaN</td>\n",
       "    </tr>\n",
       "    <tr>\n",
       "      <th>31</th>\n",
       "      <td>32</td>\n",
       "      <td>Korea</td>\n",
       "      <td>Social</td>\n",
       "      <td>Social Distancing Campaign</td>\n",
       "      <td>Weak(1st)</td>\n",
       "      <td>2020-05-06</td>\n",
       "      <td>NaN</td>\n",
       "    </tr>\n",
       "    <tr>\n",
       "      <th>53</th>\n",
       "      <td>54</td>\n",
       "      <td>Korea</td>\n",
       "      <td>Administrative</td>\n",
       "      <td>Close bars and clubs</td>\n",
       "      <td>administrative order to close bars and clubs</td>\n",
       "      <td>2020-05-08</td>\n",
       "      <td>2020-06-07</td>\n",
       "    </tr>\n",
       "  </tbody>\n",
       "</table>\n",
       "</div>"
      ],
      "text/plain": [
       "    policy_id country            type                  gov_policy  \\\n",
       "52         53   Korea      Technology       Electronic Wristbands   \n",
       "31         32   Korea          Social  Social Distancing Campaign   \n",
       "53         54   Korea  Administrative        Close bars and clubs   \n",
       "\n",
       "                                            detail  start_date    end_date  \n",
       "52  on people who violate self-quarantine measures  2020-04-27         NaN  \n",
       "31                                       Weak(1st)  2020-05-06         NaN  \n",
       "53    administrative order to close bars and clubs  2020-05-08  2020-06-07  "
      ]
     },
     "execution_count": 17,
     "metadata": {},
     "output_type": "execute_result"
    }
   ],
   "source": [
    "data[\"Policy\"].loc[\n",
    "    data[\"Policy\"][\"start_date\"].between(\"2020-04-24\", \"2020-05-10\")\n",
    "].sort_values(\"start_date\")"
   ]
  },
  {
   "attachments": {},
   "cell_type": "markdown",
   "metadata": {},
   "source": [
    "No major loosening of policies was implemented during that time."
   ]
  },
  {
   "attachments": {},
   "cell_type": "markdown",
   "metadata": {},
   "source": [
    "### June policies"
   ]
  },
  {
   "attachments": {},
   "cell_type": "markdown",
   "metadata": {},
   "source": [
    "New cases while still being relatively low continued to rise up until the minor peak at 2020-05-31, the level held stably around 300 weekly new cases and then started to decrease further after 2020-06-28. Here are the policies:"
   ]
  },
  {
   "cell_type": "code",
   "execution_count": 18,
   "metadata": {},
   "outputs": [
    {
     "data": {
      "text/html": [
       "<div>\n",
       "<style scoped>\n",
       "    .dataframe tbody tr th:only-of-type {\n",
       "        vertical-align: middle;\n",
       "    }\n",
       "\n",
       "    .dataframe tbody tr th {\n",
       "        vertical-align: top;\n",
       "    }\n",
       "\n",
       "    .dataframe thead th {\n",
       "        text-align: right;\n",
       "    }\n",
       "</style>\n",
       "<table border=\"1\" class=\"dataframe\">\n",
       "  <thead>\n",
       "    <tr style=\"text-align: right;\">\n",
       "      <th></th>\n",
       "      <th>policy_id</th>\n",
       "      <th>country</th>\n",
       "      <th>type</th>\n",
       "      <th>gov_policy</th>\n",
       "      <th>detail</th>\n",
       "      <th>start_date</th>\n",
       "      <th>end_date</th>\n",
       "    </tr>\n",
       "  </thead>\n",
       "  <tbody>\n",
       "    <tr>\n",
       "      <th>55</th>\n",
       "      <td>56</td>\n",
       "      <td>Korea</td>\n",
       "      <td>Administrative</td>\n",
       "      <td>Close karaoke</td>\n",
       "      <td>Ban on gathering for 2 weeks for all karaoke a...</td>\n",
       "      <td>2020-05-21</td>\n",
       "      <td>2020-06-03</td>\n",
       "    </tr>\n",
       "    <tr>\n",
       "      <th>58</th>\n",
       "      <td>59</td>\n",
       "      <td>Korea</td>\n",
       "      <td>Transformation</td>\n",
       "      <td>Wearing of masks</td>\n",
       "      <td>Drivers such as buses and taxis can refuse to ...</td>\n",
       "      <td>2020-05-26</td>\n",
       "      <td>NaN</td>\n",
       "    </tr>\n",
       "    <tr>\n",
       "      <th>57</th>\n",
       "      <td>58</td>\n",
       "      <td>Korea</td>\n",
       "      <td>Transformation</td>\n",
       "      <td>Wearing of masks</td>\n",
       "      <td>Mandatory wearing of passenger mask domestic, ...</td>\n",
       "      <td>2020-05-27</td>\n",
       "      <td>NaN</td>\n",
       "    </tr>\n",
       "    <tr>\n",
       "      <th>60</th>\n",
       "      <td>61</td>\n",
       "      <td>Korea</td>\n",
       "      <td>Health</td>\n",
       "      <td>Extends Tightened Quarantine Measures</td>\n",
       "      <td>Gov't Extends Tightened Quarantine Measures in...</td>\n",
       "      <td>2020-05-28</td>\n",
       "      <td>2020-06-14</td>\n",
       "    </tr>\n",
       "    <tr>\n",
       "      <th>56</th>\n",
       "      <td>57</td>\n",
       "      <td>Korea</td>\n",
       "      <td>Transformation</td>\n",
       "      <td>Logistics center</td>\n",
       "      <td>On-site inspection of major logistics faciliti...</td>\n",
       "      <td>2020-05-29</td>\n",
       "      <td>2020-06-11</td>\n",
       "    </tr>\n",
       "    <tr>\n",
       "      <th>59</th>\n",
       "      <td>60</td>\n",
       "      <td>Korea</td>\n",
       "      <td>Technology</td>\n",
       "      <td>KI-Pass: Korea Internet - Pass</td>\n",
       "      <td>new quick response (QR) code system this week ...</td>\n",
       "      <td>2020-06-10</td>\n",
       "      <td>NaN</td>\n",
       "    </tr>\n",
       "  </tbody>\n",
       "</table>\n",
       "</div>"
      ],
      "text/plain": [
       "    policy_id country            type                              gov_policy  \\\n",
       "55         56   Korea  Administrative                           Close karaoke   \n",
       "58         59   Korea  Transformation                        Wearing of masks   \n",
       "57         58   Korea  Transformation                        Wearing of masks   \n",
       "60         61   Korea          Health  Extends Tightened Quarantine Measures    \n",
       "56         57   Korea  Transformation                        Logistics center   \n",
       "59         60   Korea      Technology          KI-Pass: Korea Internet - Pass   \n",
       "\n",
       "                                               detail  start_date    end_date  \n",
       "55  Ban on gathering for 2 weeks for all karaoke a...  2020-05-21  2020-06-03  \n",
       "58  Drivers such as buses and taxis can refuse to ...  2020-05-26         NaN  \n",
       "57  Mandatory wearing of passenger mask domestic, ...  2020-05-27         NaN  \n",
       "60  Gov't Extends Tightened Quarantine Measures in...  2020-05-28  2020-06-14  \n",
       "56  On-site inspection of major logistics faciliti...  2020-05-29  2020-06-11  \n",
       "59  new quick response (QR) code system this week ...  2020-06-10         NaN  "
      ]
     },
     "execution_count": 18,
     "metadata": {},
     "output_type": "execute_result"
    }
   ],
   "source": [
    "data[\"Policy\"].loc[\n",
    "    data[\"Policy\"][\"start_date\"].between(\"2020-05-20\", \"2020-06-31\")\n",
    "].sort_values(\"start_date\")"
   ]
  },
  {
   "attachments": {},
   "cell_type": "markdown",
   "metadata": {},
   "source": [
    "During this period the government continued to tighten existing policies."
   ]
  },
  {
   "attachments": {},
   "cell_type": "markdown",
   "metadata": {},
   "source": [
    "### Weather data"
   ]
  },
  {
   "attachments": {},
   "cell_type": "markdown",
   "metadata": {},
   "source": [
    "Respiratory infections are often related to weather conditions. The data sets provides a number of meterological parameters. Yet the literature shows that the temperature alone is the best predictor of respiratory infections (@falagas2008, @carder2005) therefore in order to compare the weather conditions with the timeline of South Korean covid-19 situation I've aggregated the dataset into weekly averages of temperature across the country. The resulting comparison can be seen in @fig-temp-time."
   ]
  },
  {
   "attachments": {},
   "cell_type": "markdown",
   "metadata": {},
   "source": [
    "Checking the average standard deviations of temperature across the region:"
   ]
  },
  {
   "cell_type": "code",
   "execution_count": 19,
   "metadata": {},
   "outputs": [
    {
     "data": {
      "text/html": [
       "<div>\n",
       "<style scoped>\n",
       "    .dataframe tbody tr th:only-of-type {\n",
       "        vertical-align: middle;\n",
       "    }\n",
       "\n",
       "    .dataframe tbody tr th {\n",
       "        vertical-align: top;\n",
       "    }\n",
       "\n",
       "    .dataframe thead th {\n",
       "        text-align: right;\n",
       "    }\n",
       "</style>\n",
       "<table border=\"1\" class=\"dataframe\">\n",
       "  <thead>\n",
       "    <tr style=\"text-align: right;\">\n",
       "      <th></th>\n",
       "      <th>avg_temp_std</th>\n",
       "    </tr>\n",
       "  </thead>\n",
       "  <tbody>\n",
       "    <tr>\n",
       "      <th>count</th>\n",
       "      <td>1.64e+03</td>\n",
       "    </tr>\n",
       "    <tr>\n",
       "      <th>mean</th>\n",
       "      <td>1.86</td>\n",
       "    </tr>\n",
       "    <tr>\n",
       "      <th>std</th>\n",
       "      <td>0.658</td>\n",
       "    </tr>\n",
       "    <tr>\n",
       "      <th>min</th>\n",
       "      <td>0.628</td>\n",
       "    </tr>\n",
       "    <tr>\n",
       "      <th>25%</th>\n",
       "      <td>1.35</td>\n",
       "    </tr>\n",
       "    <tr>\n",
       "      <th>50%</th>\n",
       "      <td>1.75</td>\n",
       "    </tr>\n",
       "    <tr>\n",
       "      <th>75%</th>\n",
       "      <td>2.32</td>\n",
       "    </tr>\n",
       "    <tr>\n",
       "      <th>max</th>\n",
       "      <td>4.09</td>\n",
       "    </tr>\n",
       "  </tbody>\n",
       "</table>\n",
       "</div>"
      ],
      "text/plain": [
       "       avg_temp_std\n",
       "count      1.64e+03\n",
       "mean           1.86\n",
       "std           0.658\n",
       "min           0.628\n",
       "25%            1.35\n",
       "50%            1.75\n",
       "75%            2.32\n",
       "max            4.09"
      ]
     },
     "execution_count": 19,
     "metadata": {},
     "output_type": "execute_result"
    }
   ],
   "source": [
    "data[\"Weather\"][[\"date\", \"avg_temp\"]].groupby(\"date\").agg(\n",
    "    avg_temp_std=(\"avg_temp\", \"std\")\n",
    ").describe()"
   ]
  },
  {
   "attachments": {},
   "cell_type": "markdown",
   "metadata": {},
   "source": [
    "Aggregating the weather data to correspond to weekly new cases data:"
   ]
  },
  {
   "cell_type": "code",
   "execution_count": 20,
   "metadata": {},
   "outputs": [],
   "source": [
    "daily_temp = data[\"Weather\"][[\"date\", \"avg_temp\"]].groupby(\"date\").agg(\"mean\")\n",
    "weekly_temp = daily_temp[\"2020-01-26\":].resample(\"W\").last()"
   ]
  },
  {
   "cell_type": "code",
   "execution_count": 21,
   "metadata": {},
   "outputs": [
    {
     "data": {
      "application/vnd.plotly.v1+json": {
       "config": {
        "plotlyServerURL": "https://plot.ly"
       },
       "data": [
        {
         "line": {
          "color": "blue"
         },
         "name": "New Weekly Cases",
         "type": "scatter",
         "x": [
          "2020-01-26T00:00:00",
          "2020-02-02T00:00:00",
          "2020-02-09T00:00:00",
          "2020-02-16T00:00:00",
          "2020-02-23T00:00:00",
          "2020-03-01T00:00:00",
          "2020-03-08T00:00:00",
          "2020-03-15T00:00:00",
          "2020-03-22T00:00:00",
          "2020-03-29T00:00:00",
          "2020-04-05T00:00:00",
          "2020-04-12T00:00:00",
          "2020-04-19T00:00:00",
          "2020-04-26T00:00:00",
          "2020-05-03T00:00:00",
          "2020-05-10T00:00:00",
          "2020-05-17T00:00:00",
          "2020-05-24T00:00:00",
          "2020-05-31T00:00:00",
          "2020-06-07T00:00:00",
          "2020-06-14T00:00:00",
          "2020-06-21T00:00:00",
          "2020-06-28T00:00:00",
          "2020-07-05T00:00:00"
         ],
         "xaxis": "x",
         "y": [
          3,
          12,
          12,
          2,
          573,
          3134,
          3398,
          992,
          771,
          686,
          654,
          275,
          149,
          67,
          65,
          81,
          176,
          140,
          278,
          308,
          309,
          336,
          294,
          85
         ],
         "yaxis": "y"
        },
        {
         "line": {
          "color": "red"
         },
         "name": "Average Temperature (C°)",
         "type": "scatter",
         "x": [
          "2020-01-26T00:00:00",
          "2020-02-02T00:00:00",
          "2020-02-09T00:00:00",
          "2020-02-16T00:00:00",
          "2020-02-23T00:00:00",
          "2020-03-01T00:00:00",
          "2020-03-08T00:00:00",
          "2020-03-15T00:00:00",
          "2020-03-22T00:00:00",
          "2020-03-29T00:00:00",
          "2020-04-05T00:00:00",
          "2020-04-12T00:00:00",
          "2020-04-19T00:00:00",
          "2020-04-26T00:00:00",
          "2020-05-03T00:00:00",
          "2020-05-10T00:00:00",
          "2020-05-17T00:00:00",
          "2020-05-24T00:00:00",
          "2020-05-31T00:00:00",
          "2020-06-07T00:00:00",
          "2020-06-14T00:00:00",
          "2020-06-21T00:00:00",
          "2020-06-28T00:00:00",
          "2020-07-05T00:00:00"
         ],
         "xaxis": "x",
         "y": [
          7.05,
          3.58125,
          1.60625,
          2.475,
          4.3625,
          7.575,
          8.74375,
          6.0125,
          12.3625,
          8.4875,
          7.75,
          9.05625,
          11.41875,
          12.5625,
          18.96875,
          16.175,
          18.9125,
          18.88125,
          20.25625,
          21.825,
          24.05,
          23.00625,
          24.19375,
          22.0625
         ],
         "yaxis": "y2"
        }
       ],
       "layout": {
        "height": 345.6,
        "legend": {
         "orientation": "h",
         "y": 1.15
        },
        "margin": {
         "b": 5,
         "t": 0
        },
        "shapes": [
         {
          "fillcolor": "rgba(255, 0, 0, 0.2)",
          "line": {
           "width": 0
          },
          "type": "rect",
          "x0": "2020-02-23",
          "x1": "2020-07-05",
          "y0": 0,
          "y1": 3500
         },
         {
          "fillcolor": "rgba(255, 155, 0, 0.2)",
          "line": {
           "width": 0
          },
          "type": "rect",
          "x0": "2020-01-28",
          "x1": "2020-02-23",
          "y0": 0,
          "y1": 3500
         }
        ],
        "template": {
         "data": {
          "bar": [
           {
            "error_x": {
             "color": "#2a3f5f"
            },
            "error_y": {
             "color": "#2a3f5f"
            },
            "marker": {
             "line": {
              "color": "#E5ECF6",
              "width": 0.5
             },
             "pattern": {
              "fillmode": "overlay",
              "size": 10,
              "solidity": 0.2
             }
            },
            "type": "bar"
           }
          ],
          "barpolar": [
           {
            "marker": {
             "line": {
              "color": "#E5ECF6",
              "width": 0.5
             },
             "pattern": {
              "fillmode": "overlay",
              "size": 10,
              "solidity": 0.2
             }
            },
            "type": "barpolar"
           }
          ],
          "carpet": [
           {
            "aaxis": {
             "endlinecolor": "#2a3f5f",
             "gridcolor": "white",
             "linecolor": "white",
             "minorgridcolor": "white",
             "startlinecolor": "#2a3f5f"
            },
            "baxis": {
             "endlinecolor": "#2a3f5f",
             "gridcolor": "white",
             "linecolor": "white",
             "minorgridcolor": "white",
             "startlinecolor": "#2a3f5f"
            },
            "type": "carpet"
           }
          ],
          "choropleth": [
           {
            "colorbar": {
             "outlinewidth": 0,
             "ticks": ""
            },
            "type": "choropleth"
           }
          ],
          "contour": [
           {
            "colorbar": {
             "outlinewidth": 0,
             "ticks": ""
            },
            "colorscale": [
             [
              0,
              "#0d0887"
             ],
             [
              0.1111111111111111,
              "#46039f"
             ],
             [
              0.2222222222222222,
              "#7201a8"
             ],
             [
              0.3333333333333333,
              "#9c179e"
             ],
             [
              0.4444444444444444,
              "#bd3786"
             ],
             [
              0.5555555555555556,
              "#d8576b"
             ],
             [
              0.6666666666666666,
              "#ed7953"
             ],
             [
              0.7777777777777778,
              "#fb9f3a"
             ],
             [
              0.8888888888888888,
              "#fdca26"
             ],
             [
              1,
              "#f0f921"
             ]
            ],
            "type": "contour"
           }
          ],
          "contourcarpet": [
           {
            "colorbar": {
             "outlinewidth": 0,
             "ticks": ""
            },
            "type": "contourcarpet"
           }
          ],
          "heatmap": [
           {
            "colorbar": {
             "outlinewidth": 0,
             "ticks": ""
            },
            "colorscale": [
             [
              0,
              "#0d0887"
             ],
             [
              0.1111111111111111,
              "#46039f"
             ],
             [
              0.2222222222222222,
              "#7201a8"
             ],
             [
              0.3333333333333333,
              "#9c179e"
             ],
             [
              0.4444444444444444,
              "#bd3786"
             ],
             [
              0.5555555555555556,
              "#d8576b"
             ],
             [
              0.6666666666666666,
              "#ed7953"
             ],
             [
              0.7777777777777778,
              "#fb9f3a"
             ],
             [
              0.8888888888888888,
              "#fdca26"
             ],
             [
              1,
              "#f0f921"
             ]
            ],
            "type": "heatmap"
           }
          ],
          "heatmapgl": [
           {
            "colorbar": {
             "outlinewidth": 0,
             "ticks": ""
            },
            "colorscale": [
             [
              0,
              "#0d0887"
             ],
             [
              0.1111111111111111,
              "#46039f"
             ],
             [
              0.2222222222222222,
              "#7201a8"
             ],
             [
              0.3333333333333333,
              "#9c179e"
             ],
             [
              0.4444444444444444,
              "#bd3786"
             ],
             [
              0.5555555555555556,
              "#d8576b"
             ],
             [
              0.6666666666666666,
              "#ed7953"
             ],
             [
              0.7777777777777778,
              "#fb9f3a"
             ],
             [
              0.8888888888888888,
              "#fdca26"
             ],
             [
              1,
              "#f0f921"
             ]
            ],
            "type": "heatmapgl"
           }
          ],
          "histogram": [
           {
            "marker": {
             "pattern": {
              "fillmode": "overlay",
              "size": 10,
              "solidity": 0.2
             }
            },
            "type": "histogram"
           }
          ],
          "histogram2d": [
           {
            "colorbar": {
             "outlinewidth": 0,
             "ticks": ""
            },
            "colorscale": [
             [
              0,
              "#0d0887"
             ],
             [
              0.1111111111111111,
              "#46039f"
             ],
             [
              0.2222222222222222,
              "#7201a8"
             ],
             [
              0.3333333333333333,
              "#9c179e"
             ],
             [
              0.4444444444444444,
              "#bd3786"
             ],
             [
              0.5555555555555556,
              "#d8576b"
             ],
             [
              0.6666666666666666,
              "#ed7953"
             ],
             [
              0.7777777777777778,
              "#fb9f3a"
             ],
             [
              0.8888888888888888,
              "#fdca26"
             ],
             [
              1,
              "#f0f921"
             ]
            ],
            "type": "histogram2d"
           }
          ],
          "histogram2dcontour": [
           {
            "colorbar": {
             "outlinewidth": 0,
             "ticks": ""
            },
            "colorscale": [
             [
              0,
              "#0d0887"
             ],
             [
              0.1111111111111111,
              "#46039f"
             ],
             [
              0.2222222222222222,
              "#7201a8"
             ],
             [
              0.3333333333333333,
              "#9c179e"
             ],
             [
              0.4444444444444444,
              "#bd3786"
             ],
             [
              0.5555555555555556,
              "#d8576b"
             ],
             [
              0.6666666666666666,
              "#ed7953"
             ],
             [
              0.7777777777777778,
              "#fb9f3a"
             ],
             [
              0.8888888888888888,
              "#fdca26"
             ],
             [
              1,
              "#f0f921"
             ]
            ],
            "type": "histogram2dcontour"
           }
          ],
          "mesh3d": [
           {
            "colorbar": {
             "outlinewidth": 0,
             "ticks": ""
            },
            "type": "mesh3d"
           }
          ],
          "parcoords": [
           {
            "line": {
             "colorbar": {
              "outlinewidth": 0,
              "ticks": ""
             }
            },
            "type": "parcoords"
           }
          ],
          "pie": [
           {
            "automargin": true,
            "type": "pie"
           }
          ],
          "scatter": [
           {
            "fillpattern": {
             "fillmode": "overlay",
             "size": 10,
             "solidity": 0.2
            },
            "type": "scatter"
           }
          ],
          "scatter3d": [
           {
            "line": {
             "colorbar": {
              "outlinewidth": 0,
              "ticks": ""
             }
            },
            "marker": {
             "colorbar": {
              "outlinewidth": 0,
              "ticks": ""
             }
            },
            "type": "scatter3d"
           }
          ],
          "scattercarpet": [
           {
            "marker": {
             "colorbar": {
              "outlinewidth": 0,
              "ticks": ""
             }
            },
            "type": "scattercarpet"
           }
          ],
          "scattergeo": [
           {
            "marker": {
             "colorbar": {
              "outlinewidth": 0,
              "ticks": ""
             }
            },
            "type": "scattergeo"
           }
          ],
          "scattergl": [
           {
            "marker": {
             "colorbar": {
              "outlinewidth": 0,
              "ticks": ""
             }
            },
            "type": "scattergl"
           }
          ],
          "scattermapbox": [
           {
            "marker": {
             "colorbar": {
              "outlinewidth": 0,
              "ticks": ""
             }
            },
            "type": "scattermapbox"
           }
          ],
          "scatterpolar": [
           {
            "marker": {
             "colorbar": {
              "outlinewidth": 0,
              "ticks": ""
             }
            },
            "type": "scatterpolar"
           }
          ],
          "scatterpolargl": [
           {
            "marker": {
             "colorbar": {
              "outlinewidth": 0,
              "ticks": ""
             }
            },
            "type": "scatterpolargl"
           }
          ],
          "scatterternary": [
           {
            "marker": {
             "colorbar": {
              "outlinewidth": 0,
              "ticks": ""
             }
            },
            "type": "scatterternary"
           }
          ],
          "surface": [
           {
            "colorbar": {
             "outlinewidth": 0,
             "ticks": ""
            },
            "colorscale": [
             [
              0,
              "#0d0887"
             ],
             [
              0.1111111111111111,
              "#46039f"
             ],
             [
              0.2222222222222222,
              "#7201a8"
             ],
             [
              0.3333333333333333,
              "#9c179e"
             ],
             [
              0.4444444444444444,
              "#bd3786"
             ],
             [
              0.5555555555555556,
              "#d8576b"
             ],
             [
              0.6666666666666666,
              "#ed7953"
             ],
             [
              0.7777777777777778,
              "#fb9f3a"
             ],
             [
              0.8888888888888888,
              "#fdca26"
             ],
             [
              1,
              "#f0f921"
             ]
            ],
            "type": "surface"
           }
          ],
          "table": [
           {
            "cells": {
             "fill": {
              "color": "#EBF0F8"
             },
             "line": {
              "color": "white"
             }
            },
            "header": {
             "fill": {
              "color": "#C8D4E3"
             },
             "line": {
              "color": "white"
             }
            },
            "type": "table"
           }
          ]
         },
         "layout": {
          "annotationdefaults": {
           "arrowcolor": "#2a3f5f",
           "arrowhead": 0,
           "arrowwidth": 1
          },
          "autotypenumbers": "strict",
          "coloraxis": {
           "colorbar": {
            "outlinewidth": 0,
            "ticks": ""
           }
          },
          "colorscale": {
           "diverging": [
            [
             0,
             "#8e0152"
            ],
            [
             0.1,
             "#c51b7d"
            ],
            [
             0.2,
             "#de77ae"
            ],
            [
             0.3,
             "#f1b6da"
            ],
            [
             0.4,
             "#fde0ef"
            ],
            [
             0.5,
             "#f7f7f7"
            ],
            [
             0.6,
             "#e6f5d0"
            ],
            [
             0.7,
             "#b8e186"
            ],
            [
             0.8,
             "#7fbc41"
            ],
            [
             0.9,
             "#4d9221"
            ],
            [
             1,
             "#276419"
            ]
           ],
           "sequential": [
            [
             0,
             "#0d0887"
            ],
            [
             0.1111111111111111,
             "#46039f"
            ],
            [
             0.2222222222222222,
             "#7201a8"
            ],
            [
             0.3333333333333333,
             "#9c179e"
            ],
            [
             0.4444444444444444,
             "#bd3786"
            ],
            [
             0.5555555555555556,
             "#d8576b"
            ],
            [
             0.6666666666666666,
             "#ed7953"
            ],
            [
             0.7777777777777778,
             "#fb9f3a"
            ],
            [
             0.8888888888888888,
             "#fdca26"
            ],
            [
             1,
             "#f0f921"
            ]
           ],
           "sequentialminus": [
            [
             0,
             "#0d0887"
            ],
            [
             0.1111111111111111,
             "#46039f"
            ],
            [
             0.2222222222222222,
             "#7201a8"
            ],
            [
             0.3333333333333333,
             "#9c179e"
            ],
            [
             0.4444444444444444,
             "#bd3786"
            ],
            [
             0.5555555555555556,
             "#d8576b"
            ],
            [
             0.6666666666666666,
             "#ed7953"
            ],
            [
             0.7777777777777778,
             "#fb9f3a"
            ],
            [
             0.8888888888888888,
             "#fdca26"
            ],
            [
             1,
             "#f0f921"
            ]
           ]
          },
          "colorway": [
           "#636efa",
           "#EF553B",
           "#00cc96",
           "#ab63fa",
           "#FFA15A",
           "#19d3f3",
           "#FF6692",
           "#B6E880",
           "#FF97FF",
           "#FECB52"
          ],
          "font": {
           "color": "#2a3f5f"
          },
          "geo": {
           "bgcolor": "white",
           "lakecolor": "white",
           "landcolor": "#E5ECF6",
           "showlakes": true,
           "showland": true,
           "subunitcolor": "white"
          },
          "hoverlabel": {
           "align": "left"
          },
          "hovermode": "closest",
          "mapbox": {
           "style": "light"
          },
          "paper_bgcolor": "white",
          "plot_bgcolor": "#E5ECF6",
          "polar": {
           "angularaxis": {
            "gridcolor": "white",
            "linecolor": "white",
            "ticks": ""
           },
           "bgcolor": "#E5ECF6",
           "radialaxis": {
            "gridcolor": "white",
            "linecolor": "white",
            "ticks": ""
           }
          },
          "scene": {
           "xaxis": {
            "backgroundcolor": "#E5ECF6",
            "gridcolor": "white",
            "gridwidth": 2,
            "linecolor": "white",
            "showbackground": true,
            "ticks": "",
            "zerolinecolor": "white"
           },
           "yaxis": {
            "backgroundcolor": "#E5ECF6",
            "gridcolor": "white",
            "gridwidth": 2,
            "linecolor": "white",
            "showbackground": true,
            "ticks": "",
            "zerolinecolor": "white"
           },
           "zaxis": {
            "backgroundcolor": "#E5ECF6",
            "gridcolor": "white",
            "gridwidth": 2,
            "linecolor": "white",
            "showbackground": true,
            "ticks": "",
            "zerolinecolor": "white"
           }
          },
          "shapedefaults": {
           "line": {
            "color": "#2a3f5f"
           }
          },
          "ternary": {
           "aaxis": {
            "gridcolor": "white",
            "linecolor": "white",
            "ticks": ""
           },
           "baxis": {
            "gridcolor": "white",
            "linecolor": "white",
            "ticks": ""
           },
           "bgcolor": "#E5ECF6",
           "caxis": {
            "gridcolor": "white",
            "linecolor": "white",
            "ticks": ""
           }
          },
          "title": {
           "x": 0.05
          },
          "xaxis": {
           "automargin": true,
           "gridcolor": "white",
           "linecolor": "white",
           "ticks": "",
           "title": {
            "standoff": 15
           },
           "zerolinecolor": "white",
           "zerolinewidth": 2
          },
          "yaxis": {
           "automargin": true,
           "gridcolor": "white",
           "linecolor": "white",
           "ticks": "",
           "title": {
            "standoff": 15
           },
           "zerolinecolor": "white",
           "zerolinewidth": 2
          }
         }
        },
        "width": 864,
        "xaxis": {
         "anchor": "y",
         "domain": [
          0,
          0.94
         ],
         "title": {
          "text": "Date"
         }
        },
        "yaxis": {
         "anchor": "x",
         "color": "blue",
         "domain": [
          0,
          1
         ],
         "range": [
          0,
          3500
         ],
         "title": {
          "text": "<b>New Weekly Cases</b>"
         }
        },
        "yaxis2": {
         "anchor": "x",
         "color": "red",
         "overlaying": "y",
         "side": "right",
         "title": {
          "text": "<b>Average Temperature (C°)</b>"
         }
        }
       }
      },
      "text/html": [
       "<div>                            <div id=\"8dda54fa-7aea-488d-9f88-eb06649dc04c\" class=\"plotly-graph-div\" style=\"height:345.6px; width:864px;\"></div>            <script type=\"text/javascript\">                require([\"plotly\"], function(Plotly) {                    window.PLOTLYENV=window.PLOTLYENV || {};                                    if (document.getElementById(\"8dda54fa-7aea-488d-9f88-eb06649dc04c\")) {                    Plotly.newPlot(                        \"8dda54fa-7aea-488d-9f88-eb06649dc04c\",                        [{\"line\":{\"color\":\"blue\"},\"name\":\"New Weekly Cases\",\"x\":[\"2020-01-26T00:00:00\",\"2020-02-02T00:00:00\",\"2020-02-09T00:00:00\",\"2020-02-16T00:00:00\",\"2020-02-23T00:00:00\",\"2020-03-01T00:00:00\",\"2020-03-08T00:00:00\",\"2020-03-15T00:00:00\",\"2020-03-22T00:00:00\",\"2020-03-29T00:00:00\",\"2020-04-05T00:00:00\",\"2020-04-12T00:00:00\",\"2020-04-19T00:00:00\",\"2020-04-26T00:00:00\",\"2020-05-03T00:00:00\",\"2020-05-10T00:00:00\",\"2020-05-17T00:00:00\",\"2020-05-24T00:00:00\",\"2020-05-31T00:00:00\",\"2020-06-07T00:00:00\",\"2020-06-14T00:00:00\",\"2020-06-21T00:00:00\",\"2020-06-28T00:00:00\",\"2020-07-05T00:00:00\"],\"y\":[3.0,12.0,12.0,2.0,573.0,3134.0,3398.0,992.0,771.0,686.0,654.0,275.0,149.0,67.0,65.0,81.0,176.0,140.0,278.0,308.0,309.0,336.0,294.0,85.0],\"type\":\"scatter\",\"xaxis\":\"x\",\"yaxis\":\"y\"},{\"line\":{\"color\":\"red\"},\"name\":\"Average Temperature (C\\u00b0)\",\"x\":[\"2020-01-26T00:00:00\",\"2020-02-02T00:00:00\",\"2020-02-09T00:00:00\",\"2020-02-16T00:00:00\",\"2020-02-23T00:00:00\",\"2020-03-01T00:00:00\",\"2020-03-08T00:00:00\",\"2020-03-15T00:00:00\",\"2020-03-22T00:00:00\",\"2020-03-29T00:00:00\",\"2020-04-05T00:00:00\",\"2020-04-12T00:00:00\",\"2020-04-19T00:00:00\",\"2020-04-26T00:00:00\",\"2020-05-03T00:00:00\",\"2020-05-10T00:00:00\",\"2020-05-17T00:00:00\",\"2020-05-24T00:00:00\",\"2020-05-31T00:00:00\",\"2020-06-07T00:00:00\",\"2020-06-14T00:00:00\",\"2020-06-21T00:00:00\",\"2020-06-28T00:00:00\",\"2020-07-05T00:00:00\"],\"y\":[7.05,3.58125,1.60625,2.475,4.3625,7.575,8.74375,6.0125,12.3625,8.4875,7.75,9.05625,11.41875,12.5625,18.96875,16.175,18.9125,18.88125,20.25625,21.825,24.05,23.00625,24.19375,22.0625],\"type\":\"scatter\",\"xaxis\":\"x\",\"yaxis\":\"y2\"}],                        {\"template\":{\"data\":{\"histogram2dcontour\":[{\"type\":\"histogram2dcontour\",\"colorbar\":{\"outlinewidth\":0,\"ticks\":\"\"},\"colorscale\":[[0.0,\"#0d0887\"],[0.1111111111111111,\"#46039f\"],[0.2222222222222222,\"#7201a8\"],[0.3333333333333333,\"#9c179e\"],[0.4444444444444444,\"#bd3786\"],[0.5555555555555556,\"#d8576b\"],[0.6666666666666666,\"#ed7953\"],[0.7777777777777778,\"#fb9f3a\"],[0.8888888888888888,\"#fdca26\"],[1.0,\"#f0f921\"]]}],\"choropleth\":[{\"type\":\"choropleth\",\"colorbar\":{\"outlinewidth\":0,\"ticks\":\"\"}}],\"histogram2d\":[{\"type\":\"histogram2d\",\"colorbar\":{\"outlinewidth\":0,\"ticks\":\"\"},\"colorscale\":[[0.0,\"#0d0887\"],[0.1111111111111111,\"#46039f\"],[0.2222222222222222,\"#7201a8\"],[0.3333333333333333,\"#9c179e\"],[0.4444444444444444,\"#bd3786\"],[0.5555555555555556,\"#d8576b\"],[0.6666666666666666,\"#ed7953\"],[0.7777777777777778,\"#fb9f3a\"],[0.8888888888888888,\"#fdca26\"],[1.0,\"#f0f921\"]]}],\"heatmap\":[{\"type\":\"heatmap\",\"colorbar\":{\"outlinewidth\":0,\"ticks\":\"\"},\"colorscale\":[[0.0,\"#0d0887\"],[0.1111111111111111,\"#46039f\"],[0.2222222222222222,\"#7201a8\"],[0.3333333333333333,\"#9c179e\"],[0.4444444444444444,\"#bd3786\"],[0.5555555555555556,\"#d8576b\"],[0.6666666666666666,\"#ed7953\"],[0.7777777777777778,\"#fb9f3a\"],[0.8888888888888888,\"#fdca26\"],[1.0,\"#f0f921\"]]}],\"heatmapgl\":[{\"type\":\"heatmapgl\",\"colorbar\":{\"outlinewidth\":0,\"ticks\":\"\"},\"colorscale\":[[0.0,\"#0d0887\"],[0.1111111111111111,\"#46039f\"],[0.2222222222222222,\"#7201a8\"],[0.3333333333333333,\"#9c179e\"],[0.4444444444444444,\"#bd3786\"],[0.5555555555555556,\"#d8576b\"],[0.6666666666666666,\"#ed7953\"],[0.7777777777777778,\"#fb9f3a\"],[0.8888888888888888,\"#fdca26\"],[1.0,\"#f0f921\"]]}],\"contourcarpet\":[{\"type\":\"contourcarpet\",\"colorbar\":{\"outlinewidth\":0,\"ticks\":\"\"}}],\"contour\":[{\"type\":\"contour\",\"colorbar\":{\"outlinewidth\":0,\"ticks\":\"\"},\"colorscale\":[[0.0,\"#0d0887\"],[0.1111111111111111,\"#46039f\"],[0.2222222222222222,\"#7201a8\"],[0.3333333333333333,\"#9c179e\"],[0.4444444444444444,\"#bd3786\"],[0.5555555555555556,\"#d8576b\"],[0.6666666666666666,\"#ed7953\"],[0.7777777777777778,\"#fb9f3a\"],[0.8888888888888888,\"#fdca26\"],[1.0,\"#f0f921\"]]}],\"surface\":[{\"type\":\"surface\",\"colorbar\":{\"outlinewidth\":0,\"ticks\":\"\"},\"colorscale\":[[0.0,\"#0d0887\"],[0.1111111111111111,\"#46039f\"],[0.2222222222222222,\"#7201a8\"],[0.3333333333333333,\"#9c179e\"],[0.4444444444444444,\"#bd3786\"],[0.5555555555555556,\"#d8576b\"],[0.6666666666666666,\"#ed7953\"],[0.7777777777777778,\"#fb9f3a\"],[0.8888888888888888,\"#fdca26\"],[1.0,\"#f0f921\"]]}],\"mesh3d\":[{\"type\":\"mesh3d\",\"colorbar\":{\"outlinewidth\":0,\"ticks\":\"\"}}],\"scatter\":[{\"fillpattern\":{\"fillmode\":\"overlay\",\"size\":10,\"solidity\":0.2},\"type\":\"scatter\"}],\"parcoords\":[{\"type\":\"parcoords\",\"line\":{\"colorbar\":{\"outlinewidth\":0,\"ticks\":\"\"}}}],\"scatterpolargl\":[{\"type\":\"scatterpolargl\",\"marker\":{\"colorbar\":{\"outlinewidth\":0,\"ticks\":\"\"}}}],\"bar\":[{\"error_x\":{\"color\":\"#2a3f5f\"},\"error_y\":{\"color\":\"#2a3f5f\"},\"marker\":{\"line\":{\"color\":\"#E5ECF6\",\"width\":0.5},\"pattern\":{\"fillmode\":\"overlay\",\"size\":10,\"solidity\":0.2}},\"type\":\"bar\"}],\"scattergeo\":[{\"type\":\"scattergeo\",\"marker\":{\"colorbar\":{\"outlinewidth\":0,\"ticks\":\"\"}}}],\"scatterpolar\":[{\"type\":\"scatterpolar\",\"marker\":{\"colorbar\":{\"outlinewidth\":0,\"ticks\":\"\"}}}],\"histogram\":[{\"marker\":{\"pattern\":{\"fillmode\":\"overlay\",\"size\":10,\"solidity\":0.2}},\"type\":\"histogram\"}],\"scattergl\":[{\"type\":\"scattergl\",\"marker\":{\"colorbar\":{\"outlinewidth\":0,\"ticks\":\"\"}}}],\"scatter3d\":[{\"type\":\"scatter3d\",\"line\":{\"colorbar\":{\"outlinewidth\":0,\"ticks\":\"\"}},\"marker\":{\"colorbar\":{\"outlinewidth\":0,\"ticks\":\"\"}}}],\"scattermapbox\":[{\"type\":\"scattermapbox\",\"marker\":{\"colorbar\":{\"outlinewidth\":0,\"ticks\":\"\"}}}],\"scatterternary\":[{\"type\":\"scatterternary\",\"marker\":{\"colorbar\":{\"outlinewidth\":0,\"ticks\":\"\"}}}],\"scattercarpet\":[{\"type\":\"scattercarpet\",\"marker\":{\"colorbar\":{\"outlinewidth\":0,\"ticks\":\"\"}}}],\"carpet\":[{\"aaxis\":{\"endlinecolor\":\"#2a3f5f\",\"gridcolor\":\"white\",\"linecolor\":\"white\",\"minorgridcolor\":\"white\",\"startlinecolor\":\"#2a3f5f\"},\"baxis\":{\"endlinecolor\":\"#2a3f5f\",\"gridcolor\":\"white\",\"linecolor\":\"white\",\"minorgridcolor\":\"white\",\"startlinecolor\":\"#2a3f5f\"},\"type\":\"carpet\"}],\"table\":[{\"cells\":{\"fill\":{\"color\":\"#EBF0F8\"},\"line\":{\"color\":\"white\"}},\"header\":{\"fill\":{\"color\":\"#C8D4E3\"},\"line\":{\"color\":\"white\"}},\"type\":\"table\"}],\"barpolar\":[{\"marker\":{\"line\":{\"color\":\"#E5ECF6\",\"width\":0.5},\"pattern\":{\"fillmode\":\"overlay\",\"size\":10,\"solidity\":0.2}},\"type\":\"barpolar\"}],\"pie\":[{\"automargin\":true,\"type\":\"pie\"}]},\"layout\":{\"autotypenumbers\":\"strict\",\"colorway\":[\"#636efa\",\"#EF553B\",\"#00cc96\",\"#ab63fa\",\"#FFA15A\",\"#19d3f3\",\"#FF6692\",\"#B6E880\",\"#FF97FF\",\"#FECB52\"],\"font\":{\"color\":\"#2a3f5f\"},\"hovermode\":\"closest\",\"hoverlabel\":{\"align\":\"left\"},\"paper_bgcolor\":\"white\",\"plot_bgcolor\":\"#E5ECF6\",\"polar\":{\"bgcolor\":\"#E5ECF6\",\"angularaxis\":{\"gridcolor\":\"white\",\"linecolor\":\"white\",\"ticks\":\"\"},\"radialaxis\":{\"gridcolor\":\"white\",\"linecolor\":\"white\",\"ticks\":\"\"}},\"ternary\":{\"bgcolor\":\"#E5ECF6\",\"aaxis\":{\"gridcolor\":\"white\",\"linecolor\":\"white\",\"ticks\":\"\"},\"baxis\":{\"gridcolor\":\"white\",\"linecolor\":\"white\",\"ticks\":\"\"},\"caxis\":{\"gridcolor\":\"white\",\"linecolor\":\"white\",\"ticks\":\"\"}},\"coloraxis\":{\"colorbar\":{\"outlinewidth\":0,\"ticks\":\"\"}},\"colorscale\":{\"sequential\":[[0.0,\"#0d0887\"],[0.1111111111111111,\"#46039f\"],[0.2222222222222222,\"#7201a8\"],[0.3333333333333333,\"#9c179e\"],[0.4444444444444444,\"#bd3786\"],[0.5555555555555556,\"#d8576b\"],[0.6666666666666666,\"#ed7953\"],[0.7777777777777778,\"#fb9f3a\"],[0.8888888888888888,\"#fdca26\"],[1.0,\"#f0f921\"]],\"sequentialminus\":[[0.0,\"#0d0887\"],[0.1111111111111111,\"#46039f\"],[0.2222222222222222,\"#7201a8\"],[0.3333333333333333,\"#9c179e\"],[0.4444444444444444,\"#bd3786\"],[0.5555555555555556,\"#d8576b\"],[0.6666666666666666,\"#ed7953\"],[0.7777777777777778,\"#fb9f3a\"],[0.8888888888888888,\"#fdca26\"],[1.0,\"#f0f921\"]],\"diverging\":[[0,\"#8e0152\"],[0.1,\"#c51b7d\"],[0.2,\"#de77ae\"],[0.3,\"#f1b6da\"],[0.4,\"#fde0ef\"],[0.5,\"#f7f7f7\"],[0.6,\"#e6f5d0\"],[0.7,\"#b8e186\"],[0.8,\"#7fbc41\"],[0.9,\"#4d9221\"],[1,\"#276419\"]]},\"xaxis\":{\"gridcolor\":\"white\",\"linecolor\":\"white\",\"ticks\":\"\",\"title\":{\"standoff\":15},\"zerolinecolor\":\"white\",\"automargin\":true,\"zerolinewidth\":2},\"yaxis\":{\"gridcolor\":\"white\",\"linecolor\":\"white\",\"ticks\":\"\",\"title\":{\"standoff\":15},\"zerolinecolor\":\"white\",\"automargin\":true,\"zerolinewidth\":2},\"scene\":{\"xaxis\":{\"backgroundcolor\":\"#E5ECF6\",\"gridcolor\":\"white\",\"linecolor\":\"white\",\"showbackground\":true,\"ticks\":\"\",\"zerolinecolor\":\"white\",\"gridwidth\":2},\"yaxis\":{\"backgroundcolor\":\"#E5ECF6\",\"gridcolor\":\"white\",\"linecolor\":\"white\",\"showbackground\":true,\"ticks\":\"\",\"zerolinecolor\":\"white\",\"gridwidth\":2},\"zaxis\":{\"backgroundcolor\":\"#E5ECF6\",\"gridcolor\":\"white\",\"linecolor\":\"white\",\"showbackground\":true,\"ticks\":\"\",\"zerolinecolor\":\"white\",\"gridwidth\":2}},\"shapedefaults\":{\"line\":{\"color\":\"#2a3f5f\"}},\"annotationdefaults\":{\"arrowcolor\":\"#2a3f5f\",\"arrowhead\":0,\"arrowwidth\":1},\"geo\":{\"bgcolor\":\"white\",\"landcolor\":\"#E5ECF6\",\"subunitcolor\":\"white\",\"showland\":true,\"showlakes\":true,\"lakecolor\":\"white\"},\"title\":{\"x\":0.05},\"mapbox\":{\"style\":\"light\"}}},\"xaxis\":{\"anchor\":\"y\",\"domain\":[0.0,0.94],\"title\":{\"text\":\"Date\"}},\"yaxis\":{\"anchor\":\"x\",\"domain\":[0.0,1.0],\"title\":{\"text\":\"<b>New Weekly Cases</b>\"},\"color\":\"blue\",\"range\":[0,3500]},\"yaxis2\":{\"anchor\":\"x\",\"overlaying\":\"y\",\"side\":\"right\",\"title\":{\"text\":\"<b>Average Temperature (C\\u00b0)</b>\"},\"color\":\"red\"},\"legend\":{\"orientation\":\"h\",\"y\":1.15},\"margin\":{\"t\":0,\"b\":5},\"width\":864,\"height\":345.6,\"shapes\":[{\"fillcolor\":\"rgba(255, 0, 0, 0.2)\",\"line\":{\"width\":0},\"type\":\"rect\",\"x0\":\"2020-02-23\",\"x1\":\"2020-07-05\",\"y0\":0,\"y1\":3500},{\"fillcolor\":\"rgba(255, 155, 0, 0.2)\",\"line\":{\"width\":0},\"type\":\"rect\",\"x0\":\"2020-01-28\",\"x1\":\"2020-02-23\",\"y0\":0,\"y1\":3500}]},                        {\"responsive\": true}                    ).then(function(){\n",
       "                            \n",
       "var gd = document.getElementById('8dda54fa-7aea-488d-9f88-eb06649dc04c');\n",
       "var x = new MutationObserver(function (mutations, observer) {{\n",
       "        var display = window.getComputedStyle(gd).display;\n",
       "        if (!display || display === 'none') {{\n",
       "            console.log([gd, 'removed!']);\n",
       "            Plotly.purge(gd);\n",
       "            observer.disconnect();\n",
       "        }}\n",
       "}});\n",
       "\n",
       "// Listen for the removal of the full notebook cells\n",
       "var notebookContainer = gd.closest('#notebook-container');\n",
       "if (notebookContainer) {{\n",
       "    x.observe(notebookContainer, {childList: true});\n",
       "}}\n",
       "\n",
       "// Listen for the clearing of the current output cell\n",
       "var outputEl = gd.closest('.output');\n",
       "if (outputEl) {{\n",
       "    x.observe(outputEl, {childList: true});\n",
       "}}\n",
       "\n",
       "                        })                };                });            </script>        </div>"
      ]
     },
     "metadata": {},
     "output_type": "display_data"
    }
   ],
   "source": [
    "# | label: fig-temp-time\n",
    "# | fig-cap: Comparisons between changes of average temperature in South Korea and weekly new cases over. The background colors on the chart correspond to infectious disease alert levels (blue, yellow, orange, red).\n",
    "fig_temp_time = two_yaxis_plotly(\n",
    "    x_values=weekly_time.index,\n",
    "    y1_values=weekly_time[\"new_cases\"],\n",
    "    y2_values=weekly_temp[\"avg_temp\"],\n",
    "    y1_title=\"New Weekly Cases\",\n",
    "    y2_title=u\"Average Temperature (C\\N{DEGREE SIGN})\",\n",
    "    x_title=\"Date\",\n",
    "    colors=line_colors,\n",
    "    size=[base_fig_wid * dpi, base_fig_wid / 2.5 * dpi],\n",
    "    yrange=fig_tests_time_yrange,\n",
    "    margin=dict(t=0,b=5)\n",
    ")\n",
    "add_alert_background(fig_temp_time)\n",
    "fig_temp_time.show()"
   ]
  },
  {
   "attachments": {},
   "cell_type": "markdown",
   "metadata": {},
   "source": [
    "The temperature mostly increased over the observed period. To investigate the correlation between new cases, temperature and temperature 5 days prior since the relation between temperature and respiratory infection cases usually have a lag effect (@falagas2008)."
   ]
  },
  {
   "attachments": {},
   "cell_type": "markdown",
   "metadata": {},
   "source": [
    "Calculating the correlation troughout the range:"
   ]
  },
  {
   "cell_type": "code",
   "execution_count": 22,
   "metadata": {},
   "outputs": [
    {
     "data": {
      "text/html": [
       "<div>\n",
       "<style scoped>\n",
       "    .dataframe tbody tr th:only-of-type {\n",
       "        vertical-align: middle;\n",
       "    }\n",
       "\n",
       "    .dataframe tbody tr th {\n",
       "        vertical-align: top;\n",
       "    }\n",
       "\n",
       "    .dataframe thead th {\n",
       "        text-align: right;\n",
       "    }\n",
       "</style>\n",
       "<table border=\"1\" class=\"dataframe\">\n",
       "  <thead>\n",
       "    <tr style=\"text-align: right;\">\n",
       "      <th></th>\n",
       "      <th>r-value</th>\n",
       "      <th>feature_pair</th>\n",
       "    </tr>\n",
       "  </thead>\n",
       "  <tbody>\n",
       "    <tr>\n",
       "      <th>0</th>\n",
       "      <td>-0.244</td>\n",
       "      <td>(avg_temp, new_cases)</td>\n",
       "    </tr>\n",
       "    <tr>\n",
       "      <th>1</th>\n",
       "      <td>-0.23</td>\n",
       "      <td>(new_cases, avg_temp_5day_prior)</td>\n",
       "    </tr>\n",
       "  </tbody>\n",
       "</table>\n",
       "</div>"
      ],
      "text/plain": [
       "   r-value                      feature_pair\n",
       "0   -0.244             (avg_temp, new_cases)\n",
       "1    -0.23  (new_cases, avg_temp_5day_prior)"
      ]
     },
     "execution_count": 22,
     "metadata": {},
     "output_type": "execute_result"
    }
   ],
   "source": [
    "daily_temp_cases = pd.merge(\n",
    "    data[\"Time\"][\"new_cases\"],\n",
    "    daily_temp,\n",
    "    left_index=True,\n",
    "    right_index=True,\n",
    "    how=\"outer\",\n",
    ")\n",
    "daily_temp_cases['avg_temp_5day_prior']=daily_temp_cases['avg_temp'].shift(5)\n",
    "daily_temp_cases.dropna(how='any',inplace=True)\n",
    "get_correlation_pairs(daily_temp_cases,negative_cut_off=-0.1)"
   ]
  },
  {
   "attachments": {},
   "cell_type": "markdown",
   "metadata": {},
   "source": [
    "There is a slight negative correlation between both current and 7-day prior temperature. To see the range of the correlation we can check for correlations by dates up to the peak of March 8th:"
   ]
  },
  {
   "cell_type": "code",
   "execution_count": 23,
   "metadata": {},
   "outputs": [
    {
     "data": {
      "text/html": [
       "<div>\n",
       "<style scoped>\n",
       "    .dataframe tbody tr th:only-of-type {\n",
       "        vertical-align: middle;\n",
       "    }\n",
       "\n",
       "    .dataframe tbody tr th {\n",
       "        vertical-align: top;\n",
       "    }\n",
       "\n",
       "    .dataframe thead th {\n",
       "        text-align: right;\n",
       "    }\n",
       "</style>\n",
       "<table border=\"1\" class=\"dataframe\">\n",
       "  <thead>\n",
       "    <tr style=\"text-align: right;\">\n",
       "      <th></th>\n",
       "      <th>r-value</th>\n",
       "      <th>feature_pair</th>\n",
       "    </tr>\n",
       "  </thead>\n",
       "  <tbody>\n",
       "    <tr>\n",
       "      <th>0</th>\n",
       "      <td>-0.136</td>\n",
       "      <td>(avg_temp, avg_temp_5day_prior)</td>\n",
       "    </tr>\n",
       "  </tbody>\n",
       "</table>\n",
       "</div>"
      ],
      "text/plain": [
       "   r-value                     feature_pair\n",
       "0   -0.136  (avg_temp, avg_temp_5day_prior)"
      ]
     },
     "execution_count": 23,
     "metadata": {},
     "output_type": "execute_result"
    }
   ],
   "source": [
    "get_correlation_pairs(daily_temp_cases[:'2020-03-08'], negative_cut_off=-0.1)"
   ]
  },
  {
   "attachments": {},
   "cell_type": "markdown",
   "metadata": {},
   "source": [
    "And after:"
   ]
  },
  {
   "cell_type": "code",
   "execution_count": 24,
   "metadata": {},
   "outputs": [
    {
     "data": {
      "text/html": [
       "<div>\n",
       "<style scoped>\n",
       "    .dataframe tbody tr th:only-of-type {\n",
       "        vertical-align: middle;\n",
       "    }\n",
       "\n",
       "    .dataframe tbody tr th {\n",
       "        vertical-align: top;\n",
       "    }\n",
       "\n",
       "    .dataframe thead th {\n",
       "        text-align: right;\n",
       "    }\n",
       "</style>\n",
       "<table border=\"1\" class=\"dataframe\">\n",
       "  <thead>\n",
       "    <tr style=\"text-align: right;\">\n",
       "      <th></th>\n",
       "      <th>r-value</th>\n",
       "      <th>feature_pair</th>\n",
       "    </tr>\n",
       "  </thead>\n",
       "  <tbody>\n",
       "    <tr>\n",
       "      <th>0</th>\n",
       "      <td>-0.394</td>\n",
       "      <td>(avg_temp, new_cases)</td>\n",
       "    </tr>\n",
       "    <tr>\n",
       "      <th>1</th>\n",
       "      <td>-0.422</td>\n",
       "      <td>(new_cases, avg_temp_5day_prior)</td>\n",
       "    </tr>\n",
       "  </tbody>\n",
       "</table>\n",
       "</div>"
      ],
      "text/plain": [
       "   r-value                      feature_pair\n",
       "0   -0.394             (avg_temp, new_cases)\n",
       "1   -0.422  (new_cases, avg_temp_5day_prior)"
      ]
     },
     "execution_count": 24,
     "metadata": {},
     "output_type": "execute_result"
    }
   ],
   "source": [
    "get_correlation_pairs(daily_temp_cases['2020-03-08':],negative_cut_off=-0.1)"
   ]
  },
  {
   "attachments": {},
   "cell_type": "markdown",
   "metadata": {},
   "source": [
    "The data shows that there is a significant correlation between the number of new cases and the 5-day prior temperature especially after the peak, when the number of cases started to subside. A significant negative correlation between new covid-19 cases was observed in most of the northern hemisphere regions with seasonal climate (@mcclymont2021). This means that warming of the weather might have caused an additional beneficial effect in the lowering of new covid-19 cases. The effects of humidity and wind speed may also be significant but the results in the literature are far mor ambiguous and therefore this data was not included in this analysis."
   ]
  },
  {
   "attachments": {},
   "cell_type": "markdown",
   "metadata": {},
   "source": [
    "## Case Data"
   ]
  },
  {
   "attachments": {},
   "cell_type": "markdown",
   "metadata": {},
   "source": [
    "The case data provides a list of covid-19 infections cases. The information includes wether it was a group case, the origin of infection, province and location, the number of infected. \n",
    "\n",
    "Checking the total number of confirmed cases in cases data set:"
   ]
  },
  {
   "cell_type": "code",
   "execution_count": 25,
   "metadata": {},
   "outputs": [
    {
     "data": {
      "text/plain": [
       "11395"
      ]
     },
     "execution_count": 25,
     "metadata": {},
     "output_type": "execute_result"
    }
   ],
   "source": [
    "data['Case']['confirmed'].sum()"
   ]
  },
  {
   "attachments": {},
   "cell_type": "markdown",
   "metadata": {},
   "source": [
    "This data includes 11395 total infection cases which accounts for most of the cases in the time series (12800).\n",
    "\n",
    "We can get a quick rundown of case sizes:"
   ]
  },
  {
   "cell_type": "code",
   "execution_count": 26,
   "metadata": {},
   "outputs": [
    {
     "data": {
      "text/plain": [
       "count        174\n",
       "mean        65.5\n",
       "std          355\n",
       "min            0\n",
       "25%            4\n",
       "50%           10\n",
       "75%         31.8\n",
       "max     4.51e+03\n",
       "Name: confirmed, dtype: float64"
      ]
     },
     "execution_count": 26,
     "metadata": {},
     "output_type": "execute_result"
    }
   ],
   "source": [
    "data['Case']['confirmed'].describe()"
   ]
  },
  {
   "attachments": {},
   "cell_type": "markdown",
   "metadata": {},
   "source": [
    "It seems that nearly half of all the confirmed patients are from a single case comprising 4.5K new patients."
   ]
  },
  {
   "cell_type": "code",
   "execution_count": 27,
   "metadata": {},
   "outputs": [
    {
     "data": {
      "text/plain": [
       " case_id                     1200001\n",
       "province                       Daegu\n",
       "city                          Nam-gu\n",
       "group                           True\n",
       "infection_case    Shincheonji Church\n",
       "confirmed                       4511\n",
       "latitude                    35.84008\n",
       "longitude                   128.5667\n",
       "Name: 48, dtype: object"
      ]
     },
     "execution_count": 27,
     "metadata": {},
     "output_type": "execute_result"
    }
   ],
   "source": [
    "data['Case'].iloc[data['Case']['confirmed'].idxmax()]"
   ]
  },
  {
   "attachments": {},
   "cell_type": "markdown",
   "metadata": {},
   "source": [
    "The case is related to the Shincheonji Church religious movement. We can check wether any other cases are linked to this one:"
   ]
  },
  {
   "cell_type": "code",
   "execution_count": 28,
   "metadata": {},
   "outputs": [
    {
     "data": {
      "text/html": [
       "<div>\n",
       "<style scoped>\n",
       "    .dataframe tbody tr th:only-of-type {\n",
       "        vertical-align: middle;\n",
       "    }\n",
       "\n",
       "    .dataframe tbody tr th {\n",
       "        vertical-align: top;\n",
       "    }\n",
       "\n",
       "    .dataframe thead th {\n",
       "        text-align: right;\n",
       "    }\n",
       "</style>\n",
       "<table border=\"1\" class=\"dataframe\">\n",
       "  <thead>\n",
       "    <tr style=\"text-align: right;\">\n",
       "      <th></th>\n",
       "      <th>case_id</th>\n",
       "      <th>province</th>\n",
       "      <th>city</th>\n",
       "      <th>group</th>\n",
       "      <th>infection_case</th>\n",
       "      <th>confirmed</th>\n",
       "      <th>latitude</th>\n",
       "      <th>longitude</th>\n",
       "    </tr>\n",
       "  </thead>\n",
       "  <tbody>\n",
       "    <tr>\n",
       "      <th>20</th>\n",
       "      <td>1000021</td>\n",
       "      <td>Seoul</td>\n",
       "      <td>from other city</td>\n",
       "      <td>True</td>\n",
       "      <td>Shincheonji Church</td>\n",
       "      <td>8</td>\n",
       "      <td>-</td>\n",
       "      <td>-</td>\n",
       "    </tr>\n",
       "    <tr>\n",
       "      <th>39</th>\n",
       "      <td>1100002</td>\n",
       "      <td>Busan</td>\n",
       "      <td>from other city</td>\n",
       "      <td>True</td>\n",
       "      <td>Shincheonji Church</td>\n",
       "      <td>12</td>\n",
       "      <td>-</td>\n",
       "      <td>-</td>\n",
       "    </tr>\n",
       "    <tr>\n",
       "      <th>48</th>\n",
       "      <td>1200001</td>\n",
       "      <td>Daegu</td>\n",
       "      <td>Nam-gu</td>\n",
       "      <td>True</td>\n",
       "      <td>Shincheonji Church</td>\n",
       "      <td>4511</td>\n",
       "      <td>35.84008</td>\n",
       "      <td>128.5667</td>\n",
       "    </tr>\n",
       "    <tr>\n",
       "      <th>59</th>\n",
       "      <td>1300002</td>\n",
       "      <td>Gwangju</td>\n",
       "      <td>from other city</td>\n",
       "      <td>True</td>\n",
       "      <td>Shincheonji Church</td>\n",
       "      <td>9</td>\n",
       "      <td>-</td>\n",
       "      <td>-</td>\n",
       "    </tr>\n",
       "    <tr>\n",
       "      <th>66</th>\n",
       "      <td>1400004</td>\n",
       "      <td>Incheon</td>\n",
       "      <td>from other city</td>\n",
       "      <td>True</td>\n",
       "      <td>Shincheonji Church</td>\n",
       "      <td>2</td>\n",
       "      <td>-</td>\n",
       "      <td>-</td>\n",
       "    </tr>\n",
       "    <tr>\n",
       "      <th>75</th>\n",
       "      <td>1500006</td>\n",
       "      <td>Daejeon</td>\n",
       "      <td>from other city</td>\n",
       "      <td>True</td>\n",
       "      <td>Shincheonji Church</td>\n",
       "      <td>2</td>\n",
       "      <td>-</td>\n",
       "      <td>-</td>\n",
       "    </tr>\n",
       "    <tr>\n",
       "      <th>80</th>\n",
       "      <td>1600001</td>\n",
       "      <td>Ulsan</td>\n",
       "      <td>from other city</td>\n",
       "      <td>True</td>\n",
       "      <td>Shincheonji Church</td>\n",
       "      <td>16</td>\n",
       "      <td>-</td>\n",
       "      <td>-</td>\n",
       "    </tr>\n",
       "    <tr>\n",
       "      <th>86</th>\n",
       "      <td>1700003</td>\n",
       "      <td>Sejong</td>\n",
       "      <td>from other city</td>\n",
       "      <td>True</td>\n",
       "      <td>Shincheonji Church</td>\n",
       "      <td>1</td>\n",
       "      <td>-</td>\n",
       "      <td>-</td>\n",
       "    </tr>\n",
       "    <tr>\n",
       "      <th>96</th>\n",
       "      <td>2000007</td>\n",
       "      <td>Gyeonggi-do</td>\n",
       "      <td>from other city</td>\n",
       "      <td>True</td>\n",
       "      <td>Shincheonji Church</td>\n",
       "      <td>29</td>\n",
       "      <td>-</td>\n",
       "      <td>-</td>\n",
       "    </tr>\n",
       "    <tr>\n",
       "      <th>112</th>\n",
       "      <td>3000001</td>\n",
       "      <td>Gangwon-do</td>\n",
       "      <td>from other city</td>\n",
       "      <td>True</td>\n",
       "      <td>Shincheonji Church</td>\n",
       "      <td>17</td>\n",
       "      <td>-</td>\n",
       "      <td>-</td>\n",
       "    </tr>\n",
       "    <tr>\n",
       "      <th>123</th>\n",
       "      <td>4000004</td>\n",
       "      <td>Chungcheongbuk-do</td>\n",
       "      <td>from other city</td>\n",
       "      <td>True</td>\n",
       "      <td>Shincheonji Church</td>\n",
       "      <td>6</td>\n",
       "      <td>-</td>\n",
       "      <td>-</td>\n",
       "    </tr>\n",
       "    <tr>\n",
       "      <th>137</th>\n",
       "      <td>5000003</td>\n",
       "      <td>Jeollabuk-do</td>\n",
       "      <td>from other city</td>\n",
       "      <td>True</td>\n",
       "      <td>Shincheonji Church</td>\n",
       "      <td>1</td>\n",
       "      <td>-</td>\n",
       "      <td>-</td>\n",
       "    </tr>\n",
       "    <tr>\n",
       "      <th>141</th>\n",
       "      <td>5100002</td>\n",
       "      <td>Jeollanam-do</td>\n",
       "      <td>from other city</td>\n",
       "      <td>True</td>\n",
       "      <td>Shincheonji Church</td>\n",
       "      <td>1</td>\n",
       "      <td>-</td>\n",
       "      <td>-</td>\n",
       "    </tr>\n",
       "    <tr>\n",
       "      <th>145</th>\n",
       "      <td>6000001</td>\n",
       "      <td>Gyeongsangbuk-do</td>\n",
       "      <td>from other city</td>\n",
       "      <td>True</td>\n",
       "      <td>Shincheonji Church</td>\n",
       "      <td>566</td>\n",
       "      <td>-</td>\n",
       "      <td>-</td>\n",
       "    </tr>\n",
       "    <tr>\n",
       "      <th>158</th>\n",
       "      <td>6100001</td>\n",
       "      <td>Gyeongsangnam-do</td>\n",
       "      <td>from other city</td>\n",
       "      <td>True</td>\n",
       "      <td>Shincheonji Church</td>\n",
       "      <td>32</td>\n",
       "      <td>-</td>\n",
       "      <td>-</td>\n",
       "    </tr>\n",
       "  </tbody>\n",
       "</table>\n",
       "</div>"
      ],
      "text/plain": [
       "      case_id           province             city  group      infection_case  \\\n",
       "20    1000021              Seoul  from other city   True  Shincheonji Church   \n",
       "39    1100002              Busan  from other city   True  Shincheonji Church   \n",
       "48    1200001              Daegu           Nam-gu   True  Shincheonji Church   \n",
       "59    1300002            Gwangju  from other city   True  Shincheonji Church   \n",
       "66    1400004            Incheon  from other city   True  Shincheonji Church   \n",
       "75    1500006            Daejeon  from other city   True  Shincheonji Church   \n",
       "80    1600001              Ulsan  from other city   True  Shincheonji Church   \n",
       "86    1700003             Sejong  from other city   True  Shincheonji Church   \n",
       "96    2000007        Gyeonggi-do  from other city   True  Shincheonji Church   \n",
       "112   3000001         Gangwon-do  from other city   True  Shincheonji Church   \n",
       "123   4000004  Chungcheongbuk-do  from other city   True  Shincheonji Church   \n",
       "137   5000003       Jeollabuk-do  from other city   True  Shincheonji Church   \n",
       "141   5100002       Jeollanam-do  from other city   True  Shincheonji Church   \n",
       "145   6000001   Gyeongsangbuk-do  from other city   True  Shincheonji Church   \n",
       "158   6100001   Gyeongsangnam-do  from other city   True  Shincheonji Church   \n",
       "\n",
       "     confirmed  latitude longitude  \n",
       "20           8         -         -  \n",
       "39          12         -         -  \n",
       "48        4511  35.84008  128.5667  \n",
       "59           9         -         -  \n",
       "66           2         -         -  \n",
       "75           2         -         -  \n",
       "80          16         -         -  \n",
       "86           1         -         -  \n",
       "96          29         -         -  \n",
       "112         17         -         -  \n",
       "123          6         -         -  \n",
       "137          1         -         -  \n",
       "141          1         -         -  \n",
       "145        566         -         -  \n",
       "158         32         -         -  "
      ]
     },
     "execution_count": 28,
     "metadata": {},
     "output_type": "execute_result"
    }
   ],
   "source": [
    "data['Case'].loc[data['Case']['infection_case']=='Shincheonji Church']"
   ]
  },
  {
   "cell_type": "code",
   "execution_count": 29,
   "metadata": {},
   "outputs": [],
   "source": [
    "data['Case']['latitude']=pd.to_numeric(data['Case']['latitude'],errors='coerce')\n",
    "data['Case']['longitude']=pd.to_numeric(data['Case']['longitude'],errors='coerce')"
   ]
  },
  {
   "cell_type": "code",
   "execution_count": 37,
   "metadata": {},
   "outputs": [
    {
     "data": {
      "application/vnd.plotly.v1+json": {
       "config": {
        "plotlyServerURL": "https://plot.ly"
       },
       "data": [
        {
         "colorscale": [
          [
           0,
           "#636efa"
          ],
          [
           1,
           "#636efa"
          ]
         ],
         "hovertemplate": "<extra></extra>",
         "marker": {
          "opacity": 0.5
         },
         "name": "",
         "showlegend": true,
         "showscale": false,
         "subplot": "mapbox",
         "type": "choroplethmapbox",
         "z": []
        },
        {
         "hovertemplate": "confirmed=%{marker.size}<br>latitude=%{lat}<br>longitude=%{lon}<extra></extra>",
         "lat": [
          37.538621,
          37.48208,
          37.508163,
          37.546061,
          37.679422,
          37.481059,
          null,
          37.592888,
          null,
          37.481735,
          37.63369,
          37.55713,
          37.57681,
          37.48825,
          37.562405,
          37.558147,
          37.594782,
          null,
          null,
          null,
          null,
          null,
          37.560899,
          37.520846,
          37.522331,
          37.524623,
          null,
          null,
          37.498279,
          37.559649,
          null,
          37.565699,
          null,
          null,
          37.486837,
          null,
          null,
          null,
          35.21628,
          null,
          35.16708,
          35.20599,
          35.17371,
          null,
          null,
          null,
          null,
          null,
          35.84008,
          35.857375,
          35.885592,
          35.857393,
          35.88395,
          null,
          null,
          null,
          null,
          null,
          35.136035,
          null,
          null,
          null,
          null,
          null,
          null,
          null,
          null,
          null,
          null,
          null,
          null,
          36.3400973,
          36.3398739,
          36.346869,
          36.358123,
          null,
          null,
          null,
          null,
          null,
          null,
          null,
          null,
          null,
          36.504713,
          36.48025,
          null,
          null,
          null,
          null,
          37.455687,
          37.530579,
          null,
          null,
          37.758635,
          null,
          null,
          null,
          null,
          37.38833,
          37.381784,
          37.287356,
          37.403722,
          37.2376,
          null,
          null,
          null,
          null,
          null,
          null,
          null,
          null,
          null,
          null,
          37.342762,
          null,
          null,
          null,
          null,
          null,
          36.82422,
          null,
          null,
          null,
          null,
          null,
          null,
          36.81503,
          null,
          37.000354,
          null,
          null,
          null,
          null,
          null,
          null,
          null,
          null,
          null,
          null,
          35.078825,
          null,
          null,
          null,
          null,
          null,
          35.64887,
          36.92757,
          35.782149,
          null,
          36.646845,
          36.0581,
          35.84819,
          35.82558,
          null,
          null,
          null,
          null,
          null,
          35.68556,
          35.164845,
          35.805681,
          35.22115,
          35.54127,
          35.338811,
          null,
          null,
          null,
          null,
          null,
          null,
          null,
          null,
          null
         ],
         "legendgroup": "",
         "lon": [
          126.992652,
          126.901384,
          126.884387,
          126.874209,
          127.044374,
          126.894343,
          null,
          127.056766,
          null,
          126.930121,
          126.9165,
          127.0403,
          127.006,
          127.08559,
          126.984377,
          126.943799,
          126.968022,
          null,
          null,
          null,
          null,
          null,
          126.966998,
          126.931278,
          127.057388,
          126.843118,
          null,
          null,
          127.030139,
          126.835102,
          null,
          126.977079,
          null,
          null,
          126.893163,
          null,
          null,
          null,
          129.0771,
          null,
          129.1124,
          129.1256,
          129.0633,
          null,
          null,
          null,
          null,
          null,
          128.5667,
          128.466651,
          128.556649,
          128.466653,
          128.624059,
          null,
          null,
          null,
          null,
          null,
          126.956405,
          null,
          null,
          null,
          null,
          null,
          null,
          null,
          null,
          null,
          null,
          null,
          null,
          127.3927099,
          127.3819744,
          127.368594,
          127.388856,
          null,
          null,
          null,
          null,
          null,
          null,
          null,
          null,
          null,
          127.265172,
          127.289,
          null,
          null,
          null,
          null,
          127.161627,
          126.775254,
          null,
          null,
          127.077716,
          null,
          null,
          null,
          null,
          127.1218,
          126.93615,
          127.013827,
          126.954939,
          127.0517,
          null,
          null,
          null,
          null,
          null,
          null,
          null,
          null,
          null,
          null,
          127.983815,
          null,
          null,
          null,
          null,
          null,
          127.9552,
          null,
          null,
          null,
          null,
          null,
          null,
          127.1139,
          null,
          126.354443,
          null,
          null,
          null,
          null,
          null,
          null,
          null,
          null,
          null,
          null,
          126.316746,
          null,
          null,
          null,
          null,
          null,
          128.7368,
          128.9099,
          128.801498,
          null,
          128.437416,
          128.4941,
          128.7621,
          128.7373,
          null,
          null,
          null,
          null,
          null,
          127.9127,
          128.126969,
          127.917805,
          128.6866,
          128.5008,
          129.017508,
          null,
          null,
          null,
          null,
          null,
          null,
          null,
          null,
          null
         ],
         "marker": {
          "color": "#636efa",
          "size": [
           139,
           119,
           95,
           43,
           43,
           41,
           36,
           17,
           25,
           30,
           14,
           13,
           10,
           7,
           7,
           5,
           7,
           6,
           1,
           6,
           8,
           5,
           13,
           3,
           1,
           3,
           5,
           1,
           4,
           0,
           4,
           3,
           2,
           1,
           3,
           298,
           162,
           100,
           39,
           12,
           5,
           6,
           4,
           4,
           1,
           36,
           19,
           30,
           4511,
           196,
           124,
           101,
           39,
           2,
           2,
           41,
           917,
           747,
           5,
           9,
           23,
           5,
           1,
           53,
           42,
           20,
           2,
           68,
           6,
           11,
           55,
           13,
           7,
           4,
           3,
           2,
           2,
           15,
           15,
           15,
           16,
           25,
           3,
           7,
           31,
           8,
           1,
           5,
           3,
           1,
           67,
           67,
           59,
           58,
           50,
           50,
           29,
           28,
           25,
           22,
           22,
           15,
           17,
           10,
           7,
           6,
           6,
           5,
           5,
           305,
           63,
           84,
           17,
           10,
           4,
           4,
           4,
           16,
           0,
           7,
           11,
           9,
           2,
           6,
           13,
           8,
           11,
           103,
           10,
           9,
           3,
           3,
           16,
           2,
           12,
           2,
           3,
           1,
           12,
           5,
           2,
           1,
           14,
           4,
           4,
           566,
           119,
           68,
           66,
           41,
           40,
           36,
           17,
           16,
           10,
           22,
           190,
           133,
           32,
           10,
           9,
           8,
           7,
           7,
           3,
           2,
           2,
           26,
           6,
           20,
           14,
           0,
           4,
           1
          ],
          "sizemode": "area",
          "sizeref": 5.012222222222222
         },
         "mode": "markers",
         "name": "",
         "showlegend": false,
         "subplot": "mapbox",
         "type": "scattermapbox"
        }
       ],
       "layout": {
        "height": 518.4,
        "legend": {
         "tracegroupgap": 0
        },
        "mapbox": {
         "center": {
          "lat": 36.5,
          "lon": 127.7669
         },
         "domain": {
          "x": [
           0,
           1
          ],
          "y": [
           0,
           1
          ]
         },
         "style": "carto-positron",
         "zoom": 5.8
        },
        "margin": {
         "b": 10,
         "l": 10,
         "r": 10,
         "t": 20
        },
        "template": {
         "data": {
          "bar": [
           {
            "error_x": {
             "color": "#2a3f5f"
            },
            "error_y": {
             "color": "#2a3f5f"
            },
            "marker": {
             "line": {
              "color": "#E5ECF6",
              "width": 0.5
             },
             "pattern": {
              "fillmode": "overlay",
              "size": 10,
              "solidity": 0.2
             }
            },
            "type": "bar"
           }
          ],
          "barpolar": [
           {
            "marker": {
             "line": {
              "color": "#E5ECF6",
              "width": 0.5
             },
             "pattern": {
              "fillmode": "overlay",
              "size": 10,
              "solidity": 0.2
             }
            },
            "type": "barpolar"
           }
          ],
          "carpet": [
           {
            "aaxis": {
             "endlinecolor": "#2a3f5f",
             "gridcolor": "white",
             "linecolor": "white",
             "minorgridcolor": "white",
             "startlinecolor": "#2a3f5f"
            },
            "baxis": {
             "endlinecolor": "#2a3f5f",
             "gridcolor": "white",
             "linecolor": "white",
             "minorgridcolor": "white",
             "startlinecolor": "#2a3f5f"
            },
            "type": "carpet"
           }
          ],
          "choropleth": [
           {
            "colorbar": {
             "outlinewidth": 0,
             "ticks": ""
            },
            "type": "choropleth"
           }
          ],
          "contour": [
           {
            "colorbar": {
             "outlinewidth": 0,
             "ticks": ""
            },
            "colorscale": [
             [
              0,
              "#0d0887"
             ],
             [
              0.1111111111111111,
              "#46039f"
             ],
             [
              0.2222222222222222,
              "#7201a8"
             ],
             [
              0.3333333333333333,
              "#9c179e"
             ],
             [
              0.4444444444444444,
              "#bd3786"
             ],
             [
              0.5555555555555556,
              "#d8576b"
             ],
             [
              0.6666666666666666,
              "#ed7953"
             ],
             [
              0.7777777777777778,
              "#fb9f3a"
             ],
             [
              0.8888888888888888,
              "#fdca26"
             ],
             [
              1,
              "#f0f921"
             ]
            ],
            "type": "contour"
           }
          ],
          "contourcarpet": [
           {
            "colorbar": {
             "outlinewidth": 0,
             "ticks": ""
            },
            "type": "contourcarpet"
           }
          ],
          "heatmap": [
           {
            "colorbar": {
             "outlinewidth": 0,
             "ticks": ""
            },
            "colorscale": [
             [
              0,
              "#0d0887"
             ],
             [
              0.1111111111111111,
              "#46039f"
             ],
             [
              0.2222222222222222,
              "#7201a8"
             ],
             [
              0.3333333333333333,
              "#9c179e"
             ],
             [
              0.4444444444444444,
              "#bd3786"
             ],
             [
              0.5555555555555556,
              "#d8576b"
             ],
             [
              0.6666666666666666,
              "#ed7953"
             ],
             [
              0.7777777777777778,
              "#fb9f3a"
             ],
             [
              0.8888888888888888,
              "#fdca26"
             ],
             [
              1,
              "#f0f921"
             ]
            ],
            "type": "heatmap"
           }
          ],
          "heatmapgl": [
           {
            "colorbar": {
             "outlinewidth": 0,
             "ticks": ""
            },
            "colorscale": [
             [
              0,
              "#0d0887"
             ],
             [
              0.1111111111111111,
              "#46039f"
             ],
             [
              0.2222222222222222,
              "#7201a8"
             ],
             [
              0.3333333333333333,
              "#9c179e"
             ],
             [
              0.4444444444444444,
              "#bd3786"
             ],
             [
              0.5555555555555556,
              "#d8576b"
             ],
             [
              0.6666666666666666,
              "#ed7953"
             ],
             [
              0.7777777777777778,
              "#fb9f3a"
             ],
             [
              0.8888888888888888,
              "#fdca26"
             ],
             [
              1,
              "#f0f921"
             ]
            ],
            "type": "heatmapgl"
           }
          ],
          "histogram": [
           {
            "marker": {
             "pattern": {
              "fillmode": "overlay",
              "size": 10,
              "solidity": 0.2
             }
            },
            "type": "histogram"
           }
          ],
          "histogram2d": [
           {
            "colorbar": {
             "outlinewidth": 0,
             "ticks": ""
            },
            "colorscale": [
             [
              0,
              "#0d0887"
             ],
             [
              0.1111111111111111,
              "#46039f"
             ],
             [
              0.2222222222222222,
              "#7201a8"
             ],
             [
              0.3333333333333333,
              "#9c179e"
             ],
             [
              0.4444444444444444,
              "#bd3786"
             ],
             [
              0.5555555555555556,
              "#d8576b"
             ],
             [
              0.6666666666666666,
              "#ed7953"
             ],
             [
              0.7777777777777778,
              "#fb9f3a"
             ],
             [
              0.8888888888888888,
              "#fdca26"
             ],
             [
              1,
              "#f0f921"
             ]
            ],
            "type": "histogram2d"
           }
          ],
          "histogram2dcontour": [
           {
            "colorbar": {
             "outlinewidth": 0,
             "ticks": ""
            },
            "colorscale": [
             [
              0,
              "#0d0887"
             ],
             [
              0.1111111111111111,
              "#46039f"
             ],
             [
              0.2222222222222222,
              "#7201a8"
             ],
             [
              0.3333333333333333,
              "#9c179e"
             ],
             [
              0.4444444444444444,
              "#bd3786"
             ],
             [
              0.5555555555555556,
              "#d8576b"
             ],
             [
              0.6666666666666666,
              "#ed7953"
             ],
             [
              0.7777777777777778,
              "#fb9f3a"
             ],
             [
              0.8888888888888888,
              "#fdca26"
             ],
             [
              1,
              "#f0f921"
             ]
            ],
            "type": "histogram2dcontour"
           }
          ],
          "mesh3d": [
           {
            "colorbar": {
             "outlinewidth": 0,
             "ticks": ""
            },
            "type": "mesh3d"
           }
          ],
          "parcoords": [
           {
            "line": {
             "colorbar": {
              "outlinewidth": 0,
              "ticks": ""
             }
            },
            "type": "parcoords"
           }
          ],
          "pie": [
           {
            "automargin": true,
            "type": "pie"
           }
          ],
          "scatter": [
           {
            "fillpattern": {
             "fillmode": "overlay",
             "size": 10,
             "solidity": 0.2
            },
            "type": "scatter"
           }
          ],
          "scatter3d": [
           {
            "line": {
             "colorbar": {
              "outlinewidth": 0,
              "ticks": ""
             }
            },
            "marker": {
             "colorbar": {
              "outlinewidth": 0,
              "ticks": ""
             }
            },
            "type": "scatter3d"
           }
          ],
          "scattercarpet": [
           {
            "marker": {
             "colorbar": {
              "outlinewidth": 0,
              "ticks": ""
             }
            },
            "type": "scattercarpet"
           }
          ],
          "scattergeo": [
           {
            "marker": {
             "colorbar": {
              "outlinewidth": 0,
              "ticks": ""
             }
            },
            "type": "scattergeo"
           }
          ],
          "scattergl": [
           {
            "marker": {
             "colorbar": {
              "outlinewidth": 0,
              "ticks": ""
             }
            },
            "type": "scattergl"
           }
          ],
          "scattermapbox": [
           {
            "marker": {
             "colorbar": {
              "outlinewidth": 0,
              "ticks": ""
             }
            },
            "type": "scattermapbox"
           }
          ],
          "scatterpolar": [
           {
            "marker": {
             "colorbar": {
              "outlinewidth": 0,
              "ticks": ""
             }
            },
            "type": "scatterpolar"
           }
          ],
          "scatterpolargl": [
           {
            "marker": {
             "colorbar": {
              "outlinewidth": 0,
              "ticks": ""
             }
            },
            "type": "scatterpolargl"
           }
          ],
          "scatterternary": [
           {
            "marker": {
             "colorbar": {
              "outlinewidth": 0,
              "ticks": ""
             }
            },
            "type": "scatterternary"
           }
          ],
          "surface": [
           {
            "colorbar": {
             "outlinewidth": 0,
             "ticks": ""
            },
            "colorscale": [
             [
              0,
              "#0d0887"
             ],
             [
              0.1111111111111111,
              "#46039f"
             ],
             [
              0.2222222222222222,
              "#7201a8"
             ],
             [
              0.3333333333333333,
              "#9c179e"
             ],
             [
              0.4444444444444444,
              "#bd3786"
             ],
             [
              0.5555555555555556,
              "#d8576b"
             ],
             [
              0.6666666666666666,
              "#ed7953"
             ],
             [
              0.7777777777777778,
              "#fb9f3a"
             ],
             [
              0.8888888888888888,
              "#fdca26"
             ],
             [
              1,
              "#f0f921"
             ]
            ],
            "type": "surface"
           }
          ],
          "table": [
           {
            "cells": {
             "fill": {
              "color": "#EBF0F8"
             },
             "line": {
              "color": "white"
             }
            },
            "header": {
             "fill": {
              "color": "#C8D4E3"
             },
             "line": {
              "color": "white"
             }
            },
            "type": "table"
           }
          ]
         },
         "layout": {
          "annotationdefaults": {
           "arrowcolor": "#2a3f5f",
           "arrowhead": 0,
           "arrowwidth": 1
          },
          "autotypenumbers": "strict",
          "coloraxis": {
           "colorbar": {
            "outlinewidth": 0,
            "ticks": ""
           }
          },
          "colorscale": {
           "diverging": [
            [
             0,
             "#8e0152"
            ],
            [
             0.1,
             "#c51b7d"
            ],
            [
             0.2,
             "#de77ae"
            ],
            [
             0.3,
             "#f1b6da"
            ],
            [
             0.4,
             "#fde0ef"
            ],
            [
             0.5,
             "#f7f7f7"
            ],
            [
             0.6,
             "#e6f5d0"
            ],
            [
             0.7,
             "#b8e186"
            ],
            [
             0.8,
             "#7fbc41"
            ],
            [
             0.9,
             "#4d9221"
            ],
            [
             1,
             "#276419"
            ]
           ],
           "sequential": [
            [
             0,
             "#0d0887"
            ],
            [
             0.1111111111111111,
             "#46039f"
            ],
            [
             0.2222222222222222,
             "#7201a8"
            ],
            [
             0.3333333333333333,
             "#9c179e"
            ],
            [
             0.4444444444444444,
             "#bd3786"
            ],
            [
             0.5555555555555556,
             "#d8576b"
            ],
            [
             0.6666666666666666,
             "#ed7953"
            ],
            [
             0.7777777777777778,
             "#fb9f3a"
            ],
            [
             0.8888888888888888,
             "#fdca26"
            ],
            [
             1,
             "#f0f921"
            ]
           ],
           "sequentialminus": [
            [
             0,
             "#0d0887"
            ],
            [
             0.1111111111111111,
             "#46039f"
            ],
            [
             0.2222222222222222,
             "#7201a8"
            ],
            [
             0.3333333333333333,
             "#9c179e"
            ],
            [
             0.4444444444444444,
             "#bd3786"
            ],
            [
             0.5555555555555556,
             "#d8576b"
            ],
            [
             0.6666666666666666,
             "#ed7953"
            ],
            [
             0.7777777777777778,
             "#fb9f3a"
            ],
            [
             0.8888888888888888,
             "#fdca26"
            ],
            [
             1,
             "#f0f921"
            ]
           ]
          },
          "colorway": [
           "#636efa",
           "#EF553B",
           "#00cc96",
           "#ab63fa",
           "#FFA15A",
           "#19d3f3",
           "#FF6692",
           "#B6E880",
           "#FF97FF",
           "#FECB52"
          ],
          "font": {
           "color": "#2a3f5f"
          },
          "geo": {
           "bgcolor": "white",
           "lakecolor": "white",
           "landcolor": "#E5ECF6",
           "showlakes": true,
           "showland": true,
           "subunitcolor": "white"
          },
          "hoverlabel": {
           "align": "left"
          },
          "hovermode": "closest",
          "mapbox": {
           "style": "light"
          },
          "paper_bgcolor": "white",
          "plot_bgcolor": "#E5ECF6",
          "polar": {
           "angularaxis": {
            "gridcolor": "white",
            "linecolor": "white",
            "ticks": ""
           },
           "bgcolor": "#E5ECF6",
           "radialaxis": {
            "gridcolor": "white",
            "linecolor": "white",
            "ticks": ""
           }
          },
          "scene": {
           "xaxis": {
            "backgroundcolor": "#E5ECF6",
            "gridcolor": "white",
            "gridwidth": 2,
            "linecolor": "white",
            "showbackground": true,
            "ticks": "",
            "zerolinecolor": "white"
           },
           "yaxis": {
            "backgroundcolor": "#E5ECF6",
            "gridcolor": "white",
            "gridwidth": 2,
            "linecolor": "white",
            "showbackground": true,
            "ticks": "",
            "zerolinecolor": "white"
           },
           "zaxis": {
            "backgroundcolor": "#E5ECF6",
            "gridcolor": "white",
            "gridwidth": 2,
            "linecolor": "white",
            "showbackground": true,
            "ticks": "",
            "zerolinecolor": "white"
           }
          },
          "shapedefaults": {
           "line": {
            "color": "#2a3f5f"
           }
          },
          "ternary": {
           "aaxis": {
            "gridcolor": "white",
            "linecolor": "white",
            "ticks": ""
           },
           "baxis": {
            "gridcolor": "white",
            "linecolor": "white",
            "ticks": ""
           },
           "bgcolor": "#E5ECF6",
           "caxis": {
            "gridcolor": "white",
            "linecolor": "white",
            "ticks": ""
           }
          },
          "title": {
           "x": 0.05
          },
          "xaxis": {
           "automargin": true,
           "gridcolor": "white",
           "linecolor": "white",
           "ticks": "",
           "title": {
            "standoff": 15
           },
           "zerolinecolor": "white",
           "zerolinewidth": 2
          },
          "yaxis": {
           "automargin": true,
           "gridcolor": "white",
           "linecolor": "white",
           "ticks": "",
           "title": {
            "standoff": 15
           },
           "zerolinecolor": "white",
           "zerolinewidth": 2
          }
         }
        },
        "width": 518.4
       }
      },
      "text/html": [
       "<div>                            <div id=\"15393d49-957d-47c4-a0f6-be54ffd294d4\" class=\"plotly-graph-div\" style=\"height:518.4px; width:518.4px;\"></div>            <script type=\"text/javascript\">                require([\"plotly\"], function(Plotly) {                    window.PLOTLYENV=window.PLOTLYENV || {};                                    if (document.getElementById(\"15393d49-957d-47c4-a0f6-be54ffd294d4\")) {                    Plotly.newPlot(                        \"15393d49-957d-47c4-a0f6-be54ffd294d4\",                        [{\"colorscale\":[[0.0,\"#636efa\"],[1.0,\"#636efa\"]],\"hovertemplate\":\"<extra></extra>\",\"marker\":{\"opacity\":0.5},\"name\":\"\",\"showlegend\":true,\"showscale\":false,\"subplot\":\"mapbox\",\"z\":[],\"type\":\"choroplethmapbox\"},{\"hovertemplate\":\"confirmed=%{marker.size}<br>latitude=%{lat}<br>longitude=%{lon}<extra></extra>\",\"lat\":[37.538621,37.48208,37.508163,37.546061,37.679422,37.481059,null,37.592888,null,37.481735,37.63369,37.55713,37.57681,37.48825,37.562405,37.558147,37.594782,null,null,null,null,null,37.560899,37.520846,37.522331,37.524623,null,null,37.498279,37.559649,null,37.565699,null,null,37.486837,null,null,null,35.21628,null,35.16708,35.20599,35.17371,null,null,null,null,null,35.84008,35.857375,35.885592,35.857393,35.88395,null,null,null,null,null,35.136035,null,null,null,null,null,null,null,null,null,null,null,null,36.3400973,36.3398739,36.346869,36.358123,null,null,null,null,null,null,null,null,null,36.504713,36.48025,null,null,null,null,37.455687,37.530579,null,null,37.758635,null,null,null,null,37.38833,37.381784,37.287356,37.403722,37.2376,null,null,null,null,null,null,null,null,null,null,37.342762,null,null,null,null,null,36.82422,null,null,null,null,null,null,36.81503,null,37.000354,null,null,null,null,null,null,null,null,null,null,35.078825,null,null,null,null,null,35.64887,36.92757,35.782149,null,36.646845,36.0581,35.84819,35.82558,null,null,null,null,null,35.68556,35.164845,35.805681,35.22115,35.54127,35.338811,null,null,null,null,null,null,null,null,null],\"legendgroup\":\"\",\"lon\":[126.992652,126.901384,126.884387,126.874209,127.044374,126.894343,null,127.056766,null,126.930121,126.9165,127.0403,127.006,127.08559,126.984377,126.943799,126.968022,null,null,null,null,null,126.966998,126.931278,127.057388,126.843118,null,null,127.030139,126.835102,null,126.977079,null,null,126.893163,null,null,null,129.0771,null,129.1124,129.1256,129.0633,null,null,null,null,null,128.5667,128.466651,128.556649,128.466653,128.624059,null,null,null,null,null,126.956405,null,null,null,null,null,null,null,null,null,null,null,null,127.3927099,127.3819744,127.368594,127.388856,null,null,null,null,null,null,null,null,null,127.265172,127.289,null,null,null,null,127.161627,126.775254,null,null,127.077716,null,null,null,null,127.1218,126.93615,127.013827,126.954939,127.0517,null,null,null,null,null,null,null,null,null,null,127.983815,null,null,null,null,null,127.9552,null,null,null,null,null,null,127.1139,null,126.354443,null,null,null,null,null,null,null,null,null,null,126.316746,null,null,null,null,null,128.7368,128.9099,128.801498,null,128.437416,128.4941,128.7621,128.7373,null,null,null,null,null,127.9127,128.126969,127.917805,128.6866,128.5008,129.017508,null,null,null,null,null,null,null,null,null],\"marker\":{\"color\":\"#636efa\",\"size\":[139,119,95,43,43,41,36,17,25,30,14,13,10,7,7,5,7,6,1,6,8,5,13,3,1,3,5,1,4,0,4,3,2,1,3,298,162,100,39,12,5,6,4,4,1,36,19,30,4511,196,124,101,39,2,2,41,917,747,5,9,23,5,1,53,42,20,2,68,6,11,55,13,7,4,3,2,2,15,15,15,16,25,3,7,31,8,1,5,3,1,67,67,59,58,50,50,29,28,25,22,22,15,17,10,7,6,6,5,5,305,63,84,17,10,4,4,4,16,0,7,11,9,2,6,13,8,11,103,10,9,3,3,16,2,12,2,3,1,12,5,2,1,14,4,4,566,119,68,66,41,40,36,17,16,10,22,190,133,32,10,9,8,7,7,3,2,2,26,6,20,14,0,4,1],\"sizemode\":\"area\",\"sizeref\":5.012222222222222},\"mode\":\"markers\",\"name\":\"\",\"showlegend\":false,\"subplot\":\"mapbox\",\"type\":\"scattermapbox\"}],                        {\"template\":{\"data\":{\"histogram2dcontour\":[{\"type\":\"histogram2dcontour\",\"colorbar\":{\"outlinewidth\":0,\"ticks\":\"\"},\"colorscale\":[[0.0,\"#0d0887\"],[0.1111111111111111,\"#46039f\"],[0.2222222222222222,\"#7201a8\"],[0.3333333333333333,\"#9c179e\"],[0.4444444444444444,\"#bd3786\"],[0.5555555555555556,\"#d8576b\"],[0.6666666666666666,\"#ed7953\"],[0.7777777777777778,\"#fb9f3a\"],[0.8888888888888888,\"#fdca26\"],[1.0,\"#f0f921\"]]}],\"choropleth\":[{\"type\":\"choropleth\",\"colorbar\":{\"outlinewidth\":0,\"ticks\":\"\"}}],\"histogram2d\":[{\"type\":\"histogram2d\",\"colorbar\":{\"outlinewidth\":0,\"ticks\":\"\"},\"colorscale\":[[0.0,\"#0d0887\"],[0.1111111111111111,\"#46039f\"],[0.2222222222222222,\"#7201a8\"],[0.3333333333333333,\"#9c179e\"],[0.4444444444444444,\"#bd3786\"],[0.5555555555555556,\"#d8576b\"],[0.6666666666666666,\"#ed7953\"],[0.7777777777777778,\"#fb9f3a\"],[0.8888888888888888,\"#fdca26\"],[1.0,\"#f0f921\"]]}],\"heatmap\":[{\"type\":\"heatmap\",\"colorbar\":{\"outlinewidth\":0,\"ticks\":\"\"},\"colorscale\":[[0.0,\"#0d0887\"],[0.1111111111111111,\"#46039f\"],[0.2222222222222222,\"#7201a8\"],[0.3333333333333333,\"#9c179e\"],[0.4444444444444444,\"#bd3786\"],[0.5555555555555556,\"#d8576b\"],[0.6666666666666666,\"#ed7953\"],[0.7777777777777778,\"#fb9f3a\"],[0.8888888888888888,\"#fdca26\"],[1.0,\"#f0f921\"]]}],\"heatmapgl\":[{\"type\":\"heatmapgl\",\"colorbar\":{\"outlinewidth\":0,\"ticks\":\"\"},\"colorscale\":[[0.0,\"#0d0887\"],[0.1111111111111111,\"#46039f\"],[0.2222222222222222,\"#7201a8\"],[0.3333333333333333,\"#9c179e\"],[0.4444444444444444,\"#bd3786\"],[0.5555555555555556,\"#d8576b\"],[0.6666666666666666,\"#ed7953\"],[0.7777777777777778,\"#fb9f3a\"],[0.8888888888888888,\"#fdca26\"],[1.0,\"#f0f921\"]]}],\"contourcarpet\":[{\"type\":\"contourcarpet\",\"colorbar\":{\"outlinewidth\":0,\"ticks\":\"\"}}],\"contour\":[{\"type\":\"contour\",\"colorbar\":{\"outlinewidth\":0,\"ticks\":\"\"},\"colorscale\":[[0.0,\"#0d0887\"],[0.1111111111111111,\"#46039f\"],[0.2222222222222222,\"#7201a8\"],[0.3333333333333333,\"#9c179e\"],[0.4444444444444444,\"#bd3786\"],[0.5555555555555556,\"#d8576b\"],[0.6666666666666666,\"#ed7953\"],[0.7777777777777778,\"#fb9f3a\"],[0.8888888888888888,\"#fdca26\"],[1.0,\"#f0f921\"]]}],\"surface\":[{\"type\":\"surface\",\"colorbar\":{\"outlinewidth\":0,\"ticks\":\"\"},\"colorscale\":[[0.0,\"#0d0887\"],[0.1111111111111111,\"#46039f\"],[0.2222222222222222,\"#7201a8\"],[0.3333333333333333,\"#9c179e\"],[0.4444444444444444,\"#bd3786\"],[0.5555555555555556,\"#d8576b\"],[0.6666666666666666,\"#ed7953\"],[0.7777777777777778,\"#fb9f3a\"],[0.8888888888888888,\"#fdca26\"],[1.0,\"#f0f921\"]]}],\"mesh3d\":[{\"type\":\"mesh3d\",\"colorbar\":{\"outlinewidth\":0,\"ticks\":\"\"}}],\"scatter\":[{\"fillpattern\":{\"fillmode\":\"overlay\",\"size\":10,\"solidity\":0.2},\"type\":\"scatter\"}],\"parcoords\":[{\"type\":\"parcoords\",\"line\":{\"colorbar\":{\"outlinewidth\":0,\"ticks\":\"\"}}}],\"scatterpolargl\":[{\"type\":\"scatterpolargl\",\"marker\":{\"colorbar\":{\"outlinewidth\":0,\"ticks\":\"\"}}}],\"bar\":[{\"error_x\":{\"color\":\"#2a3f5f\"},\"error_y\":{\"color\":\"#2a3f5f\"},\"marker\":{\"line\":{\"color\":\"#E5ECF6\",\"width\":0.5},\"pattern\":{\"fillmode\":\"overlay\",\"size\":10,\"solidity\":0.2}},\"type\":\"bar\"}],\"scattergeo\":[{\"type\":\"scattergeo\",\"marker\":{\"colorbar\":{\"outlinewidth\":0,\"ticks\":\"\"}}}],\"scatterpolar\":[{\"type\":\"scatterpolar\",\"marker\":{\"colorbar\":{\"outlinewidth\":0,\"ticks\":\"\"}}}],\"histogram\":[{\"marker\":{\"pattern\":{\"fillmode\":\"overlay\",\"size\":10,\"solidity\":0.2}},\"type\":\"histogram\"}],\"scattergl\":[{\"type\":\"scattergl\",\"marker\":{\"colorbar\":{\"outlinewidth\":0,\"ticks\":\"\"}}}],\"scatter3d\":[{\"type\":\"scatter3d\",\"line\":{\"colorbar\":{\"outlinewidth\":0,\"ticks\":\"\"}},\"marker\":{\"colorbar\":{\"outlinewidth\":0,\"ticks\":\"\"}}}],\"scattermapbox\":[{\"type\":\"scattermapbox\",\"marker\":{\"colorbar\":{\"outlinewidth\":0,\"ticks\":\"\"}}}],\"scatterternary\":[{\"type\":\"scatterternary\",\"marker\":{\"colorbar\":{\"outlinewidth\":0,\"ticks\":\"\"}}}],\"scattercarpet\":[{\"type\":\"scattercarpet\",\"marker\":{\"colorbar\":{\"outlinewidth\":0,\"ticks\":\"\"}}}],\"carpet\":[{\"aaxis\":{\"endlinecolor\":\"#2a3f5f\",\"gridcolor\":\"white\",\"linecolor\":\"white\",\"minorgridcolor\":\"white\",\"startlinecolor\":\"#2a3f5f\"},\"baxis\":{\"endlinecolor\":\"#2a3f5f\",\"gridcolor\":\"white\",\"linecolor\":\"white\",\"minorgridcolor\":\"white\",\"startlinecolor\":\"#2a3f5f\"},\"type\":\"carpet\"}],\"table\":[{\"cells\":{\"fill\":{\"color\":\"#EBF0F8\"},\"line\":{\"color\":\"white\"}},\"header\":{\"fill\":{\"color\":\"#C8D4E3\"},\"line\":{\"color\":\"white\"}},\"type\":\"table\"}],\"barpolar\":[{\"marker\":{\"line\":{\"color\":\"#E5ECF6\",\"width\":0.5},\"pattern\":{\"fillmode\":\"overlay\",\"size\":10,\"solidity\":0.2}},\"type\":\"barpolar\"}],\"pie\":[{\"automargin\":true,\"type\":\"pie\"}]},\"layout\":{\"autotypenumbers\":\"strict\",\"colorway\":[\"#636efa\",\"#EF553B\",\"#00cc96\",\"#ab63fa\",\"#FFA15A\",\"#19d3f3\",\"#FF6692\",\"#B6E880\",\"#FF97FF\",\"#FECB52\"],\"font\":{\"color\":\"#2a3f5f\"},\"hovermode\":\"closest\",\"hoverlabel\":{\"align\":\"left\"},\"paper_bgcolor\":\"white\",\"plot_bgcolor\":\"#E5ECF6\",\"polar\":{\"bgcolor\":\"#E5ECF6\",\"angularaxis\":{\"gridcolor\":\"white\",\"linecolor\":\"white\",\"ticks\":\"\"},\"radialaxis\":{\"gridcolor\":\"white\",\"linecolor\":\"white\",\"ticks\":\"\"}},\"ternary\":{\"bgcolor\":\"#E5ECF6\",\"aaxis\":{\"gridcolor\":\"white\",\"linecolor\":\"white\",\"ticks\":\"\"},\"baxis\":{\"gridcolor\":\"white\",\"linecolor\":\"white\",\"ticks\":\"\"},\"caxis\":{\"gridcolor\":\"white\",\"linecolor\":\"white\",\"ticks\":\"\"}},\"coloraxis\":{\"colorbar\":{\"outlinewidth\":0,\"ticks\":\"\"}},\"colorscale\":{\"sequential\":[[0.0,\"#0d0887\"],[0.1111111111111111,\"#46039f\"],[0.2222222222222222,\"#7201a8\"],[0.3333333333333333,\"#9c179e\"],[0.4444444444444444,\"#bd3786\"],[0.5555555555555556,\"#d8576b\"],[0.6666666666666666,\"#ed7953\"],[0.7777777777777778,\"#fb9f3a\"],[0.8888888888888888,\"#fdca26\"],[1.0,\"#f0f921\"]],\"sequentialminus\":[[0.0,\"#0d0887\"],[0.1111111111111111,\"#46039f\"],[0.2222222222222222,\"#7201a8\"],[0.3333333333333333,\"#9c179e\"],[0.4444444444444444,\"#bd3786\"],[0.5555555555555556,\"#d8576b\"],[0.6666666666666666,\"#ed7953\"],[0.7777777777777778,\"#fb9f3a\"],[0.8888888888888888,\"#fdca26\"],[1.0,\"#f0f921\"]],\"diverging\":[[0,\"#8e0152\"],[0.1,\"#c51b7d\"],[0.2,\"#de77ae\"],[0.3,\"#f1b6da\"],[0.4,\"#fde0ef\"],[0.5,\"#f7f7f7\"],[0.6,\"#e6f5d0\"],[0.7,\"#b8e186\"],[0.8,\"#7fbc41\"],[0.9,\"#4d9221\"],[1,\"#276419\"]]},\"xaxis\":{\"gridcolor\":\"white\",\"linecolor\":\"white\",\"ticks\":\"\",\"title\":{\"standoff\":15},\"zerolinecolor\":\"white\",\"automargin\":true,\"zerolinewidth\":2},\"yaxis\":{\"gridcolor\":\"white\",\"linecolor\":\"white\",\"ticks\":\"\",\"title\":{\"standoff\":15},\"zerolinecolor\":\"white\",\"automargin\":true,\"zerolinewidth\":2},\"scene\":{\"xaxis\":{\"backgroundcolor\":\"#E5ECF6\",\"gridcolor\":\"white\",\"linecolor\":\"white\",\"showbackground\":true,\"ticks\":\"\",\"zerolinecolor\":\"white\",\"gridwidth\":2},\"yaxis\":{\"backgroundcolor\":\"#E5ECF6\",\"gridcolor\":\"white\",\"linecolor\":\"white\",\"showbackground\":true,\"ticks\":\"\",\"zerolinecolor\":\"white\",\"gridwidth\":2},\"zaxis\":{\"backgroundcolor\":\"#E5ECF6\",\"gridcolor\":\"white\",\"linecolor\":\"white\",\"showbackground\":true,\"ticks\":\"\",\"zerolinecolor\":\"white\",\"gridwidth\":2}},\"shapedefaults\":{\"line\":{\"color\":\"#2a3f5f\"}},\"annotationdefaults\":{\"arrowcolor\":\"#2a3f5f\",\"arrowhead\":0,\"arrowwidth\":1},\"geo\":{\"bgcolor\":\"white\",\"landcolor\":\"#E5ECF6\",\"subunitcolor\":\"white\",\"showland\":true,\"showlakes\":true,\"lakecolor\":\"white\"},\"title\":{\"x\":0.05},\"mapbox\":{\"style\":\"light\"}}},\"mapbox\":{\"domain\":{\"x\":[0.0,1.0],\"y\":[0.0,1.0]},\"center\":{\"lat\":36.5,\"lon\":127.7669},\"zoom\":5.8,\"style\":\"carto-positron\"},\"legend\":{\"tracegroupgap\":0},\"margin\":{\"t\":20,\"l\":10,\"b\":10,\"r\":10},\"height\":518.4,\"width\":518.4},                        {\"responsive\": true}                    ).then(function(){\n",
       "                            \n",
       "var gd = document.getElementById('15393d49-957d-47c4-a0f6-be54ffd294d4');\n",
       "var x = new MutationObserver(function (mutations, observer) {{\n",
       "        var display = window.getComputedStyle(gd).display;\n",
       "        if (!display || display === 'none') {{\n",
       "            console.log([gd, 'removed!']);\n",
       "            Plotly.purge(gd);\n",
       "            observer.disconnect();\n",
       "        }}\n",
       "}});\n",
       "\n",
       "// Listen for the removal of the full notebook cells\n",
       "var notebookContainer = gd.closest('#notebook-container');\n",
       "if (notebookContainer) {{\n",
       "    x.observe(notebookContainer, {childList: true});\n",
       "}}\n",
       "\n",
       "// Listen for the clearing of the current output cell\n",
       "var outputEl = gd.closest('.output');\n",
       "if (outputEl) {{\n",
       "    x.observe(outputEl, {childList: true});\n",
       "}}\n",
       "\n",
       "                        })                };                });            </script>        </div>"
      ]
     },
     "metadata": {},
     "output_type": "display_data"
    }
   ],
   "source": [
    "# | label: fig-case-map\n",
    "# | fig-cap: Case map \n",
    "fig_case_map = px.choropleth_mapbox(\n",
    "    mapbox_style=\"carto-positron\",\n",
    "    center={\"lat\": 36.5, \"lon\": 127.7669},\n",
    "    zoom=5.8,\n",
    "    opacity=0.5,\n",
    "    height=base_fig_wid * dpi * 0.6,\n",
    "    width=base_fig_wid * dpi * 0.6,\n",
    ")\n",
    "fig_case_map.update_layout(margin=dict(t=20, l=10, b=10, r=10))\n",
    "case_map_scatter = px.scatter_mapbox(\n",
    "    data[\"Case\"],\n",
    "    lon=\"longitude\",\n",
    "    lat=\"latitude\",\n",
    "    size=\"confirmed\",\n",
    "    size_max=30\n",
    ")\n",
    "fig_case_map.add_trace(case_map_scatter.data[0])\n",
    "fig_case_map.show()"
   ]
  },
  {
   "attachments": {},
   "cell_type": "markdown",
   "metadata": {},
   "source": [
    "## References\n",
    "\n",
    "::: {#refs}\n",
    ":::"
   ]
  }
 ],
 "metadata": {
  "kernelspec": {
   "display_name": "base",
   "language": "python",
   "name": "python3"
  },
  "language_info": {
   "codemirror_mode": {
    "name": "ipython",
    "version": 3
   },
   "file_extension": ".py",
   "mimetype": "text/x-python",
   "name": "python",
   "nbconvert_exporter": "python",
   "pygments_lexer": "ipython3",
   "version": "3.9.13"
  },
  "orig_nbformat": 4,
  "vscode": {
   "interpreter": {
    "hash": "13d05262e80966025c4065c6f9cc8a1b68705008eb771aa84cbe6b6ebaed4072"
   }
  }
 },
 "nbformat": 4,
 "nbformat_minor": 2
}
