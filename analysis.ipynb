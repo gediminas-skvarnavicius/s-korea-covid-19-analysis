{
 "cells": [
  {
   "attachments": {},
   "cell_type": "markdown",
   "metadata": {},
   "source": [
    "---\n",
    "title: \"Corona\"\n",
    "format:\n",
    "  html:\n",
    "    code-fold: true\n",
    "    code-summary: \"Show the code\"\n",
    "---"
   ]
  },
  {
   "cell_type": "code",
   "execution_count": 1,
   "metadata": {},
   "outputs": [],
   "source": [
    "import os\n",
    "import pandas as pd\n",
    "import numpy as np\n",
    "import textwrap\n",
    "import matplotlib.pyplot as plt\n",
    "from module1_s4_functions import *\n",
    "import numpy.typing as npt\n",
    "import matplotlib.ticker as mtick\n",
    "import matplotlib.patches as mpatches\n",
    "from matplotlib.lines import Line2D\n",
    "from scipy.stats import gmean\n",
    "import matplotlib.dates as mdates\n",
    "import plotly.express as px\n",
    "import plotly.graph_objects as go\n",
    "import plotly.io as pio\n",
    "pio.renderers.default = \"plotly_mimetype+notebook_connected\""
   ]
  },
  {
   "cell_type": "code",
   "execution_count": 2,
   "metadata": {},
   "outputs": [],
   "source": [
    "pd.set_option(\"display.float_format\", \"{:.3g}\".format)\n",
    "base_fig_wid = 9  # base width of a figure\n",
    "base_font_size = 12  # base size of a font\n",
    "dpi = 96\n",
    "plt.rcParams[\"font.size\"] = base_font_size"
   ]
  },
  {
   "attachments": {},
   "cell_type": "markdown",
   "metadata": {},
   "source": [
    "Putting the data from separate in .csv files into a dictionary of pandas dataframes"
   ]
  },
  {
   "cell_type": "code",
   "execution_count": 3,
   "metadata": {},
   "outputs": [],
   "source": [
    "data_files = csv_files = [f for f in os.listdir(\"data\") if f.endswith(\".csv\")]\n",
    "data = {}\n",
    "for file in csv_files:\n",
    "    file_path = os.path.join(\"data/\", file)\n",
    "    df = pd.read_csv(file_path)\n",
    "    data[file[:-4]] = df"
   ]
  },
  {
   "attachments": {},
   "cell_type": "markdown",
   "metadata": {},
   "source": [
    "1. The Lists of Data Table\n",
    "1) Case Data\n",
    "Case: Data of COVID-19 infection cases in South Korea\n",
    "2) Patient Data\n",
    "PatientInfo: Epidemiological data of COVID-19 patients in South Korea\n",
    "PatientRoute: Route data of COVID-19 patients in South Korea (currently unavailable)\n",
    "3) Time Series Data\n",
    "Time: Time series data of COVID-19 status in South Korea\n",
    "TimeAge: Time series data of COVID-19 status in terms of the age in South Korea\n",
    "TimeGender: Time series data of COVID-19 status in terms of gender in South Korea\n",
    "TimeProvince: Time series data of COVID-19 status in terms of the Province in South Korea\n",
    "4) Additional Data\n",
    "Region: Location and statistical data of the regions in South Korea\n",
    "Weather: Data of the weather in the regions of South Korea\n",
    "SearchTrend: Trend data of the keywords searched in NAVER which is one of the largest portals in South Korea\n",
    "SeoulFloating: Data of floating population in Seoul, South Korea (from SK Telecom Big Data Hub)\n",
    "Policy: Data of the government policy for COVID-19 in South Korea"
   ]
  },
  {
   "attachments": {},
   "cell_type": "markdown",
   "metadata": {},
   "source": [
    "### Time series of total infections"
   ]
  },
  {
   "attachments": {},
   "cell_type": "markdown",
   "metadata": {},
   "source": [
    "Formatting the date data:"
   ]
  },
  {
   "cell_type": "code",
   "execution_count": 4,
   "metadata": {},
   "outputs": [
    {
     "data": {
      "text/html": [
       "<div>\n",
       "<style scoped>\n",
       "    .dataframe tbody tr th:only-of-type {\n",
       "        vertical-align: middle;\n",
       "    }\n",
       "\n",
       "    .dataframe tbody tr th {\n",
       "        vertical-align: top;\n",
       "    }\n",
       "\n",
       "    .dataframe thead th {\n",
       "        text-align: right;\n",
       "    }\n",
       "</style>\n",
       "<table border=\"1\" class=\"dataframe\">\n",
       "  <thead>\n",
       "    <tr style=\"text-align: right;\">\n",
       "      <th></th>\n",
       "      <th>time</th>\n",
       "      <th>test</th>\n",
       "      <th>negative</th>\n",
       "      <th>confirmed</th>\n",
       "      <th>released</th>\n",
       "      <th>deceased</th>\n",
       "    </tr>\n",
       "    <tr>\n",
       "      <th>date</th>\n",
       "      <th></th>\n",
       "      <th></th>\n",
       "      <th></th>\n",
       "      <th></th>\n",
       "      <th></th>\n",
       "      <th></th>\n",
       "    </tr>\n",
       "  </thead>\n",
       "  <tbody>\n",
       "    <tr>\n",
       "      <th>2020-01-20</th>\n",
       "      <td>16</td>\n",
       "      <td>1</td>\n",
       "      <td>0</td>\n",
       "      <td>1</td>\n",
       "      <td>0</td>\n",
       "      <td>0</td>\n",
       "    </tr>\n",
       "    <tr>\n",
       "      <th>2020-01-21</th>\n",
       "      <td>16</td>\n",
       "      <td>1</td>\n",
       "      <td>0</td>\n",
       "      <td>1</td>\n",
       "      <td>0</td>\n",
       "      <td>0</td>\n",
       "    </tr>\n",
       "    <tr>\n",
       "      <th>2020-01-22</th>\n",
       "      <td>16</td>\n",
       "      <td>4</td>\n",
       "      <td>3</td>\n",
       "      <td>1</td>\n",
       "      <td>0</td>\n",
       "      <td>0</td>\n",
       "    </tr>\n",
       "    <tr>\n",
       "      <th>2020-01-23</th>\n",
       "      <td>16</td>\n",
       "      <td>22</td>\n",
       "      <td>21</td>\n",
       "      <td>1</td>\n",
       "      <td>0</td>\n",
       "      <td>0</td>\n",
       "    </tr>\n",
       "    <tr>\n",
       "      <th>2020-01-24</th>\n",
       "      <td>16</td>\n",
       "      <td>27</td>\n",
       "      <td>25</td>\n",
       "      <td>2</td>\n",
       "      <td>0</td>\n",
       "      <td>0</td>\n",
       "    </tr>\n",
       "    <tr>\n",
       "      <th>...</th>\n",
       "      <td>...</td>\n",
       "      <td>...</td>\n",
       "      <td>...</td>\n",
       "      <td>...</td>\n",
       "      <td>...</td>\n",
       "      <td>...</td>\n",
       "    </tr>\n",
       "    <tr>\n",
       "      <th>2020-06-26</th>\n",
       "      <td>0</td>\n",
       "      <td>1232315</td>\n",
       "      <td>1200885</td>\n",
       "      <td>12602</td>\n",
       "      <td>11172</td>\n",
       "      <td>282</td>\n",
       "    </tr>\n",
       "    <tr>\n",
       "      <th>2020-06-27</th>\n",
       "      <td>0</td>\n",
       "      <td>1243780</td>\n",
       "      <td>1211261</td>\n",
       "      <td>12653</td>\n",
       "      <td>11317</td>\n",
       "      <td>282</td>\n",
       "    </tr>\n",
       "    <tr>\n",
       "      <th>2020-06-28</th>\n",
       "      <td>0</td>\n",
       "      <td>1251695</td>\n",
       "      <td>1219975</td>\n",
       "      <td>12715</td>\n",
       "      <td>11364</td>\n",
       "      <td>282</td>\n",
       "    </tr>\n",
       "    <tr>\n",
       "      <th>2020-06-29</th>\n",
       "      <td>0</td>\n",
       "      <td>1259954</td>\n",
       "      <td>1228698</td>\n",
       "      <td>12757</td>\n",
       "      <td>11429</td>\n",
       "      <td>282</td>\n",
       "    </tr>\n",
       "    <tr>\n",
       "      <th>2020-06-30</th>\n",
       "      <td>0</td>\n",
       "      <td>1273766</td>\n",
       "      <td>1240157</td>\n",
       "      <td>12800</td>\n",
       "      <td>11537</td>\n",
       "      <td>282</td>\n",
       "    </tr>\n",
       "  </tbody>\n",
       "</table>\n",
       "<p>163 rows × 6 columns</p>\n",
       "</div>"
      ],
      "text/plain": [
       "            time     test  negative  confirmed  released  deceased\n",
       "date                                                              \n",
       "2020-01-20    16        1         0          1         0         0\n",
       "2020-01-21    16        1         0          1         0         0\n",
       "2020-01-22    16        4         3          1         0         0\n",
       "2020-01-23    16       22        21          1         0         0\n",
       "2020-01-24    16       27        25          2         0         0\n",
       "...          ...      ...       ...        ...       ...       ...\n",
       "2020-06-26     0  1232315   1200885      12602     11172       282\n",
       "2020-06-27     0  1243780   1211261      12653     11317       282\n",
       "2020-06-28     0  1251695   1219975      12715     11364       282\n",
       "2020-06-29     0  1259954   1228698      12757     11429       282\n",
       "2020-06-30     0  1273766   1240157      12800     11537       282\n",
       "\n",
       "[163 rows x 6 columns]"
      ]
     },
     "execution_count": 4,
     "metadata": {},
     "output_type": "execute_result"
    }
   ],
   "source": [
    "\n",
    "data['Time']['date'] = pd.to_datetime(data['Time']['date'])\n",
    "data['Time'].set_index('date',inplace=True)\n",
    "data['Time']"
   ]
  },
  {
   "attachments": {},
   "cell_type": "markdown",
   "metadata": {},
   "source": [
    "Adding a new cases column:"
   ]
  },
  {
   "cell_type": "code",
   "execution_count": 5,
   "metadata": {},
   "outputs": [],
   "source": [
    "data['Time']['new_cases'] = data['Time']['confirmed'] - data['Time']['confirmed'].shift(1)"
   ]
  },
  {
   "cell_type": "code",
   "execution_count": 6,
   "metadata": {},
   "outputs": [
    {
     "data": {
      "text/html": [
       "<div>\n",
       "<style scoped>\n",
       "    .dataframe tbody tr th:only-of-type {\n",
       "        vertical-align: middle;\n",
       "    }\n",
       "\n",
       "    .dataframe tbody tr th {\n",
       "        vertical-align: top;\n",
       "    }\n",
       "\n",
       "    .dataframe thead th {\n",
       "        text-align: right;\n",
       "    }\n",
       "</style>\n",
       "<table border=\"1\" class=\"dataframe\">\n",
       "  <thead>\n",
       "    <tr style=\"text-align: right;\">\n",
       "      <th></th>\n",
       "      <th>time</th>\n",
       "      <th>test</th>\n",
       "      <th>negative</th>\n",
       "      <th>confirmed</th>\n",
       "      <th>released</th>\n",
       "      <th>deceased</th>\n",
       "      <th>new_cases</th>\n",
       "    </tr>\n",
       "    <tr>\n",
       "      <th>date</th>\n",
       "      <th></th>\n",
       "      <th></th>\n",
       "      <th></th>\n",
       "      <th></th>\n",
       "      <th></th>\n",
       "      <th></th>\n",
       "      <th></th>\n",
       "    </tr>\n",
       "  </thead>\n",
       "  <tbody>\n",
       "    <tr>\n",
       "      <th>2020-01-20</th>\n",
       "      <td>16</td>\n",
       "      <td>1</td>\n",
       "      <td>0</td>\n",
       "      <td>1</td>\n",
       "      <td>0</td>\n",
       "      <td>0</td>\n",
       "      <td>NaN</td>\n",
       "    </tr>\n",
       "    <tr>\n",
       "      <th>2020-01-21</th>\n",
       "      <td>16</td>\n",
       "      <td>1</td>\n",
       "      <td>0</td>\n",
       "      <td>1</td>\n",
       "      <td>0</td>\n",
       "      <td>0</td>\n",
       "      <td>0</td>\n",
       "    </tr>\n",
       "    <tr>\n",
       "      <th>2020-01-22</th>\n",
       "      <td>16</td>\n",
       "      <td>4</td>\n",
       "      <td>3</td>\n",
       "      <td>1</td>\n",
       "      <td>0</td>\n",
       "      <td>0</td>\n",
       "      <td>0</td>\n",
       "    </tr>\n",
       "    <tr>\n",
       "      <th>2020-01-23</th>\n",
       "      <td>16</td>\n",
       "      <td>22</td>\n",
       "      <td>21</td>\n",
       "      <td>1</td>\n",
       "      <td>0</td>\n",
       "      <td>0</td>\n",
       "      <td>0</td>\n",
       "    </tr>\n",
       "    <tr>\n",
       "      <th>2020-01-24</th>\n",
       "      <td>16</td>\n",
       "      <td>27</td>\n",
       "      <td>25</td>\n",
       "      <td>2</td>\n",
       "      <td>0</td>\n",
       "      <td>0</td>\n",
       "      <td>1</td>\n",
       "    </tr>\n",
       "    <tr>\n",
       "      <th>...</th>\n",
       "      <td>...</td>\n",
       "      <td>...</td>\n",
       "      <td>...</td>\n",
       "      <td>...</td>\n",
       "      <td>...</td>\n",
       "      <td>...</td>\n",
       "      <td>...</td>\n",
       "    </tr>\n",
       "    <tr>\n",
       "      <th>2020-06-26</th>\n",
       "      <td>0</td>\n",
       "      <td>1232315</td>\n",
       "      <td>1200885</td>\n",
       "      <td>12602</td>\n",
       "      <td>11172</td>\n",
       "      <td>282</td>\n",
       "      <td>39</td>\n",
       "    </tr>\n",
       "    <tr>\n",
       "      <th>2020-06-27</th>\n",
       "      <td>0</td>\n",
       "      <td>1243780</td>\n",
       "      <td>1211261</td>\n",
       "      <td>12653</td>\n",
       "      <td>11317</td>\n",
       "      <td>282</td>\n",
       "      <td>51</td>\n",
       "    </tr>\n",
       "    <tr>\n",
       "      <th>2020-06-28</th>\n",
       "      <td>0</td>\n",
       "      <td>1251695</td>\n",
       "      <td>1219975</td>\n",
       "      <td>12715</td>\n",
       "      <td>11364</td>\n",
       "      <td>282</td>\n",
       "      <td>62</td>\n",
       "    </tr>\n",
       "    <tr>\n",
       "      <th>2020-06-29</th>\n",
       "      <td>0</td>\n",
       "      <td>1259954</td>\n",
       "      <td>1228698</td>\n",
       "      <td>12757</td>\n",
       "      <td>11429</td>\n",
       "      <td>282</td>\n",
       "      <td>42</td>\n",
       "    </tr>\n",
       "    <tr>\n",
       "      <th>2020-06-30</th>\n",
       "      <td>0</td>\n",
       "      <td>1273766</td>\n",
       "      <td>1240157</td>\n",
       "      <td>12800</td>\n",
       "      <td>11537</td>\n",
       "      <td>282</td>\n",
       "      <td>43</td>\n",
       "    </tr>\n",
       "  </tbody>\n",
       "</table>\n",
       "<p>163 rows × 7 columns</p>\n",
       "</div>"
      ],
      "text/plain": [
       "            time     test  negative  confirmed  released  deceased  new_cases\n",
       "date                                                                         \n",
       "2020-01-20    16        1         0          1         0         0        NaN\n",
       "2020-01-21    16        1         0          1         0         0          0\n",
       "2020-01-22    16        4         3          1         0         0          0\n",
       "2020-01-23    16       22        21          1         0         0          0\n",
       "2020-01-24    16       27        25          2         0         0          1\n",
       "...          ...      ...       ...        ...       ...       ...        ...\n",
       "2020-06-26     0  1232315   1200885      12602     11172       282         39\n",
       "2020-06-27     0  1243780   1211261      12653     11317       282         51\n",
       "2020-06-28     0  1251695   1219975      12715     11364       282         62\n",
       "2020-06-29     0  1259954   1228698      12757     11429       282         42\n",
       "2020-06-30     0  1273766   1240157      12800     11537       282         43\n",
       "\n",
       "[163 rows x 7 columns]"
      ]
     },
     "execution_count": 6,
     "metadata": {},
     "output_type": "execute_result"
    }
   ],
   "source": [
    "data['Time']"
   ]
  },
  {
   "attachments": {},
   "cell_type": "markdown",
   "metadata": {},
   "source": [
    "Creating a two day doubling line:"
   ]
  },
  {
   "cell_type": "code",
   "execution_count": 7,
   "metadata": {},
   "outputs": [],
   "source": [
    "# Create an array of dates starting from the start date\n",
    "dates = pd.date_range(start='2020-01-20', end='2020-06-30', freq='2D')\n",
    "\n",
    "# Create an array of confirmed cases that doubles every two days\n",
    "confirmed_cases = np.power(2, np.arange(len(dates) // 2 + 1))\n",
    "confirmed_cases = np.tile(confirmed_cases, 2)[:len(dates)]\n",
    "\n",
    "# Create an array of new cases for each date\n",
    "new_cases = np.zeros(len(dates))\n",
    "new_cases[0] = confirmed_cases[0]\n",
    "# Create a DataFrame with the date, confirmed, and new cases columns\n",
    "doubling_line = pd.DataFrame({'date': dates, 'confirmed': confirmed_cases})\n",
    "doubling_line['new_cases'] = doubling_line['confirmed'] - doubling_line['confirmed'].shift(1).fillna(0)"
   ]
  },
  {
   "cell_type": "code",
   "execution_count": 8,
   "metadata": {},
   "outputs": [
    {
     "data": {
      "image/png": "[encoded data removed]",
      "text/plain": [
       "<Figure size 864x432 with 2 Axes>"
      ]
     },
     "metadata": {},
     "output_type": "display_data"
    }
   ],
   "source": [
    "# | label: fig-time-total\n",
    "# | fig-cap: \"Time series of total cases\"\n",
    "fig_time_total, ax_time_total_conf = plt.subplots(\n",
    "    figsize=(base_fig_wid, base_fig_wid / 2), dpi=96\n",
    ")\n",
    "ax_time_total_tests = ax_time_total_conf.twinx()\n",
    "# plots\n",
    "data[\"Time\"].plot(\n",
    "    y=[\"confirmed\", \"test\"],\n",
    "    ax=[ax_time_total_conf, ax_time_total_tests],\n",
    "    subplots=True,\n",
    "    legend=False\n",
    ")\n",
    "# Axes\n",
    "ax_time_total_conf.xaxis.set_major_locator(mdates.MonthLocator())\n",
    "ax_time_total_conf.minorticks_off()\n",
    "\n",
    "\n",
    "# data[\"Time\"].plot(x=\"date\", y=\"test\",ax=ax_time_total_tests)\n",
    "fig_time_total.legend(bbox_to_anchor=(0.3,0.85))\n",
    "\n",
    "plt.show()"
   ]
  },
  {
   "attachments": {},
   "cell_type": "markdown",
   "metadata": {},
   "source": [
    "Summing the data by week"
   ]
  },
  {
   "cell_type": "code",
   "execution_count": 9,
   "metadata": {},
   "outputs": [],
   "source": [
    "weekly_time=data['Time'].resample('W').last()\n",
    "weekly_time['new_cases'] = weekly_time['confirmed'] - weekly_time['confirmed'].shift(1).fillna(0)\n"
   ]
  },
  {
   "cell_type": "code",
   "execution_count": 10,
   "metadata": {},
   "outputs": [],
   "source": [
    "# fig_trends,ax_trends=plt.subplots(figsize=(base_fig_wid, base_fig_wid / 2), dpi=96)\n",
    "# weekly_time.plot(x='confirmed',y='new_cases',ax=ax_trends)\n",
    "# doubling_line[:20].plot(x='confirmed',y='new_cases',ax=ax_trends)\n",
    "# ax_trends.set_yscale('log')\n",
    "# ax_trends.set_xscale('log')\n"
   ]
  },
  {
   "cell_type": "code",
   "execution_count": 107,
   "metadata": {},
   "outputs": [
    {
     "data": {
      "application/vnd.plotly.v1+json": {
       "config": {
        "plotlyServerURL": "https://plot.ly"
       },
       "data": [
        {
         "customdata": [
          "2020-01-26"
         ],
         "hovertemplate": "<b>Confirmed:</b> %{x}<br><b>New Cases:</b> %{y}<br><b>Date:</b> %{customdata}<extra></extra>",
         "line": {
          "color": "blue",
          "width": 1.5
         },
         "marker": {
          "color": "red",
          "size": 3
         },
         "mode": "markers+lines",
         "type": "scatter",
         "visible": false,
         "x": [
          3
         ],
         "y": [
          3
         ]
        },
        {
         "customdata": [
          "2020-01-26",
          "2020-02-02"
         ],
         "hovertemplate": "<b>Confirmed:</b> %{x}<br><b>New Cases:</b> %{y}<br><b>Date:</b> %{customdata}<extra></extra>",
         "line": {
          "color": "blue",
          "width": 1.5
         },
         "marker": {
          "color": "red",
          "size": 3
         },
         "mode": "markers+lines",
         "type": "scatter",
         "visible": false,
         "x": [
          3,
          15
         ],
         "y": [
          3,
          12
         ]
        },
        {
         "customdata": [
          "2020-01-26",
          "2020-02-02",
          "2020-02-09"
         ],
         "hovertemplate": "<b>Confirmed:</b> %{x}<br><b>New Cases:</b> %{y}<br><b>Date:</b> %{customdata}<extra></extra>",
         "line": {
          "color": "blue",
          "width": 1.5
         },
         "marker": {
          "color": "red",
          "size": 3
         },
         "mode": "markers+lines",
         "type": "scatter",
         "visible": false,
         "x": [
          3,
          15,
          27
         ],
         "y": [
          3,
          12,
          12
         ]
        },
        {
         "customdata": [
          "2020-01-26",
          "2020-02-02",
          "2020-02-09",
          "2020-02-16"
         ],
         "hovertemplate": "<b>Confirmed:</b> %{x}<br><b>New Cases:</b> %{y}<br><b>Date:</b> %{customdata}<extra></extra>",
         "line": {
          "color": "blue",
          "width": 1.5
         },
         "marker": {
          "color": "red",
          "size": 3
         },
         "mode": "markers+lines",
         "type": "scatter",
         "visible": false,
         "x": [
          3,
          15,
          27,
          29
         ],
         "y": [
          3,
          12,
          12,
          2
         ]
        },
        {
         "customdata": [
          "2020-01-26",
          "2020-02-02",
          "2020-02-09",
          "2020-02-16",
          "2020-02-23"
         ],
         "hovertemplate": "<b>Confirmed:</b> %{x}<br><b>New Cases:</b> %{y}<br><b>Date:</b> %{customdata}<extra></extra>",
         "line": {
          "color": "blue",
          "width": 1.5
         },
         "marker": {
          "color": "red",
          "size": 3
         },
         "mode": "markers+lines",
         "type": "scatter",
         "visible": false,
         "x": [
          3,
          15,
          27,
          29,
          602
         ],
         "y": [
          3,
          12,
          12,
          2,
          573
         ]
        },
        {
         "customdata": [
          "2020-01-26",
          "2020-02-02",
          "2020-02-09",
          "2020-02-16",
          "2020-02-23",
          "2020-03-01"
         ],
         "hovertemplate": "<b>Confirmed:</b> %{x}<br><b>New Cases:</b> %{y}<br><b>Date:</b> %{customdata}<extra></extra>",
         "line": {
          "color": "blue",
          "width": 1.5
         },
         "marker": {
          "color": "red",
          "size": 3
         },
         "mode": "markers+lines",
         "type": "scatter",
         "visible": false,
         "x": [
          3,
          15,
          27,
          29,
          602,
          3736
         ],
         "y": [
          3,
          12,
          12,
          2,
          573,
          3134
         ]
        },
        {
         "customdata": [
          "2020-01-26",
          "2020-02-02",
          "2020-02-09",
          "2020-02-16",
          "2020-02-23",
          "2020-03-01",
          "2020-03-08"
         ],
         "hovertemplate": "<b>Confirmed:</b> %{x}<br><b>New Cases:</b> %{y}<br><b>Date:</b> %{customdata}<extra></extra>",
         "line": {
          "color": "blue",
          "width": 1.5
         },
         "marker": {
          "color": "red",
          "size": 3
         },
         "mode": "markers+lines",
         "type": "scatter",
         "visible": false,
         "x": [
          3,
          15,
          27,
          29,
          602,
          3736,
          7134
         ],
         "y": [
          3,
          12,
          12,
          2,
          573,
          3134,
          3398
         ]
        },
        {
         "customdata": [
          "2020-01-26",
          "2020-02-02",
          "2020-02-09",
          "2020-02-16",
          "2020-02-23",
          "2020-03-01",
          "2020-03-08",
          "2020-03-15"
         ],
         "hovertemplate": "<b>Confirmed:</b> %{x}<br><b>New Cases:</b> %{y}<br><b>Date:</b> %{customdata}<extra></extra>",
         "line": {
          "color": "blue",
          "width": 1.5
         },
         "marker": {
          "color": "red",
          "size": 3
         },
         "mode": "markers+lines",
         "type": "scatter",
         "visible": false,
         "x": [
          3,
          15,
          27,
          29,
          602,
          3736,
          7134,
          8126
         ],
         "y": [
          3,
          12,
          12,
          2,
          573,
          3134,
          3398,
          992
         ]
        },
        {
         "customdata": [
          "2020-01-26",
          "2020-02-02",
          "2020-02-09",
          "2020-02-16",
          "2020-02-23",
          "2020-03-01",
          "2020-03-08",
          "2020-03-15",
          "2020-03-22"
         ],
         "hovertemplate": "<b>Confirmed:</b> %{x}<br><b>New Cases:</b> %{y}<br><b>Date:</b> %{customdata}<extra></extra>",
         "line": {
          "color": "blue",
          "width": 1.5
         },
         "marker": {
          "color": "red",
          "size": 3
         },
         "mode": "markers+lines",
         "type": "scatter",
         "visible": false,
         "x": [
          3,
          15,
          27,
          29,
          602,
          3736,
          7134,
          8126,
          8897
         ],
         "y": [
          3,
          12,
          12,
          2,
          573,
          3134,
          3398,
          992,
          771
         ]
        },
        {
         "customdata": [
          "2020-01-26",
          "2020-02-02",
          "2020-02-09",
          "2020-02-16",
          "2020-02-23",
          "2020-03-01",
          "2020-03-08",
          "2020-03-15",
          "2020-03-22",
          "2020-03-29"
         ],
         "hovertemplate": "<b>Confirmed:</b> %{x}<br><b>New Cases:</b> %{y}<br><b>Date:</b> %{customdata}<extra></extra>",
         "line": {
          "color": "blue",
          "width": 1.5
         },
         "marker": {
          "color": "red",
          "size": 3
         },
         "mode": "markers+lines",
         "type": "scatter",
         "visible": false,
         "x": [
          3,
          15,
          27,
          29,
          602,
          3736,
          7134,
          8126,
          8897,
          9583
         ],
         "y": [
          3,
          12,
          12,
          2,
          573,
          3134,
          3398,
          992,
          771,
          686
         ]
        },
        {
         "customdata": [
          "2020-01-26",
          "2020-02-02",
          "2020-02-09",
          "2020-02-16",
          "2020-02-23",
          "2020-03-01",
          "2020-03-08",
          "2020-03-15",
          "2020-03-22",
          "2020-03-29",
          "2020-04-05"
         ],
         "hovertemplate": "<b>Confirmed:</b> %{x}<br><b>New Cases:</b> %{y}<br><b>Date:</b> %{customdata}<extra></extra>",
         "line": {
          "color": "blue",
          "width": 1.5
         },
         "marker": {
          "color": "red",
          "size": 3
         },
         "mode": "markers+lines",
         "type": "scatter",
         "visible": false,
         "x": [
          3,
          15,
          27,
          29,
          602,
          3736,
          7134,
          8126,
          8897,
          9583,
          10237
         ],
         "y": [
          3,
          12,
          12,
          2,
          573,
          3134,
          3398,
          992,
          771,
          686,
          654
         ]
        },
        {
         "customdata": [
          "2020-01-26",
          "2020-02-02",
          "2020-02-09",
          "2020-02-16",
          "2020-02-23",
          "2020-03-01",
          "2020-03-08",
          "2020-03-15",
          "2020-03-22",
          "2020-03-29",
          "2020-04-05",
          "2020-04-12"
         ],
         "hovertemplate": "<b>Confirmed:</b> %{x}<br><b>New Cases:</b> %{y}<br><b>Date:</b> %{customdata}<extra></extra>",
         "line": {
          "color": "blue",
          "width": 1.5
         },
         "marker": {
          "color": "red",
          "size": 3
         },
         "mode": "markers+lines",
         "type": "scatter",
         "visible": false,
         "x": [
          3,
          15,
          27,
          29,
          602,
          3736,
          7134,
          8126,
          8897,
          9583,
          10237,
          10512
         ],
         "y": [
          3,
          12,
          12,
          2,
          573,
          3134,
          3398,
          992,
          771,
          686,
          654,
          275
         ]
        },
        {
         "customdata": [
          "2020-01-26",
          "2020-02-02",
          "2020-02-09",
          "2020-02-16",
          "2020-02-23",
          "2020-03-01",
          "2020-03-08",
          "2020-03-15",
          "2020-03-22",
          "2020-03-29",
          "2020-04-05",
          "2020-04-12",
          "2020-04-19"
         ],
         "hovertemplate": "<b>Confirmed:</b> %{x}<br><b>New Cases:</b> %{y}<br><b>Date:</b> %{customdata}<extra></extra>",
         "line": {
          "color": "blue",
          "width": 1.5
         },
         "marker": {
          "color": "red",
          "size": 3
         },
         "mode": "markers+lines",
         "type": "scatter",
         "visible": false,
         "x": [
          3,
          15,
          27,
          29,
          602,
          3736,
          7134,
          8126,
          8897,
          9583,
          10237,
          10512,
          10661
         ],
         "y": [
          3,
          12,
          12,
          2,
          573,
          3134,
          3398,
          992,
          771,
          686,
          654,
          275,
          149
         ]
        },
        {
         "customdata": [
          "2020-01-26",
          "2020-02-02",
          "2020-02-09",
          "2020-02-16",
          "2020-02-23",
          "2020-03-01",
          "2020-03-08",
          "2020-03-15",
          "2020-03-22",
          "2020-03-29",
          "2020-04-05",
          "2020-04-12",
          "2020-04-19",
          "2020-04-26"
         ],
         "hovertemplate": "<b>Confirmed:</b> %{x}<br><b>New Cases:</b> %{y}<br><b>Date:</b> %{customdata}<extra></extra>",
         "line": {
          "color": "blue",
          "width": 1.5
         },
         "marker": {
          "color": "red",
          "size": 3
         },
         "mode": "markers+lines",
         "type": "scatter",
         "visible": false,
         "x": [
          3,
          15,
          27,
          29,
          602,
          3736,
          7134,
          8126,
          8897,
          9583,
          10237,
          10512,
          10661,
          10728
         ],
         "y": [
          3,
          12,
          12,
          2,
          573,
          3134,
          3398,
          992,
          771,
          686,
          654,
          275,
          149,
          67
         ]
        },
        {
         "customdata": [
          "2020-01-26",
          "2020-02-02",
          "2020-02-09",
          "2020-02-16",
          "2020-02-23",
          "2020-03-01",
          "2020-03-08",
          "2020-03-15",
          "2020-03-22",
          "2020-03-29",
          "2020-04-05",
          "2020-04-12",
          "2020-04-19",
          "2020-04-26",
          "2020-05-03"
         ],
         "hovertemplate": "<b>Confirmed:</b> %{x}<br><b>New Cases:</b> %{y}<br><b>Date:</b> %{customdata}<extra></extra>",
         "line": {
          "color": "blue",
          "width": 1.5
         },
         "marker": {
          "color": "red",
          "size": 3
         },
         "mode": "markers+lines",
         "type": "scatter",
         "visible": false,
         "x": [
          3,
          15,
          27,
          29,
          602,
          3736,
          7134,
          8126,
          8897,
          9583,
          10237,
          10512,
          10661,
          10728,
          10793
         ],
         "y": [
          3,
          12,
          12,
          2,
          573,
          3134,
          3398,
          992,
          771,
          686,
          654,
          275,
          149,
          67,
          65
         ]
        },
        {
         "customdata": [
          "2020-01-26",
          "2020-02-02",
          "2020-02-09",
          "2020-02-16",
          "2020-02-23",
          "2020-03-01",
          "2020-03-08",
          "2020-03-15",
          "2020-03-22",
          "2020-03-29",
          "2020-04-05",
          "2020-04-12",
          "2020-04-19",
          "2020-04-26",
          "2020-05-03",
          "2020-05-10"
         ],
         "hovertemplate": "<b>Confirmed:</b> %{x}<br><b>New Cases:</b> %{y}<br><b>Date:</b> %{customdata}<extra></extra>",
         "line": {
          "color": "blue",
          "width": 1.5
         },
         "marker": {
          "color": "red",
          "size": 3
         },
         "mode": "markers+lines",
         "type": "scatter",
         "visible": false,
         "x": [
          3,
          15,
          27,
          29,
          602,
          3736,
          7134,
          8126,
          8897,
          9583,
          10237,
          10512,
          10661,
          10728,
          10793,
          10874
         ],
         "y": [
          3,
          12,
          12,
          2,
          573,
          3134,
          3398,
          992,
          771,
          686,
          654,
          275,
          149,
          67,
          65,
          81
         ]
        },
        {
         "customdata": [
          "2020-01-26",
          "2020-02-02",
          "2020-02-09",
          "2020-02-16",
          "2020-02-23",
          "2020-03-01",
          "2020-03-08",
          "2020-03-15",
          "2020-03-22",
          "2020-03-29",
          "2020-04-05",
          "2020-04-12",
          "2020-04-19",
          "2020-04-26",
          "2020-05-03",
          "2020-05-10",
          "2020-05-17"
         ],
         "hovertemplate": "<b>Confirmed:</b> %{x}<br><b>New Cases:</b> %{y}<br><b>Date:</b> %{customdata}<extra></extra>",
         "line": {
          "color": "blue",
          "width": 1.5
         },
         "marker": {
          "color": "red",
          "size": 3
         },
         "mode": "markers+lines",
         "type": "scatter",
         "visible": false,
         "x": [
          3,
          15,
          27,
          29,
          602,
          3736,
          7134,
          8126,
          8897,
          9583,
          10237,
          10512,
          10661,
          10728,
          10793,
          10874,
          11050
         ],
         "y": [
          3,
          12,
          12,
          2,
          573,
          3134,
          3398,
          992,
          771,
          686,
          654,
          275,
          149,
          67,
          65,
          81,
          176
         ]
        },
        {
         "customdata": [
          "2020-01-26",
          "2020-02-02",
          "2020-02-09",
          "2020-02-16",
          "2020-02-23",
          "2020-03-01",
          "2020-03-08",
          "2020-03-15",
          "2020-03-22",
          "2020-03-29",
          "2020-04-05",
          "2020-04-12",
          "2020-04-19",
          "2020-04-26",
          "2020-05-03",
          "2020-05-10",
          "2020-05-17",
          "2020-05-24"
         ],
         "hovertemplate": "<b>Confirmed:</b> %{x}<br><b>New Cases:</b> %{y}<br><b>Date:</b> %{customdata}<extra></extra>",
         "line": {
          "color": "blue",
          "width": 1.5
         },
         "marker": {
          "color": "red",
          "size": 3
         },
         "mode": "markers+lines",
         "type": "scatter",
         "visible": false,
         "x": [
          3,
          15,
          27,
          29,
          602,
          3736,
          7134,
          8126,
          8897,
          9583,
          10237,
          10512,
          10661,
          10728,
          10793,
          10874,
          11050,
          11190
         ],
         "y": [
          3,
          12,
          12,
          2,
          573,
          3134,
          3398,
          992,
          771,
          686,
          654,
          275,
          149,
          67,
          65,
          81,
          176,
          140
         ]
        },
        {
         "customdata": [
          "2020-01-26",
          "2020-02-02",
          "2020-02-09",
          "2020-02-16",
          "2020-02-23",
          "2020-03-01",
          "2020-03-08",
          "2020-03-15",
          "2020-03-22",
          "2020-03-29",
          "2020-04-05",
          "2020-04-12",
          "2020-04-19",
          "2020-04-26",
          "2020-05-03",
          "2020-05-10",
          "2020-05-17",
          "2020-05-24",
          "2020-05-31"
         ],
         "hovertemplate": "<b>Confirmed:</b> %{x}<br><b>New Cases:</b> %{y}<br><b>Date:</b> %{customdata}<extra></extra>",
         "line": {
          "color": "blue",
          "width": 1.5
         },
         "marker": {
          "color": "red",
          "size": 3
         },
         "mode": "markers+lines",
         "type": "scatter",
         "visible": false,
         "x": [
          3,
          15,
          27,
          29,
          602,
          3736,
          7134,
          8126,
          8897,
          9583,
          10237,
          10512,
          10661,
          10728,
          10793,
          10874,
          11050,
          11190,
          11468
         ],
         "y": [
          3,
          12,
          12,
          2,
          573,
          3134,
          3398,
          992,
          771,
          686,
          654,
          275,
          149,
          67,
          65,
          81,
          176,
          140,
          278
         ]
        },
        {
         "customdata": [
          "2020-01-26",
          "2020-02-02",
          "2020-02-09",
          "2020-02-16",
          "2020-02-23",
          "2020-03-01",
          "2020-03-08",
          "2020-03-15",
          "2020-03-22",
          "2020-03-29",
          "2020-04-05",
          "2020-04-12",
          "2020-04-19",
          "2020-04-26",
          "2020-05-03",
          "2020-05-10",
          "2020-05-17",
          "2020-05-24",
          "2020-05-31",
          "2020-06-07"
         ],
         "hovertemplate": "<b>Confirmed:</b> %{x}<br><b>New Cases:</b> %{y}<br><b>Date:</b> %{customdata}<extra></extra>",
         "line": {
          "color": "blue",
          "width": 1.5
         },
         "marker": {
          "color": "red",
          "size": 3
         },
         "mode": "markers+lines",
         "type": "scatter",
         "visible": false,
         "x": [
          3,
          15,
          27,
          29,
          602,
          3736,
          7134,
          8126,
          8897,
          9583,
          10237,
          10512,
          10661,
          10728,
          10793,
          10874,
          11050,
          11190,
          11468,
          11776
         ],
         "y": [
          3,
          12,
          12,
          2,
          573,
          3134,
          3398,
          992,
          771,
          686,
          654,
          275,
          149,
          67,
          65,
          81,
          176,
          140,
          278,
          308
         ]
        },
        {
         "customdata": [
          "2020-01-26",
          "2020-02-02",
          "2020-02-09",
          "2020-02-16",
          "2020-02-23",
          "2020-03-01",
          "2020-03-08",
          "2020-03-15",
          "2020-03-22",
          "2020-03-29",
          "2020-04-05",
          "2020-04-12",
          "2020-04-19",
          "2020-04-26",
          "2020-05-03",
          "2020-05-10",
          "2020-05-17",
          "2020-05-24",
          "2020-05-31",
          "2020-06-07",
          "2020-06-14"
         ],
         "hovertemplate": "<b>Confirmed:</b> %{x}<br><b>New Cases:</b> %{y}<br><b>Date:</b> %{customdata}<extra></extra>",
         "line": {
          "color": "blue",
          "width": 1.5
         },
         "marker": {
          "color": "red",
          "size": 3
         },
         "mode": "markers+lines",
         "type": "scatter",
         "visible": false,
         "x": [
          3,
          15,
          27,
          29,
          602,
          3736,
          7134,
          8126,
          8897,
          9583,
          10237,
          10512,
          10661,
          10728,
          10793,
          10874,
          11050,
          11190,
          11468,
          11776,
          12085
         ],
         "y": [
          3,
          12,
          12,
          2,
          573,
          3134,
          3398,
          992,
          771,
          686,
          654,
          275,
          149,
          67,
          65,
          81,
          176,
          140,
          278,
          308,
          309
         ]
        },
        {
         "customdata": [
          "2020-01-26",
          "2020-02-02",
          "2020-02-09",
          "2020-02-16",
          "2020-02-23",
          "2020-03-01",
          "2020-03-08",
          "2020-03-15",
          "2020-03-22",
          "2020-03-29",
          "2020-04-05",
          "2020-04-12",
          "2020-04-19",
          "2020-04-26",
          "2020-05-03",
          "2020-05-10",
          "2020-05-17",
          "2020-05-24",
          "2020-05-31",
          "2020-06-07",
          "2020-06-14",
          "2020-06-21"
         ],
         "hovertemplate": "<b>Confirmed:</b> %{x}<br><b>New Cases:</b> %{y}<br><b>Date:</b> %{customdata}<extra></extra>",
         "line": {
          "color": "blue",
          "width": 1.5
         },
         "marker": {
          "color": "red",
          "size": 3
         },
         "mode": "markers+lines",
         "type": "scatter",
         "visible": false,
         "x": [
          3,
          15,
          27,
          29,
          602,
          3736,
          7134,
          8126,
          8897,
          9583,
          10237,
          10512,
          10661,
          10728,
          10793,
          10874,
          11050,
          11190,
          11468,
          11776,
          12085,
          12421
         ],
         "y": [
          3,
          12,
          12,
          2,
          573,
          3134,
          3398,
          992,
          771,
          686,
          654,
          275,
          149,
          67,
          65,
          81,
          176,
          140,
          278,
          308,
          309,
          336
         ]
        },
        {
         "customdata": [
          "2020-01-26",
          "2020-02-02",
          "2020-02-09",
          "2020-02-16",
          "2020-02-23",
          "2020-03-01",
          "2020-03-08",
          "2020-03-15",
          "2020-03-22",
          "2020-03-29",
          "2020-04-05",
          "2020-04-12",
          "2020-04-19",
          "2020-04-26",
          "2020-05-03",
          "2020-05-10",
          "2020-05-17",
          "2020-05-24",
          "2020-05-31",
          "2020-06-07",
          "2020-06-14",
          "2020-06-21",
          "2020-06-28"
         ],
         "hovertemplate": "<b>Confirmed:</b> %{x}<br><b>New Cases:</b> %{y}<br><b>Date:</b> %{customdata}<extra></extra>",
         "line": {
          "color": "blue",
          "width": 1.5
         },
         "marker": {
          "color": "red",
          "size": 3
         },
         "mode": "markers+lines",
         "type": "scatter",
         "visible": false,
         "x": [
          3,
          15,
          27,
          29,
          602,
          3736,
          7134,
          8126,
          8897,
          9583,
          10237,
          10512,
          10661,
          10728,
          10793,
          10874,
          11050,
          11190,
          11468,
          11776,
          12085,
          12421,
          12715
         ],
         "y": [
          3,
          12,
          12,
          2,
          573,
          3134,
          3398,
          992,
          771,
          686,
          654,
          275,
          149,
          67,
          65,
          81,
          176,
          140,
          278,
          308,
          309,
          336,
          294
         ]
        },
        {
         "customdata": [
          "2020-01-26",
          "2020-02-02",
          "2020-02-09",
          "2020-02-16",
          "2020-02-23",
          "2020-03-01",
          "2020-03-08",
          "2020-03-15",
          "2020-03-22",
          "2020-03-29",
          "2020-04-05",
          "2020-04-12",
          "2020-04-19",
          "2020-04-26",
          "2020-05-03",
          "2020-05-10",
          "2020-05-17",
          "2020-05-24",
          "2020-05-31",
          "2020-06-07",
          "2020-06-14",
          "2020-06-21",
          "2020-06-28",
          "2020-07-05"
         ],
         "hovertemplate": "<b>Confirmed:</b> %{x}<br><b>New Cases:</b> %{y}<br><b>Date:</b> %{customdata}<extra></extra>",
         "line": {
          "color": "blue",
          "width": 1.5
         },
         "marker": {
          "color": "red",
          "size": 3
         },
         "mode": "markers+lines",
         "type": "scatter",
         "visible": true,
         "x": [
          3,
          15,
          27,
          29,
          602,
          3736,
          7134,
          8126,
          8897,
          9583,
          10237,
          10512,
          10661,
          10728,
          10793,
          10874,
          11050,
          11190,
          11468,
          11776,
          12085,
          12421,
          12715,
          12800
         ],
         "y": [
          3,
          12,
          12,
          2,
          573,
          3134,
          3398,
          992,
          771,
          686,
          654,
          275,
          149,
          67,
          65,
          81,
          176,
          140,
          278,
          308,
          309,
          336,
          294,
          85
         ]
        },
        {
         "hovertemplate": "<b>Confirmed:</b> %{x}<br><b>New Cases:</b>",
         "line": {
          "color": "black",
          "dash": "dash",
          "width": 2
         },
         "mode": "lines",
         "name": "2 Day doubling line",
         "type": "scatter",
         "x": [
          1,
          2,
          4,
          8,
          16,
          32,
          64,
          128,
          256,
          512,
          1024,
          2048,
          4096,
          8192,
          16384,
          32768,
          65536,
          131072,
          262144,
          524288,
          1048576,
          2097152,
          4194304,
          8388608,
          16777216,
          33554432,
          67108864,
          134217728,
          268435456,
          536870912,
          1073741824,
          2147483648,
          4294967296,
          8589934592,
          17179869184,
          34359738368,
          68719476736,
          137438953472,
          274877906944,
          549755813888,
          1099511627776,
          2199023255552,
          1,
          2,
          4,
          8,
          16,
          32,
          64,
          128,
          256,
          512,
          1024,
          2048,
          4096,
          8192,
          16384,
          32768,
          65536,
          131072,
          262144,
          524288,
          1048576,
          2097152,
          4194304,
          8388608,
          16777216,
          33554432,
          67108864,
          134217728,
          268435456,
          536870912,
          1073741824,
          2147483648,
          4294967296,
          8589934592,
          17179869184,
          34359738368,
          68719476736,
          137438953472,
          274877906944,
          549755813888
         ],
         "y": [
          1,
          1,
          2,
          4,
          8,
          16,
          32,
          64,
          128,
          256,
          512,
          1024,
          2048,
          4096,
          8192,
          16384,
          32768,
          65536,
          131072,
          262144,
          524288,
          1048576,
          2097152,
          4194304,
          8388608,
          16777216,
          33554432,
          67108864,
          134217728,
          268435456,
          536870912,
          1073741824,
          2147483648,
          4294967296,
          8589934592,
          17179869184,
          34359738368,
          68719476736,
          137438953472,
          274877906944,
          549755813888,
          1099511627776,
          -2199023255551,
          1,
          2,
          4,
          8,
          16,
          32,
          64,
          128,
          256,
          512,
          1024,
          2048,
          4096,
          8192,
          16384,
          32768,
          65536,
          131072,
          262144,
          524288,
          1048576,
          2097152,
          4194304,
          8388608,
          16777216,
          33554432,
          67108864,
          134217728,
          268435456,
          536870912,
          1073741824,
          2147483648,
          4294967296,
          8589934592,
          17179869184,
          34359738368,
          68719476736,
          137438953472,
          274877906944
         ]
        }
       ],
       "layout": {
        "height": 432,
        "hovermode": "closest",
        "sliders": [
         {
          "active": 25,
          "currentvalue": {
           "prefix": "Date: "
          },
          "pad": {
           "t": 50
          },
          "steps": [
           {
            "args": [
             {
              "visible": [
               true,
               false,
               false,
               false,
               false,
               false,
               false,
               false,
               false,
               false,
               false,
               false,
               false,
               false,
               false,
               false,
               false,
               false,
               false,
               false,
               false,
               false,
               false,
               false,
               true
              ]
             }
            ],
            "label": "2020-01-26",
            "method": "update"
           },
           {
            "args": [
             {
              "visible": [
               false,
               true,
               false,
               false,
               false,
               false,
               false,
               false,
               false,
               false,
               false,
               false,
               false,
               false,
               false,
               false,
               false,
               false,
               false,
               false,
               false,
               false,
               false,
               false,
               true
              ]
             }
            ],
            "label": "2020-02-02",
            "method": "update"
           },
           {
            "args": [
             {
              "visible": [
               false,
               false,
               true,
               false,
               false,
               false,
               false,
               false,
               false,
               false,
               false,
               false,
               false,
               false,
               false,
               false,
               false,
               false,
               false,
               false,
               false,
               false,
               false,
               false,
               true
              ]
             }
            ],
            "label": "2020-02-09",
            "method": "update"
           },
           {
            "args": [
             {
              "visible": [
               false,
               false,
               false,
               true,
               false,
               false,
               false,
               false,
               false,
               false,
               false,
               false,
               false,
               false,
               false,
               false,
               false,
               false,
               false,
               false,
               false,
               false,
               false,
               false,
               true
              ]
             }
            ],
            "label": "2020-02-16",
            "method": "update"
           },
           {
            "args": [
             {
              "visible": [
               false,
               false,
               false,
               false,
               true,
               false,
               false,
               false,
               false,
               false,
               false,
               false,
               false,
               false,
               false,
               false,
               false,
               false,
               false,
               false,
               false,
               false,
               false,
               false,
               true
              ]
             }
            ],
            "label": "2020-02-23",
            "method": "update"
           },
           {
            "args": [
             {
              "visible": [
               false,
               false,
               false,
               false,
               false,
               true,
               false,
               false,
               false,
               false,
               false,
               false,
               false,
               false,
               false,
               false,
               false,
               false,
               false,
               false,
               false,
               false,
               false,
               false,
               true
              ]
             }
            ],
            "label": "2020-03-01",
            "method": "update"
           },
           {
            "args": [
             {
              "visible": [
               false,
               false,
               false,
               false,
               false,
               false,
               true,
               false,
               false,
               false,
               false,
               false,
               false,
               false,
               false,
               false,
               false,
               false,
               false,
               false,
               false,
               false,
               false,
               false,
               true
              ]
             }
            ],
            "label": "2020-03-08",
            "method": "update"
           },
           {
            "args": [
             {
              "visible": [
               false,
               false,
               false,
               false,
               false,
               false,
               false,
               true,
               false,
               false,
               false,
               false,
               false,
               false,
               false,
               false,
               false,
               false,
               false,
               false,
               false,
               false,
               false,
               false,
               true
              ]
             }
            ],
            "label": "2020-03-15",
            "method": "update"
           },
           {
            "args": [
             {
              "visible": [
               false,
               false,
               false,
               false,
               false,
               false,
               false,
               false,
               true,
               false,
               false,
               false,
               false,
               false,
               false,
               false,
               false,
               false,
               false,
               false,
               false,
               false,
               false,
               false,
               true
              ]
             }
            ],
            "label": "2020-03-22",
            "method": "update"
           },
           {
            "args": [
             {
              "visible": [
               false,
               false,
               false,
               false,
               false,
               false,
               false,
               false,
               false,
               true,
               false,
               false,
               false,
               false,
               false,
               false,
               false,
               false,
               false,
               false,
               false,
               false,
               false,
               false,
               true
              ]
             }
            ],
            "label": "2020-03-29",
            "method": "update"
           },
           {
            "args": [
             {
              "visible": [
               false,
               false,
               false,
               false,
               false,
               false,
               false,
               false,
               false,
               false,
               true,
               false,
               false,
               false,
               false,
               false,
               false,
               false,
               false,
               false,
               false,
               false,
               false,
               false,
               true
              ]
             }
            ],
            "label": "2020-04-05",
            "method": "update"
           },
           {
            "args": [
             {
              "visible": [
               false,
               false,
               false,
               false,
               false,
               false,
               false,
               false,
               false,
               false,
               false,
               true,
               false,
               false,
               false,
               false,
               false,
               false,
               false,
               false,
               false,
               false,
               false,
               false,
               true
              ]
             }
            ],
            "label": "2020-04-12",
            "method": "update"
           },
           {
            "args": [
             {
              "visible": [
               false,
               false,
               false,
               false,
               false,
               false,
               false,
               false,
               false,
               false,
               false,
               false,
               true,
               false,
               false,
               false,
               false,
               false,
               false,
               false,
               false,
               false,
               false,
               false,
               true
              ]
             }
            ],
            "label": "2020-04-19",
            "method": "update"
           },
           {
            "args": [
             {
              "visible": [
               false,
               false,
               false,
               false,
               false,
               false,
               false,
               false,
               false,
               false,
               false,
               false,
               false,
               true,
               false,
               false,
               false,
               false,
               false,
               false,
               false,
               false,
               false,
               false,
               true
              ]
             }
            ],
            "label": "2020-04-26",
            "method": "update"
           },
           {
            "args": [
             {
              "visible": [
               false,
               false,
               false,
               false,
               false,
               false,
               false,
               false,
               false,
               false,
               false,
               false,
               false,
               false,
               true,
               false,
               false,
               false,
               false,
               false,
               false,
               false,
               false,
               false,
               true
              ]
             }
            ],
            "label": "2020-05-03",
            "method": "update"
           },
           {
            "args": [
             {
              "visible": [
               false,
               false,
               false,
               false,
               false,
               false,
               false,
               false,
               false,
               false,
               false,
               false,
               false,
               false,
               false,
               true,
               false,
               false,
               false,
               false,
               false,
               false,
               false,
               false,
               true
              ]
             }
            ],
            "label": "2020-05-10",
            "method": "update"
           },
           {
            "args": [
             {
              "visible": [
               false,
               false,
               false,
               false,
               false,
               false,
               false,
               false,
               false,
               false,
               false,
               false,
               false,
               false,
               false,
               false,
               true,
               false,
               false,
               false,
               false,
               false,
               false,
               false,
               true
              ]
             }
            ],
            "label": "2020-05-17",
            "method": "update"
           },
           {
            "args": [
             {
              "visible": [
               false,
               false,
               false,
               false,
               false,
               false,
               false,
               false,
               false,
               false,
               false,
               false,
               false,
               false,
               false,
               false,
               false,
               true,
               false,
               false,
               false,
               false,
               false,
               false,
               true
              ]
             }
            ],
            "label": "2020-05-24",
            "method": "update"
           },
           {
            "args": [
             {
              "visible": [
               false,
               false,
               false,
               false,
               false,
               false,
               false,
               false,
               false,
               false,
               false,
               false,
               false,
               false,
               false,
               false,
               false,
               false,
               true,
               false,
               false,
               false,
               false,
               false,
               true
              ]
             }
            ],
            "label": "2020-05-31",
            "method": "update"
           },
           {
            "args": [
             {
              "visible": [
               false,
               false,
               false,
               false,
               false,
               false,
               false,
               false,
               false,
               false,
               false,
               false,
               false,
               false,
               false,
               false,
               false,
               false,
               false,
               true,
               false,
               false,
               false,
               false,
               true
              ]
             }
            ],
            "label": "2020-06-07",
            "method": "update"
           },
           {
            "args": [
             {
              "visible": [
               false,
               false,
               false,
               false,
               false,
               false,
               false,
               false,
               false,
               false,
               false,
               false,
               false,
               false,
               false,
               false,
               false,
               false,
               false,
               false,
               true,
               false,
               false,
               false,
               true
              ]
             }
            ],
            "label": "2020-06-14",
            "method": "update"
           },
           {
            "args": [
             {
              "visible": [
               false,
               false,
               false,
               false,
               false,
               false,
               false,
               false,
               false,
               false,
               false,
               false,
               false,
               false,
               false,
               false,
               false,
               false,
               false,
               false,
               false,
               true,
               false,
               false,
               true
              ]
             }
            ],
            "label": "2020-06-21",
            "method": "update"
           },
           {
            "args": [
             {
              "visible": [
               false,
               false,
               false,
               false,
               false,
               false,
               false,
               false,
               false,
               false,
               false,
               false,
               false,
               false,
               false,
               false,
               false,
               false,
               false,
               false,
               false,
               false,
               true,
               false,
               true
              ]
             }
            ],
            "label": "2020-06-28",
            "method": "update"
           },
           {
            "args": [
             {
              "visible": [
               false,
               false,
               false,
               false,
               false,
               false,
               false,
               false,
               false,
               false,
               false,
               false,
               false,
               false,
               false,
               false,
               false,
               false,
               false,
               false,
               false,
               false,
               false,
               true,
               true
              ]
             }
            ],
            "label": "2020-07-05",
            "method": "update"
           }
          ]
         }
        ],
        "template": {
         "data": {
          "bar": [
           {
            "error_x": {
             "color": "#2a3f5f"
            },
            "error_y": {
             "color": "#2a3f5f"
            },
            "marker": {
             "line": {
              "color": "#E5ECF6",
              "width": 0.5
             },
             "pattern": {
              "fillmode": "overlay",
              "size": 10,
              "solidity": 0.2
             }
            },
            "type": "bar"
           }
          ],
          "barpolar": [
           {
            "marker": {
             "line": {
              "color": "#E5ECF6",
              "width": 0.5
             },
             "pattern": {
              "fillmode": "overlay",
              "size": 10,
              "solidity": 0.2
             }
            },
            "type": "barpolar"
           }
          ],
          "carpet": [
           {
            "aaxis": {
             "endlinecolor": "#2a3f5f",
             "gridcolor": "white",
             "linecolor": "white",
             "minorgridcolor": "white",
             "startlinecolor": "#2a3f5f"
            },
            "baxis": {
             "endlinecolor": "#2a3f5f",
             "gridcolor": "white",
             "linecolor": "white",
             "minorgridcolor": "white",
             "startlinecolor": "#2a3f5f"
            },
            "type": "carpet"
           }
          ],
          "choropleth": [
           {
            "colorbar": {
             "outlinewidth": 0,
             "ticks": ""
            },
            "type": "choropleth"
           }
          ],
          "contour": [
           {
            "colorbar": {
             "outlinewidth": 0,
             "ticks": ""
            },
            "colorscale": [
             [
              0,
              "#0d0887"
             ],
             [
              0.1111111111111111,
              "#46039f"
             ],
             [
              0.2222222222222222,
              "#7201a8"
             ],
             [
              0.3333333333333333,
              "#9c179e"
             ],
             [
              0.4444444444444444,
              "#bd3786"
             ],
             [
              0.5555555555555556,
              "#d8576b"
             ],
             [
              0.6666666666666666,
              "#ed7953"
             ],
             [
              0.7777777777777778,
              "#fb9f3a"
             ],
             [
              0.8888888888888888,
              "#fdca26"
             ],
             [
              1,
              "#f0f921"
             ]
            ],
            "type": "contour"
           }
          ],
          "contourcarpet": [
           {
            "colorbar": {
             "outlinewidth": 0,
             "ticks": ""
            },
            "type": "contourcarpet"
           }
          ],
          "heatmap": [
           {
            "colorbar": {
             "outlinewidth": 0,
             "ticks": ""
            },
            "colorscale": [
             [
              0,
              "#0d0887"
             ],
             [
              0.1111111111111111,
              "#46039f"
             ],
             [
              0.2222222222222222,
              "#7201a8"
             ],
             [
              0.3333333333333333,
              "#9c179e"
             ],
             [
              0.4444444444444444,
              "#bd3786"
             ],
             [
              0.5555555555555556,
              "#d8576b"
             ],
             [
              0.6666666666666666,
              "#ed7953"
             ],
             [
              0.7777777777777778,
              "#fb9f3a"
             ],
             [
              0.8888888888888888,
              "#fdca26"
             ],
             [
              1,
              "#f0f921"
             ]
            ],
            "type": "heatmap"
           }
          ],
          "heatmapgl": [
           {
            "colorbar": {
             "outlinewidth": 0,
             "ticks": ""
            },
            "colorscale": [
             [
              0,
              "#0d0887"
             ],
             [
              0.1111111111111111,
              "#46039f"
             ],
             [
              0.2222222222222222,
              "#7201a8"
             ],
             [
              0.3333333333333333,
              "#9c179e"
             ],
             [
              0.4444444444444444,
              "#bd3786"
             ],
             [
              0.5555555555555556,
              "#d8576b"
             ],
             [
              0.6666666666666666,
              "#ed7953"
             ],
             [
              0.7777777777777778,
              "#fb9f3a"
             ],
             [
              0.8888888888888888,
              "#fdca26"
             ],
             [
              1,
              "#f0f921"
             ]
            ],
            "type": "heatmapgl"
           }
          ],
          "histogram": [
           {
            "marker": {
             "pattern": {
              "fillmode": "overlay",
              "size": 10,
              "solidity": 0.2
             }
            },
            "type": "histogram"
           }
          ],
          "histogram2d": [
           {
            "colorbar": {
             "outlinewidth": 0,
             "ticks": ""
            },
            "colorscale": [
             [
              0,
              "#0d0887"
             ],
             [
              0.1111111111111111,
              "#46039f"
             ],
             [
              0.2222222222222222,
              "#7201a8"
             ],
             [
              0.3333333333333333,
              "#9c179e"
             ],
             [
              0.4444444444444444,
              "#bd3786"
             ],
             [
              0.5555555555555556,
              "#d8576b"
             ],
             [
              0.6666666666666666,
              "#ed7953"
             ],
             [
              0.7777777777777778,
              "#fb9f3a"
             ],
             [
              0.8888888888888888,
              "#fdca26"
             ],
             [
              1,
              "#f0f921"
             ]
            ],
            "type": "histogram2d"
           }
          ],
          "histogram2dcontour": [
           {
            "colorbar": {
             "outlinewidth": 0,
             "ticks": ""
            },
            "colorscale": [
             [
              0,
              "#0d0887"
             ],
             [
              0.1111111111111111,
              "#46039f"
             ],
             [
              0.2222222222222222,
              "#7201a8"
             ],
             [
              0.3333333333333333,
              "#9c179e"
             ],
             [
              0.4444444444444444,
              "#bd3786"
             ],
             [
              0.5555555555555556,
              "#d8576b"
             ],
             [
              0.6666666666666666,
              "#ed7953"
             ],
             [
              0.7777777777777778,
              "#fb9f3a"
             ],
             [
              0.8888888888888888,
              "#fdca26"
             ],
             [
              1,
              "#f0f921"
             ]
            ],
            "type": "histogram2dcontour"
           }
          ],
          "mesh3d": [
           {
            "colorbar": {
             "outlinewidth": 0,
             "ticks": ""
            },
            "type": "mesh3d"
           }
          ],
          "parcoords": [
           {
            "line": {
             "colorbar": {
              "outlinewidth": 0,
              "ticks": ""
             }
            },
            "type": "parcoords"
           }
          ],
          "pie": [
           {
            "automargin": true,
            "type": "pie"
           }
          ],
          "scatter": [
           {
            "fillpattern": {
             "fillmode": "overlay",
             "size": 10,
             "solidity": 0.2
            },
            "type": "scatter"
           }
          ],
          "scatter3d": [
           {
            "line": {
             "colorbar": {
              "outlinewidth": 0,
              "ticks": ""
             }
            },
            "marker": {
             "colorbar": {
              "outlinewidth": 0,
              "ticks": ""
             }
            },
            "type": "scatter3d"
           }
          ],
          "scattercarpet": [
           {
            "marker": {
             "colorbar": {
              "outlinewidth": 0,
              "ticks": ""
             }
            },
            "type": "scattercarpet"
           }
          ],
          "scattergeo": [
           {
            "marker": {
             "colorbar": {
              "outlinewidth": 0,
              "ticks": ""
             }
            },
            "type": "scattergeo"
           }
          ],
          "scattergl": [
           {
            "marker": {
             "colorbar": {
              "outlinewidth": 0,
              "ticks": ""
             }
            },
            "type": "scattergl"
           }
          ],
          "scattermapbox": [
           {
            "marker": {
             "colorbar": {
              "outlinewidth": 0,
              "ticks": ""
             }
            },
            "type": "scattermapbox"
           }
          ],
          "scatterpolar": [
           {
            "marker": {
             "colorbar": {
              "outlinewidth": 0,
              "ticks": ""
             }
            },
            "type": "scatterpolar"
           }
          ],
          "scatterpolargl": [
           {
            "marker": {
             "colorbar": {
              "outlinewidth": 0,
              "ticks": ""
             }
            },
            "type": "scatterpolargl"
           }
          ],
          "scatterternary": [
           {
            "marker": {
             "colorbar": {
              "outlinewidth": 0,
              "ticks": ""
             }
            },
            "type": "scatterternary"
           }
          ],
          "surface": [
           {
            "colorbar": {
             "outlinewidth": 0,
             "ticks": ""
            },
            "colorscale": [
             [
              0,
              "#0d0887"
             ],
             [
              0.1111111111111111,
              "#46039f"
             ],
             [
              0.2222222222222222,
              "#7201a8"
             ],
             [
              0.3333333333333333,
              "#9c179e"
             ],
             [
              0.4444444444444444,
              "#bd3786"
             ],
             [
              0.5555555555555556,
              "#d8576b"
             ],
             [
              0.6666666666666666,
              "#ed7953"
             ],
             [
              0.7777777777777778,
              "#fb9f3a"
             ],
             [
              0.8888888888888888,
              "#fdca26"
             ],
             [
              1,
              "#f0f921"
             ]
            ],
            "type": "surface"
           }
          ],
          "table": [
           {
            "cells": {
             "fill": {
              "color": "#EBF0F8"
             },
             "line": {
              "color": "white"
             }
            },
            "header": {
             "fill": {
              "color": "#C8D4E3"
             },
             "line": {
              "color": "white"
             }
            },
            "type": "table"
           }
          ]
         },
         "layout": {
          "annotationdefaults": {
           "arrowcolor": "#2a3f5f",
           "arrowhead": 0,
           "arrowwidth": 1
          },
          "autotypenumbers": "strict",
          "coloraxis": {
           "colorbar": {
            "outlinewidth": 0,
            "ticks": ""
           }
          },
          "colorscale": {
           "diverging": [
            [
             0,
             "#8e0152"
            ],
            [
             0.1,
             "#c51b7d"
            ],
            [
             0.2,
             "#de77ae"
            ],
            [
             0.3,
             "#f1b6da"
            ],
            [
             0.4,
             "#fde0ef"
            ],
            [
             0.5,
             "#f7f7f7"
            ],
            [
             0.6,
             "#e6f5d0"
            ],
            [
             0.7,
             "#b8e186"
            ],
            [
             0.8,
             "#7fbc41"
            ],
            [
             0.9,
             "#4d9221"
            ],
            [
             1,
             "#276419"
            ]
           ],
           "sequential": [
            [
             0,
             "#0d0887"
            ],
            [
             0.1111111111111111,
             "#46039f"
            ],
            [
             0.2222222222222222,
             "#7201a8"
            ],
            [
             0.3333333333333333,
             "#9c179e"
            ],
            [
             0.4444444444444444,
             "#bd3786"
            ],
            [
             0.5555555555555556,
             "#d8576b"
            ],
            [
             0.6666666666666666,
             "#ed7953"
            ],
            [
             0.7777777777777778,
             "#fb9f3a"
            ],
            [
             0.8888888888888888,
             "#fdca26"
            ],
            [
             1,
             "#f0f921"
            ]
           ],
           "sequentialminus": [
            [
             0,
             "#0d0887"
            ],
            [
             0.1111111111111111,
             "#46039f"
            ],
            [
             0.2222222222222222,
             "#7201a8"
            ],
            [
             0.3333333333333333,
             "#9c179e"
            ],
            [
             0.4444444444444444,
             "#bd3786"
            ],
            [
             0.5555555555555556,
             "#d8576b"
            ],
            [
             0.6666666666666666,
             "#ed7953"
            ],
            [
             0.7777777777777778,
             "#fb9f3a"
            ],
            [
             0.8888888888888888,
             "#fdca26"
            ],
            [
             1,
             "#f0f921"
            ]
           ]
          },
          "colorway": [
           "#636efa",
           "#EF553B",
           "#00cc96",
           "#ab63fa",
           "#FFA15A",
           "#19d3f3",
           "#FF6692",
           "#B6E880",
           "#FF97FF",
           "#FECB52"
          ],
          "font": {
           "color": "#2a3f5f"
          },
          "geo": {
           "bgcolor": "white",
           "lakecolor": "white",
           "landcolor": "#E5ECF6",
           "showlakes": true,
           "showland": true,
           "subunitcolor": "white"
          },
          "hoverlabel": {
           "align": "left"
          },
          "hovermode": "closest",
          "mapbox": {
           "style": "light"
          },
          "paper_bgcolor": "white",
          "plot_bgcolor": "#E5ECF6",
          "polar": {
           "angularaxis": {
            "gridcolor": "white",
            "linecolor": "white",
            "ticks": ""
           },
           "bgcolor": "#E5ECF6",
           "radialaxis": {
            "gridcolor": "white",
            "linecolor": "white",
            "ticks": ""
           }
          },
          "scene": {
           "xaxis": {
            "backgroundcolor": "#E5ECF6",
            "gridcolor": "white",
            "gridwidth": 2,
            "linecolor": "white",
            "showbackground": true,
            "ticks": "",
            "zerolinecolor": "white"
           },
           "yaxis": {
            "backgroundcolor": "#E5ECF6",
            "gridcolor": "white",
            "gridwidth": 2,
            "linecolor": "white",
            "showbackground": true,
            "ticks": "",
            "zerolinecolor": "white"
           },
           "zaxis": {
            "backgroundcolor": "#E5ECF6",
            "gridcolor": "white",
            "gridwidth": 2,
            "linecolor": "white",
            "showbackground": true,
            "ticks": "",
            "zerolinecolor": "white"
           }
          },
          "shapedefaults": {
           "line": {
            "color": "#2a3f5f"
           }
          },
          "ternary": {
           "aaxis": {
            "gridcolor": "white",
            "linecolor": "white",
            "ticks": ""
           },
           "baxis": {
            "gridcolor": "white",
            "linecolor": "white",
            "ticks": ""
           },
           "bgcolor": "#E5ECF6",
           "caxis": {
            "gridcolor": "white",
            "linecolor": "white",
            "ticks": ""
           }
          },
          "title": {
           "x": 0.05
          },
          "xaxis": {
           "automargin": true,
           "gridcolor": "white",
           "linecolor": "white",
           "ticks": "",
           "title": {
            "standoff": 15
           },
           "zerolinecolor": "white",
           "zerolinewidth": 2
          },
          "yaxis": {
           "automargin": true,
           "gridcolor": "white",
           "linecolor": "white",
           "ticks": "",
           "title": {
            "standoff": 15
           },
           "zerolinecolor": "white",
           "zerolinewidth": 2
          }
         }
        },
        "width": 864,
        "xaxis": {
         "autorange": false,
         "range": [
          0,
          5
         ],
         "title": {
          "text": "Total cases"
         },
         "type": "log",
         "zeroline": false
        },
        "yaxis": {
         "autorange": false,
         "range": [
          0,
          4
         ],
         "title": {
          "text": "Weekly New Cases"
         },
         "type": "log",
         "zeroline": false
        }
       }
      },
      "text/html": [
       "<div>                            <div id=\"b97e823c-9700-4c71-8460-938ac509ded1\" class=\"plotly-graph-div\" style=\"height:432.0px; width:864px;\"></div>            <script type=\"text/javascript\">                require([\"plotly\"], function(Plotly) {                    window.PLOTLYENV=window.PLOTLYENV || {};                                    if (document.getElementById(\"b97e823c-9700-4c71-8460-938ac509ded1\")) {                    Plotly.newPlot(                        \"b97e823c-9700-4c71-8460-938ac509ded1\",                        [{\"customdata\":[\"2020-01-26\"],\"hovertemplate\":\"<b>Confirmed:</b> %{x}<br><b>New Cases:</b> %{y}<br><b>Date:</b> %{customdata}<extra></extra>\",\"line\":{\"color\":\"blue\",\"width\":1.5},\"marker\":{\"color\":\"red\",\"size\":3},\"mode\":\"markers+lines\",\"visible\":false,\"x\":[3],\"y\":[3.0],\"type\":\"scatter\"},{\"customdata\":[\"2020-01-26\",\"2020-02-02\"],\"hovertemplate\":\"<b>Confirmed:</b> %{x}<br><b>New Cases:</b> %{y}<br><b>Date:</b> %{customdata}<extra></extra>\",\"line\":{\"color\":\"blue\",\"width\":1.5},\"marker\":{\"color\":\"red\",\"size\":3},\"mode\":\"markers+lines\",\"visible\":false,\"x\":[3,15],\"y\":[3.0,12.0],\"type\":\"scatter\"},{\"customdata\":[\"2020-01-26\",\"2020-02-02\",\"2020-02-09\"],\"hovertemplate\":\"<b>Confirmed:</b> %{x}<br><b>New Cases:</b> %{y}<br><b>Date:</b> %{customdata}<extra></extra>\",\"line\":{\"color\":\"blue\",\"width\":1.5},\"marker\":{\"color\":\"red\",\"size\":3},\"mode\":\"markers+lines\",\"visible\":false,\"x\":[3,15,27],\"y\":[3.0,12.0,12.0],\"type\":\"scatter\"},{\"customdata\":[\"2020-01-26\",\"2020-02-02\",\"2020-02-09\",\"2020-02-16\"],\"hovertemplate\":\"<b>Confirmed:</b> %{x}<br><b>New Cases:</b> %{y}<br><b>Date:</b> %{customdata}<extra></extra>\",\"line\":{\"color\":\"blue\",\"width\":1.5},\"marker\":{\"color\":\"red\",\"size\":3},\"mode\":\"markers+lines\",\"visible\":false,\"x\":[3,15,27,29],\"y\":[3.0,12.0,12.0,2.0],\"type\":\"scatter\"},{\"customdata\":[\"2020-01-26\",\"2020-02-02\",\"2020-02-09\",\"2020-02-16\",\"2020-02-23\"],\"hovertemplate\":\"<b>Confirmed:</b> %{x}<br><b>New Cases:</b> %{y}<br><b>Date:</b> %{customdata}<extra></extra>\",\"line\":{\"color\":\"blue\",\"width\":1.5},\"marker\":{\"color\":\"red\",\"size\":3},\"mode\":\"markers+lines\",\"visible\":false,\"x\":[3,15,27,29,602],\"y\":[3.0,12.0,12.0,2.0,573.0],\"type\":\"scatter\"},{\"customdata\":[\"2020-01-26\",\"2020-02-02\",\"2020-02-09\",\"2020-02-16\",\"2020-02-23\",\"2020-03-01\"],\"hovertemplate\":\"<b>Confirmed:</b> %{x}<br><b>New Cases:</b> %{y}<br><b>Date:</b> %{customdata}<extra></extra>\",\"line\":{\"color\":\"blue\",\"width\":1.5},\"marker\":{\"color\":\"red\",\"size\":3},\"mode\":\"markers+lines\",\"visible\":false,\"x\":[3,15,27,29,602,3736],\"y\":[3.0,12.0,12.0,2.0,573.0,3134.0],\"type\":\"scatter\"},{\"customdata\":[\"2020-01-26\",\"2020-02-02\",\"2020-02-09\",\"2020-02-16\",\"2020-02-23\",\"2020-03-01\",\"2020-03-08\"],\"hovertemplate\":\"<b>Confirmed:</b> %{x}<br><b>New Cases:</b> %{y}<br><b>Date:</b> %{customdata}<extra></extra>\",\"line\":{\"color\":\"blue\",\"width\":1.5},\"marker\":{\"color\":\"red\",\"size\":3},\"mode\":\"markers+lines\",\"visible\":false,\"x\":[3,15,27,29,602,3736,7134],\"y\":[3.0,12.0,12.0,2.0,573.0,3134.0,3398.0],\"type\":\"scatter\"},{\"customdata\":[\"2020-01-26\",\"2020-02-02\",\"2020-02-09\",\"2020-02-16\",\"2020-02-23\",\"2020-03-01\",\"2020-03-08\",\"2020-03-15\"],\"hovertemplate\":\"<b>Confirmed:</b> %{x}<br><b>New Cases:</b> %{y}<br><b>Date:</b> %{customdata}<extra></extra>\",\"line\":{\"color\":\"blue\",\"width\":1.5},\"marker\":{\"color\":\"red\",\"size\":3},\"mode\":\"markers+lines\",\"visible\":false,\"x\":[3,15,27,29,602,3736,7134,8126],\"y\":[3.0,12.0,12.0,2.0,573.0,3134.0,3398.0,992.0],\"type\":\"scatter\"},{\"customdata\":[\"2020-01-26\",\"2020-02-02\",\"2020-02-09\",\"2020-02-16\",\"2020-02-23\",\"2020-03-01\",\"2020-03-08\",\"2020-03-15\",\"2020-03-22\"],\"hovertemplate\":\"<b>Confirmed:</b> %{x}<br><b>New Cases:</b> %{y}<br><b>Date:</b> %{customdata}<extra></extra>\",\"line\":{\"color\":\"blue\",\"width\":1.5},\"marker\":{\"color\":\"red\",\"size\":3},\"mode\":\"markers+lines\",\"visible\":false,\"x\":[3,15,27,29,602,3736,7134,8126,8897],\"y\":[3.0,12.0,12.0,2.0,573.0,3134.0,3398.0,992.0,771.0],\"type\":\"scatter\"},{\"customdata\":[\"2020-01-26\",\"2020-02-02\",\"2020-02-09\",\"2020-02-16\",\"2020-02-23\",\"2020-03-01\",\"2020-03-08\",\"2020-03-15\",\"2020-03-22\",\"2020-03-29\"],\"hovertemplate\":\"<b>Confirmed:</b> %{x}<br><b>New Cases:</b> %{y}<br><b>Date:</b> %{customdata}<extra></extra>\",\"line\":{\"color\":\"blue\",\"width\":1.5},\"marker\":{\"color\":\"red\",\"size\":3},\"mode\":\"markers+lines\",\"visible\":false,\"x\":[3,15,27,29,602,3736,7134,8126,8897,9583],\"y\":[3.0,12.0,12.0,2.0,573.0,3134.0,3398.0,992.0,771.0,686.0],\"type\":\"scatter\"},{\"customdata\":[\"2020-01-26\",\"2020-02-02\",\"2020-02-09\",\"2020-02-16\",\"2020-02-23\",\"2020-03-01\",\"2020-03-08\",\"2020-03-15\",\"2020-03-22\",\"2020-03-29\",\"2020-04-05\"],\"hovertemplate\":\"<b>Confirmed:</b> %{x}<br><b>New Cases:</b> %{y}<br><b>Date:</b> %{customdata}<extra></extra>\",\"line\":{\"color\":\"blue\",\"width\":1.5},\"marker\":{\"color\":\"red\",\"size\":3},\"mode\":\"markers+lines\",\"visible\":false,\"x\":[3,15,27,29,602,3736,7134,8126,8897,9583,10237],\"y\":[3.0,12.0,12.0,2.0,573.0,3134.0,3398.0,992.0,771.0,686.0,654.0],\"type\":\"scatter\"},{\"customdata\":[\"2020-01-26\",\"2020-02-02\",\"2020-02-09\",\"2020-02-16\",\"2020-02-23\",\"2020-03-01\",\"2020-03-08\",\"2020-03-15\",\"2020-03-22\",\"2020-03-29\",\"2020-04-05\",\"2020-04-12\"],\"hovertemplate\":\"<b>Confirmed:</b> %{x}<br><b>New Cases:</b> %{y}<br><b>Date:</b> %{customdata}<extra></extra>\",\"line\":{\"color\":\"blue\",\"width\":1.5},\"marker\":{\"color\":\"red\",\"size\":3},\"mode\":\"markers+lines\",\"visible\":false,\"x\":[3,15,27,29,602,3736,7134,8126,8897,9583,10237,10512],\"y\":[3.0,12.0,12.0,2.0,573.0,3134.0,3398.0,992.0,771.0,686.0,654.0,275.0],\"type\":\"scatter\"},{\"customdata\":[\"2020-01-26\",\"2020-02-02\",\"2020-02-09\",\"2020-02-16\",\"2020-02-23\",\"2020-03-01\",\"2020-03-08\",\"2020-03-15\",\"2020-03-22\",\"2020-03-29\",\"2020-04-05\",\"2020-04-12\",\"2020-04-19\"],\"hovertemplate\":\"<b>Confirmed:</b> %{x}<br><b>New Cases:</b> %{y}<br><b>Date:</b> %{customdata}<extra></extra>\",\"line\":{\"color\":\"blue\",\"width\":1.5},\"marker\":{\"color\":\"red\",\"size\":3},\"mode\":\"markers+lines\",\"visible\":false,\"x\":[3,15,27,29,602,3736,7134,8126,8897,9583,10237,10512,10661],\"y\":[3.0,12.0,12.0,2.0,573.0,3134.0,3398.0,992.0,771.0,686.0,654.0,275.0,149.0],\"type\":\"scatter\"},{\"customdata\":[\"2020-01-26\",\"2020-02-02\",\"2020-02-09\",\"2020-02-16\",\"2020-02-23\",\"2020-03-01\",\"2020-03-08\",\"2020-03-15\",\"2020-03-22\",\"2020-03-29\",\"2020-04-05\",\"2020-04-12\",\"2020-04-19\",\"2020-04-26\"],\"hovertemplate\":\"<b>Confirmed:</b> %{x}<br><b>New Cases:</b> %{y}<br><b>Date:</b> %{customdata}<extra></extra>\",\"line\":{\"color\":\"blue\",\"width\":1.5},\"marker\":{\"color\":\"red\",\"size\":3},\"mode\":\"markers+lines\",\"visible\":false,\"x\":[3,15,27,29,602,3736,7134,8126,8897,9583,10237,10512,10661,10728],\"y\":[3.0,12.0,12.0,2.0,573.0,3134.0,3398.0,992.0,771.0,686.0,654.0,275.0,149.0,67.0],\"type\":\"scatter\"},{\"customdata\":[\"2020-01-26\",\"2020-02-02\",\"2020-02-09\",\"2020-02-16\",\"2020-02-23\",\"2020-03-01\",\"2020-03-08\",\"2020-03-15\",\"2020-03-22\",\"2020-03-29\",\"2020-04-05\",\"2020-04-12\",\"2020-04-19\",\"2020-04-26\",\"2020-05-03\"],\"hovertemplate\":\"<b>Confirmed:</b> %{x}<br><b>New Cases:</b> %{y}<br><b>Date:</b> %{customdata}<extra></extra>\",\"line\":{\"color\":\"blue\",\"width\":1.5},\"marker\":{\"color\":\"red\",\"size\":3},\"mode\":\"markers+lines\",\"visible\":false,\"x\":[3,15,27,29,602,3736,7134,8126,8897,9583,10237,10512,10661,10728,10793],\"y\":[3.0,12.0,12.0,2.0,573.0,3134.0,3398.0,992.0,771.0,686.0,654.0,275.0,149.0,67.0,65.0],\"type\":\"scatter\"},{\"customdata\":[\"2020-01-26\",\"2020-02-02\",\"2020-02-09\",\"2020-02-16\",\"2020-02-23\",\"2020-03-01\",\"2020-03-08\",\"2020-03-15\",\"2020-03-22\",\"2020-03-29\",\"2020-04-05\",\"2020-04-12\",\"2020-04-19\",\"2020-04-26\",\"2020-05-03\",\"2020-05-10\"],\"hovertemplate\":\"<b>Confirmed:</b> %{x}<br><b>New Cases:</b> %{y}<br><b>Date:</b> %{customdata}<extra></extra>\",\"line\":{\"color\":\"blue\",\"width\":1.5},\"marker\":{\"color\":\"red\",\"size\":3},\"mode\":\"markers+lines\",\"visible\":false,\"x\":[3,15,27,29,602,3736,7134,8126,8897,9583,10237,10512,10661,10728,10793,10874],\"y\":[3.0,12.0,12.0,2.0,573.0,3134.0,3398.0,992.0,771.0,686.0,654.0,275.0,149.0,67.0,65.0,81.0],\"type\":\"scatter\"},{\"customdata\":[\"2020-01-26\",\"2020-02-02\",\"2020-02-09\",\"2020-02-16\",\"2020-02-23\",\"2020-03-01\",\"2020-03-08\",\"2020-03-15\",\"2020-03-22\",\"2020-03-29\",\"2020-04-05\",\"2020-04-12\",\"2020-04-19\",\"2020-04-26\",\"2020-05-03\",\"2020-05-10\",\"2020-05-17\"],\"hovertemplate\":\"<b>Confirmed:</b> %{x}<br><b>New Cases:</b> %{y}<br><b>Date:</b> %{customdata}<extra></extra>\",\"line\":{\"color\":\"blue\",\"width\":1.5},\"marker\":{\"color\":\"red\",\"size\":3},\"mode\":\"markers+lines\",\"visible\":false,\"x\":[3,15,27,29,602,3736,7134,8126,8897,9583,10237,10512,10661,10728,10793,10874,11050],\"y\":[3.0,12.0,12.0,2.0,573.0,3134.0,3398.0,992.0,771.0,686.0,654.0,275.0,149.0,67.0,65.0,81.0,176.0],\"type\":\"scatter\"},{\"customdata\":[\"2020-01-26\",\"2020-02-02\",\"2020-02-09\",\"2020-02-16\",\"2020-02-23\",\"2020-03-01\",\"2020-03-08\",\"2020-03-15\",\"2020-03-22\",\"2020-03-29\",\"2020-04-05\",\"2020-04-12\",\"2020-04-19\",\"2020-04-26\",\"2020-05-03\",\"2020-05-10\",\"2020-05-17\",\"2020-05-24\"],\"hovertemplate\":\"<b>Confirmed:</b> %{x}<br><b>New Cases:</b> %{y}<br><b>Date:</b> %{customdata}<extra></extra>\",\"line\":{\"color\":\"blue\",\"width\":1.5},\"marker\":{\"color\":\"red\",\"size\":3},\"mode\":\"markers+lines\",\"visible\":false,\"x\":[3,15,27,29,602,3736,7134,8126,8897,9583,10237,10512,10661,10728,10793,10874,11050,11190],\"y\":[3.0,12.0,12.0,2.0,573.0,3134.0,3398.0,992.0,771.0,686.0,654.0,275.0,149.0,67.0,65.0,81.0,176.0,140.0],\"type\":\"scatter\"},{\"customdata\":[\"2020-01-26\",\"2020-02-02\",\"2020-02-09\",\"2020-02-16\",\"2020-02-23\",\"2020-03-01\",\"2020-03-08\",\"2020-03-15\",\"2020-03-22\",\"2020-03-29\",\"2020-04-05\",\"2020-04-12\",\"2020-04-19\",\"2020-04-26\",\"2020-05-03\",\"2020-05-10\",\"2020-05-17\",\"2020-05-24\",\"2020-05-31\"],\"hovertemplate\":\"<b>Confirmed:</b> %{x}<br><b>New Cases:</b> %{y}<br><b>Date:</b> %{customdata}<extra></extra>\",\"line\":{\"color\":\"blue\",\"width\":1.5},\"marker\":{\"color\":\"red\",\"size\":3},\"mode\":\"markers+lines\",\"visible\":false,\"x\":[3,15,27,29,602,3736,7134,8126,8897,9583,10237,10512,10661,10728,10793,10874,11050,11190,11468],\"y\":[3.0,12.0,12.0,2.0,573.0,3134.0,3398.0,992.0,771.0,686.0,654.0,275.0,149.0,67.0,65.0,81.0,176.0,140.0,278.0],\"type\":\"scatter\"},{\"customdata\":[\"2020-01-26\",\"2020-02-02\",\"2020-02-09\",\"2020-02-16\",\"2020-02-23\",\"2020-03-01\",\"2020-03-08\",\"2020-03-15\",\"2020-03-22\",\"2020-03-29\",\"2020-04-05\",\"2020-04-12\",\"2020-04-19\",\"2020-04-26\",\"2020-05-03\",\"2020-05-10\",\"2020-05-17\",\"2020-05-24\",\"2020-05-31\",\"2020-06-07\"],\"hovertemplate\":\"<b>Confirmed:</b> %{x}<br><b>New Cases:</b> %{y}<br><b>Date:</b> %{customdata}<extra></extra>\",\"line\":{\"color\":\"blue\",\"width\":1.5},\"marker\":{\"color\":\"red\",\"size\":3},\"mode\":\"markers+lines\",\"visible\":false,\"x\":[3,15,27,29,602,3736,7134,8126,8897,9583,10237,10512,10661,10728,10793,10874,11050,11190,11468,11776],\"y\":[3.0,12.0,12.0,2.0,573.0,3134.0,3398.0,992.0,771.0,686.0,654.0,275.0,149.0,67.0,65.0,81.0,176.0,140.0,278.0,308.0],\"type\":\"scatter\"},{\"customdata\":[\"2020-01-26\",\"2020-02-02\",\"2020-02-09\",\"2020-02-16\",\"2020-02-23\",\"2020-03-01\",\"2020-03-08\",\"2020-03-15\",\"2020-03-22\",\"2020-03-29\",\"2020-04-05\",\"2020-04-12\",\"2020-04-19\",\"2020-04-26\",\"2020-05-03\",\"2020-05-10\",\"2020-05-17\",\"2020-05-24\",\"2020-05-31\",\"2020-06-07\",\"2020-06-14\"],\"hovertemplate\":\"<b>Confirmed:</b> %{x}<br><b>New Cases:</b> %{y}<br><b>Date:</b> %{customdata}<extra></extra>\",\"line\":{\"color\":\"blue\",\"width\":1.5},\"marker\":{\"color\":\"red\",\"size\":3},\"mode\":\"markers+lines\",\"visible\":false,\"x\":[3,15,27,29,602,3736,7134,8126,8897,9583,10237,10512,10661,10728,10793,10874,11050,11190,11468,11776,12085],\"y\":[3.0,12.0,12.0,2.0,573.0,3134.0,3398.0,992.0,771.0,686.0,654.0,275.0,149.0,67.0,65.0,81.0,176.0,140.0,278.0,308.0,309.0],\"type\":\"scatter\"},{\"customdata\":[\"2020-01-26\",\"2020-02-02\",\"2020-02-09\",\"2020-02-16\",\"2020-02-23\",\"2020-03-01\",\"2020-03-08\",\"2020-03-15\",\"2020-03-22\",\"2020-03-29\",\"2020-04-05\",\"2020-04-12\",\"2020-04-19\",\"2020-04-26\",\"2020-05-03\",\"2020-05-10\",\"2020-05-17\",\"2020-05-24\",\"2020-05-31\",\"2020-06-07\",\"2020-06-14\",\"2020-06-21\"],\"hovertemplate\":\"<b>Confirmed:</b> %{x}<br><b>New Cases:</b> %{y}<br><b>Date:</b> %{customdata}<extra></extra>\",\"line\":{\"color\":\"blue\",\"width\":1.5},\"marker\":{\"color\":\"red\",\"size\":3},\"mode\":\"markers+lines\",\"visible\":false,\"x\":[3,15,27,29,602,3736,7134,8126,8897,9583,10237,10512,10661,10728,10793,10874,11050,11190,11468,11776,12085,12421],\"y\":[3.0,12.0,12.0,2.0,573.0,3134.0,3398.0,992.0,771.0,686.0,654.0,275.0,149.0,67.0,65.0,81.0,176.0,140.0,278.0,308.0,309.0,336.0],\"type\":\"scatter\"},{\"customdata\":[\"2020-01-26\",\"2020-02-02\",\"2020-02-09\",\"2020-02-16\",\"2020-02-23\",\"2020-03-01\",\"2020-03-08\",\"2020-03-15\",\"2020-03-22\",\"2020-03-29\",\"2020-04-05\",\"2020-04-12\",\"2020-04-19\",\"2020-04-26\",\"2020-05-03\",\"2020-05-10\",\"2020-05-17\",\"2020-05-24\",\"2020-05-31\",\"2020-06-07\",\"2020-06-14\",\"2020-06-21\",\"2020-06-28\"],\"hovertemplate\":\"<b>Confirmed:</b> %{x}<br><b>New Cases:</b> %{y}<br><b>Date:</b> %{customdata}<extra></extra>\",\"line\":{\"color\":\"blue\",\"width\":1.5},\"marker\":{\"color\":\"red\",\"size\":3},\"mode\":\"markers+lines\",\"visible\":false,\"x\":[3,15,27,29,602,3736,7134,8126,8897,9583,10237,10512,10661,10728,10793,10874,11050,11190,11468,11776,12085,12421,12715],\"y\":[3.0,12.0,12.0,2.0,573.0,3134.0,3398.0,992.0,771.0,686.0,654.0,275.0,149.0,67.0,65.0,81.0,176.0,140.0,278.0,308.0,309.0,336.0,294.0],\"type\":\"scatter\"},{\"customdata\":[\"2020-01-26\",\"2020-02-02\",\"2020-02-09\",\"2020-02-16\",\"2020-02-23\",\"2020-03-01\",\"2020-03-08\",\"2020-03-15\",\"2020-03-22\",\"2020-03-29\",\"2020-04-05\",\"2020-04-12\",\"2020-04-19\",\"2020-04-26\",\"2020-05-03\",\"2020-05-10\",\"2020-05-17\",\"2020-05-24\",\"2020-05-31\",\"2020-06-07\",\"2020-06-14\",\"2020-06-21\",\"2020-06-28\",\"2020-07-05\"],\"hovertemplate\":\"<b>Confirmed:</b> %{x}<br><b>New Cases:</b> %{y}<br><b>Date:</b> %{customdata}<extra></extra>\",\"line\":{\"color\":\"blue\",\"width\":1.5},\"marker\":{\"color\":\"red\",\"size\":3},\"mode\":\"markers+lines\",\"visible\":true,\"x\":[3,15,27,29,602,3736,7134,8126,8897,9583,10237,10512,10661,10728,10793,10874,11050,11190,11468,11776,12085,12421,12715,12800],\"y\":[3.0,12.0,12.0,2.0,573.0,3134.0,3398.0,992.0,771.0,686.0,654.0,275.0,149.0,67.0,65.0,81.0,176.0,140.0,278.0,308.0,309.0,336.0,294.0,85.0],\"type\":\"scatter\"},{\"hovertemplate\":\"<b>Confirmed:</b> %{x}<br><b>New Cases:</b>\",\"line\":{\"color\":\"black\",\"dash\":\"dash\",\"width\":2},\"mode\":\"lines\",\"name\":\"2 Day doubling line\",\"x\":[1,2,4,8,16,32,64,128,256,512,1024,2048,4096,8192,16384,32768,65536,131072,262144,524288,1048576,2097152,4194304,8388608,16777216,33554432,67108864,134217728,268435456,536870912,1073741824,2147483648,4294967296,8589934592,17179869184,34359738368,68719476736,137438953472,274877906944,549755813888,1099511627776,2199023255552,1,2,4,8,16,32,64,128,256,512,1024,2048,4096,8192,16384,32768,65536,131072,262144,524288,1048576,2097152,4194304,8388608,16777216,33554432,67108864,134217728,268435456,536870912,1073741824,2147483648,4294967296,8589934592,17179869184,34359738368,68719476736,137438953472,274877906944,549755813888],\"y\":[1.0,1.0,2.0,4.0,8.0,16.0,32.0,64.0,128.0,256.0,512.0,1024.0,2048.0,4096.0,8192.0,16384.0,32768.0,65536.0,131072.0,262144.0,524288.0,1048576.0,2097152.0,4194304.0,8388608.0,16777216.0,33554432.0,67108864.0,134217728.0,268435456.0,536870912.0,1073741824.0,2147483648.0,4294967296.0,8589934592.0,17179869184.0,34359738368.0,68719476736.0,137438953472.0,274877906944.0,549755813888.0,1099511627776.0,-2199023255551.0,1.0,2.0,4.0,8.0,16.0,32.0,64.0,128.0,256.0,512.0,1024.0,2048.0,4096.0,8192.0,16384.0,32768.0,65536.0,131072.0,262144.0,524288.0,1048576.0,2097152.0,4194304.0,8388608.0,16777216.0,33554432.0,67108864.0,134217728.0,268435456.0,536870912.0,1073741824.0,2147483648.0,4294967296.0,8589934592.0,17179869184.0,34359738368.0,68719476736.0,137438953472.0,274877906944.0],\"type\":\"scatter\"}],                        {\"template\":{\"data\":{\"histogram2dcontour\":[{\"type\":\"histogram2dcontour\",\"colorbar\":{\"outlinewidth\":0,\"ticks\":\"\"},\"colorscale\":[[0.0,\"#0d0887\"],[0.1111111111111111,\"#46039f\"],[0.2222222222222222,\"#7201a8\"],[0.3333333333333333,\"#9c179e\"],[0.4444444444444444,\"#bd3786\"],[0.5555555555555556,\"#d8576b\"],[0.6666666666666666,\"#ed7953\"],[0.7777777777777778,\"#fb9f3a\"],[0.8888888888888888,\"#fdca26\"],[1.0,\"#f0f921\"]]}],\"choropleth\":[{\"type\":\"choropleth\",\"colorbar\":{\"outlinewidth\":0,\"ticks\":\"\"}}],\"histogram2d\":[{\"type\":\"histogram2d\",\"colorbar\":{\"outlinewidth\":0,\"ticks\":\"\"},\"colorscale\":[[0.0,\"#0d0887\"],[0.1111111111111111,\"#46039f\"],[0.2222222222222222,\"#7201a8\"],[0.3333333333333333,\"#9c179e\"],[0.4444444444444444,\"#bd3786\"],[0.5555555555555556,\"#d8576b\"],[0.6666666666666666,\"#ed7953\"],[0.7777777777777778,\"#fb9f3a\"],[0.8888888888888888,\"#fdca26\"],[1.0,\"#f0f921\"]]}],\"heatmap\":[{\"type\":\"heatmap\",\"colorbar\":{\"outlinewidth\":0,\"ticks\":\"\"},\"colorscale\":[[0.0,\"#0d0887\"],[0.1111111111111111,\"#46039f\"],[0.2222222222222222,\"#7201a8\"],[0.3333333333333333,\"#9c179e\"],[0.4444444444444444,\"#bd3786\"],[0.5555555555555556,\"#d8576b\"],[0.6666666666666666,\"#ed7953\"],[0.7777777777777778,\"#fb9f3a\"],[0.8888888888888888,\"#fdca26\"],[1.0,\"#f0f921\"]]}],\"heatmapgl\":[{\"type\":\"heatmapgl\",\"colorbar\":{\"outlinewidth\":0,\"ticks\":\"\"},\"colorscale\":[[0.0,\"#0d0887\"],[0.1111111111111111,\"#46039f\"],[0.2222222222222222,\"#7201a8\"],[0.3333333333333333,\"#9c179e\"],[0.4444444444444444,\"#bd3786\"],[0.5555555555555556,\"#d8576b\"],[0.6666666666666666,\"#ed7953\"],[0.7777777777777778,\"#fb9f3a\"],[0.8888888888888888,\"#fdca26\"],[1.0,\"#f0f921\"]]}],\"contourcarpet\":[{\"type\":\"contourcarpet\",\"colorbar\":{\"outlinewidth\":0,\"ticks\":\"\"}}],\"contour\":[{\"type\":\"contour\",\"colorbar\":{\"outlinewidth\":0,\"ticks\":\"\"},\"colorscale\":[[0.0,\"#0d0887\"],[0.1111111111111111,\"#46039f\"],[0.2222222222222222,\"#7201a8\"],[0.3333333333333333,\"#9c179e\"],[0.4444444444444444,\"#bd3786\"],[0.5555555555555556,\"#d8576b\"],[0.6666666666666666,\"#ed7953\"],[0.7777777777777778,\"#fb9f3a\"],[0.8888888888888888,\"#fdca26\"],[1.0,\"#f0f921\"]]}],\"surface\":[{\"type\":\"surface\",\"colorbar\":{\"outlinewidth\":0,\"ticks\":\"\"},\"colorscale\":[[0.0,\"#0d0887\"],[0.1111111111111111,\"#46039f\"],[0.2222222222222222,\"#7201a8\"],[0.3333333333333333,\"#9c179e\"],[0.4444444444444444,\"#bd3786\"],[0.5555555555555556,\"#d8576b\"],[0.6666666666666666,\"#ed7953\"],[0.7777777777777778,\"#fb9f3a\"],[0.8888888888888888,\"#fdca26\"],[1.0,\"#f0f921\"]]}],\"mesh3d\":[{\"type\":\"mesh3d\",\"colorbar\":{\"outlinewidth\":0,\"ticks\":\"\"}}],\"scatter\":[{\"fillpattern\":{\"fillmode\":\"overlay\",\"size\":10,\"solidity\":0.2},\"type\":\"scatter\"}],\"parcoords\":[{\"type\":\"parcoords\",\"line\":{\"colorbar\":{\"outlinewidth\":0,\"ticks\":\"\"}}}],\"scatterpolargl\":[{\"type\":\"scatterpolargl\",\"marker\":{\"colorbar\":{\"outlinewidth\":0,\"ticks\":\"\"}}}],\"bar\":[{\"error_x\":{\"color\":\"#2a3f5f\"},\"error_y\":{\"color\":\"#2a3f5f\"},\"marker\":{\"line\":{\"color\":\"#E5ECF6\",\"width\":0.5},\"pattern\":{\"fillmode\":\"overlay\",\"size\":10,\"solidity\":0.2}},\"type\":\"bar\"}],\"scattergeo\":[{\"type\":\"scattergeo\",\"marker\":{\"colorbar\":{\"outlinewidth\":0,\"ticks\":\"\"}}}],\"scatterpolar\":[{\"type\":\"scatterpolar\",\"marker\":{\"colorbar\":{\"outlinewidth\":0,\"ticks\":\"\"}}}],\"histogram\":[{\"marker\":{\"pattern\":{\"fillmode\":\"overlay\",\"size\":10,\"solidity\":0.2}},\"type\":\"histogram\"}],\"scattergl\":[{\"type\":\"scattergl\",\"marker\":{\"colorbar\":{\"outlinewidth\":0,\"ticks\":\"\"}}}],\"scatter3d\":[{\"type\":\"scatter3d\",\"line\":{\"colorbar\":{\"outlinewidth\":0,\"ticks\":\"\"}},\"marker\":{\"colorbar\":{\"outlinewidth\":0,\"ticks\":\"\"}}}],\"scattermapbox\":[{\"type\":\"scattermapbox\",\"marker\":{\"colorbar\":{\"outlinewidth\":0,\"ticks\":\"\"}}}],\"scatterternary\":[{\"type\":\"scatterternary\",\"marker\":{\"colorbar\":{\"outlinewidth\":0,\"ticks\":\"\"}}}],\"scattercarpet\":[{\"type\":\"scattercarpet\",\"marker\":{\"colorbar\":{\"outlinewidth\":0,\"ticks\":\"\"}}}],\"carpet\":[{\"aaxis\":{\"endlinecolor\":\"#2a3f5f\",\"gridcolor\":\"white\",\"linecolor\":\"white\",\"minorgridcolor\":\"white\",\"startlinecolor\":\"#2a3f5f\"},\"baxis\":{\"endlinecolor\":\"#2a3f5f\",\"gridcolor\":\"white\",\"linecolor\":\"white\",\"minorgridcolor\":\"white\",\"startlinecolor\":\"#2a3f5f\"},\"type\":\"carpet\"}],\"table\":[{\"cells\":{\"fill\":{\"color\":\"#EBF0F8\"},\"line\":{\"color\":\"white\"}},\"header\":{\"fill\":{\"color\":\"#C8D4E3\"},\"line\":{\"color\":\"white\"}},\"type\":\"table\"}],\"barpolar\":[{\"marker\":{\"line\":{\"color\":\"#E5ECF6\",\"width\":0.5},\"pattern\":{\"fillmode\":\"overlay\",\"size\":10,\"solidity\":0.2}},\"type\":\"barpolar\"}],\"pie\":[{\"automargin\":true,\"type\":\"pie\"}]},\"layout\":{\"autotypenumbers\":\"strict\",\"colorway\":[\"#636efa\",\"#EF553B\",\"#00cc96\",\"#ab63fa\",\"#FFA15A\",\"#19d3f3\",\"#FF6692\",\"#B6E880\",\"#FF97FF\",\"#FECB52\"],\"font\":{\"color\":\"#2a3f5f\"},\"hovermode\":\"closest\",\"hoverlabel\":{\"align\":\"left\"},\"paper_bgcolor\":\"white\",\"plot_bgcolor\":\"#E5ECF6\",\"polar\":{\"bgcolor\":\"#E5ECF6\",\"angularaxis\":{\"gridcolor\":\"white\",\"linecolor\":\"white\",\"ticks\":\"\"},\"radialaxis\":{\"gridcolor\":\"white\",\"linecolor\":\"white\",\"ticks\":\"\"}},\"ternary\":{\"bgcolor\":\"#E5ECF6\",\"aaxis\":{\"gridcolor\":\"white\",\"linecolor\":\"white\",\"ticks\":\"\"},\"baxis\":{\"gridcolor\":\"white\",\"linecolor\":\"white\",\"ticks\":\"\"},\"caxis\":{\"gridcolor\":\"white\",\"linecolor\":\"white\",\"ticks\":\"\"}},\"coloraxis\":{\"colorbar\":{\"outlinewidth\":0,\"ticks\":\"\"}},\"colorscale\":{\"sequential\":[[0.0,\"#0d0887\"],[0.1111111111111111,\"#46039f\"],[0.2222222222222222,\"#7201a8\"],[0.3333333333333333,\"#9c179e\"],[0.4444444444444444,\"#bd3786\"],[0.5555555555555556,\"#d8576b\"],[0.6666666666666666,\"#ed7953\"],[0.7777777777777778,\"#fb9f3a\"],[0.8888888888888888,\"#fdca26\"],[1.0,\"#f0f921\"]],\"sequentialminus\":[[0.0,\"#0d0887\"],[0.1111111111111111,\"#46039f\"],[0.2222222222222222,\"#7201a8\"],[0.3333333333333333,\"#9c179e\"],[0.4444444444444444,\"#bd3786\"],[0.5555555555555556,\"#d8576b\"],[0.6666666666666666,\"#ed7953\"],[0.7777777777777778,\"#fb9f3a\"],[0.8888888888888888,\"#fdca26\"],[1.0,\"#f0f921\"]],\"diverging\":[[0,\"#8e0152\"],[0.1,\"#c51b7d\"],[0.2,\"#de77ae\"],[0.3,\"#f1b6da\"],[0.4,\"#fde0ef\"],[0.5,\"#f7f7f7\"],[0.6,\"#e6f5d0\"],[0.7,\"#b8e186\"],[0.8,\"#7fbc41\"],[0.9,\"#4d9221\"],[1,\"#276419\"]]},\"xaxis\":{\"gridcolor\":\"white\",\"linecolor\":\"white\",\"ticks\":\"\",\"title\":{\"standoff\":15},\"zerolinecolor\":\"white\",\"automargin\":true,\"zerolinewidth\":2},\"yaxis\":{\"gridcolor\":\"white\",\"linecolor\":\"white\",\"ticks\":\"\",\"title\":{\"standoff\":15},\"zerolinecolor\":\"white\",\"automargin\":true,\"zerolinewidth\":2},\"scene\":{\"xaxis\":{\"backgroundcolor\":\"#E5ECF6\",\"gridcolor\":\"white\",\"linecolor\":\"white\",\"showbackground\":true,\"ticks\":\"\",\"zerolinecolor\":\"white\",\"gridwidth\":2},\"yaxis\":{\"backgroundcolor\":\"#E5ECF6\",\"gridcolor\":\"white\",\"linecolor\":\"white\",\"showbackground\":true,\"ticks\":\"\",\"zerolinecolor\":\"white\",\"gridwidth\":2},\"zaxis\":{\"backgroundcolor\":\"#E5ECF6\",\"gridcolor\":\"white\",\"linecolor\":\"white\",\"showbackground\":true,\"ticks\":\"\",\"zerolinecolor\":\"white\",\"gridwidth\":2}},\"shapedefaults\":{\"line\":{\"color\":\"#2a3f5f\"}},\"annotationdefaults\":{\"arrowcolor\":\"#2a3f5f\",\"arrowhead\":0,\"arrowwidth\":1},\"geo\":{\"bgcolor\":\"white\",\"landcolor\":\"#E5ECF6\",\"subunitcolor\":\"white\",\"showland\":true,\"showlakes\":true,\"lakecolor\":\"white\"},\"title\":{\"x\":0.05},\"mapbox\":{\"style\":\"light\"}}},\"sliders\":[{\"active\":25,\"currentvalue\":{\"prefix\":\"Date: \"},\"pad\":{\"t\":50},\"steps\":[{\"args\":[{\"visible\":[true,false,false,false,false,false,false,false,false,false,false,false,false,false,false,false,false,false,false,false,false,false,false,false,true]}],\"label\":\"2020-01-26\",\"method\":\"update\"},{\"args\":[{\"visible\":[false,true,false,false,false,false,false,false,false,false,false,false,false,false,false,false,false,false,false,false,false,false,false,false,true]}],\"label\":\"2020-02-02\",\"method\":\"update\"},{\"args\":[{\"visible\":[false,false,true,false,false,false,false,false,false,false,false,false,false,false,false,false,false,false,false,false,false,false,false,false,true]}],\"label\":\"2020-02-09\",\"method\":\"update\"},{\"args\":[{\"visible\":[false,false,false,true,false,false,false,false,false,false,false,false,false,false,false,false,false,false,false,false,false,false,false,false,true]}],\"label\":\"2020-02-16\",\"method\":\"update\"},{\"args\":[{\"visible\":[false,false,false,false,true,false,false,false,false,false,false,false,false,false,false,false,false,false,false,false,false,false,false,false,true]}],\"label\":\"2020-02-23\",\"method\":\"update\"},{\"args\":[{\"visible\":[false,false,false,false,false,true,false,false,false,false,false,false,false,false,false,false,false,false,false,false,false,false,false,false,true]}],\"label\":\"2020-03-01\",\"method\":\"update\"},{\"args\":[{\"visible\":[false,false,false,false,false,false,true,false,false,false,false,false,false,false,false,false,false,false,false,false,false,false,false,false,true]}],\"label\":\"2020-03-08\",\"method\":\"update\"},{\"args\":[{\"visible\":[false,false,false,false,false,false,false,true,false,false,false,false,false,false,false,false,false,false,false,false,false,false,false,false,true]}],\"label\":\"2020-03-15\",\"method\":\"update\"},{\"args\":[{\"visible\":[false,false,false,false,false,false,false,false,true,false,false,false,false,false,false,false,false,false,false,false,false,false,false,false,true]}],\"label\":\"2020-03-22\",\"method\":\"update\"},{\"args\":[{\"visible\":[false,false,false,false,false,false,false,false,false,true,false,false,false,false,false,false,false,false,false,false,false,false,false,false,true]}],\"label\":\"2020-03-29\",\"method\":\"update\"},{\"args\":[{\"visible\":[false,false,false,false,false,false,false,false,false,false,true,false,false,false,false,false,false,false,false,false,false,false,false,false,true]}],\"label\":\"2020-04-05\",\"method\":\"update\"},{\"args\":[{\"visible\":[false,false,false,false,false,false,false,false,false,false,false,true,false,false,false,false,false,false,false,false,false,false,false,false,true]}],\"label\":\"2020-04-12\",\"method\":\"update\"},{\"args\":[{\"visible\":[false,false,false,false,false,false,false,false,false,false,false,false,true,false,false,false,false,false,false,false,false,false,false,false,true]}],\"label\":\"2020-04-19\",\"method\":\"update\"},{\"args\":[{\"visible\":[false,false,false,false,false,false,false,false,false,false,false,false,false,true,false,false,false,false,false,false,false,false,false,false,true]}],\"label\":\"2020-04-26\",\"method\":\"update\"},{\"args\":[{\"visible\":[false,false,false,false,false,false,false,false,false,false,false,false,false,false,true,false,false,false,false,false,false,false,false,false,true]}],\"label\":\"2020-05-03\",\"method\":\"update\"},{\"args\":[{\"visible\":[false,false,false,false,false,false,false,false,false,false,false,false,false,false,false,true,false,false,false,false,false,false,false,false,true]}],\"label\":\"2020-05-10\",\"method\":\"update\"},{\"args\":[{\"visible\":[false,false,false,false,false,false,false,false,false,false,false,false,false,false,false,false,true,false,false,false,false,false,false,false,true]}],\"label\":\"2020-05-17\",\"method\":\"update\"},{\"args\":[{\"visible\":[false,false,false,false,false,false,false,false,false,false,false,false,false,false,false,false,false,true,false,false,false,false,false,false,true]}],\"label\":\"2020-05-24\",\"method\":\"update\"},{\"args\":[{\"visible\":[false,false,false,false,false,false,false,false,false,false,false,false,false,false,false,false,false,false,true,false,false,false,false,false,true]}],\"label\":\"2020-05-31\",\"method\":\"update\"},{\"args\":[{\"visible\":[false,false,false,false,false,false,false,false,false,false,false,false,false,false,false,false,false,false,false,true,false,false,false,false,true]}],\"label\":\"2020-06-07\",\"method\":\"update\"},{\"args\":[{\"visible\":[false,false,false,false,false,false,false,false,false,false,false,false,false,false,false,false,false,false,false,false,true,false,false,false,true]}],\"label\":\"2020-06-14\",\"method\":\"update\"},{\"args\":[{\"visible\":[false,false,false,false,false,false,false,false,false,false,false,false,false,false,false,false,false,false,false,false,false,true,false,false,true]}],\"label\":\"2020-06-21\",\"method\":\"update\"},{\"args\":[{\"visible\":[false,false,false,false,false,false,false,false,false,false,false,false,false,false,false,false,false,false,false,false,false,false,true,false,true]}],\"label\":\"2020-06-28\",\"method\":\"update\"},{\"args\":[{\"visible\":[false,false,false,false,false,false,false,false,false,false,false,false,false,false,false,false,false,false,false,false,false,false,false,true,true]}],\"label\":\"2020-07-05\",\"method\":\"update\"}]}],\"xaxis\":{\"range\":[0,5],\"autorange\":false,\"zeroline\":false,\"type\":\"log\",\"title\":{\"text\":\"Total cases\"}},\"yaxis\":{\"range\":[0,4],\"autorange\":false,\"zeroline\":false,\"type\":\"log\",\"title\":{\"text\":\"Weekly New Cases\"}},\"hovermode\":\"closest\",\"width\":864,\"height\":432.0},                        {\"responsive\": true}                    ).then(function(){\n",
       "                            \n",
       "var gd = document.getElementById('b97e823c-9700-4c71-8460-938ac509ded1');\n",
       "var x = new MutationObserver(function (mutations, observer) {{\n",
       "        var display = window.getComputedStyle(gd).display;\n",
       "        if (!display || display === 'none') {{\n",
       "            console.log([gd, 'removed!']);\n",
       "            Plotly.purge(gd);\n",
       "            observer.disconnect();\n",
       "        }}\n",
       "}});\n",
       "\n",
       "// Listen for the removal of the full notebook cells\n",
       "var notebookContainer = gd.closest('#notebook-container');\n",
       "if (notebookContainer) {{\n",
       "    x.observe(notebookContainer, {childList: true});\n",
       "}}\n",
       "\n",
       "// Listen for the clearing of the current output cell\n",
       "var outputEl = gd.closest('.output');\n",
       "if (outputEl) {{\n",
       "    x.observe(outputEl, {childList: true});\n",
       "}}\n",
       "\n",
       "                        })                };                });            </script>        </div>"
      ]
     },
     "metadata": {},
     "output_type": "display_data"
    }
   ],
   "source": [
    "# | label: fig-time-trends\n",
    "# | fig-cap: \"Total confirmed cases and weekly new cases\"\n",
    "# fig = px.scatter(weekly_time, x='confirmed', y='new_cases', animation_frame=weekly_time.index.astype(str), log_x=True,log_y=True,range_x=[1,1e6],range_y=[1,1e5])\n",
    "fig_trends = go.Figure()\n",
    "# traces\n",
    "for index, row in weekly_time.iterrows():\n",
    "    fig_trends.add_trace(\n",
    "        go.Scatter(\n",
    "            visible=False,\n",
    "            mode=\"markers+lines\",\n",
    "            line=dict(color=\"blue\", width=1.5),\n",
    "            marker=dict(color=\"red\", size=3),\n",
    "            x=weekly_time[\"confirmed\"][:index],\n",
    "            y=weekly_time[\"new_cases\"][:index],\n",
    "            hovertemplate=\"<b>Confirmed:</b> %{x}<br>\" + \"<b>New Cases:</b> %{y}<br>\"+\"<b>Date:</b> %{customdata}<extra></extra>\",\n",
    "            customdata=weekly_time[:index].index.astype(str)\n",
    "        )\n",
    "    )\n",
    "\n",
    "fig_trends.add_trace(\n",
    "    go.Scatter(\n",
    "        mode=\"lines\",\n",
    "        line=dict(color=\"black\", width=2,dash='dash'),\n",
    "        x=doubling_line['confirmed'],\n",
    "        y=doubling_line[\"new_cases\"],\n",
    "        hovertemplate=\"<b>Confirmed:</b> %{x}<br>\" + \"<b>New Cases:</b>\",\n",
    "        name = '2 Day doubling line'\n",
    "    )\n",
    ")\n",
    "\n",
    "fig_trends.data[-2].visible = True\n",
    "\n",
    "steps = []\n",
    "for i in range(len(fig_trends.data)-1):\n",
    "    visible = [False] * len(\n",
    "        fig_trends.data\n",
    "    )  # initialize visible list as a list of booleans\n",
    "    visible[i] = True  # set the i-th element to True\n",
    "    visible[-1] = True # doubling line always visible\n",
    "    step = dict(\n",
    "        method=\"update\",\n",
    "        args=[{\"visible\": visible}],\n",
    "        label=weekly_time.index[i].strftime(\"%Y-%m-%d\"),\n",
    "    )\n",
    "    steps.append(step)\n",
    "\n",
    "sliders = [\n",
    "    dict(active=len(fig_trends.data), currentvalue={\"prefix\": \"Date: \"}, pad={\"t\": 50}, steps=steps)\n",
    "]\n",
    "\n",
    "fig_trends.update_layout(sliders=sliders)\n",
    "fig_trends.update_layout(\n",
    "    xaxis=dict(\n",
    "        range=[0, 5],\n",
    "        autorange=False,\n",
    "        zeroline=False,\n",
    "        type=\"log\",\n",
    "        title=\"Total cases\",\n",
    "    ),\n",
    "    yaxis=dict(\n",
    "        range=[0, 4],\n",
    "        autorange=False,\n",
    "        zeroline=False,\n",
    "        type=\"log\",\n",
    "        title=\"Weekly New Cases\",\n",
    "    ),\n",
    "    hovermode=\"closest\",\n",
    "    width=base_fig_wid * dpi,\n",
    "    height=base_fig_wid * dpi / 2,\n",
    ")\n",
    "\n",
    "\n",
    "\n",
    "\n",
    "fig_trends.show()"
   ]
  },
  {
   "cell_type": "code",
   "execution_count": 88,
   "metadata": {},
   "outputs": [
    {
     "data": {
      "text/html": [
       "<div>\n",
       "<style scoped>\n",
       "    .dataframe tbody tr th:only-of-type {\n",
       "        vertical-align: middle;\n",
       "    }\n",
       "\n",
       "    .dataframe tbody tr th {\n",
       "        vertical-align: top;\n",
       "    }\n",
       "\n",
       "    .dataframe thead th {\n",
       "        text-align: right;\n",
       "    }\n",
       "</style>\n",
       "<table border=\"1\" class=\"dataframe\">\n",
       "  <thead>\n",
       "    <tr style=\"text-align: right;\">\n",
       "      <th></th>\n",
       "      <th>policy_id</th>\n",
       "      <th>country</th>\n",
       "      <th>type</th>\n",
       "      <th>gov_policy</th>\n",
       "      <th>detail</th>\n",
       "      <th>start_date</th>\n",
       "      <th>end_date</th>\n",
       "    </tr>\n",
       "  </thead>\n",
       "  <tbody>\n",
       "    <tr>\n",
       "      <th>19</th>\n",
       "      <td>20</td>\n",
       "      <td>Korea</td>\n",
       "      <td>Health</td>\n",
       "      <td>Emergency Use Authorization of Diagnostic Kit</td>\n",
       "      <td>1st EUA</td>\n",
       "      <td>2020-02-04</td>\n",
       "      <td>NaN</td>\n",
       "    </tr>\n",
       "    <tr>\n",
       "      <th>5</th>\n",
       "      <td>6</td>\n",
       "      <td>Korea</td>\n",
       "      <td>Immigration</td>\n",
       "      <td>Special Immigration Procedure</td>\n",
       "      <td>from Hong Kong</td>\n",
       "      <td>2020-02-12</td>\n",
       "      <td>NaN</td>\n",
       "    </tr>\n",
       "    <tr>\n",
       "      <th>6</th>\n",
       "      <td>7</td>\n",
       "      <td>Korea</td>\n",
       "      <td>Immigration</td>\n",
       "      <td>Special Immigration Procedure</td>\n",
       "      <td>from Macau</td>\n",
       "      <td>2020-02-12</td>\n",
       "      <td>NaN</td>\n",
       "    </tr>\n",
       "    <tr>\n",
       "      <th>50</th>\n",
       "      <td>51</td>\n",
       "      <td>Korea</td>\n",
       "      <td>Technology</td>\n",
       "      <td>Self-Diagnosis App</td>\n",
       "      <td>NaN</td>\n",
       "      <td>2020-02-12</td>\n",
       "      <td>NaN</td>\n",
       "    </tr>\n",
       "    <tr>\n",
       "      <th>20</th>\n",
       "      <td>21</td>\n",
       "      <td>Korea</td>\n",
       "      <td>Health</td>\n",
       "      <td>Emergency Use Authorization of Diagnostic Kit</td>\n",
       "      <td>2nd EUA</td>\n",
       "      <td>2020-02-12</td>\n",
       "      <td>NaN</td>\n",
       "    </tr>\n",
       "    <tr>\n",
       "      <th>3</th>\n",
       "      <td>4</td>\n",
       "      <td>Korea</td>\n",
       "      <td>Alert</td>\n",
       "      <td>Infectious Disease Alert Level</td>\n",
       "      <td>Level 4 (Red)</td>\n",
       "      <td>2020-02-23</td>\n",
       "      <td>NaN</td>\n",
       "    </tr>\n",
       "    <tr>\n",
       "      <th>24</th>\n",
       "      <td>25</td>\n",
       "      <td>Korea</td>\n",
       "      <td>Health</td>\n",
       "      <td>Drive-Through Screening Center</td>\n",
       "      <td>by Local Government</td>\n",
       "      <td>2020-02-26</td>\n",
       "      <td>NaN</td>\n",
       "    </tr>\n",
       "    <tr>\n",
       "      <th>21</th>\n",
       "      <td>22</td>\n",
       "      <td>Korea</td>\n",
       "      <td>Health</td>\n",
       "      <td>Emergency Use Authorization of Diagnostic Kit</td>\n",
       "      <td>3rd EUA</td>\n",
       "      <td>2020-02-27</td>\n",
       "      <td>NaN</td>\n",
       "    </tr>\n",
       "    <tr>\n",
       "      <th>22</th>\n",
       "      <td>23</td>\n",
       "      <td>Korea</td>\n",
       "      <td>Health</td>\n",
       "      <td>Emergency Use Authorization of Diagnostic Kit</td>\n",
       "      <td>4th EUA</td>\n",
       "      <td>2020-02-27</td>\n",
       "      <td>NaN</td>\n",
       "    </tr>\n",
       "    <tr>\n",
       "      <th>26</th>\n",
       "      <td>27</td>\n",
       "      <td>Korea</td>\n",
       "      <td>Health</td>\n",
       "      <td>Mask Distribution</td>\n",
       "      <td>Public-Sale</td>\n",
       "      <td>2020-02-27</td>\n",
       "      <td>NaN</td>\n",
       "    </tr>\n",
       "  </tbody>\n",
       "</table>\n",
       "</div>"
      ],
      "text/plain": [
       "    policy_id country         type  \\\n",
       "19         20   Korea       Health   \n",
       "5           6   Korea  Immigration   \n",
       "6           7   Korea  Immigration   \n",
       "50         51   Korea   Technology   \n",
       "20         21   Korea       Health   \n",
       "3           4   Korea        Alert   \n",
       "24         25   Korea       Health   \n",
       "21         22   Korea       Health   \n",
       "22         23   Korea       Health   \n",
       "26         27   Korea       Health   \n",
       "\n",
       "                                       gov_policy               detail  \\\n",
       "19  Emergency Use Authorization of Diagnostic Kit              1st EUA   \n",
       "5                   Special Immigration Procedure       from Hong Kong   \n",
       "6                   Special Immigration Procedure           from Macau   \n",
       "50                             Self-Diagnosis App                  NaN   \n",
       "20  Emergency Use Authorization of Diagnostic Kit              2nd EUA   \n",
       "3                  Infectious Disease Alert Level        Level 4 (Red)   \n",
       "24                 Drive-Through Screening Center  by Local Government   \n",
       "21  Emergency Use Authorization of Diagnostic Kit              3rd EUA   \n",
       "22  Emergency Use Authorization of Diagnostic Kit              4th EUA   \n",
       "26                              Mask Distribution          Public-Sale   \n",
       "\n",
       "    start_date end_date  \n",
       "19  2020-02-04      NaN  \n",
       "5   2020-02-12      NaN  \n",
       "6   2020-02-12      NaN  \n",
       "50  2020-02-12      NaN  \n",
       "20  2020-02-12      NaN  \n",
       "3   2020-02-23      NaN  \n",
       "24  2020-02-26      NaN  \n",
       "21  2020-02-27      NaN  \n",
       "22  2020-02-27      NaN  \n",
       "26  2020-02-27      NaN  "
      ]
     },
     "execution_count": 88,
     "metadata": {},
     "output_type": "execute_result"
    }
   ],
   "source": [
    "data['Policy'].sort_values('start_date')[5:15]"
   ]
  },
  {
   "cell_type": "code",
   "execution_count": 12,
   "metadata": {},
   "outputs": [],
   "source": [
    "fig_trends = go.Figure(data=go.Scatter(x=weekly_time['confirmed'], y=weekly_time['new_cases']))"
   ]
  },
  {
   "cell_type": "code",
   "execution_count": 13,
   "metadata": {},
   "outputs": [
    {
     "data": {
      "text/plain": [
       "(Scatter({\n",
       "     'x': array([    3,    15,    27,    29,   602,  3736,  7134,  8126,  8897,  9583,\n",
       "                 10237, 10512, 10661, 10728, 10793, 10874, 11050, 11190, 11468, 11776,\n",
       "                 12085, 12421, 12715, 12800]),\n",
       "     'y': array([3.000e+00, 1.200e+01, 1.200e+01, 2.000e+00, 5.730e+02, 3.134e+03,\n",
       "                 3.398e+03, 9.920e+02, 7.710e+02, 6.860e+02, 6.540e+02, 2.750e+02,\n",
       "                 1.490e+02, 6.700e+01, 6.500e+01, 8.100e+01, 1.760e+02, 1.400e+02,\n",
       "                 2.780e+02, 3.080e+02, 3.090e+02, 3.360e+02, 2.940e+02, 8.500e+01])\n",
       " }),)"
      ]
     },
     "execution_count": 13,
     "metadata": {},
     "output_type": "execute_result"
    }
   ],
   "source": [
    "fig_trends.data"
   ]
  },
  {
   "cell_type": "code",
   "execution_count": null,
   "metadata": {},
   "outputs": [],
   "source": []
  }
 ],
 "metadata": {
  "kernelspec": {
   "display_name": "base",
   "language": "python",
   "name": "python3"
  },
  "language_info": {
   "codemirror_mode": {
    "name": "ipython",
    "version": 3
   },
   "file_extension": ".py",
   "mimetype": "text/x-python",
   "name": "python",
   "nbconvert_exporter": "python",
   "pygments_lexer": "ipython3",
   "version": "3.9.13"
  },
  "orig_nbformat": 4
 },
 "nbformat": 4,
 "nbformat_minor": 2
}
